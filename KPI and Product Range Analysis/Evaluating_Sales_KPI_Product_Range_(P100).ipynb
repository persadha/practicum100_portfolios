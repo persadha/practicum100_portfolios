{
 "cells": [
  {
   "cell_type": "markdown",
   "id": "optimum-bennett",
   "metadata": {},
   "source": [
    "# P100 Final Project: Evaluating Sales KPI and Product Range Analysis"
   ]
  },
  {
   "cell_type": "markdown",
   "id": "declared-invite",
   "metadata": {},
   "source": [
    "## Table of Contents\n",
    "\n",
    "* [Project Description](#description)\n",
    "* [Step 1: Task Decomposition](#step_1)\n",
    "* [Step 2: Load The Data and Look at General Information](#step_2)\n",
    "    * [Conclusion](#conclusion_2)\n",
    "* [Step 3: Data Preprocessing](#step_3)\n",
    "    * [Cleaning Rows with Missing Values](#step_3_1)\n",
    "    * [Cleaning Duplicated Rows](#step_3_2)\n",
    "    * [Cleaning The Negative Values in the `quantity` Column](#step_3_3)\n",
    "    * [Cleaning the `stock_code` column](#step_3_4)\n",
    "    * [Conclusion](#conclusion_3)\n",
    "* [Step 4: Calculating Sales Key Performance Indicators](#step_4)\n",
    "    * [Monthly Revenue ](#step_4_1)\n",
    "    * [Percent Growth](#step_4_2)\n",
    "    * [Average Check](#step_4_3)\n",
    "    * [Average Revenue Per Paying User (ARPPU)](#step_4_4)\n",
    "    * [Average Revenue Per Unit (ARPU)](#step_4_5)\n",
    "    * [Product Performace](#step_4_6)\n",
    "    * [Analysis](#step_4_6)\n",
    "    * [Conclusion](#conclusion_4)\n",
    "* [Step 5: Product Range Analysis](#step_5)\n",
    "    * [Finding Items Commonly Sold In Bundles](#step_5_1)\n",
    "    * [Finding Product Categories](#step_5_2)\n",
    "    * [Finding Items Commonly Sold In Bundles](#step_5_3)\n",
    "    * [Group the product categories and find the total count of invoice_no](#step_5_4)\n",
    "    * [Conclusion](#conclusion_5)\n",
    "* [Step 6: Hypothesis Testing](#step_6)\n",
    "    * [Conclusion](#conclusion_6)\n",
    "* [Step 7: Additional Research](#step_7)\n",
    "    * [Conclusion](#conclusion_7)\n",
    "* [Step 8: General Conclusion and Recommendations](#step_8)\n",
    "* [Step 9: References](#step_9)\n",
    "* [Links to Dashboard and Presentation](#step_10)\n",
    "\n"
   ]
  },
  {
   "cell_type": "markdown",
   "id": "russian-secret",
   "metadata": {},
   "source": [
    "## Project Description <a class=\"anchor\" id=\"description\"></a>"
   ]
  },
  {
   "cell_type": "markdown",
   "id": "double-motel",
   "metadata": {},
   "source": [
    "The main goal of this project is to do a KPI and product range analysis on the store sales data. \n",
    "\n",
    "With the KPI analysis, we would like to see how the sales are performing in a year. The indicators that we are interested in are:\n",
    "- Monthly Revenue \n",
    "- Monthly Sales Growth\n",
    "- Average Check \n",
    "- Average Revenue Per Paying User \n",
    "- Average Revenue per Unit \n",
    "- Product Performance \n",
    "\n",
    "In the product range analysis, we will implement machine learning models to group the products into several categories and see which product category is performing well. We are also interested in knowing whether items sold in bundles generate more revenue than items that are sold individually.\n",
    "\n",
    "Finally, as additional research, we will build a simple recommender system to suggest to customers what item they should buy next based on the product they put in the shopping cart."
   ]
  },
  {
   "cell_type": "markdown",
   "id": "latter-workshop",
   "metadata": {},
   "source": [
    "## Step 1: Task Decomposition <a class=\"anchor\" id=\"step_1\"></a>"
   ]
  },
  {
   "cell_type": "markdown",
   "id": "instructional-blank",
   "metadata": {},
   "source": [
    "As a part of the final project, we are required to break down our task into smaller steps to help us complete the project \n",
    "\n",
    "### Task Breakdown\n",
    "\n",
    "**Data Preprocessing:**\n",
    "- Import the data as a pandas dataframe. Print out the `.head()`, `.tail()`, and `.sample()` to get an overall idea of the dataset.\n",
    "- Study the data frame structure using `.info(memory_usage='all')`. Check the data types, data frame memory, and the number of missing values.\n",
    "- Study the statistical summaries using `.describe(include=all)`. Check the min and max values, mean, median, and standard deviation of all variables.\n",
    "- Confirm the number of missing values with `.isna.sum()`.\n",
    "- Check for duplicated rows `.duplicated().sum()`.\n",
    "- Convert variables data type into a more optimized version, such as dates into `datetime64`, `float64` to `float32` or `float16` if the data value range permits.\n",
    "\n",
    "\n",
    "### Calculating KPIs\n",
    "\n",
    "- Monthly revenue - Extract the year and month information from `invoice_date` column using `dt.year` and `.dt.month`. Group the data based on year and month, then calculate the sum of revenue.\n",
    "- Monthly Sales Growth - From revenue above, calculate `((current revenue - last month's revenue) / last month's revenue)) * 100`\n",
    "- Average Check - Using  `.groupby(['year', 'month']).count()` find the number of invoices in a month and divide this value by the monthly revenue.\n",
    "- Average Revenue Per Paying User - `Revenue / Paying Users`, using `.groupby(['year', 'month']).count()` find the number of `customer_id` in a month and divide this value by the monthly revenue.\n",
    "- Average Revenue per Unit - Calculate `Revenue / Total Quantity`.\n",
    "- Product Performace - Rank top 3, 10, and 25 products by sales revenue\n",
    "\n",
    "### Product Range Analysis\n",
    "\n",
    "\n",
    "- Using part-of-speech tagging, find the nouns in every item in the `description` column (use lemmatization if needed). Then try to find a pattern out of the nouns that indicate categorization. Some approaches can be used: find the most common nouns or, as suggested in the Zoom meeting, try to solve it using supervised learning by labeling a few items then build machine learning models to predict the labels. Several models can be used, such as logistic regression, random forest, SVM, and naive Bayes classifiers.\n",
    "\n",
    "- To find if a product is more often sold by itself or in a bundle, we can group the items by `stock_code` and see how many `invoice_no` are associated with it.\n",
    "- Group the product categories and find the total count of `invoice_no`, then sort them descendingly.\n",
    "\n",
    "### Hypothesis Testing\n",
    "\n",
    "\n",
    "- items that are sold in bundles generate more revenue than items that are sold individually. We can achieve this by calculating the revenue generated by items normally sold in bundles against the revenue generated by items with no bundles.\n",
    "\n",
    "\n",
    "### Additional Research\n",
    "\n",
    "- Make a recommender system that shows other often-bought-together items if a buyer puts an item in their shopping cart. -- For every item, make a list in which invoice_no also appears. Make a matrix that maps every item to every other item. When a user puts an item in a cart, we can search on this map to find other items related to the item."
   ]
  },
  {
   "cell_type": "markdown",
   "id": "colored-eight",
   "metadata": {},
   "source": [
    "## Step 2: Load The Data and Look at General Information <a class=\"anchor\" id=\"step_2\"></a>"
   ]
  },
  {
   "cell_type": "code",
   "execution_count": 1,
   "id": "wired-magazine",
   "metadata": {},
   "outputs": [
    {
     "data": {
      "application/javascript": [
       "IPython.notebook.set_autosave_interval(60000)"
      ]
     },
     "metadata": {},
     "output_type": "display_data"
    },
    {
     "name": "stdout",
     "output_type": "stream",
     "text": [
      "Autosaving every 60 seconds\n"
     ]
    }
   ],
   "source": [
    "%autosave 60"
   ]
  },
  {
   "cell_type": "code",
   "execution_count": null,
   "id": "numerous-documentation",
   "metadata": {},
   "outputs": [],
   "source": []
  },
  {
   "cell_type": "code",
   "execution_count": 134,
   "id": "prostate-parameter",
   "metadata": {},
   "outputs": [],
   "source": [
    "# Importing necessary libraries\n",
    "import warnings\n",
    "warnings.filterwarnings('ignore')\n",
    "\n",
    "import pandas as pd\n",
    "import matplotlib.pyplot as plt\n",
    "from collections import Counter\n",
    "import seaborn as sns\n",
    "import numpy as np\n",
    "\n",
    "\n",
    "from nltk.tokenize import word_tokenize\n",
    "from nltk.corpus import stopwords\n",
    "from nltk.stem.porter import PorterStemmer\n",
    "from nltk.stem import WordNetLemmatizer, SnowballStemmer\n",
    "\n",
    "from pprint import pprint\n",
    "\n",
    "import gensim\n",
    "from gensim import corpora, models\n",
    "from gensim.utils import simple_preprocess\n",
    "from gensim.models import CoherenceModel\n",
    "\n",
    "import pyLDAvis\n",
    "import pyLDAvis.gensim_models\n",
    "import matplotlib.pyplot as plt\n",
    "%matplotlib inline\n",
    "\n",
    "from scipy.stats import mannwhitneyu, shapiro\n",
    "\n"
   ]
  },
  {
   "cell_type": "code",
   "execution_count": 3,
   "id": "hundred-sweet",
   "metadata": {},
   "outputs": [
    {
     "name": "stderr",
     "output_type": "stream",
     "text": [
      "[nltk_data] Downloading package wordnet to\n",
      "[nltk_data]     /Users/w.persadha/nltk_data...\n",
      "[nltk_data]   Package wordnet is already up-to-date!\n"
     ]
    },
    {
     "data": {
      "text/plain": [
       "True"
      ]
     },
     "execution_count": 3,
     "metadata": {},
     "output_type": "execute_result"
    }
   ],
   "source": [
    "import nltk\n",
    "# !python -m nltk.downloader all\n",
    "nltk.download('wordnet')"
   ]
  },
  {
   "cell_type": "code",
   "execution_count": 4,
   "id": "chicken-promise",
   "metadata": {},
   "outputs": [],
   "source": [
    "plt.style.use('seaborn-dark')"
   ]
  },
  {
   "cell_type": "code",
   "execution_count": 5,
   "id": "protecting-production",
   "metadata": {},
   "outputs": [],
   "source": [
    "# Importing the data\n",
    "try:\n",
    "    data = pd.read_csv('/Users/w.persadha/Documents/Practicum100/13_final_project/datasets/ecommerce_dataset_us.csv', sep='\\t')\n",
    "except:\n",
    "    data = pd.read_csv('/datasets/ecommerce_dataset_us.csv', sep='\\t')"
   ]
  },
  {
   "cell_type": "code",
   "execution_count": 6,
   "id": "raising-usage",
   "metadata": {},
   "outputs": [
    {
     "data": {
      "text/html": [
       "<div>\n",
       "<style scoped>\n",
       "    .dataframe tbody tr th:only-of-type {\n",
       "        vertical-align: middle;\n",
       "    }\n",
       "\n",
       "    .dataframe tbody tr th {\n",
       "        vertical-align: top;\n",
       "    }\n",
       "\n",
       "    .dataframe thead th {\n",
       "        text-align: right;\n",
       "    }\n",
       "</style>\n",
       "<table border=\"1\" class=\"dataframe\">\n",
       "  <thead>\n",
       "    <tr style=\"text-align: right;\">\n",
       "      <th></th>\n",
       "      <th>InvoiceNo</th>\n",
       "      <th>StockCode</th>\n",
       "      <th>Description</th>\n",
       "      <th>Quantity</th>\n",
       "      <th>InvoiceDate</th>\n",
       "      <th>UnitPrice</th>\n",
       "      <th>CustomerID</th>\n",
       "    </tr>\n",
       "  </thead>\n",
       "  <tbody>\n",
       "    <tr>\n",
       "      <th>0</th>\n",
       "      <td>536365</td>\n",
       "      <td>85123A</td>\n",
       "      <td>WHITE HANGING HEART T-LIGHT HOLDER</td>\n",
       "      <td>6</td>\n",
       "      <td>11/29/2018 08:26</td>\n",
       "      <td>2.55</td>\n",
       "      <td>17850.0</td>\n",
       "    </tr>\n",
       "    <tr>\n",
       "      <th>1</th>\n",
       "      <td>536365</td>\n",
       "      <td>71053</td>\n",
       "      <td>WHITE METAL LANTERN</td>\n",
       "      <td>6</td>\n",
       "      <td>11/29/2018 08:26</td>\n",
       "      <td>3.39</td>\n",
       "      <td>17850.0</td>\n",
       "    </tr>\n",
       "    <tr>\n",
       "      <th>2</th>\n",
       "      <td>536365</td>\n",
       "      <td>84406B</td>\n",
       "      <td>CREAM CUPID HEARTS COAT HANGER</td>\n",
       "      <td>8</td>\n",
       "      <td>11/29/2018 08:26</td>\n",
       "      <td>2.75</td>\n",
       "      <td>17850.0</td>\n",
       "    </tr>\n",
       "    <tr>\n",
       "      <th>3</th>\n",
       "      <td>536365</td>\n",
       "      <td>84029G</td>\n",
       "      <td>KNITTED UNION FLAG HOT WATER BOTTLE</td>\n",
       "      <td>6</td>\n",
       "      <td>11/29/2018 08:26</td>\n",
       "      <td>3.39</td>\n",
       "      <td>17850.0</td>\n",
       "    </tr>\n",
       "    <tr>\n",
       "      <th>4</th>\n",
       "      <td>536365</td>\n",
       "      <td>84029E</td>\n",
       "      <td>RED WOOLLY HOTTIE WHITE HEART.</td>\n",
       "      <td>6</td>\n",
       "      <td>11/29/2018 08:26</td>\n",
       "      <td>3.39</td>\n",
       "      <td>17850.0</td>\n",
       "    </tr>\n",
       "  </tbody>\n",
       "</table>\n",
       "</div>"
      ],
      "text/plain": [
       "  InvoiceNo StockCode                          Description  Quantity  \\\n",
       "0    536365    85123A   WHITE HANGING HEART T-LIGHT HOLDER         6   \n",
       "1    536365     71053                  WHITE METAL LANTERN         6   \n",
       "2    536365    84406B       CREAM CUPID HEARTS COAT HANGER         8   \n",
       "3    536365    84029G  KNITTED UNION FLAG HOT WATER BOTTLE         6   \n",
       "4    536365    84029E       RED WOOLLY HOTTIE WHITE HEART.         6   \n",
       "\n",
       "        InvoiceDate  UnitPrice  CustomerID  \n",
       "0  11/29/2018 08:26       2.55     17850.0  \n",
       "1  11/29/2018 08:26       3.39     17850.0  \n",
       "2  11/29/2018 08:26       2.75     17850.0  \n",
       "3  11/29/2018 08:26       3.39     17850.0  \n",
       "4  11/29/2018 08:26       3.39     17850.0  "
      ]
     },
     "execution_count": 6,
     "metadata": {},
     "output_type": "execute_result"
    }
   ],
   "source": [
    "# Displaying the first five rows \n",
    "data.head()"
   ]
  },
  {
   "cell_type": "code",
   "execution_count": 7,
   "id": "russian-campaign",
   "metadata": {},
   "outputs": [
    {
     "data": {
      "text/html": [
       "<div>\n",
       "<style scoped>\n",
       "    .dataframe tbody tr th:only-of-type {\n",
       "        vertical-align: middle;\n",
       "    }\n",
       "\n",
       "    .dataframe tbody tr th {\n",
       "        vertical-align: top;\n",
       "    }\n",
       "\n",
       "    .dataframe thead th {\n",
       "        text-align: right;\n",
       "    }\n",
       "</style>\n",
       "<table border=\"1\" class=\"dataframe\">\n",
       "  <thead>\n",
       "    <tr style=\"text-align: right;\">\n",
       "      <th></th>\n",
       "      <th>InvoiceNo</th>\n",
       "      <th>StockCode</th>\n",
       "      <th>Description</th>\n",
       "      <th>Quantity</th>\n",
       "      <th>InvoiceDate</th>\n",
       "      <th>UnitPrice</th>\n",
       "      <th>CustomerID</th>\n",
       "    </tr>\n",
       "  </thead>\n",
       "  <tbody>\n",
       "    <tr>\n",
       "      <th>541904</th>\n",
       "      <td>581587</td>\n",
       "      <td>22613</td>\n",
       "      <td>PACK OF 20 SPACEBOY NAPKINS</td>\n",
       "      <td>12</td>\n",
       "      <td>12/07/2019 12:50</td>\n",
       "      <td>0.85</td>\n",
       "      <td>12680.0</td>\n",
       "    </tr>\n",
       "    <tr>\n",
       "      <th>541905</th>\n",
       "      <td>581587</td>\n",
       "      <td>22899</td>\n",
       "      <td>CHILDREN'S APRON DOLLY GIRL</td>\n",
       "      <td>6</td>\n",
       "      <td>12/07/2019 12:50</td>\n",
       "      <td>2.10</td>\n",
       "      <td>12680.0</td>\n",
       "    </tr>\n",
       "    <tr>\n",
       "      <th>541906</th>\n",
       "      <td>581587</td>\n",
       "      <td>23254</td>\n",
       "      <td>CHILDRENS CUTLERY DOLLY GIRL</td>\n",
       "      <td>4</td>\n",
       "      <td>12/07/2019 12:50</td>\n",
       "      <td>4.15</td>\n",
       "      <td>12680.0</td>\n",
       "    </tr>\n",
       "    <tr>\n",
       "      <th>541907</th>\n",
       "      <td>581587</td>\n",
       "      <td>23255</td>\n",
       "      <td>CHILDRENS CUTLERY CIRCUS PARADE</td>\n",
       "      <td>4</td>\n",
       "      <td>12/07/2019 12:50</td>\n",
       "      <td>4.15</td>\n",
       "      <td>12680.0</td>\n",
       "    </tr>\n",
       "    <tr>\n",
       "      <th>541908</th>\n",
       "      <td>581587</td>\n",
       "      <td>22138</td>\n",
       "      <td>BAKING SET 9 PIECE RETROSPOT</td>\n",
       "      <td>3</td>\n",
       "      <td>12/07/2019 12:50</td>\n",
       "      <td>4.95</td>\n",
       "      <td>12680.0</td>\n",
       "    </tr>\n",
       "  </tbody>\n",
       "</table>\n",
       "</div>"
      ],
      "text/plain": [
       "       InvoiceNo StockCode                      Description  Quantity  \\\n",
       "541904    581587     22613      PACK OF 20 SPACEBOY NAPKINS        12   \n",
       "541905    581587     22899     CHILDREN'S APRON DOLLY GIRL          6   \n",
       "541906    581587     23254    CHILDRENS CUTLERY DOLLY GIRL          4   \n",
       "541907    581587     23255  CHILDRENS CUTLERY CIRCUS PARADE         4   \n",
       "541908    581587     22138    BAKING SET 9 PIECE RETROSPOT          3   \n",
       "\n",
       "             InvoiceDate  UnitPrice  CustomerID  \n",
       "541904  12/07/2019 12:50       0.85     12680.0  \n",
       "541905  12/07/2019 12:50       2.10     12680.0  \n",
       "541906  12/07/2019 12:50       4.15     12680.0  \n",
       "541907  12/07/2019 12:50       4.15     12680.0  \n",
       "541908  12/07/2019 12:50       4.95     12680.0  "
      ]
     },
     "execution_count": 7,
     "metadata": {},
     "output_type": "execute_result"
    }
   ],
   "source": [
    "# Displaying the last five rows \n",
    "data.tail()"
   ]
  },
  {
   "cell_type": "code",
   "execution_count": 8,
   "id": "proprietary-manhattan",
   "metadata": {},
   "outputs": [
    {
     "data": {
      "text/html": [
       "<div>\n",
       "<style scoped>\n",
       "    .dataframe tbody tr th:only-of-type {\n",
       "        vertical-align: middle;\n",
       "    }\n",
       "\n",
       "    .dataframe tbody tr th {\n",
       "        vertical-align: top;\n",
       "    }\n",
       "\n",
       "    .dataframe thead th {\n",
       "        text-align: right;\n",
       "    }\n",
       "</style>\n",
       "<table border=\"1\" class=\"dataframe\">\n",
       "  <thead>\n",
       "    <tr style=\"text-align: right;\">\n",
       "      <th></th>\n",
       "      <th>InvoiceNo</th>\n",
       "      <th>StockCode</th>\n",
       "      <th>Description</th>\n",
       "      <th>Quantity</th>\n",
       "      <th>InvoiceDate</th>\n",
       "      <th>UnitPrice</th>\n",
       "      <th>CustomerID</th>\n",
       "    </tr>\n",
       "  </thead>\n",
       "  <tbody>\n",
       "    <tr>\n",
       "      <th>368963</th>\n",
       "      <td>569005</td>\n",
       "      <td>84792</td>\n",
       "      <td>ENCHANTED BIRD COATHANGER 5 HOOK</td>\n",
       "      <td>4</td>\n",
       "      <td>09/27/2019 18:30</td>\n",
       "      <td>4.65</td>\n",
       "      <td>16268.0</td>\n",
       "    </tr>\n",
       "    <tr>\n",
       "      <th>289873</th>\n",
       "      <td>562340</td>\n",
       "      <td>23287</td>\n",
       "      <td>RED VINTAGE SPOT BEAKER</td>\n",
       "      <td>8</td>\n",
       "      <td>08/02/2019 12:05</td>\n",
       "      <td>0.85</td>\n",
       "      <td>13985.0</td>\n",
       "    </tr>\n",
       "    <tr>\n",
       "      <th>479824</th>\n",
       "      <td>577209</td>\n",
       "      <td>71477</td>\n",
       "      <td>COLOUR GLASS. STAR T-LIGHT HOLDER</td>\n",
       "      <td>72</td>\n",
       "      <td>11/16/2019 11:49</td>\n",
       "      <td>3.29</td>\n",
       "      <td>15621.0</td>\n",
       "    </tr>\n",
       "    <tr>\n",
       "      <th>121801</th>\n",
       "      <td>546784</td>\n",
       "      <td>84991</td>\n",
       "      <td>60 TEATIME FAIRY CAKE CASES</td>\n",
       "      <td>24</td>\n",
       "      <td>03/15/2019 09:49</td>\n",
       "      <td>0.55</td>\n",
       "      <td>18189.0</td>\n",
       "    </tr>\n",
       "    <tr>\n",
       "      <th>97291</th>\n",
       "      <td>544599</td>\n",
       "      <td>DOT</td>\n",
       "      <td>DOTCOM POSTAGE</td>\n",
       "      <td>1</td>\n",
       "      <td>02/19/2019 18:15</td>\n",
       "      <td>198.77</td>\n",
       "      <td>NaN</td>\n",
       "    </tr>\n",
       "  </tbody>\n",
       "</table>\n",
       "</div>"
      ],
      "text/plain": [
       "       InvoiceNo StockCode                        Description  Quantity  \\\n",
       "368963    569005     84792   ENCHANTED BIRD COATHANGER 5 HOOK         4   \n",
       "289873    562340     23287            RED VINTAGE SPOT BEAKER         8   \n",
       "479824    577209     71477  COLOUR GLASS. STAR T-LIGHT HOLDER        72   \n",
       "121801    546784     84991        60 TEATIME FAIRY CAKE CASES        24   \n",
       "97291     544599       DOT                     DOTCOM POSTAGE         1   \n",
       "\n",
       "             InvoiceDate  UnitPrice  CustomerID  \n",
       "368963  09/27/2019 18:30       4.65     16268.0  \n",
       "289873  08/02/2019 12:05       0.85     13985.0  \n",
       "479824  11/16/2019 11:49       3.29     15621.0  \n",
       "121801  03/15/2019 09:49       0.55     18189.0  \n",
       "97291   02/19/2019 18:15     198.77         NaN  "
      ]
     },
     "execution_count": 8,
     "metadata": {},
     "output_type": "execute_result"
    }
   ],
   "source": [
    "# Displaying the five random rows \n",
    "data.sample(5)"
   ]
  },
  {
   "cell_type": "code",
   "execution_count": 9,
   "id": "interstate-connection",
   "metadata": {},
   "outputs": [
    {
     "name": "stdout",
     "output_type": "stream",
     "text": [
      "<class 'pandas.core.frame.DataFrame'>\n",
      "RangeIndex: 541909 entries, 0 to 541908\n",
      "Data columns (total 7 columns):\n",
      " #   Column       Non-Null Count   Dtype  \n",
      "---  ------       --------------   -----  \n",
      " 0   InvoiceNo    541909 non-null  object \n",
      " 1   StockCode    541909 non-null  object \n",
      " 2   Description  540455 non-null  object \n",
      " 3   Quantity     541909 non-null  int64  \n",
      " 4   InvoiceDate  541909 non-null  object \n",
      " 5   UnitPrice    541909 non-null  float64\n",
      " 6   CustomerID   406829 non-null  float64\n",
      "dtypes: float64(2), int64(1), object(4)\n",
      "memory usage: 157.9 MB\n"
     ]
    }
   ],
   "source": [
    "# Displaying the dataframe info\n",
    "data.info(memory_usage='deep')"
   ]
  },
  {
   "cell_type": "markdown",
   "id": "average-courage",
   "metadata": {},
   "source": [
    "The dataframe consists of seven columns and 536,641 rows. There are indications that some missing data exist on the `Description` and `CustomerID` columns. The memory size is relatively large, which is 157.9 MB. We may be able to reduce the size by converting some columns to suitable data types."
   ]
  },
  {
   "cell_type": "code",
   "execution_count": 10,
   "id": "possible-questionnaire",
   "metadata": {},
   "outputs": [
    {
     "data": {
      "text/html": [
       "<div>\n",
       "<style scoped>\n",
       "    .dataframe tbody tr th:only-of-type {\n",
       "        vertical-align: middle;\n",
       "    }\n",
       "\n",
       "    .dataframe tbody tr th {\n",
       "        vertical-align: top;\n",
       "    }\n",
       "\n",
       "    .dataframe thead th {\n",
       "        text-align: right;\n",
       "    }\n",
       "</style>\n",
       "<table border=\"1\" class=\"dataframe\">\n",
       "  <thead>\n",
       "    <tr style=\"text-align: right;\">\n",
       "      <th></th>\n",
       "      <th>InvoiceNo</th>\n",
       "      <th>StockCode</th>\n",
       "      <th>Description</th>\n",
       "      <th>Quantity</th>\n",
       "      <th>InvoiceDate</th>\n",
       "      <th>UnitPrice</th>\n",
       "      <th>CustomerID</th>\n",
       "    </tr>\n",
       "  </thead>\n",
       "  <tbody>\n",
       "    <tr>\n",
       "      <th>count</th>\n",
       "      <td>541909</td>\n",
       "      <td>541909</td>\n",
       "      <td>540455</td>\n",
       "      <td>541909.000000</td>\n",
       "      <td>541909</td>\n",
       "      <td>541909.000000</td>\n",
       "      <td>406829.000000</td>\n",
       "    </tr>\n",
       "    <tr>\n",
       "      <th>unique</th>\n",
       "      <td>25900</td>\n",
       "      <td>4070</td>\n",
       "      <td>4223</td>\n",
       "      <td>NaN</td>\n",
       "      <td>23260</td>\n",
       "      <td>NaN</td>\n",
       "      <td>NaN</td>\n",
       "    </tr>\n",
       "    <tr>\n",
       "      <th>top</th>\n",
       "      <td>573585</td>\n",
       "      <td>85123A</td>\n",
       "      <td>WHITE HANGING HEART T-LIGHT HOLDER</td>\n",
       "      <td>NaN</td>\n",
       "      <td>10/29/2019 14:41</td>\n",
       "      <td>NaN</td>\n",
       "      <td>NaN</td>\n",
       "    </tr>\n",
       "    <tr>\n",
       "      <th>freq</th>\n",
       "      <td>1114</td>\n",
       "      <td>2313</td>\n",
       "      <td>2369</td>\n",
       "      <td>NaN</td>\n",
       "      <td>1114</td>\n",
       "      <td>NaN</td>\n",
       "      <td>NaN</td>\n",
       "    </tr>\n",
       "    <tr>\n",
       "      <th>mean</th>\n",
       "      <td>NaN</td>\n",
       "      <td>NaN</td>\n",
       "      <td>NaN</td>\n",
       "      <td>9.552250</td>\n",
       "      <td>NaN</td>\n",
       "      <td>4.611114</td>\n",
       "      <td>15287.690570</td>\n",
       "    </tr>\n",
       "    <tr>\n",
       "      <th>std</th>\n",
       "      <td>NaN</td>\n",
       "      <td>NaN</td>\n",
       "      <td>NaN</td>\n",
       "      <td>218.081158</td>\n",
       "      <td>NaN</td>\n",
       "      <td>96.759853</td>\n",
       "      <td>1713.600303</td>\n",
       "    </tr>\n",
       "    <tr>\n",
       "      <th>min</th>\n",
       "      <td>NaN</td>\n",
       "      <td>NaN</td>\n",
       "      <td>NaN</td>\n",
       "      <td>-80995.000000</td>\n",
       "      <td>NaN</td>\n",
       "      <td>-11062.060000</td>\n",
       "      <td>12346.000000</td>\n",
       "    </tr>\n",
       "    <tr>\n",
       "      <th>25%</th>\n",
       "      <td>NaN</td>\n",
       "      <td>NaN</td>\n",
       "      <td>NaN</td>\n",
       "      <td>1.000000</td>\n",
       "      <td>NaN</td>\n",
       "      <td>1.250000</td>\n",
       "      <td>13953.000000</td>\n",
       "    </tr>\n",
       "    <tr>\n",
       "      <th>50%</th>\n",
       "      <td>NaN</td>\n",
       "      <td>NaN</td>\n",
       "      <td>NaN</td>\n",
       "      <td>3.000000</td>\n",
       "      <td>NaN</td>\n",
       "      <td>2.080000</td>\n",
       "      <td>15152.000000</td>\n",
       "    </tr>\n",
       "    <tr>\n",
       "      <th>75%</th>\n",
       "      <td>NaN</td>\n",
       "      <td>NaN</td>\n",
       "      <td>NaN</td>\n",
       "      <td>10.000000</td>\n",
       "      <td>NaN</td>\n",
       "      <td>4.130000</td>\n",
       "      <td>16791.000000</td>\n",
       "    </tr>\n",
       "    <tr>\n",
       "      <th>max</th>\n",
       "      <td>NaN</td>\n",
       "      <td>NaN</td>\n",
       "      <td>NaN</td>\n",
       "      <td>80995.000000</td>\n",
       "      <td>NaN</td>\n",
       "      <td>38970.000000</td>\n",
       "      <td>18287.000000</td>\n",
       "    </tr>\n",
       "  </tbody>\n",
       "</table>\n",
       "</div>"
      ],
      "text/plain": [
       "       InvoiceNo StockCode                         Description       Quantity  \\\n",
       "count     541909    541909                              540455  541909.000000   \n",
       "unique     25900      4070                                4223            NaN   \n",
       "top       573585    85123A  WHITE HANGING HEART T-LIGHT HOLDER            NaN   \n",
       "freq        1114      2313                                2369            NaN   \n",
       "mean         NaN       NaN                                 NaN       9.552250   \n",
       "std          NaN       NaN                                 NaN     218.081158   \n",
       "min          NaN       NaN                                 NaN  -80995.000000   \n",
       "25%          NaN       NaN                                 NaN       1.000000   \n",
       "50%          NaN       NaN                                 NaN       3.000000   \n",
       "75%          NaN       NaN                                 NaN      10.000000   \n",
       "max          NaN       NaN                                 NaN   80995.000000   \n",
       "\n",
       "             InvoiceDate      UnitPrice     CustomerID  \n",
       "count             541909  541909.000000  406829.000000  \n",
       "unique             23260            NaN            NaN  \n",
       "top     10/29/2019 14:41            NaN            NaN  \n",
       "freq                1114            NaN            NaN  \n",
       "mean                 NaN       4.611114   15287.690570  \n",
       "std                  NaN      96.759853    1713.600303  \n",
       "min                  NaN  -11062.060000   12346.000000  \n",
       "25%                  NaN       1.250000   13953.000000  \n",
       "50%                  NaN       2.080000   15152.000000  \n",
       "75%                  NaN       4.130000   16791.000000  \n",
       "max                  NaN   38970.000000   18287.000000  "
      ]
     },
     "execution_count": 10,
     "metadata": {},
     "output_type": "execute_result"
    }
   ],
   "source": [
    "# Evalualting the statistical summaries\n",
    "data.describe(include='all')"
   ]
  },
  {
   "cell_type": "markdown",
   "id": "conventional-spanish",
   "metadata": {},
   "source": [
    "Upon a quick observation, we can see some interesting figures in the dataframe. There are more unique `InvoiceNo`  than unique `StockCode`, indicating multiple purchases on the same item. Likewise, there are more transactions in a day since the unique `InvoiceNo` are greater than the unique `InvoiceDate`. \n",
    "\n",
    "Another critical point is the negative values in the `Quantity` and `UnitPrice` columns. The distributions of both columns are also highly skewed. For example, the 75% quartile of values in `Quantity` is 10 while the maximum value 80995. The same goes with entries on `UnitPrice`; its 75% is at 4.13 while the maximum is 38970.\n",
    "\n",
    "Next, we can evaluate the values in each columns to get a sense of the data distribution"
   ]
  },
  {
   "cell_type": "code",
   "execution_count": 11,
   "id": "included-first",
   "metadata": {},
   "outputs": [
    {
     "name": "stdout",
     "output_type": "stream",
     "text": [
      "--------------\n",
      "573585     1114\n",
      "581219      749\n",
      "581492      731\n",
      "580729      721\n",
      "558475      705\n",
      "           ... \n",
      "561062        1\n",
      "C572968       1\n",
      "564929        1\n",
      "C561598       1\n",
      "548269        1\n",
      "Name: InvoiceNo, Length: 25900, dtype: int64\n",
      "--------------\n",
      "\n",
      "--------------\n",
      "85123A      2313\n",
      "22423       2203\n",
      "85099B      2159\n",
      "47566       1727\n",
      "20725       1639\n",
      "            ... \n",
      "DCGS0067       1\n",
      "82615          1\n",
      "84963A         1\n",
      "22275          1\n",
      "23664          1\n",
      "Name: StockCode, Length: 4070, dtype: int64\n",
      "--------------\n",
      "\n",
      "--------------\n",
      "WHITE HANGING HEART T-LIGHT HOLDER    2369\n",
      "REGENCY CAKESTAND 3 TIER              2200\n",
      "JUMBO BAG RED RETROSPOT               2159\n",
      "PARTY BUNTING                         1727\n",
      "LUNCH BAG RED RETROSPOT               1638\n",
      "                                      ... \n",
      "BIG POLKADOT MUG                         1\n",
      "Sale error                               1\n",
      "HEN HOUSE W CHICK IN NEST                1\n",
      "sold as 22467                            1\n",
      "ASSORTED TUTTI FRUTTI ROUND BOX          1\n",
      "Name: Description, Length: 4223, dtype: int64\n",
      "--------------\n",
      "\n",
      "--------------\n",
      " 1       148227\n",
      " 2        81829\n",
      " 12       61063\n",
      " 6        40868\n",
      " 4        38484\n",
      "          ...  \n",
      "-1681         1\n",
      "-657          1\n",
      " 199          1\n",
      "-313          1\n",
      " 512          1\n",
      "Name: Quantity, Length: 722, dtype: int64\n",
      "--------------\n",
      "\n",
      "--------------\n",
      "10/29/2019 14:41    1114\n",
      "12/06/2019 09:28     749\n",
      "12/07/2019 10:03     731\n",
      "12/03/2019 17:24     721\n",
      "06/27/2019 15:58     705\n",
      "                    ... \n",
      "06/20/2019 15:30       1\n",
      "05/10/2019 19:23       1\n",
      "09/13/2019 14:25       1\n",
      "01/30/2019 10:02       1\n",
      "12/07/2018 13:22       1\n",
      "Name: InvoiceDate, Length: 23260, dtype: int64\n",
      "--------------\n",
      "\n",
      "--------------\n",
      "1.25      50496\n",
      "1.65      38181\n",
      "0.85      28497\n",
      "2.95      27768\n",
      "0.42      24533\n",
      "          ...  \n",
      "4.48          1\n",
      "87.40         1\n",
      "545.25        1\n",
      "0.48          1\n",
      "221.16        1\n",
      "Name: UnitPrice, Length: 1630, dtype: int64\n",
      "--------------\n",
      "\n",
      "--------------\n",
      "17841.0    7983\n",
      "14911.0    5903\n",
      "14096.0    5128\n",
      "12748.0    4642\n",
      "14606.0    2782\n",
      "           ... \n",
      "14351.0       1\n",
      "13256.0       1\n",
      "12943.0       1\n",
      "17923.0       1\n",
      "13747.0       1\n",
      "Name: CustomerID, Length: 4372, dtype: int64\n",
      "--------------\n",
      "\n"
     ]
    }
   ],
   "source": [
    "for col in data.columns:\n",
    "    print('--------------')\n",
    "    print(data[col].value_counts())\n",
    "    print('--------------')\n",
    "    print()"
   ]
  },
  {
   "cell_type": "code",
   "execution_count": 12,
   "id": "north-builder",
   "metadata": {},
   "outputs": [
    {
     "name": "stdout",
     "output_type": "stream",
     "text": [
      "The number of missing data:\n",
      "InvoiceNo           0\n",
      "StockCode           0\n",
      "Description      1454\n",
      "Quantity            0\n",
      "InvoiceDate         0\n",
      "UnitPrice           0\n",
      "CustomerID     135080\n",
      "dtype: int64\n"
     ]
    }
   ],
   "source": [
    "# Checking for missing vlaues\n",
    "print('The number of missing data:\\n{}'.format(data.isna().sum()))"
   ]
  },
  {
   "cell_type": "code",
   "execution_count": 13,
   "id": "anticipated-toddler",
   "metadata": {},
   "outputs": [
    {
     "name": "stdout",
     "output_type": "stream",
     "text": [
      "The number of duplicated rows:  5268\n"
     ]
    }
   ],
   "source": [
    "# Checking for duplicated rows\n",
    "print('The number of duplicated rows: ',data.duplicated().sum())"
   ]
  },
  {
   "cell_type": "markdown",
   "id": "marine-elite",
   "metadata": {},
   "source": [
    "### Conclusion<a class=\"anchor\" id=\"conclusion_2\"></a>\n"
   ]
  },
  {
   "cell_type": "markdown",
   "id": "abstract-alarm",
   "metadata": {},
   "source": [
    "Our dataframe consists of seven columns of sales data with 541,909 columns. The `Description` and `CustomerID` columns have 1454 and 135,080 rows with missing values, respectively. There are also 5268 duplicated rows. In the next section,  we will clean the dataset and make it ready for analysis."
   ]
  },
  {
   "cell_type": "markdown",
   "id": "split-parameter",
   "metadata": {},
   "source": [
    "## Step 3: Data Preprocessing<a class=\"anchor\" id=\"step_3\"></a>\n"
   ]
  },
  {
   "cell_type": "code",
   "execution_count": 14,
   "id": "unique-attempt",
   "metadata": {},
   "outputs": [
    {
     "data": {
      "text/html": [
       "<div>\n",
       "<style scoped>\n",
       "    .dataframe tbody tr th:only-of-type {\n",
       "        vertical-align: middle;\n",
       "    }\n",
       "\n",
       "    .dataframe tbody tr th {\n",
       "        vertical-align: top;\n",
       "    }\n",
       "\n",
       "    .dataframe thead th {\n",
       "        text-align: right;\n",
       "    }\n",
       "</style>\n",
       "<table border=\"1\" class=\"dataframe\">\n",
       "  <thead>\n",
       "    <tr style=\"text-align: right;\">\n",
       "      <th></th>\n",
       "      <th>InvoiceNo</th>\n",
       "      <th>StockCode</th>\n",
       "      <th>Description</th>\n",
       "      <th>Quantity</th>\n",
       "      <th>InvoiceDate</th>\n",
       "      <th>UnitPrice</th>\n",
       "      <th>CustomerID</th>\n",
       "    </tr>\n",
       "  </thead>\n",
       "  <tbody>\n",
       "    <tr>\n",
       "      <th>0</th>\n",
       "      <td>536365</td>\n",
       "      <td>85123A</td>\n",
       "      <td>WHITE HANGING HEART T-LIGHT HOLDER</td>\n",
       "      <td>6</td>\n",
       "      <td>11/29/2018 08:26</td>\n",
       "      <td>2.55</td>\n",
       "      <td>17850.0</td>\n",
       "    </tr>\n",
       "    <tr>\n",
       "      <th>1</th>\n",
       "      <td>536365</td>\n",
       "      <td>71053</td>\n",
       "      <td>WHITE METAL LANTERN</td>\n",
       "      <td>6</td>\n",
       "      <td>11/29/2018 08:26</td>\n",
       "      <td>3.39</td>\n",
       "      <td>17850.0</td>\n",
       "    </tr>\n",
       "    <tr>\n",
       "      <th>2</th>\n",
       "      <td>536365</td>\n",
       "      <td>84406B</td>\n",
       "      <td>CREAM CUPID HEARTS COAT HANGER</td>\n",
       "      <td>8</td>\n",
       "      <td>11/29/2018 08:26</td>\n",
       "      <td>2.75</td>\n",
       "      <td>17850.0</td>\n",
       "    </tr>\n",
       "    <tr>\n",
       "      <th>3</th>\n",
       "      <td>536365</td>\n",
       "      <td>84029G</td>\n",
       "      <td>KNITTED UNION FLAG HOT WATER BOTTLE</td>\n",
       "      <td>6</td>\n",
       "      <td>11/29/2018 08:26</td>\n",
       "      <td>3.39</td>\n",
       "      <td>17850.0</td>\n",
       "    </tr>\n",
       "    <tr>\n",
       "      <th>4</th>\n",
       "      <td>536365</td>\n",
       "      <td>84029E</td>\n",
       "      <td>RED WOOLLY HOTTIE WHITE HEART.</td>\n",
       "      <td>6</td>\n",
       "      <td>11/29/2018 08:26</td>\n",
       "      <td>3.39</td>\n",
       "      <td>17850.0</td>\n",
       "    </tr>\n",
       "  </tbody>\n",
       "</table>\n",
       "</div>"
      ],
      "text/plain": [
       "  InvoiceNo StockCode                          Description  Quantity  \\\n",
       "0    536365    85123A   WHITE HANGING HEART T-LIGHT HOLDER         6   \n",
       "1    536365     71053                  WHITE METAL LANTERN         6   \n",
       "2    536365    84406B       CREAM CUPID HEARTS COAT HANGER         8   \n",
       "3    536365    84029G  KNITTED UNION FLAG HOT WATER BOTTLE         6   \n",
       "4    536365    84029E       RED WOOLLY HOTTIE WHITE HEART.         6   \n",
       "\n",
       "        InvoiceDate  UnitPrice  CustomerID  \n",
       "0  11/29/2018 08:26       2.55     17850.0  \n",
       "1  11/29/2018 08:26       3.39     17850.0  \n",
       "2  11/29/2018 08:26       2.75     17850.0  \n",
       "3  11/29/2018 08:26       3.39     17850.0  \n",
       "4  11/29/2018 08:26       3.39     17850.0  "
      ]
     },
     "execution_count": 14,
     "metadata": {},
     "output_type": "execute_result"
    }
   ],
   "source": [
    "# Showing the first five rows\n",
    "data.head()"
   ]
  },
  {
   "cell_type": "markdown",
   "id": "legendary-wireless",
   "metadata": {},
   "source": [
    "Before we begin cleaning the data, we will change the column name into our preferred format and all text entries into lowercase for the sake of readability."
   ]
  },
  {
   "cell_type": "code",
   "execution_count": 15,
   "id": "compressed-landing",
   "metadata": {},
   "outputs": [
    {
     "data": {
      "text/html": [
       "<div>\n",
       "<style scoped>\n",
       "    .dataframe tbody tr th:only-of-type {\n",
       "        vertical-align: middle;\n",
       "    }\n",
       "\n",
       "    .dataframe tbody tr th {\n",
       "        vertical-align: top;\n",
       "    }\n",
       "\n",
       "    .dataframe thead th {\n",
       "        text-align: right;\n",
       "    }\n",
       "</style>\n",
       "<table border=\"1\" class=\"dataframe\">\n",
       "  <thead>\n",
       "    <tr style=\"text-align: right;\">\n",
       "      <th></th>\n",
       "      <th>invoice_no</th>\n",
       "      <th>stock_code</th>\n",
       "      <th>description</th>\n",
       "      <th>quantity</th>\n",
       "      <th>invoice_date</th>\n",
       "      <th>unit_price</th>\n",
       "      <th>customer_id</th>\n",
       "    </tr>\n",
       "  </thead>\n",
       "  <tbody>\n",
       "    <tr>\n",
       "      <th>0</th>\n",
       "      <td>536365</td>\n",
       "      <td>85123A</td>\n",
       "      <td>white hanging heart t-light holder</td>\n",
       "      <td>6</td>\n",
       "      <td>11/29/2018 08:26</td>\n",
       "      <td>2.55</td>\n",
       "      <td>17850.0</td>\n",
       "    </tr>\n",
       "    <tr>\n",
       "      <th>1</th>\n",
       "      <td>536365</td>\n",
       "      <td>71053</td>\n",
       "      <td>white metal lantern</td>\n",
       "      <td>6</td>\n",
       "      <td>11/29/2018 08:26</td>\n",
       "      <td>3.39</td>\n",
       "      <td>17850.0</td>\n",
       "    </tr>\n",
       "    <tr>\n",
       "      <th>2</th>\n",
       "      <td>536365</td>\n",
       "      <td>84406B</td>\n",
       "      <td>cream cupid hearts coat hanger</td>\n",
       "      <td>8</td>\n",
       "      <td>11/29/2018 08:26</td>\n",
       "      <td>2.75</td>\n",
       "      <td>17850.0</td>\n",
       "    </tr>\n",
       "    <tr>\n",
       "      <th>3</th>\n",
       "      <td>536365</td>\n",
       "      <td>84029G</td>\n",
       "      <td>knitted union flag hot water bottle</td>\n",
       "      <td>6</td>\n",
       "      <td>11/29/2018 08:26</td>\n",
       "      <td>3.39</td>\n",
       "      <td>17850.0</td>\n",
       "    </tr>\n",
       "    <tr>\n",
       "      <th>4</th>\n",
       "      <td>536365</td>\n",
       "      <td>84029E</td>\n",
       "      <td>red woolly hottie white heart.</td>\n",
       "      <td>6</td>\n",
       "      <td>11/29/2018 08:26</td>\n",
       "      <td>3.39</td>\n",
       "      <td>17850.0</td>\n",
       "    </tr>\n",
       "  </tbody>\n",
       "</table>\n",
       "</div>"
      ],
      "text/plain": [
       "  invoice_no stock_code                          description  quantity  \\\n",
       "0     536365     85123A   white hanging heart t-light holder         6   \n",
       "1     536365      71053                  white metal lantern         6   \n",
       "2     536365     84406B       cream cupid hearts coat hanger         8   \n",
       "3     536365     84029G  knitted union flag hot water bottle         6   \n",
       "4     536365     84029E       red woolly hottie white heart.         6   \n",
       "\n",
       "       invoice_date  unit_price  customer_id  \n",
       "0  11/29/2018 08:26        2.55      17850.0  \n",
       "1  11/29/2018 08:26        3.39      17850.0  \n",
       "2  11/29/2018 08:26        2.75      17850.0  \n",
       "3  11/29/2018 08:26        3.39      17850.0  \n",
       "4  11/29/2018 08:26        3.39      17850.0  "
      ]
     },
     "execution_count": 15,
     "metadata": {},
     "output_type": "execute_result"
    }
   ],
   "source": [
    "# Changing column names format\n",
    "data.columns = ['invoice_no', 'stock_code', 'description', 'quantity', 'invoice_date', 'unit_price', 'customer_id']\n",
    "\n",
    "# Changing entries into lowercase\n",
    "data['description'] = data['description'].str.lower()\n",
    "\n",
    "# Showing the first five rows\n",
    "data.head()"
   ]
  },
  {
   "cell_type": "markdown",
   "id": "protective-zimbabwe",
   "metadata": {},
   "source": [
    "Now we can check again the dataframe info,"
   ]
  },
  {
   "cell_type": "code",
   "execution_count": 16,
   "id": "characteristic-former",
   "metadata": {},
   "outputs": [
    {
     "name": "stdout",
     "output_type": "stream",
     "text": [
      "<class 'pandas.core.frame.DataFrame'>\n",
      "RangeIndex: 541909 entries, 0 to 541908\n",
      "Data columns (total 7 columns):\n",
      " #   Column        Non-Null Count   Dtype  \n",
      "---  ------        --------------   -----  \n",
      " 0   invoice_no    541909 non-null  object \n",
      " 1   stock_code    541909 non-null  object \n",
      " 2   description   540455 non-null  object \n",
      " 3   quantity      541909 non-null  int64  \n",
      " 4   invoice_date  541909 non-null  object \n",
      " 5   unit_price    541909 non-null  float64\n",
      " 6   customer_id   406829 non-null  float64\n",
      "dtypes: float64(2), int64(1), object(4)\n",
      "memory usage: 157.9 MB\n"
     ]
    }
   ],
   "source": [
    "# Showing the dataframe info\n",
    "data.info(memory_usage='deep')"
   ]
  },
  {
   "cell_type": "markdown",
   "id": "embedded-battlefield",
   "metadata": {},
   "source": [
    "The data frame memory size is 157.9 MB and relatively large. Therefore, we will change each column into suitable data types to reduce memory usage. The entries in `invoice_no` and `stock_code` can be viewed as categorical data; hence we will convert them into `category` data types. We will convert the `invoice_data` columns as well into `datetime`. The numerical columns, `quantity`, `unit_price`, and `customer_id` will be cast as either `int` or `float` types."
   ]
  },
  {
   "cell_type": "code",
   "execution_count": 17,
   "id": "proprietary-maryland",
   "metadata": {},
   "outputs": [],
   "source": [
    "# Converting data types\n",
    "data['invoice_no'] = data['invoice_no'].astype('category')\n",
    "data['stock_code'] = data['stock_code'].astype('category')\n",
    "data['quantity'] = data['quantity'].astype('int32')\n",
    "data['invoice_date'] = pd.to_datetime(data['invoice_date'], format='%m/%d/%Y %H:%M')\n",
    "data['unit_price'] = data['unit_price'].astype('float32')\n",
    "data['customer_id'] = data['customer_id'].astype('float16')\n"
   ]
  },
  {
   "cell_type": "code",
   "execution_count": 18,
   "id": "abandoned-composer",
   "metadata": {},
   "outputs": [
    {
     "name": "stdout",
     "output_type": "stream",
     "text": [
      "<class 'pandas.core.frame.DataFrame'>\n",
      "RangeIndex: 541909 entries, 0 to 541908\n",
      "Data columns (total 7 columns):\n",
      " #   Column        Non-Null Count   Dtype         \n",
      "---  ------        --------------   -----         \n",
      " 0   invoice_no    541909 non-null  category      \n",
      " 1   stock_code    541909 non-null  category      \n",
      " 2   description   540455 non-null  object        \n",
      " 3   quantity      541909 non-null  int32         \n",
      " 4   invoice_date  541909 non-null  datetime64[ns]\n",
      " 5   unit_price    541909 non-null  float32       \n",
      " 6   customer_id   406829 non-null  float16       \n",
      "dtypes: category(2), datetime64[ns](1), float16(1), float32(1), int32(1), object(1)\n",
      "memory usage: 57.5 MB\n"
     ]
    }
   ],
   "source": [
    "# Displaying the dataframe info\n",
    "data.info(memory_usage='deep')"
   ]
  },
  {
   "cell_type": "markdown",
   "id": "forbidden-albania",
   "metadata": {},
   "source": [
    "We managed to reduce the dataframe memory to 57.5 MB after changing the data types."
   ]
  },
  {
   "cell_type": "markdown",
   "id": "insured-alcohol",
   "metadata": {},
   "source": [
    "From the summary, we notice that The `quantity` columns range from -80995 to 80995; the same goes with the `unit_price`, ranging from -11062 to 38970. We need to find out what the negative values in these two columns mean.\n"
   ]
  },
  {
   "cell_type": "markdown",
   "id": "normal-radiation",
   "metadata": {},
   "source": [
    "### Cleaning Rows with Missing Values<a class=\"anchor\" id=\"step_3_1\"></a>\n"
   ]
  },
  {
   "cell_type": "markdown",
   "id": "employed-guard",
   "metadata": {},
   "source": [
    "Before we start our data exploration, we will first turn our attention to the number of missing values. We found out 1454 and 135,037 rows with NaNs in description and customer_id columns in the last section, respectively."
   ]
  },
  {
   "cell_type": "code",
   "execution_count": 19,
   "id": "incoming-cleveland",
   "metadata": {},
   "outputs": [
    {
     "name": "stdout",
     "output_type": "stream",
     "text": [
      "The number of missing values:\n",
      "invoice_no           0\n",
      "stock_code           0\n",
      "description       1454\n",
      "quantity             0\n",
      "invoice_date         0\n",
      "unit_price           0\n",
      "customer_id     135080\n",
      "dtype: int64\n"
     ]
    }
   ],
   "source": [
    "print('The number of missing values:\\n{}'.format(data.isna().sum()))"
   ]
  },
  {
   "cell_type": "markdown",
   "id": "governmental-stereo",
   "metadata": {},
   "source": [
    "Evaluating the `NaN`values in `description`, we can relate the entries in `description` with that of the `stock_code`,"
   ]
  },
  {
   "cell_type": "code",
   "execution_count": 20,
   "id": "sweet-confidence",
   "metadata": {},
   "outputs": [
    {
     "data": {
      "text/html": [
       "<div>\n",
       "<style scoped>\n",
       "    .dataframe tbody tr th:only-of-type {\n",
       "        vertical-align: middle;\n",
       "    }\n",
       "\n",
       "    .dataframe tbody tr th {\n",
       "        vertical-align: top;\n",
       "    }\n",
       "\n",
       "    .dataframe thead th {\n",
       "        text-align: right;\n",
       "    }\n",
       "</style>\n",
       "<table border=\"1\" class=\"dataframe\">\n",
       "  <thead>\n",
       "    <tr style=\"text-align: right;\">\n",
       "      <th></th>\n",
       "      <th>invoice_no</th>\n",
       "      <th>stock_code</th>\n",
       "      <th>description</th>\n",
       "      <th>quantity</th>\n",
       "      <th>invoice_date</th>\n",
       "      <th>unit_price</th>\n",
       "      <th>customer_id</th>\n",
       "    </tr>\n",
       "  </thead>\n",
       "  <tbody>\n",
       "    <tr>\n",
       "      <th>622</th>\n",
       "      <td>536414</td>\n",
       "      <td>22139</td>\n",
       "      <td>NaN</td>\n",
       "      <td>56</td>\n",
       "      <td>2018-11-29 11:52:00</td>\n",
       "      <td>0.0</td>\n",
       "      <td>NaN</td>\n",
       "    </tr>\n",
       "    <tr>\n",
       "      <th>1970</th>\n",
       "      <td>536545</td>\n",
       "      <td>21134</td>\n",
       "      <td>NaN</td>\n",
       "      <td>1</td>\n",
       "      <td>2018-11-29 14:32:00</td>\n",
       "      <td>0.0</td>\n",
       "      <td>NaN</td>\n",
       "    </tr>\n",
       "    <tr>\n",
       "      <th>1971</th>\n",
       "      <td>536546</td>\n",
       "      <td>22145</td>\n",
       "      <td>NaN</td>\n",
       "      <td>1</td>\n",
       "      <td>2018-11-29 14:33:00</td>\n",
       "      <td>0.0</td>\n",
       "      <td>NaN</td>\n",
       "    </tr>\n",
       "    <tr>\n",
       "      <th>1972</th>\n",
       "      <td>536547</td>\n",
       "      <td>37509</td>\n",
       "      <td>NaN</td>\n",
       "      <td>1</td>\n",
       "      <td>2018-11-29 14:33:00</td>\n",
       "      <td>0.0</td>\n",
       "      <td>NaN</td>\n",
       "    </tr>\n",
       "    <tr>\n",
       "      <th>1987</th>\n",
       "      <td>536549</td>\n",
       "      <td>85226A</td>\n",
       "      <td>NaN</td>\n",
       "      <td>1</td>\n",
       "      <td>2018-11-29 14:34:00</td>\n",
       "      <td>0.0</td>\n",
       "      <td>NaN</td>\n",
       "    </tr>\n",
       "  </tbody>\n",
       "</table>\n",
       "</div>"
      ],
      "text/plain": [
       "     invoice_no stock_code description  quantity        invoice_date  \\\n",
       "622      536414      22139         NaN        56 2018-11-29 11:52:00   \n",
       "1970     536545      21134         NaN         1 2018-11-29 14:32:00   \n",
       "1971     536546      22145         NaN         1 2018-11-29 14:33:00   \n",
       "1972     536547      37509         NaN         1 2018-11-29 14:33:00   \n",
       "1987     536549     85226A         NaN         1 2018-11-29 14:34:00   \n",
       "\n",
       "      unit_price  customer_id  \n",
       "622          0.0          NaN  \n",
       "1970         0.0          NaN  \n",
       "1971         0.0          NaN  \n",
       "1972         0.0          NaN  \n",
       "1987         0.0          NaN  "
      ]
     },
     "execution_count": 20,
     "metadata": {},
     "output_type": "execute_result"
    }
   ],
   "source": [
    "# Showing the missing values in the `description` column\n",
    "data[data.description.isna()].head()"
   ]
  },
  {
   "cell_type": "markdown",
   "id": "patent-lincoln",
   "metadata": {},
   "source": [
    "Let's take one example, row 622. The `description` has a `NaN` value. If we query the `stock_code` that shares the same row, which is `stock_code=22139`, we found out that most items have the name of `retrospot tea set ceramic 11 pc`."
   ]
  },
  {
   "cell_type": "code",
   "execution_count": 21,
   "id": "operating-carnival",
   "metadata": {},
   "outputs": [
    {
     "data": {
      "text/plain": [
       "retrospot tea set ceramic 11 pc     988\n",
       "amazon                                1\n",
       "Name: description, dtype: int64"
      ]
     },
     "execution_count": 21,
     "metadata": {},
     "output_type": "execute_result"
    }
   ],
   "source": [
    "# Evaluating the description of item with stock_code equals to 22139\n",
    "data.query('stock_code == \"22139\"').description.value_counts()"
   ]
  },
  {
   "cell_type": "markdown",
   "id": "established-entertainment",
   "metadata": {},
   "source": [
    "Therefore we can replace the `NaN` of row 622 with the mode in the `description` column of `stock_code=22139`. We can do the same procedure for the other rows in the `description` column with missing values.\n",
    "\n",
    "To help us, we need to make a new dataframe that finds the mode based on the `stock_code` column."
   ]
  },
  {
   "cell_type": "code",
   "execution_count": 22,
   "id": "intensive-congo",
   "metadata": {},
   "outputs": [
    {
     "data": {
      "text/html": [
       "<div>\n",
       "<style scoped>\n",
       "    .dataframe tbody tr th:only-of-type {\n",
       "        vertical-align: middle;\n",
       "    }\n",
       "\n",
       "    .dataframe tbody tr th {\n",
       "        vertical-align: top;\n",
       "    }\n",
       "\n",
       "    .dataframe thead th {\n",
       "        text-align: right;\n",
       "    }\n",
       "</style>\n",
       "<table border=\"1\" class=\"dataframe\">\n",
       "  <thead>\n",
       "    <tr style=\"text-align: right;\">\n",
       "      <th></th>\n",
       "      <th>description</th>\n",
       "    </tr>\n",
       "    <tr>\n",
       "      <th>stock_code</th>\n",
       "      <th></th>\n",
       "    </tr>\n",
       "  </thead>\n",
       "  <tbody>\n",
       "    <tr>\n",
       "      <th>10002</th>\n",
       "      <td>inflatable political globe</td>\n",
       "    </tr>\n",
       "    <tr>\n",
       "      <th>10080</th>\n",
       "      <td>groovy cactus inflatable</td>\n",
       "    </tr>\n",
       "    <tr>\n",
       "      <th>10120</th>\n",
       "      <td>doggy rubber</td>\n",
       "    </tr>\n",
       "    <tr>\n",
       "      <th>10123C</th>\n",
       "      <td>hearts wrapping tape</td>\n",
       "    </tr>\n",
       "    <tr>\n",
       "      <th>10123G</th>\n",
       "      <td>[]</td>\n",
       "    </tr>\n",
       "    <tr>\n",
       "      <th>10124A</th>\n",
       "      <td>spots on red bookcover tape</td>\n",
       "    </tr>\n",
       "    <tr>\n",
       "      <th>10124G</th>\n",
       "      <td>army camo bookcover tape</td>\n",
       "    </tr>\n",
       "    <tr>\n",
       "      <th>10125</th>\n",
       "      <td>mini funky design tapes</td>\n",
       "    </tr>\n",
       "    <tr>\n",
       "      <th>10133</th>\n",
       "      <td>colouring pencils brown tube</td>\n",
       "    </tr>\n",
       "    <tr>\n",
       "      <th>10134</th>\n",
       "      <td>[]</td>\n",
       "    </tr>\n",
       "  </tbody>\n",
       "</table>\n",
       "</div>"
      ],
      "text/plain": [
       "                             description\n",
       "stock_code                              \n",
       "10002        inflatable political globe \n",
       "10080           groovy cactus inflatable\n",
       "10120                       doggy rubber\n",
       "10123C             hearts wrapping tape \n",
       "10123G                                []\n",
       "10124A       spots on red bookcover tape\n",
       "10124G          army camo bookcover tape\n",
       "10125            mini funky design tapes\n",
       "10133       colouring pencils brown tube\n",
       "10134                                 []"
      ]
     },
     "execution_count": 22,
     "metadata": {},
     "output_type": "execute_result"
    }
   ],
   "source": [
    "# Creating new dataframe to retrieve the mode of the `description` columns grouped by`stock_code`\n",
    "df = data.groupby('stock_code').agg({'description':pd.Series.mode})\n",
    "df.head(10)"
   ]
  },
  {
   "cell_type": "markdown",
   "id": "roman-harmony",
   "metadata": {},
   "source": [
    "Notice that some rows in the resulting dataframe `df` have a non-alphanumeric character `[]`. To deal with this, we will replace these rows with `undefined`."
   ]
  },
  {
   "cell_type": "code",
   "execution_count": 23,
   "id": "beautiful-progressive",
   "metadata": {},
   "outputs": [
    {
     "data": {
      "text/html": [
       "<div>\n",
       "<style scoped>\n",
       "    .dataframe tbody tr th:only-of-type {\n",
       "        vertical-align: middle;\n",
       "    }\n",
       "\n",
       "    .dataframe tbody tr th {\n",
       "        vertical-align: top;\n",
       "    }\n",
       "\n",
       "    .dataframe thead th {\n",
       "        text-align: right;\n",
       "    }\n",
       "</style>\n",
       "<table border=\"1\" class=\"dataframe\">\n",
       "  <thead>\n",
       "    <tr style=\"text-align: right;\">\n",
       "      <th></th>\n",
       "      <th>description</th>\n",
       "    </tr>\n",
       "    <tr>\n",
       "      <th>stock_code</th>\n",
       "      <th></th>\n",
       "    </tr>\n",
       "  </thead>\n",
       "  <tbody>\n",
       "    <tr>\n",
       "      <th>10002</th>\n",
       "      <td>inflatable political globe</td>\n",
       "    </tr>\n",
       "    <tr>\n",
       "      <th>10080</th>\n",
       "      <td>groovy cactus inflatable</td>\n",
       "    </tr>\n",
       "    <tr>\n",
       "      <th>10120</th>\n",
       "      <td>doggy rubber</td>\n",
       "    </tr>\n",
       "    <tr>\n",
       "      <th>10123C</th>\n",
       "      <td>hearts wrapping tape</td>\n",
       "    </tr>\n",
       "    <tr>\n",
       "      <th>10123G</th>\n",
       "      <td>undefined</td>\n",
       "    </tr>\n",
       "    <tr>\n",
       "      <th>10124A</th>\n",
       "      <td>spots on red bookcover tape</td>\n",
       "    </tr>\n",
       "    <tr>\n",
       "      <th>10124G</th>\n",
       "      <td>army camo bookcover tape</td>\n",
       "    </tr>\n",
       "    <tr>\n",
       "      <th>10125</th>\n",
       "      <td>mini funky design tapes</td>\n",
       "    </tr>\n",
       "    <tr>\n",
       "      <th>10133</th>\n",
       "      <td>colouring pencils brown tube</td>\n",
       "    </tr>\n",
       "    <tr>\n",
       "      <th>10134</th>\n",
       "      <td>undefined</td>\n",
       "    </tr>\n",
       "  </tbody>\n",
       "</table>\n",
       "</div>"
      ],
      "text/plain": [
       "                             description\n",
       "stock_code                              \n",
       "10002        inflatable political globe \n",
       "10080           groovy cactus inflatable\n",
       "10120                       doggy rubber\n",
       "10123C             hearts wrapping tape \n",
       "10123G                         undefined\n",
       "10124A       spots on red bookcover tape\n",
       "10124G          army camo bookcover tape\n",
       "10125            mini funky design tapes\n",
       "10133       colouring pencils brown tube\n",
       "10134                          undefined"
      ]
     },
     "execution_count": 23,
     "metadata": {},
     "output_type": "execute_result"
    }
   ],
   "source": [
    "# Replacing the non-alphanumeric entries with `undefined`\n",
    "df['description'] = df['description'].apply(lambda x: x if type(x) == str else 'undefined')\n",
    "df.head(10)"
   ]
  },
  {
   "cell_type": "markdown",
   "id": "skilled-apollo",
   "metadata": {},
   "source": [
    "Now we will replace the missing values in the `description` column of the `data` dataframe with the values in the `description` column of the `df` dataframe."
   ]
  },
  {
   "cell_type": "code",
   "execution_count": 24,
   "id": "weekly-football",
   "metadata": {},
   "outputs": [],
   "source": [
    "def fill_na(x, df):\n",
    "    '''\n",
    "    Description:\n",
    "    Replace missing values with the values of the index from another dataframe.\n",
    "    \n",
    "    Parameters:\n",
    "    x = rows of a first dataframe\n",
    "    df = a second, external dataframe\n",
    "    \n",
    "    Returns:\n",
    "    A row with that replace missing values with the mode of description columns that\n",
    "    corresponds to the `stock_code`.\n",
    "    '''\n",
    "    if pd.isna(x['description']):\n",
    "        return df.loc[x['stock_code']]['description']\n",
    "    else:\n",
    "        return x['description']"
   ]
  },
  {
   "cell_type": "code",
   "execution_count": 25,
   "id": "instant-frederick",
   "metadata": {},
   "outputs": [
    {
     "data": {
      "text/html": [
       "<div>\n",
       "<style scoped>\n",
       "    .dataframe tbody tr th:only-of-type {\n",
       "        vertical-align: middle;\n",
       "    }\n",
       "\n",
       "    .dataframe tbody tr th {\n",
       "        vertical-align: top;\n",
       "    }\n",
       "\n",
       "    .dataframe thead th {\n",
       "        text-align: right;\n",
       "    }\n",
       "</style>\n",
       "<table border=\"1\" class=\"dataframe\">\n",
       "  <thead>\n",
       "    <tr style=\"text-align: right;\">\n",
       "      <th></th>\n",
       "      <th>invoice_no</th>\n",
       "      <th>stock_code</th>\n",
       "      <th>description</th>\n",
       "      <th>quantity</th>\n",
       "      <th>invoice_date</th>\n",
       "      <th>unit_price</th>\n",
       "      <th>customer_id</th>\n",
       "    </tr>\n",
       "  </thead>\n",
       "  <tbody>\n",
       "    <tr>\n",
       "      <th>0</th>\n",
       "      <td>536365</td>\n",
       "      <td>85123A</td>\n",
       "      <td>white hanging heart t-light holder</td>\n",
       "      <td>6</td>\n",
       "      <td>2018-11-29 08:26:00</td>\n",
       "      <td>2.55</td>\n",
       "      <td>17856.0</td>\n",
       "    </tr>\n",
       "    <tr>\n",
       "      <th>1</th>\n",
       "      <td>536365</td>\n",
       "      <td>71053</td>\n",
       "      <td>white metal lantern</td>\n",
       "      <td>6</td>\n",
       "      <td>2018-11-29 08:26:00</td>\n",
       "      <td>3.39</td>\n",
       "      <td>17856.0</td>\n",
       "    </tr>\n",
       "    <tr>\n",
       "      <th>2</th>\n",
       "      <td>536365</td>\n",
       "      <td>84406B</td>\n",
       "      <td>cream cupid hearts coat hanger</td>\n",
       "      <td>8</td>\n",
       "      <td>2018-11-29 08:26:00</td>\n",
       "      <td>2.75</td>\n",
       "      <td>17856.0</td>\n",
       "    </tr>\n",
       "    <tr>\n",
       "      <th>3</th>\n",
       "      <td>536365</td>\n",
       "      <td>84029G</td>\n",
       "      <td>knitted union flag hot water bottle</td>\n",
       "      <td>6</td>\n",
       "      <td>2018-11-29 08:26:00</td>\n",
       "      <td>3.39</td>\n",
       "      <td>17856.0</td>\n",
       "    </tr>\n",
       "    <tr>\n",
       "      <th>4</th>\n",
       "      <td>536365</td>\n",
       "      <td>84029E</td>\n",
       "      <td>red woolly hottie white heart.</td>\n",
       "      <td>6</td>\n",
       "      <td>2018-11-29 08:26:00</td>\n",
       "      <td>3.39</td>\n",
       "      <td>17856.0</td>\n",
       "    </tr>\n",
       "  </tbody>\n",
       "</table>\n",
       "</div>"
      ],
      "text/plain": [
       "  invoice_no stock_code                          description  quantity  \\\n",
       "0     536365     85123A   white hanging heart t-light holder         6   \n",
       "1     536365      71053                  white metal lantern         6   \n",
       "2     536365     84406B       cream cupid hearts coat hanger         8   \n",
       "3     536365     84029G  knitted union flag hot water bottle         6   \n",
       "4     536365     84029E       red woolly hottie white heart.         6   \n",
       "\n",
       "         invoice_date  unit_price  customer_id  \n",
       "0 2018-11-29 08:26:00        2.55      17856.0  \n",
       "1 2018-11-29 08:26:00        3.39      17856.0  \n",
       "2 2018-11-29 08:26:00        2.75      17856.0  \n",
       "3 2018-11-29 08:26:00        3.39      17856.0  \n",
       "4 2018-11-29 08:26:00        3.39      17856.0  "
      ]
     },
     "execution_count": 25,
     "metadata": {},
     "output_type": "execute_result"
    }
   ],
   "source": [
    "# Replacing the missing values in the `description` column\n",
    "data['description'] = data.apply(fill_na, df=df, axis=1)\n",
    "data.head()"
   ]
  },
  {
   "cell_type": "markdown",
   "id": "heated-telling",
   "metadata": {},
   "source": [
    "Confirming again if the `NaN` values in `description` of row 622 have been replaced,"
   ]
  },
  {
   "cell_type": "code",
   "execution_count": 26,
   "id": "civil-squad",
   "metadata": {},
   "outputs": [
    {
     "data": {
      "text/plain": [
       "invoice_no                                536414\n",
       "stock_code                                 22139\n",
       "description     retrospot tea set ceramic 11 pc \n",
       "quantity                                      56\n",
       "invoice_date                 2018-11-29 11:52:00\n",
       "unit_price                                   0.0\n",
       "customer_id                                  NaN\n",
       "Name: 622, dtype: object"
      ]
     },
     "execution_count": 26,
     "metadata": {},
     "output_type": "execute_result"
    }
   ],
   "source": [
    "# Checking the missing vaues in row 622\n",
    "data.loc[622]"
   ]
  },
  {
   "cell_type": "code",
   "execution_count": 27,
   "id": "given-actress",
   "metadata": {},
   "outputs": [
    {
     "name": "stdout",
     "output_type": "stream",
     "text": [
      "The number of missing values:\n",
      "invoice_no           0\n",
      "stock_code           0\n",
      "description          0\n",
      "quantity             0\n",
      "invoice_date         0\n",
      "unit_price           0\n",
      "customer_id     135080\n",
      "dtype: int64\n"
     ]
    }
   ],
   "source": [
    "print('The number of missing values:\\n{}'.format(data.isna().sum()))"
   ]
  },
  {
   "cell_type": "markdown",
   "id": "fiscal-press",
   "metadata": {},
   "source": [
    "We have successfully replaced the missing values in the `description` column. \n",
    "\n",
    "Now we look at the `NaN` in the `customer_id` column,"
   ]
  },
  {
   "cell_type": "code",
   "execution_count": 28,
   "id": "declared-scotland",
   "metadata": {},
   "outputs": [
    {
     "data": {
      "text/html": [
       "<div>\n",
       "<style scoped>\n",
       "    .dataframe tbody tr th:only-of-type {\n",
       "        vertical-align: middle;\n",
       "    }\n",
       "\n",
       "    .dataframe tbody tr th {\n",
       "        vertical-align: top;\n",
       "    }\n",
       "\n",
       "    .dataframe thead th {\n",
       "        text-align: right;\n",
       "    }\n",
       "</style>\n",
       "<table border=\"1\" class=\"dataframe\">\n",
       "  <thead>\n",
       "    <tr style=\"text-align: right;\">\n",
       "      <th></th>\n",
       "      <th>invoice_no</th>\n",
       "      <th>stock_code</th>\n",
       "      <th>description</th>\n",
       "      <th>quantity</th>\n",
       "      <th>invoice_date</th>\n",
       "      <th>unit_price</th>\n",
       "      <th>customer_id</th>\n",
       "    </tr>\n",
       "  </thead>\n",
       "  <tbody>\n",
       "    <tr>\n",
       "      <th>622</th>\n",
       "      <td>536414</td>\n",
       "      <td>22139</td>\n",
       "      <td>retrospot tea set ceramic 11 pc</td>\n",
       "      <td>56</td>\n",
       "      <td>2018-11-29 11:52:00</td>\n",
       "      <td>0.00</td>\n",
       "      <td>NaN</td>\n",
       "    </tr>\n",
       "    <tr>\n",
       "      <th>1443</th>\n",
       "      <td>536544</td>\n",
       "      <td>21773</td>\n",
       "      <td>decorative rose bathroom bottle</td>\n",
       "      <td>1</td>\n",
       "      <td>2018-11-29 14:32:00</td>\n",
       "      <td>2.51</td>\n",
       "      <td>NaN</td>\n",
       "    </tr>\n",
       "    <tr>\n",
       "      <th>1444</th>\n",
       "      <td>536544</td>\n",
       "      <td>21774</td>\n",
       "      <td>decorative cats bathroom bottle</td>\n",
       "      <td>2</td>\n",
       "      <td>2018-11-29 14:32:00</td>\n",
       "      <td>2.51</td>\n",
       "      <td>NaN</td>\n",
       "    </tr>\n",
       "    <tr>\n",
       "      <th>1445</th>\n",
       "      <td>536544</td>\n",
       "      <td>21786</td>\n",
       "      <td>polkadot rain hat</td>\n",
       "      <td>4</td>\n",
       "      <td>2018-11-29 14:32:00</td>\n",
       "      <td>0.85</td>\n",
       "      <td>NaN</td>\n",
       "    </tr>\n",
       "    <tr>\n",
       "      <th>1446</th>\n",
       "      <td>536544</td>\n",
       "      <td>21787</td>\n",
       "      <td>rain poncho retrospot</td>\n",
       "      <td>2</td>\n",
       "      <td>2018-11-29 14:32:00</td>\n",
       "      <td>1.66</td>\n",
       "      <td>NaN</td>\n",
       "    </tr>\n",
       "  </tbody>\n",
       "</table>\n",
       "</div>"
      ],
      "text/plain": [
       "     invoice_no stock_code                       description  quantity  \\\n",
       "622      536414      22139  retrospot tea set ceramic 11 pc         56   \n",
       "1443     536544      21773   decorative rose bathroom bottle         1   \n",
       "1444     536544      21774   decorative cats bathroom bottle         2   \n",
       "1445     536544      21786                polkadot rain hat          4   \n",
       "1446     536544      21787             rain poncho retrospot         2   \n",
       "\n",
       "            invoice_date  unit_price  customer_id  \n",
       "622  2018-11-29 11:52:00        0.00          NaN  \n",
       "1443 2018-11-29 14:32:00        2.51          NaN  \n",
       "1444 2018-11-29 14:32:00        2.51          NaN  \n",
       "1445 2018-11-29 14:32:00        0.85          NaN  \n",
       "1446 2018-11-29 14:32:00        1.66          NaN  "
      ]
     },
     "execution_count": 28,
     "metadata": {},
     "output_type": "execute_result"
    }
   ],
   "source": [
    "# Showing the rows with missing values in the `customer_id` column.\n",
    "data[data['customer_id'].isna()].head()"
   ]
  },
  {
   "cell_type": "markdown",
   "id": "indian-electron",
   "metadata": {},
   "source": [
    "After exploring the dataset, we found out that in general an `invoice_no` is associated with a single `customer_id`. We can see this by taking a random sample from rows where `customer_id` is not `NaN`, as an example `invoice_no=542112`,"
   ]
  },
  {
   "cell_type": "code",
   "execution_count": 29,
   "id": "gross-archive",
   "metadata": {},
   "outputs": [
    {
     "data": {
      "text/plain": [
       "13170.0"
      ]
     },
     "execution_count": 29,
     "metadata": {},
     "output_type": "execute_result"
    }
   ],
   "source": [
    "data.query('invoice_no == \"542112\"')['customer_id'].unique()[0]"
   ]
  },
  {
   "cell_type": "markdown",
   "id": "danish-threshold",
   "metadata": {},
   "source": [
    "The invoice number 542112 was made by a single customer, which is `customer_id=13168`. We can also confirm by grouping the dataframe that `invoice_no` then see how many unique entries in `customer_id`,"
   ]
  },
  {
   "cell_type": "code",
   "execution_count": 30,
   "id": "dried-gibson",
   "metadata": {},
   "outputs": [
    {
     "data": {
      "text/html": [
       "<div>\n",
       "<style scoped>\n",
       "    .dataframe tbody tr th:only-of-type {\n",
       "        vertical-align: middle;\n",
       "    }\n",
       "\n",
       "    .dataframe tbody tr th {\n",
       "        vertical-align: top;\n",
       "    }\n",
       "\n",
       "    .dataframe thead th {\n",
       "        text-align: right;\n",
       "    }\n",
       "</style>\n",
       "<table border=\"1\" class=\"dataframe\">\n",
       "  <thead>\n",
       "    <tr style=\"text-align: right;\">\n",
       "      <th></th>\n",
       "      <th>stock_code</th>\n",
       "      <th>description</th>\n",
       "      <th>quantity</th>\n",
       "      <th>invoice_date</th>\n",
       "      <th>unit_price</th>\n",
       "      <th>customer_id</th>\n",
       "    </tr>\n",
       "    <tr>\n",
       "      <th>invoice_no</th>\n",
       "      <th></th>\n",
       "      <th></th>\n",
       "      <th></th>\n",
       "      <th></th>\n",
       "      <th></th>\n",
       "      <th></th>\n",
       "    </tr>\n",
       "  </thead>\n",
       "  <tbody>\n",
       "    <tr>\n",
       "      <th>536365</th>\n",
       "      <td>7</td>\n",
       "      <td>7</td>\n",
       "      <td>3</td>\n",
       "      <td>1</td>\n",
       "      <td>5</td>\n",
       "      <td>1</td>\n",
       "    </tr>\n",
       "    <tr>\n",
       "      <th>536366</th>\n",
       "      <td>2</td>\n",
       "      <td>2</td>\n",
       "      <td>1</td>\n",
       "      <td>1</td>\n",
       "      <td>1</td>\n",
       "      <td>1</td>\n",
       "    </tr>\n",
       "    <tr>\n",
       "      <th>536367</th>\n",
       "      <td>12</td>\n",
       "      <td>12</td>\n",
       "      <td>6</td>\n",
       "      <td>1</td>\n",
       "      <td>9</td>\n",
       "      <td>1</td>\n",
       "    </tr>\n",
       "    <tr>\n",
       "      <th>536368</th>\n",
       "      <td>4</td>\n",
       "      <td>4</td>\n",
       "      <td>2</td>\n",
       "      <td>1</td>\n",
       "      <td>2</td>\n",
       "      <td>1</td>\n",
       "    </tr>\n",
       "    <tr>\n",
       "      <th>536369</th>\n",
       "      <td>1</td>\n",
       "      <td>1</td>\n",
       "      <td>1</td>\n",
       "      <td>1</td>\n",
       "      <td>1</td>\n",
       "      <td>1</td>\n",
       "    </tr>\n",
       "  </tbody>\n",
       "</table>\n",
       "</div>"
      ],
      "text/plain": [
       "            stock_code  description  quantity  invoice_date  unit_price  \\\n",
       "invoice_no                                                                \n",
       "536365               7            7         3             1           5   \n",
       "536366               2            2         1             1           1   \n",
       "536367              12           12         6             1           9   \n",
       "536368               4            4         2             1           2   \n",
       "536369               1            1         1             1           1   \n",
       "\n",
       "            customer_id  \n",
       "invoice_no               \n",
       "536365                1  \n",
       "536366                1  \n",
       "536367                1  \n",
       "536368                1  \n",
       "536369                1  "
      ]
     },
     "execution_count": 30,
     "metadata": {},
     "output_type": "execute_result"
    }
   ],
   "source": [
    "# One invoice is associated with a single user\n",
    "data.groupby('invoice_no').nunique().head()"
   ]
  },
  {
   "cell_type": "markdown",
   "id": "invalid-nirvana",
   "metadata": {},
   "source": [
    "Then we can query how many rows have unique `customer_id` more than one,"
   ]
  },
  {
   "cell_type": "code",
   "execution_count": 31,
   "id": "running-trademark",
   "metadata": {},
   "outputs": [
    {
     "data": {
      "text/html": [
       "<div>\n",
       "<style scoped>\n",
       "    .dataframe tbody tr th:only-of-type {\n",
       "        vertical-align: middle;\n",
       "    }\n",
       "\n",
       "    .dataframe tbody tr th {\n",
       "        vertical-align: top;\n",
       "    }\n",
       "\n",
       "    .dataframe thead th {\n",
       "        text-align: right;\n",
       "    }\n",
       "</style>\n",
       "<table border=\"1\" class=\"dataframe\">\n",
       "  <thead>\n",
       "    <tr style=\"text-align: right;\">\n",
       "      <th></th>\n",
       "      <th>stock_code</th>\n",
       "      <th>description</th>\n",
       "      <th>quantity</th>\n",
       "      <th>invoice_date</th>\n",
       "      <th>unit_price</th>\n",
       "      <th>customer_id</th>\n",
       "    </tr>\n",
       "    <tr>\n",
       "      <th>invoice_no</th>\n",
       "      <th></th>\n",
       "      <th></th>\n",
       "      <th></th>\n",
       "      <th></th>\n",
       "      <th></th>\n",
       "      <th></th>\n",
       "    </tr>\n",
       "  </thead>\n",
       "  <tbody>\n",
       "  </tbody>\n",
       "</table>\n",
       "</div>"
      ],
      "text/plain": [
       "Empty DataFrame\n",
       "Columns: [stock_code, description, quantity, invoice_date, unit_price, customer_id]\n",
       "Index: []"
      ]
     },
     "execution_count": 31,
     "metadata": {},
     "output_type": "execute_result"
    }
   ],
   "source": [
    "# One invoice is associated with a single user\n",
    "data.groupby('invoice_no').nunique().query('customer_id>1')"
   ]
  },
  {
   "cell_type": "markdown",
   "id": "quarterly-laser",
   "metadata": {},
   "source": [
    "The dataframe resulted in nothing, meaning no `invoice_no` was generated by more than one customer.\n",
    "\n",
    "Based on this, we can replace the missing values in the `customer_id` column with a marker that reflects the `invoice_no` it is associated with."
   ]
  },
  {
   "cell_type": "code",
   "execution_count": 32,
   "id": "defined-classification",
   "metadata": {},
   "outputs": [],
   "source": [
    "data['customer_id'] = (data\n",
    "                       .apply(lambda x: 'X' + x['invoice_no'] if pd.isna(x['customer_id']) else x['customer_id'], \n",
    "                              axis=1))"
   ]
  },
  {
   "cell_type": "markdown",
   "id": "ahead-minutes",
   "metadata": {},
   "source": [
    "Let's look at the row previously with missing values in the `customer_id` column, row 622,"
   ]
  },
  {
   "cell_type": "code",
   "execution_count": 33,
   "id": "practical-plastic",
   "metadata": {},
   "outputs": [
    {
     "data": {
      "text/plain": [
       "invoice_no                                536414\n",
       "stock_code                                 22139\n",
       "description     retrospot tea set ceramic 11 pc \n",
       "quantity                                      56\n",
       "invoice_date                 2018-11-29 11:52:00\n",
       "unit_price                                   0.0\n",
       "customer_id                              X536414\n",
       "Name: 622, dtype: object"
      ]
     },
     "execution_count": 33,
     "metadata": {},
     "output_type": "execute_result"
    }
   ],
   "source": [
    "# Displaying the row 622\n",
    "data.loc[622]"
   ]
  },
  {
   "cell_type": "code",
   "execution_count": 34,
   "id": "pacific-hazard",
   "metadata": {},
   "outputs": [
    {
     "name": "stdout",
     "output_type": "stream",
     "text": [
      "The number of missing values:\n",
      "invoice_no      0\n",
      "stock_code      0\n",
      "description     0\n",
      "quantity        0\n",
      "invoice_date    0\n",
      "unit_price      0\n",
      "customer_id     0\n",
      "dtype: int64\n"
     ]
    }
   ],
   "source": [
    "print('The number of missing values:\\n{}'.format(data.isna().sum()))"
   ]
  },
  {
   "cell_type": "markdown",
   "id": "usual-error",
   "metadata": {},
   "source": [
    "### Cleaning Duplicated Rows <a class=\"anchor\" id=\"step_3_2\"></a>\n"
   ]
  },
  {
   "cell_type": "markdown",
   "id": "standard-danger",
   "metadata": {},
   "source": [
    "Before going further, we need to check for any duplicated rows,"
   ]
  },
  {
   "cell_type": "code",
   "execution_count": 35,
   "id": "apart-hindu",
   "metadata": {},
   "outputs": [
    {
     "name": "stdout",
     "output_type": "stream",
     "text": [
      "Number of duplicated rows:  5268\n",
      "The ratio of the duplicated rows in the dataset: 1.0%\n"
     ]
    }
   ],
   "source": [
    "print('Number of duplicated rows: ',data.duplicated().sum())\n",
    "print('The ratio of the duplicated rows in the dataset: {:.1%}'\n",
    "      .format(data.duplicated().sum()/len(data)))"
   ]
  },
  {
   "cell_type": "markdown",
   "id": "individual-prize",
   "metadata": {},
   "source": [
    "We can remove the rows since they are only 1% of the entire data,"
   ]
  },
  {
   "cell_type": "code",
   "execution_count": 36,
   "id": "selective-webster",
   "metadata": {},
   "outputs": [
    {
     "name": "stdout",
     "output_type": "stream",
     "text": [
      "Number of duplicated rows:  0\n"
     ]
    }
   ],
   "source": [
    "data.drop_duplicates(inplace=True)\n",
    "print('Number of duplicated rows: ',data.duplicated().sum())"
   ]
  },
  {
   "cell_type": "markdown",
   "id": "amazing-sector",
   "metadata": {},
   "source": [
    "### Cleaning The Negative Values in the `quantity` Column <a class=\"anchor\" id=\"step_3_3\"></a>\n"
   ]
  },
  {
   "cell_type": "markdown",
   "id": "printable-quarter",
   "metadata": {},
   "source": [
    "We have learned that there are negative values in the `quantity` columns. From a quick observation, we knew that these rows serve as error-correcting entries."
   ]
  },
  {
   "cell_type": "code",
   "execution_count": 37,
   "id": "virgin-danger",
   "metadata": {},
   "outputs": [
    {
     "data": {
      "text/html": [
       "<div>\n",
       "<style scoped>\n",
       "    .dataframe tbody tr th:only-of-type {\n",
       "        vertical-align: middle;\n",
       "    }\n",
       "\n",
       "    .dataframe tbody tr th {\n",
       "        vertical-align: top;\n",
       "    }\n",
       "\n",
       "    .dataframe thead th {\n",
       "        text-align: right;\n",
       "    }\n",
       "</style>\n",
       "<table border=\"1\" class=\"dataframe\">\n",
       "  <thead>\n",
       "    <tr style=\"text-align: right;\">\n",
       "      <th></th>\n",
       "      <th>invoice_no</th>\n",
       "      <th>stock_code</th>\n",
       "      <th>description</th>\n",
       "      <th>quantity</th>\n",
       "      <th>invoice_date</th>\n",
       "      <th>unit_price</th>\n",
       "      <th>customer_id</th>\n",
       "    </tr>\n",
       "  </thead>\n",
       "  <tbody>\n",
       "    <tr>\n",
       "      <th>141</th>\n",
       "      <td>C536379</td>\n",
       "      <td>D</td>\n",
       "      <td>discount</td>\n",
       "      <td>-1</td>\n",
       "      <td>2018-11-29 09:41:00</td>\n",
       "      <td>27.50</td>\n",
       "      <td>14528.0</td>\n",
       "    </tr>\n",
       "    <tr>\n",
       "      <th>154</th>\n",
       "      <td>C536383</td>\n",
       "      <td>35004C</td>\n",
       "      <td>set of 3 coloured  flying ducks</td>\n",
       "      <td>-1</td>\n",
       "      <td>2018-11-29 09:49:00</td>\n",
       "      <td>4.65</td>\n",
       "      <td>15312.0</td>\n",
       "    </tr>\n",
       "    <tr>\n",
       "      <th>235</th>\n",
       "      <td>C536391</td>\n",
       "      <td>22556</td>\n",
       "      <td>plasters in tin circus parade</td>\n",
       "      <td>-12</td>\n",
       "      <td>2018-11-29 10:24:00</td>\n",
       "      <td>1.65</td>\n",
       "      <td>17552.0</td>\n",
       "    </tr>\n",
       "    <tr>\n",
       "      <th>236</th>\n",
       "      <td>C536391</td>\n",
       "      <td>21984</td>\n",
       "      <td>pack of 12 pink paisley tissues</td>\n",
       "      <td>-24</td>\n",
       "      <td>2018-11-29 10:24:00</td>\n",
       "      <td>0.29</td>\n",
       "      <td>17552.0</td>\n",
       "    </tr>\n",
       "    <tr>\n",
       "      <th>237</th>\n",
       "      <td>C536391</td>\n",
       "      <td>21983</td>\n",
       "      <td>pack of 12 blue paisley tissues</td>\n",
       "      <td>-24</td>\n",
       "      <td>2018-11-29 10:24:00</td>\n",
       "      <td>0.29</td>\n",
       "      <td>17552.0</td>\n",
       "    </tr>\n",
       "  </tbody>\n",
       "</table>\n",
       "</div>"
      ],
      "text/plain": [
       "    invoice_no stock_code                       description  quantity  \\\n",
       "141    C536379          D                          discount        -1   \n",
       "154    C536383     35004C   set of 3 coloured  flying ducks        -1   \n",
       "235    C536391      22556    plasters in tin circus parade        -12   \n",
       "236    C536391      21984  pack of 12 pink paisley tissues        -24   \n",
       "237    C536391      21983  pack of 12 blue paisley tissues        -24   \n",
       "\n",
       "           invoice_date  unit_price customer_id  \n",
       "141 2018-11-29 09:41:00       27.50     14528.0  \n",
       "154 2018-11-29 09:49:00        4.65     15312.0  \n",
       "235 2018-11-29 10:24:00        1.65     17552.0  \n",
       "236 2018-11-29 10:24:00        0.29     17552.0  \n",
       "237 2018-11-29 10:24:00        0.29     17552.0  "
      ]
     },
     "execution_count": 37,
     "metadata": {},
     "output_type": "execute_result"
    }
   ],
   "source": [
    "# Observing the rows where the `quantity` column have negative-valued entries\n",
    "data.query('quantity < 0').head()"
   ]
  },
  {
   "cell_type": "markdown",
   "id": "acute-missile",
   "metadata": {},
   "source": [
    "One interesting observation is that the rows with negative values have different `stock_code` formats than the standard five-character item description. For example, the row with negative values has `C` in front of the stock code number. On other rows, the `stock_code` has a single letter code, such as row 141, where the code is simply `D`. Hence various formats are used to state different intentions."
   ]
  },
  {
   "cell_type": "code",
   "execution_count": 38,
   "id": "pressing-steam",
   "metadata": {},
   "outputs": [
    {
     "data": {
      "text/html": [
       "<div>\n",
       "<style scoped>\n",
       "    .dataframe tbody tr th:only-of-type {\n",
       "        vertical-align: middle;\n",
       "    }\n",
       "\n",
       "    .dataframe tbody tr th {\n",
       "        vertical-align: top;\n",
       "    }\n",
       "\n",
       "    .dataframe thead th {\n",
       "        text-align: right;\n",
       "    }\n",
       "</style>\n",
       "<table border=\"1\" class=\"dataframe\">\n",
       "  <thead>\n",
       "    <tr style=\"text-align: right;\">\n",
       "      <th></th>\n",
       "      <th>invoice_no</th>\n",
       "      <th>stock_code</th>\n",
       "      <th>description</th>\n",
       "      <th>quantity</th>\n",
       "      <th>invoice_date</th>\n",
       "      <th>unit_price</th>\n",
       "      <th>customer_id</th>\n",
       "    </tr>\n",
       "  </thead>\n",
       "  <tbody>\n",
       "    <tr>\n",
       "      <th>154</th>\n",
       "      <td>C536383</td>\n",
       "      <td>35004C</td>\n",
       "      <td>set of 3 coloured  flying ducks</td>\n",
       "      <td>-1</td>\n",
       "      <td>2018-11-29 09:49:00</td>\n",
       "      <td>4.65</td>\n",
       "      <td>15312.0</td>\n",
       "    </tr>\n",
       "    <tr>\n",
       "      <th>200</th>\n",
       "      <td>536389</td>\n",
       "      <td>35004C</td>\n",
       "      <td>set of 3 coloured  flying ducks</td>\n",
       "      <td>6</td>\n",
       "      <td>2018-11-29 10:03:00</td>\n",
       "      <td>5.45</td>\n",
       "      <td>12432.0</td>\n",
       "    </tr>\n",
       "    <tr>\n",
       "      <th>297</th>\n",
       "      <td>536397</td>\n",
       "      <td>35004C</td>\n",
       "      <td>set of 3 coloured  flying ducks</td>\n",
       "      <td>48</td>\n",
       "      <td>2018-11-29 10:51:00</td>\n",
       "      <td>4.65</td>\n",
       "      <td>17920.0</td>\n",
       "    </tr>\n",
       "    <tr>\n",
       "      <th>2316</th>\n",
       "      <td>536576</td>\n",
       "      <td>35004C</td>\n",
       "      <td>set of 3 coloured  flying ducks</td>\n",
       "      <td>120</td>\n",
       "      <td>2018-11-29 16:11:00</td>\n",
       "      <td>4.65</td>\n",
       "      <td>13776.0</td>\n",
       "    </tr>\n",
       "    <tr>\n",
       "      <th>3933</th>\n",
       "      <td>536739</td>\n",
       "      <td>35004C</td>\n",
       "      <td>set of 3 coloured  flying ducks</td>\n",
       "      <td>3</td>\n",
       "      <td>2018-11-30 13:08:00</td>\n",
       "      <td>5.45</td>\n",
       "      <td>14176.0</td>\n",
       "    </tr>\n",
       "  </tbody>\n",
       "</table>\n",
       "</div>"
      ],
      "text/plain": [
       "     invoice_no stock_code                      description  quantity  \\\n",
       "154     C536383     35004C  set of 3 coloured  flying ducks        -1   \n",
       "200      536389     35004C  set of 3 coloured  flying ducks         6   \n",
       "297      536397     35004C  set of 3 coloured  flying ducks        48   \n",
       "2316     536576     35004C  set of 3 coloured  flying ducks       120   \n",
       "3933     536739     35004C  set of 3 coloured  flying ducks         3   \n",
       "\n",
       "            invoice_date  unit_price customer_id  \n",
       "154  2018-11-29 09:49:00        4.65     15312.0  \n",
       "200  2018-11-29 10:03:00        5.45     12432.0  \n",
       "297  2018-11-29 10:51:00        4.65     17920.0  \n",
       "2316 2018-11-29 16:11:00        4.65     13776.0  \n",
       "3933 2018-11-30 13:08:00        5.45     14176.0  "
      ]
     },
     "execution_count": 38,
     "metadata": {},
     "output_type": "execute_result"
    }
   ],
   "source": [
    "data.query('stock_code == \"35004C\"').head(5)"
   ]
  },
  {
   "cell_type": "markdown",
   "id": "color-motel",
   "metadata": {},
   "source": [
    "We can evaluate the `stock_code` based on their character length and see if there lies a pattern,"
   ]
  },
  {
   "cell_type": "code",
   "execution_count": 39,
   "id": "utility-supplier",
   "metadata": {
    "scrolled": false
   },
   "outputs": [
    {
     "name": "stdout",
     "output_type": "stream",
     "text": [
      "------------------------------\n",
      "Code length:  0\n",
      "Series([], dtype: int64)\n",
      "------------------------------\n",
      "\n",
      "------------------------------\n",
      "Code length:  1\n",
      "stock_code  description    \n",
      "M           manual             566\n",
      "D           discount            77\n",
      "S           samples             62\n",
      "B           adjust bad debt      3\n",
      "m           manual               1\n",
      "dtype: int64\n",
      "------------------------------\n",
      "\n",
      "------------------------------\n",
      "Code length:  2\n",
      "stock_code  description\n",
      "C2          carriage       144\n",
      "dtype: int64\n",
      "------------------------------\n",
      "\n",
      "------------------------------\n",
      "Code length:  3\n",
      "stock_code  description   \n",
      "DOT         dotcom postage    710\n",
      "dtype: int64\n",
      "------------------------------\n",
      "\n",
      "------------------------------\n",
      "Code length:  4\n",
      "stock_code  description               \n",
      "POST        postage                       1256\n",
      "CRUK        cruk commission                 16\n",
      "PADS        pads to match all cushions       4\n",
      "dtype: int64\n",
      "------------------------------\n",
      "\n",
      "------------------------------\n",
      "Code length:  5\n",
      "stock_code  description                      \n",
      "22423       regency cakestand 3 tier             2189\n",
      "47566       party bunting                        1720\n",
      "20725       lunch bag red retrospot              1625\n",
      "84879       assorted colour bird ornament        1488\n",
      "22720       set of 3 cake tins pantry design     1469\n",
      "                                                 ... \n",
      "22426       check                                   1\n",
      "79163       damaged                                 1\n",
      "            sold as set on dotcom                   1\n",
      "21181       check                                   1\n",
      "22963       jam jar with blue lid                   1\n",
      "Length: 3592, dtype: int64\n",
      "------------------------------\n",
      "\n",
      "------------------------------\n",
      "Code length:  6\n",
      "stock_code  description                       \n",
      "85123A      white hanging heart t-light holder    2290\n",
      "85099B      jumbo bag red retrospot               2156\n",
      "85099C      jumbo  bag baroque black white         957\n",
      "82494L      wooden frame antique white             937\n",
      "85099F      jumbo bag strawberry                   834\n",
      "                                                  ... \n",
      "90037A      tiny crystal bracelet red                1\n",
      "79051A      sold as set on dotcom                    1\n",
      "84845D      undefined                                1\n",
      "90035C      pearl & shell 42\"neckl. ivory            1\n",
      "85025C      barcode problem                          1\n",
      "Length: 1272, dtype: int64\n",
      "------------------------------\n",
      "\n",
      "------------------------------\n",
      "Code length:  7\n",
      "stock_code  description            \n",
      "15056BL     edwardian parasol black    326\n",
      "15056bl     edwardian parasol black     62\n",
      "79323GR     unsaleable, destroyed.       1\n",
      "79323LP     unsaleable, destroyed.       1\n",
      "dtype: int64\n",
      "------------------------------\n",
      "\n",
      "------------------------------\n",
      "Code length:  8\n",
      "stock_code  description                 \n",
      "DCGSSBOY    boys party bag                  11\n",
      "DCGS0003    boxed glass ashtray              4\n",
      "DCGS0070    camouflage dog collar            2\n",
      "DCGS0076    sunjar led night night light     2\n",
      "DCGS0003    ebay                             1\n",
      "DCGS0004    haynes camper shoulder bag       1\n",
      "DCGS0055    undefined                        1\n",
      "DCGS0057    undefined                        1\n",
      "DCGS0067    ebay                             1\n",
      "DCGS0068    ebay                             1\n",
      "DCGS0069    ebay                             1\n",
      "            ooh la la dogs collar            1\n",
      "DCGS0071    undefined                        1\n",
      "DCGS0072    undefined                        1\n",
      "DCGS0073    ebay                             1\n",
      "DCGS0074    undefined                        1\n",
      "dtype: int64\n",
      "------------------------------\n",
      "\n",
      "------------------------------\n",
      "Code length:  9\n",
      "stock_code  description    \n",
      "AMAZONFEE   amazon fee         34\n",
      "DCGSSGIRL   girls party bag    13\n",
      "DCGS0066P   undefined           1\n",
      "dtype: int64\n",
      "------------------------------\n",
      "\n",
      "------------------------------\n",
      "Code length:  10\n",
      "Series([], dtype: int64)\n",
      "------------------------------\n",
      "\n",
      "------------------------------\n",
      "Code length:  11\n",
      "Series([], dtype: int64)\n",
      "------------------------------\n",
      "\n",
      "------------------------------\n",
      "Code length:  12\n",
      "stock_code    description                        \n",
      "BANK CHARGES  bank charges                           37\n",
      "gift_0001_10  dotcomgiftshop gift voucher £10.00      9\n",
      "gift_0001_20  dotcomgiftshop gift voucher £20.00      9\n",
      "gift_0001_30  dotcomgiftshop gift voucher £30.00      8\n",
      "gift_0001_50  dotcomgiftshop gift voucher £50.00      4\n",
      "gift_0001_40  dotcomgiftshop gift voucher £40.00      3\n",
      "gift_0001_20  to push order througha s stock was      1\n",
      "dtype: int64\n",
      "------------------------------\n",
      "\n"
     ]
    }
   ],
   "source": [
    "# Looping over the `stock_code` column based on the entry's character length\n",
    "for n in range(data['stock_code'].apply(lambda x: len(x)).max() + 1):\n",
    "    print('------------------------------')\n",
    "    print('Code length: ', n)\n",
    "    print(data[data.stock_code.apply(lambda x: len(x) == n)][['stock_code', 'description']].value_counts())\n",
    "    print('------------------------------')\n",
    "    print()"
   ]
  },
  {
   "cell_type": "markdown",
   "id": "chubby-island",
   "metadata": {},
   "source": [
    "As an example above, we saw that the `stock_code ` with four characters is used to describe gift cards with various denominations. Some rows with code having eight characters are assigned for transactions coming from eBay. The entries of our interest mostly have  `stock_code` with five to six characters, which we will focus on. By keeping these rows, we will still preserve  99% of data from the dataset, so it justifies our decision to concentrate on these entries."
   ]
  },
  {
   "cell_type": "code",
   "execution_count": 40,
   "id": "tired-beginning",
   "metadata": {},
   "outputs": [
    {
     "name": "stdout",
     "output_type": "stream",
     "text": [
      "The ratio of entries with `stock_code` rows having five or six characters: 99.4%\n"
     ]
    }
   ],
   "source": [
    "print('The ratio of entries with `stock_code` rows having five or six characters: {:.1%}'\n",
    "      .format(len(data[data.stock_code.apply(lambda x: 5 <= len(x) <= 6)])/len(data)))"
   ]
  },
  {
   "cell_type": "code",
   "execution_count": 41,
   "id": "dependent-seattle",
   "metadata": {},
   "outputs": [
    {
     "data": {
      "text/html": [
       "<div>\n",
       "<style scoped>\n",
       "    .dataframe tbody tr th:only-of-type {\n",
       "        vertical-align: middle;\n",
       "    }\n",
       "\n",
       "    .dataframe tbody tr th {\n",
       "        vertical-align: top;\n",
       "    }\n",
       "\n",
       "    .dataframe thead th {\n",
       "        text-align: right;\n",
       "    }\n",
       "</style>\n",
       "<table border=\"1\" class=\"dataframe\">\n",
       "  <thead>\n",
       "    <tr style=\"text-align: right;\">\n",
       "      <th></th>\n",
       "      <th>invoice_no</th>\n",
       "      <th>stock_code</th>\n",
       "      <th>description</th>\n",
       "      <th>quantity</th>\n",
       "      <th>invoice_date</th>\n",
       "      <th>unit_price</th>\n",
       "      <th>customer_id</th>\n",
       "    </tr>\n",
       "  </thead>\n",
       "  <tbody>\n",
       "    <tr>\n",
       "      <th>0</th>\n",
       "      <td>536365</td>\n",
       "      <td>85123A</td>\n",
       "      <td>white hanging heart t-light holder</td>\n",
       "      <td>6</td>\n",
       "      <td>2018-11-29 08:26:00</td>\n",
       "      <td>2.55</td>\n",
       "      <td>17856.0</td>\n",
       "    </tr>\n",
       "    <tr>\n",
       "      <th>1</th>\n",
       "      <td>536365</td>\n",
       "      <td>71053</td>\n",
       "      <td>white metal lantern</td>\n",
       "      <td>6</td>\n",
       "      <td>2018-11-29 08:26:00</td>\n",
       "      <td>3.39</td>\n",
       "      <td>17856.0</td>\n",
       "    </tr>\n",
       "    <tr>\n",
       "      <th>2</th>\n",
       "      <td>536365</td>\n",
       "      <td>84406B</td>\n",
       "      <td>cream cupid hearts coat hanger</td>\n",
       "      <td>8</td>\n",
       "      <td>2018-11-29 08:26:00</td>\n",
       "      <td>2.75</td>\n",
       "      <td>17856.0</td>\n",
       "    </tr>\n",
       "    <tr>\n",
       "      <th>3</th>\n",
       "      <td>536365</td>\n",
       "      <td>84029G</td>\n",
       "      <td>knitted union flag hot water bottle</td>\n",
       "      <td>6</td>\n",
       "      <td>2018-11-29 08:26:00</td>\n",
       "      <td>3.39</td>\n",
       "      <td>17856.0</td>\n",
       "    </tr>\n",
       "    <tr>\n",
       "      <th>4</th>\n",
       "      <td>536365</td>\n",
       "      <td>84029E</td>\n",
       "      <td>red woolly hottie white heart.</td>\n",
       "      <td>6</td>\n",
       "      <td>2018-11-29 08:26:00</td>\n",
       "      <td>3.39</td>\n",
       "      <td>17856.0</td>\n",
       "    </tr>\n",
       "  </tbody>\n",
       "</table>\n",
       "</div>"
      ],
      "text/plain": [
       "  invoice_no stock_code                          description  quantity  \\\n",
       "0     536365     85123A   white hanging heart t-light holder         6   \n",
       "1     536365      71053                  white metal lantern         6   \n",
       "2     536365     84406B       cream cupid hearts coat hanger         8   \n",
       "3     536365     84029G  knitted union flag hot water bottle         6   \n",
       "4     536365     84029E       red woolly hottie white heart.         6   \n",
       "\n",
       "         invoice_date  unit_price customer_id  \n",
       "0 2018-11-29 08:26:00        2.55     17856.0  \n",
       "1 2018-11-29 08:26:00        3.39     17856.0  \n",
       "2 2018-11-29 08:26:00        2.75     17856.0  \n",
       "3 2018-11-29 08:26:00        3.39     17856.0  \n",
       "4 2018-11-29 08:26:00        3.39     17856.0  "
      ]
     },
     "execution_count": 41,
     "metadata": {},
     "output_type": "execute_result"
    }
   ],
   "source": [
    "# Keeping only `stock_code` entries that have five to six characters\n",
    "clean_data = data[data.stock_code.apply(lambda x: 5 <= len(x) <= 6)]\n",
    "clean_data.head()"
   ]
  },
  {
   "cell_type": "markdown",
   "id": "liberal-pharmaceutical",
   "metadata": {},
   "source": [
    "Some more steps are required to clean the negative values in the `quantity` columns. We noticed that most entries with negative values have the `C` prefix in the `invoice_no` column."
   ]
  },
  {
   "cell_type": "code",
   "execution_count": 42,
   "id": "postal-difference",
   "metadata": {},
   "outputs": [
    {
     "data": {
      "text/html": [
       "<div>\n",
       "<style scoped>\n",
       "    .dataframe tbody tr th:only-of-type {\n",
       "        vertical-align: middle;\n",
       "    }\n",
       "\n",
       "    .dataframe tbody tr th {\n",
       "        vertical-align: top;\n",
       "    }\n",
       "\n",
       "    .dataframe thead th {\n",
       "        text-align: right;\n",
       "    }\n",
       "</style>\n",
       "<table border=\"1\" class=\"dataframe\">\n",
       "  <thead>\n",
       "    <tr style=\"text-align: right;\">\n",
       "      <th></th>\n",
       "      <th>invoice_no</th>\n",
       "      <th>stock_code</th>\n",
       "      <th>description</th>\n",
       "      <th>quantity</th>\n",
       "      <th>invoice_date</th>\n",
       "      <th>unit_price</th>\n",
       "      <th>customer_id</th>\n",
       "    </tr>\n",
       "  </thead>\n",
       "  <tbody>\n",
       "    <tr>\n",
       "      <th>154</th>\n",
       "      <td>C536383</td>\n",
       "      <td>35004C</td>\n",
       "      <td>set of 3 coloured  flying ducks</td>\n",
       "      <td>-1</td>\n",
       "      <td>2018-11-29 09:49:00</td>\n",
       "      <td>4.65</td>\n",
       "      <td>15312.0</td>\n",
       "    </tr>\n",
       "    <tr>\n",
       "      <th>235</th>\n",
       "      <td>C536391</td>\n",
       "      <td>22556</td>\n",
       "      <td>plasters in tin circus parade</td>\n",
       "      <td>-12</td>\n",
       "      <td>2018-11-29 10:24:00</td>\n",
       "      <td>1.65</td>\n",
       "      <td>17552.0</td>\n",
       "    </tr>\n",
       "    <tr>\n",
       "      <th>236</th>\n",
       "      <td>C536391</td>\n",
       "      <td>21984</td>\n",
       "      <td>pack of 12 pink paisley tissues</td>\n",
       "      <td>-24</td>\n",
       "      <td>2018-11-29 10:24:00</td>\n",
       "      <td>0.29</td>\n",
       "      <td>17552.0</td>\n",
       "    </tr>\n",
       "    <tr>\n",
       "      <th>237</th>\n",
       "      <td>C536391</td>\n",
       "      <td>21983</td>\n",
       "      <td>pack of 12 blue paisley tissues</td>\n",
       "      <td>-24</td>\n",
       "      <td>2018-11-29 10:24:00</td>\n",
       "      <td>0.29</td>\n",
       "      <td>17552.0</td>\n",
       "    </tr>\n",
       "    <tr>\n",
       "      <th>238</th>\n",
       "      <td>C536391</td>\n",
       "      <td>21980</td>\n",
       "      <td>pack of 12 red retrospot tissues</td>\n",
       "      <td>-24</td>\n",
       "      <td>2018-11-29 10:24:00</td>\n",
       "      <td>0.29</td>\n",
       "      <td>17552.0</td>\n",
       "    </tr>\n",
       "  </tbody>\n",
       "</table>\n",
       "</div>"
      ],
      "text/plain": [
       "    invoice_no stock_code                        description  quantity  \\\n",
       "154    C536383     35004C    set of 3 coloured  flying ducks        -1   \n",
       "235    C536391      22556     plasters in tin circus parade        -12   \n",
       "236    C536391      21984   pack of 12 pink paisley tissues        -24   \n",
       "237    C536391      21983   pack of 12 blue paisley tissues        -24   \n",
       "238    C536391      21980  pack of 12 red retrospot tissues        -24   \n",
       "\n",
       "           invoice_date  unit_price customer_id  \n",
       "154 2018-11-29 09:49:00        4.65     15312.0  \n",
       "235 2018-11-29 10:24:00        1.65     17552.0  \n",
       "236 2018-11-29 10:24:00        0.29     17552.0  \n",
       "237 2018-11-29 10:24:00        0.29     17552.0  \n",
       "238 2018-11-29 10:24:00        0.29     17552.0  "
      ]
     },
     "execution_count": 42,
     "metadata": {},
     "output_type": "execute_result"
    }
   ],
   "source": [
    "# Showing the rows in the `quantity` column with negative values\n",
    "clean_data.query('quantity < 0').head()"
   ]
  },
  {
   "cell_type": "markdown",
   "id": "approximate-portuguese",
   "metadata": {},
   "source": [
    "To investigate further, we make a new column to mark the `invoice_no` column entries that begin with the `C` prefix,"
   ]
  },
  {
   "cell_type": "code",
   "execution_count": 43,
   "id": "correct-regular",
   "metadata": {},
   "outputs": [
    {
     "data": {
      "text/html": [
       "<div>\n",
       "<style scoped>\n",
       "    .dataframe tbody tr th:only-of-type {\n",
       "        vertical-align: middle;\n",
       "    }\n",
       "\n",
       "    .dataframe tbody tr th {\n",
       "        vertical-align: top;\n",
       "    }\n",
       "\n",
       "    .dataframe thead th {\n",
       "        text-align: right;\n",
       "    }\n",
       "</style>\n",
       "<table border=\"1\" class=\"dataframe\">\n",
       "  <thead>\n",
       "    <tr style=\"text-align: right;\">\n",
       "      <th></th>\n",
       "      <th>invoice_no</th>\n",
       "      <th>stock_code</th>\n",
       "      <th>description</th>\n",
       "      <th>quantity</th>\n",
       "      <th>invoice_date</th>\n",
       "      <th>unit_price</th>\n",
       "      <th>customer_id</th>\n",
       "      <th>is_alpha</th>\n",
       "    </tr>\n",
       "  </thead>\n",
       "  <tbody>\n",
       "    <tr>\n",
       "      <th>0</th>\n",
       "      <td>536365</td>\n",
       "      <td>85123A</td>\n",
       "      <td>white hanging heart t-light holder</td>\n",
       "      <td>6</td>\n",
       "      <td>2018-11-29 08:26:00</td>\n",
       "      <td>2.55</td>\n",
       "      <td>17856.0</td>\n",
       "      <td>False</td>\n",
       "    </tr>\n",
       "    <tr>\n",
       "      <th>1</th>\n",
       "      <td>536365</td>\n",
       "      <td>71053</td>\n",
       "      <td>white metal lantern</td>\n",
       "      <td>6</td>\n",
       "      <td>2018-11-29 08:26:00</td>\n",
       "      <td>3.39</td>\n",
       "      <td>17856.0</td>\n",
       "      <td>False</td>\n",
       "    </tr>\n",
       "    <tr>\n",
       "      <th>2</th>\n",
       "      <td>536365</td>\n",
       "      <td>84406B</td>\n",
       "      <td>cream cupid hearts coat hanger</td>\n",
       "      <td>8</td>\n",
       "      <td>2018-11-29 08:26:00</td>\n",
       "      <td>2.75</td>\n",
       "      <td>17856.0</td>\n",
       "      <td>False</td>\n",
       "    </tr>\n",
       "    <tr>\n",
       "      <th>3</th>\n",
       "      <td>536365</td>\n",
       "      <td>84029G</td>\n",
       "      <td>knitted union flag hot water bottle</td>\n",
       "      <td>6</td>\n",
       "      <td>2018-11-29 08:26:00</td>\n",
       "      <td>3.39</td>\n",
       "      <td>17856.0</td>\n",
       "      <td>False</td>\n",
       "    </tr>\n",
       "    <tr>\n",
       "      <th>4</th>\n",
       "      <td>536365</td>\n",
       "      <td>84029E</td>\n",
       "      <td>red woolly hottie white heart.</td>\n",
       "      <td>6</td>\n",
       "      <td>2018-11-29 08:26:00</td>\n",
       "      <td>3.39</td>\n",
       "      <td>17856.0</td>\n",
       "      <td>False</td>\n",
       "    </tr>\n",
       "  </tbody>\n",
       "</table>\n",
       "</div>"
      ],
      "text/plain": [
       "  invoice_no stock_code                          description  quantity  \\\n",
       "0     536365     85123A   white hanging heart t-light holder         6   \n",
       "1     536365      71053                  white metal lantern         6   \n",
       "2     536365     84406B       cream cupid hearts coat hanger         8   \n",
       "3     536365     84029G  knitted union flag hot water bottle         6   \n",
       "4     536365     84029E       red woolly hottie white heart.         6   \n",
       "\n",
       "         invoice_date  unit_price customer_id is_alpha  \n",
       "0 2018-11-29 08:26:00        2.55     17856.0    False  \n",
       "1 2018-11-29 08:26:00        3.39     17856.0    False  \n",
       "2 2018-11-29 08:26:00        2.75     17856.0    False  \n",
       "3 2018-11-29 08:26:00        3.39     17856.0    False  \n",
       "4 2018-11-29 08:26:00        3.39     17856.0    False  "
      ]
     },
     "execution_count": 43,
     "metadata": {},
     "output_type": "execute_result"
    }
   ],
   "source": [
    "# Making a boolean column to find invoice_no that begins with C\n",
    "clean_data['is_alpha'] = clean_data['invoice_no'].apply(lambda x: x[0].isalpha())\n",
    "clean_data.head()"
   ]
  },
  {
   "cell_type": "markdown",
   "id": "constitutional-thomson",
   "metadata": {},
   "source": [
    "Now we can confirm that all rows with negative value have `invoice_no` with the prefix `C`,"
   ]
  },
  {
   "cell_type": "code",
   "execution_count": 44,
   "id": "abroad-intermediate",
   "metadata": {},
   "outputs": [
    {
     "data": {
      "text/plain": [
       "True"
      ]
     },
     "execution_count": 44,
     "metadata": {},
     "output_type": "execute_result"
    }
   ],
   "source": [
    "# Comparing the length of rows with the prefic 'C' and the row having the prefix 'C' and negative values\n",
    "len(clean_data.query('is_alpha == True')) == len(clean_data.query('is_alpha == True and quantity < 0'))"
   ]
  },
  {
   "cell_type": "markdown",
   "id": "joint-stuff",
   "metadata": {},
   "source": [
    "Moreover, no entries with a `C` prefix in the `invoice_no` column have positive values in the `quantity` column."
   ]
  },
  {
   "cell_type": "code",
   "execution_count": 45,
   "id": "authentic-discrimination",
   "metadata": {},
   "outputs": [
    {
     "data": {
      "text/plain": [
       "invoice_no      0.0\n",
       "stock_code      0.0\n",
       "description     0.0\n",
       "quantity        0.0\n",
       "invoice_date    0.0\n",
       "unit_price      0.0\n",
       "customer_id     0.0\n",
       "is_alpha        0.0\n",
       "dtype: float64"
      ]
     },
     "execution_count": 45,
     "metadata": {},
     "output_type": "execute_result"
    }
   ],
   "source": [
    "# Checking the rows of the `invoice_no` column that begin with `C` prefi that also have positive values\n",
    "clean_data.query('is_alpha == True and quantity > 0').isna().sum()"
   ]
  },
  {
   "cell_type": "markdown",
   "id": "verified-folks",
   "metadata": {},
   "source": [
    "Based on these findings, we can remove from the dataframe all rows that have `invoice_no` that begins with `C`."
   ]
  },
  {
   "cell_type": "code",
   "execution_count": 46,
   "id": "gothic-importance",
   "metadata": {},
   "outputs": [
    {
     "data": {
      "text/html": [
       "<div>\n",
       "<style scoped>\n",
       "    .dataframe tbody tr th:only-of-type {\n",
       "        vertical-align: middle;\n",
       "    }\n",
       "\n",
       "    .dataframe tbody tr th {\n",
       "        vertical-align: top;\n",
       "    }\n",
       "\n",
       "    .dataframe thead th {\n",
       "        text-align: right;\n",
       "    }\n",
       "</style>\n",
       "<table border=\"1\" class=\"dataframe\">\n",
       "  <thead>\n",
       "    <tr style=\"text-align: right;\">\n",
       "      <th></th>\n",
       "      <th>invoice_no</th>\n",
       "      <th>stock_code</th>\n",
       "      <th>description</th>\n",
       "      <th>quantity</th>\n",
       "      <th>invoice_date</th>\n",
       "      <th>unit_price</th>\n",
       "      <th>customer_id</th>\n",
       "      <th>is_alpha</th>\n",
       "    </tr>\n",
       "  </thead>\n",
       "  <tbody>\n",
       "    <tr>\n",
       "      <th>0</th>\n",
       "      <td>536365</td>\n",
       "      <td>85123A</td>\n",
       "      <td>white hanging heart t-light holder</td>\n",
       "      <td>6</td>\n",
       "      <td>2018-11-29 08:26:00</td>\n",
       "      <td>2.55</td>\n",
       "      <td>17856.0</td>\n",
       "      <td>False</td>\n",
       "    </tr>\n",
       "    <tr>\n",
       "      <th>1</th>\n",
       "      <td>536365</td>\n",
       "      <td>71053</td>\n",
       "      <td>white metal lantern</td>\n",
       "      <td>6</td>\n",
       "      <td>2018-11-29 08:26:00</td>\n",
       "      <td>3.39</td>\n",
       "      <td>17856.0</td>\n",
       "      <td>False</td>\n",
       "    </tr>\n",
       "    <tr>\n",
       "      <th>2</th>\n",
       "      <td>536365</td>\n",
       "      <td>84406B</td>\n",
       "      <td>cream cupid hearts coat hanger</td>\n",
       "      <td>8</td>\n",
       "      <td>2018-11-29 08:26:00</td>\n",
       "      <td>2.75</td>\n",
       "      <td>17856.0</td>\n",
       "      <td>False</td>\n",
       "    </tr>\n",
       "    <tr>\n",
       "      <th>3</th>\n",
       "      <td>536365</td>\n",
       "      <td>84029G</td>\n",
       "      <td>knitted union flag hot water bottle</td>\n",
       "      <td>6</td>\n",
       "      <td>2018-11-29 08:26:00</td>\n",
       "      <td>3.39</td>\n",
       "      <td>17856.0</td>\n",
       "      <td>False</td>\n",
       "    </tr>\n",
       "    <tr>\n",
       "      <th>4</th>\n",
       "      <td>536365</td>\n",
       "      <td>84029E</td>\n",
       "      <td>red woolly hottie white heart.</td>\n",
       "      <td>6</td>\n",
       "      <td>2018-11-29 08:26:00</td>\n",
       "      <td>3.39</td>\n",
       "      <td>17856.0</td>\n",
       "      <td>False</td>\n",
       "    </tr>\n",
       "  </tbody>\n",
       "</table>\n",
       "</div>"
      ],
      "text/plain": [
       "  invoice_no stock_code                          description  quantity  \\\n",
       "0     536365     85123A   white hanging heart t-light holder         6   \n",
       "1     536365      71053                  white metal lantern         6   \n",
       "2     536365     84406B       cream cupid hearts coat hanger         8   \n",
       "3     536365     84029G  knitted union flag hot water bottle         6   \n",
       "4     536365     84029E       red woolly hottie white heart.         6   \n",
       "\n",
       "         invoice_date  unit_price customer_id is_alpha  \n",
       "0 2018-11-29 08:26:00        2.55     17856.0    False  \n",
       "1 2018-11-29 08:26:00        3.39     17856.0    False  \n",
       "2 2018-11-29 08:26:00        2.75     17856.0    False  \n",
       "3 2018-11-29 08:26:00        3.39     17856.0    False  \n",
       "4 2018-11-29 08:26:00        3.39     17856.0    False  "
      ]
     },
     "execution_count": 46,
     "metadata": {},
     "output_type": "execute_result"
    }
   ],
   "source": [
    "# Keeping only rows that have no `C` prefix\n",
    "clean_data = clean_data.query(\"is_alpha == False\")\n",
    "clean_data.head()"
   ]
  },
  {
   "cell_type": "code",
   "execution_count": 47,
   "id": "adjusted-airplane",
   "metadata": {},
   "outputs": [
    {
     "data": {
      "text/plain": [
       "False    524599\n",
       "Name: is_alpha, dtype: int64"
      ]
     },
     "execution_count": 47,
     "metadata": {},
     "output_type": "execute_result"
    }
   ],
   "source": [
    "clean_data['is_alpha'].value_counts()"
   ]
  },
  {
   "cell_type": "code",
   "execution_count": 48,
   "id": "emerging-nerve",
   "metadata": {},
   "outputs": [
    {
     "name": "stdout",
     "output_type": "stream",
     "text": [
      "<class 'pandas.core.frame.DataFrame'>\n",
      "Int64Index: 524599 entries, 0 to 541908\n",
      "Data columns (total 8 columns):\n",
      " #   Column        Non-Null Count   Dtype         \n",
      "---  ------        --------------   -----         \n",
      " 0   invoice_no    524599 non-null  category      \n",
      " 1   stock_code    524599 non-null  category      \n",
      " 2   description   524599 non-null  object        \n",
      " 3   quantity      524599 non-null  int32         \n",
      " 4   invoice_date  524599 non-null  datetime64[ns]\n",
      " 5   unit_price    524599 non-null  float32       \n",
      " 6   customer_id   524599 non-null  object        \n",
      " 7   is_alpha      524599 non-null  object        \n",
      "dtypes: category(2), datetime64[ns](1), float32(1), int32(1), object(3)\n",
      "memory usage: 94.9 MB\n"
     ]
    }
   ],
   "source": [
    "clean_data.info(memory_usage='deep')"
   ]
  },
  {
   "cell_type": "markdown",
   "id": "typical-bedroom",
   "metadata": {},
   "source": [
    "The new dataframe `clean_data` still keep almost 98% of the original data,"
   ]
  },
  {
   "cell_type": "code",
   "execution_count": 49,
   "id": "alleged-following",
   "metadata": {},
   "outputs": [
    {
     "name": "stdout",
     "output_type": "stream",
     "text": [
      "The ratio of the `clean_data` from the original `data`: 97.8%\n"
     ]
    }
   ],
   "source": [
    "print('The ratio of the `clean_data` from the original `data`: {:.1%}'.format(len(clean_data)/len(data)))"
   ]
  },
  {
   "cell_type": "markdown",
   "id": "animal-childhood",
   "metadata": {},
   "source": [
    "If we look back at the statistical summaries again, there are still entries with a negative value in the `quantity` columns."
   ]
  },
  {
   "cell_type": "code",
   "execution_count": 50,
   "id": "former-presence",
   "metadata": {},
   "outputs": [
    {
     "data": {
      "text/html": [
       "<div>\n",
       "<style scoped>\n",
       "    .dataframe tbody tr th:only-of-type {\n",
       "        vertical-align: middle;\n",
       "    }\n",
       "\n",
       "    .dataframe tbody tr th {\n",
       "        vertical-align: top;\n",
       "    }\n",
       "\n",
       "    .dataframe thead th {\n",
       "        text-align: right;\n",
       "    }\n",
       "</style>\n",
       "<table border=\"1\" class=\"dataframe\">\n",
       "  <thead>\n",
       "    <tr style=\"text-align: right;\">\n",
       "      <th></th>\n",
       "      <th>invoice_no</th>\n",
       "      <th>stock_code</th>\n",
       "      <th>description</th>\n",
       "      <th>quantity</th>\n",
       "      <th>invoice_date</th>\n",
       "      <th>unit_price</th>\n",
       "      <th>customer_id</th>\n",
       "      <th>is_alpha</th>\n",
       "    </tr>\n",
       "  </thead>\n",
       "  <tbody>\n",
       "    <tr>\n",
       "      <th>count</th>\n",
       "      <td>524599</td>\n",
       "      <td>524599</td>\n",
       "      <td>524599</td>\n",
       "      <td>524599.000000</td>\n",
       "      <td>524599</td>\n",
       "      <td>524599.000000</td>\n",
       "      <td>524599.0</td>\n",
       "      <td>524599</td>\n",
       "    </tr>\n",
       "    <tr>\n",
       "      <th>unique</th>\n",
       "      <td>21858</td>\n",
       "      <td>4024</td>\n",
       "      <td>4172</td>\n",
       "      <td>NaN</td>\n",
       "      <td>19818</td>\n",
       "      <td>NaN</td>\n",
       "      <td>4079.0</td>\n",
       "      <td>1</td>\n",
       "    </tr>\n",
       "    <tr>\n",
       "      <th>top</th>\n",
       "      <td>573585</td>\n",
       "      <td>85123A</td>\n",
       "      <td>white hanging heart t-light holder</td>\n",
       "      <td>NaN</td>\n",
       "      <td>2019-10-29 14:41:00</td>\n",
       "      <td>NaN</td>\n",
       "      <td>17840.0</td>\n",
       "      <td>False</td>\n",
       "    </tr>\n",
       "    <tr>\n",
       "      <th>freq</th>\n",
       "      <td>1111</td>\n",
       "      <td>2259</td>\n",
       "      <td>2315</td>\n",
       "      <td>NaN</td>\n",
       "      <td>1111</td>\n",
       "      <td>NaN</td>\n",
       "      <td>8115.0</td>\n",
       "      <td>524599</td>\n",
       "    </tr>\n",
       "    <tr>\n",
       "      <th>first</th>\n",
       "      <td>NaN</td>\n",
       "      <td>NaN</td>\n",
       "      <td>NaN</td>\n",
       "      <td>NaN</td>\n",
       "      <td>2018-11-29 08:26:00</td>\n",
       "      <td>NaN</td>\n",
       "      <td>NaN</td>\n",
       "      <td>NaN</td>\n",
       "    </tr>\n",
       "    <tr>\n",
       "      <th>last</th>\n",
       "      <td>NaN</td>\n",
       "      <td>NaN</td>\n",
       "      <td>NaN</td>\n",
       "      <td>NaN</td>\n",
       "      <td>2019-12-07 12:50:00</td>\n",
       "      <td>NaN</td>\n",
       "      <td>NaN</td>\n",
       "      <td>NaN</td>\n",
       "    </tr>\n",
       "    <tr>\n",
       "      <th>mean</th>\n",
       "      <td>NaN</td>\n",
       "      <td>NaN</td>\n",
       "      <td>NaN</td>\n",
       "      <td>10.337887</td>\n",
       "      <td>NaN</td>\n",
       "      <td>3.255408</td>\n",
       "      <td>NaN</td>\n",
       "      <td>NaN</td>\n",
       "    </tr>\n",
       "    <tr>\n",
       "      <th>std</th>\n",
       "      <td>NaN</td>\n",
       "      <td>NaN</td>\n",
       "      <td>NaN</td>\n",
       "      <td>160.687127</td>\n",
       "      <td>NaN</td>\n",
       "      <td>4.388006</td>\n",
       "      <td>NaN</td>\n",
       "      <td>NaN</td>\n",
       "    </tr>\n",
       "    <tr>\n",
       "      <th>min</th>\n",
       "      <td>NaN</td>\n",
       "      <td>NaN</td>\n",
       "      <td>NaN</td>\n",
       "      <td>-9600.000000</td>\n",
       "      <td>NaN</td>\n",
       "      <td>0.000000</td>\n",
       "      <td>NaN</td>\n",
       "      <td>NaN</td>\n",
       "    </tr>\n",
       "    <tr>\n",
       "      <th>25%</th>\n",
       "      <td>NaN</td>\n",
       "      <td>NaN</td>\n",
       "      <td>NaN</td>\n",
       "      <td>1.000000</td>\n",
       "      <td>NaN</td>\n",
       "      <td>1.250000</td>\n",
       "      <td>NaN</td>\n",
       "      <td>NaN</td>\n",
       "    </tr>\n",
       "    <tr>\n",
       "      <th>50%</th>\n",
       "      <td>NaN</td>\n",
       "      <td>NaN</td>\n",
       "      <td>NaN</td>\n",
       "      <td>4.000000</td>\n",
       "      <td>NaN</td>\n",
       "      <td>2.080000</td>\n",
       "      <td>NaN</td>\n",
       "      <td>NaN</td>\n",
       "    </tr>\n",
       "    <tr>\n",
       "      <th>75%</th>\n",
       "      <td>NaN</td>\n",
       "      <td>NaN</td>\n",
       "      <td>NaN</td>\n",
       "      <td>12.000000</td>\n",
       "      <td>NaN</td>\n",
       "      <td>4.130000</td>\n",
       "      <td>NaN</td>\n",
       "      <td>NaN</td>\n",
       "    </tr>\n",
       "    <tr>\n",
       "      <th>max</th>\n",
       "      <td>NaN</td>\n",
       "      <td>NaN</td>\n",
       "      <td>NaN</td>\n",
       "      <td>80995.000000</td>\n",
       "      <td>NaN</td>\n",
       "      <td>649.500000</td>\n",
       "      <td>NaN</td>\n",
       "      <td>NaN</td>\n",
       "    </tr>\n",
       "  </tbody>\n",
       "</table>\n",
       "</div>"
      ],
      "text/plain": [
       "       invoice_no stock_code                         description  \\\n",
       "count      524599     524599                              524599   \n",
       "unique      21858       4024                                4172   \n",
       "top        573585     85123A  white hanging heart t-light holder   \n",
       "freq         1111       2259                                2315   \n",
       "first         NaN        NaN                                 NaN   \n",
       "last          NaN        NaN                                 NaN   \n",
       "mean          NaN        NaN                                 NaN   \n",
       "std           NaN        NaN                                 NaN   \n",
       "min           NaN        NaN                                 NaN   \n",
       "25%           NaN        NaN                                 NaN   \n",
       "50%           NaN        NaN                                 NaN   \n",
       "75%           NaN        NaN                                 NaN   \n",
       "max           NaN        NaN                                 NaN   \n",
       "\n",
       "             quantity         invoice_date     unit_price  customer_id  \\\n",
       "count   524599.000000               524599  524599.000000     524599.0   \n",
       "unique            NaN                19818            NaN       4079.0   \n",
       "top               NaN  2019-10-29 14:41:00            NaN      17840.0   \n",
       "freq              NaN                 1111            NaN       8115.0   \n",
       "first             NaN  2018-11-29 08:26:00            NaN          NaN   \n",
       "last              NaN  2019-12-07 12:50:00            NaN          NaN   \n",
       "mean        10.337887                  NaN       3.255408          NaN   \n",
       "std        160.687127                  NaN       4.388006          NaN   \n",
       "min      -9600.000000                  NaN       0.000000          NaN   \n",
       "25%          1.000000                  NaN       1.250000          NaN   \n",
       "50%          4.000000                  NaN       2.080000          NaN   \n",
       "75%         12.000000                  NaN       4.130000          NaN   \n",
       "max      80995.000000                  NaN     649.500000          NaN   \n",
       "\n",
       "       is_alpha  \n",
       "count    524599  \n",
       "unique        1  \n",
       "top       False  \n",
       "freq     524599  \n",
       "first       NaN  \n",
       "last        NaN  \n",
       "mean        NaN  \n",
       "std         NaN  \n",
       "min         NaN  \n",
       "25%         NaN  \n",
       "50%         NaN  \n",
       "75%         NaN  \n",
       "max         NaN  "
      ]
     },
     "execution_count": 50,
     "metadata": {},
     "output_type": "execute_result"
    }
   ],
   "source": [
    "# Showing the statistical summary\n",
    "clean_data.describe(include='all')"
   ]
  },
  {
   "cell_type": "markdown",
   "id": "approximate-bible",
   "metadata": {},
   "source": [
    "However, if we look closely that these remaining columns all have `unit_price` equal to zero,"
   ]
  },
  {
   "cell_type": "code",
   "execution_count": 51,
   "id": "atomic-citation",
   "metadata": {},
   "outputs": [
    {
     "data": {
      "text/html": [
       "<div>\n",
       "<style scoped>\n",
       "    .dataframe tbody tr th:only-of-type {\n",
       "        vertical-align: middle;\n",
       "    }\n",
       "\n",
       "    .dataframe tbody tr th {\n",
       "        vertical-align: top;\n",
       "    }\n",
       "\n",
       "    .dataframe thead th {\n",
       "        text-align: right;\n",
       "    }\n",
       "</style>\n",
       "<table border=\"1\" class=\"dataframe\">\n",
       "  <thead>\n",
       "    <tr style=\"text-align: right;\">\n",
       "      <th></th>\n",
       "      <th>invoice_no</th>\n",
       "      <th>stock_code</th>\n",
       "      <th>description</th>\n",
       "      <th>quantity</th>\n",
       "      <th>invoice_date</th>\n",
       "      <th>unit_price</th>\n",
       "      <th>customer_id</th>\n",
       "      <th>is_alpha</th>\n",
       "    </tr>\n",
       "  </thead>\n",
       "  <tbody>\n",
       "    <tr>\n",
       "      <th>2406</th>\n",
       "      <td>536589</td>\n",
       "      <td>21777</td>\n",
       "      <td>recipe box with metal heart</td>\n",
       "      <td>-10</td>\n",
       "      <td>2018-11-29 16:50:00</td>\n",
       "      <td>0.0</td>\n",
       "      <td>X536589</td>\n",
       "      <td>False</td>\n",
       "    </tr>\n",
       "    <tr>\n",
       "      <th>4347</th>\n",
       "      <td>536764</td>\n",
       "      <td>84952C</td>\n",
       "      <td>mirror love bird t-light holder</td>\n",
       "      <td>-38</td>\n",
       "      <td>2018-11-30 14:42:00</td>\n",
       "      <td>0.0</td>\n",
       "      <td>X536764</td>\n",
       "      <td>False</td>\n",
       "    </tr>\n",
       "    <tr>\n",
       "      <th>7188</th>\n",
       "      <td>536996</td>\n",
       "      <td>22712</td>\n",
       "      <td>card dolly girl</td>\n",
       "      <td>-20</td>\n",
       "      <td>2018-12-01 15:30:00</td>\n",
       "      <td>0.0</td>\n",
       "      <td>X536996</td>\n",
       "      <td>False</td>\n",
       "    </tr>\n",
       "    <tr>\n",
       "      <th>7189</th>\n",
       "      <td>536997</td>\n",
       "      <td>22028</td>\n",
       "      <td>penny farthing birthday card</td>\n",
       "      <td>-20</td>\n",
       "      <td>2018-12-01 15:30:00</td>\n",
       "      <td>0.0</td>\n",
       "      <td>X536997</td>\n",
       "      <td>False</td>\n",
       "    </tr>\n",
       "    <tr>\n",
       "      <th>7190</th>\n",
       "      <td>536998</td>\n",
       "      <td>85067</td>\n",
       "      <td>cream sweetheart wall cabinet</td>\n",
       "      <td>-6</td>\n",
       "      <td>2018-12-01 15:30:00</td>\n",
       "      <td>0.0</td>\n",
       "      <td>X536998</td>\n",
       "      <td>False</td>\n",
       "    </tr>\n",
       "  </tbody>\n",
       "</table>\n",
       "</div>"
      ],
      "text/plain": [
       "     invoice_no stock_code                      description  quantity  \\\n",
       "2406     536589      21777      recipe box with metal heart       -10   \n",
       "4347     536764     84952C  mirror love bird t-light holder       -38   \n",
       "7188     536996      22712                 card dolly girl        -20   \n",
       "7189     536997      22028     penny farthing birthday card       -20   \n",
       "7190     536998      85067    cream sweetheart wall cabinet        -6   \n",
       "\n",
       "            invoice_date  unit_price customer_id is_alpha  \n",
       "2406 2018-11-29 16:50:00         0.0     X536589    False  \n",
       "4347 2018-11-30 14:42:00         0.0     X536764    False  \n",
       "7188 2018-12-01 15:30:00         0.0     X536996    False  \n",
       "7189 2018-12-01 15:30:00         0.0     X536997    False  \n",
       "7190 2018-12-01 15:30:00         0.0     X536998    False  "
      ]
     },
     "execution_count": 51,
     "metadata": {},
     "output_type": "execute_result"
    }
   ],
   "source": [
    "# Showing the rows of the `quantity` column with negative values\n",
    "clean_data.query('quantity < 0').head()"
   ]
  },
  {
   "cell_type": "code",
   "execution_count": 52,
   "id": "weird-fusion",
   "metadata": {},
   "outputs": [
    {
     "data": {
      "text/plain": [
       "0.0    1322\n",
       "Name: unit_price, dtype: int64"
      ]
     },
     "execution_count": 52,
     "metadata": {},
     "output_type": "execute_result"
    }
   ],
   "source": [
    "# Showing the values in the `unit_price` where the `quantity` coulmn have negative values\n",
    "clean_data.query('quantity < 0')['unit_price'].value_counts()"
   ]
  },
  {
   "cell_type": "markdown",
   "id": "sacred-lincoln",
   "metadata": {},
   "source": [
    "In short, the remaining rows with negative values in the `quantity` column did not directly contribute to the sales statistic since their unit price is zero. Consequently, we can remove these rows from the dataframe,"
   ]
  },
  {
   "cell_type": "code",
   "execution_count": 53,
   "id": "acquired-aberdeen",
   "metadata": {},
   "outputs": [
    {
     "data": {
      "text/html": [
       "<div>\n",
       "<style scoped>\n",
       "    .dataframe tbody tr th:only-of-type {\n",
       "        vertical-align: middle;\n",
       "    }\n",
       "\n",
       "    .dataframe tbody tr th {\n",
       "        vertical-align: top;\n",
       "    }\n",
       "\n",
       "    .dataframe thead th {\n",
       "        text-align: right;\n",
       "    }\n",
       "</style>\n",
       "<table border=\"1\" class=\"dataframe\">\n",
       "  <thead>\n",
       "    <tr style=\"text-align: right;\">\n",
       "      <th></th>\n",
       "      <th>invoice_no</th>\n",
       "      <th>stock_code</th>\n",
       "      <th>description</th>\n",
       "      <th>quantity</th>\n",
       "      <th>invoice_date</th>\n",
       "      <th>unit_price</th>\n",
       "      <th>customer_id</th>\n",
       "      <th>is_alpha</th>\n",
       "    </tr>\n",
       "  </thead>\n",
       "  <tbody>\n",
       "    <tr>\n",
       "      <th>0</th>\n",
       "      <td>536365</td>\n",
       "      <td>85123A</td>\n",
       "      <td>white hanging heart t-light holder</td>\n",
       "      <td>6</td>\n",
       "      <td>2018-11-29 08:26:00</td>\n",
       "      <td>2.55</td>\n",
       "      <td>17856.0</td>\n",
       "      <td>False</td>\n",
       "    </tr>\n",
       "    <tr>\n",
       "      <th>1</th>\n",
       "      <td>536365</td>\n",
       "      <td>71053</td>\n",
       "      <td>white metal lantern</td>\n",
       "      <td>6</td>\n",
       "      <td>2018-11-29 08:26:00</td>\n",
       "      <td>3.39</td>\n",
       "      <td>17856.0</td>\n",
       "      <td>False</td>\n",
       "    </tr>\n",
       "    <tr>\n",
       "      <th>2</th>\n",
       "      <td>536365</td>\n",
       "      <td>84406B</td>\n",
       "      <td>cream cupid hearts coat hanger</td>\n",
       "      <td>8</td>\n",
       "      <td>2018-11-29 08:26:00</td>\n",
       "      <td>2.75</td>\n",
       "      <td>17856.0</td>\n",
       "      <td>False</td>\n",
       "    </tr>\n",
       "    <tr>\n",
       "      <th>3</th>\n",
       "      <td>536365</td>\n",
       "      <td>84029G</td>\n",
       "      <td>knitted union flag hot water bottle</td>\n",
       "      <td>6</td>\n",
       "      <td>2018-11-29 08:26:00</td>\n",
       "      <td>3.39</td>\n",
       "      <td>17856.0</td>\n",
       "      <td>False</td>\n",
       "    </tr>\n",
       "    <tr>\n",
       "      <th>4</th>\n",
       "      <td>536365</td>\n",
       "      <td>84029E</td>\n",
       "      <td>red woolly hottie white heart.</td>\n",
       "      <td>6</td>\n",
       "      <td>2018-11-29 08:26:00</td>\n",
       "      <td>3.39</td>\n",
       "      <td>17856.0</td>\n",
       "      <td>False</td>\n",
       "    </tr>\n",
       "  </tbody>\n",
       "</table>\n",
       "</div>"
      ],
      "text/plain": [
       "  invoice_no stock_code                          description  quantity  \\\n",
       "0     536365     85123A   white hanging heart t-light holder         6   \n",
       "1     536365      71053                  white metal lantern         6   \n",
       "2     536365     84406B       cream cupid hearts coat hanger         8   \n",
       "3     536365     84029G  knitted union flag hot water bottle         6   \n",
       "4     536365     84029E       red woolly hottie white heart.         6   \n",
       "\n",
       "         invoice_date  unit_price customer_id is_alpha  \n",
       "0 2018-11-29 08:26:00        2.55     17856.0    False  \n",
       "1 2018-11-29 08:26:00        3.39     17856.0    False  \n",
       "2 2018-11-29 08:26:00        2.75     17856.0    False  \n",
       "3 2018-11-29 08:26:00        3.39     17856.0    False  \n",
       "4 2018-11-29 08:26:00        3.39     17856.0    False  "
      ]
     },
     "execution_count": 53,
     "metadata": {},
     "output_type": "execute_result"
    }
   ],
   "source": [
    "# Keeping only rows of the `quantity` column that have positive values\n",
    "clean_data = clean_data.query('quantity > 0')\n",
    "clean_data.head()"
   ]
  },
  {
   "cell_type": "markdown",
   "id": "sharing-insurance",
   "metadata": {},
   "source": [
    "Our last cleaning operation  still provide us with 97% of the original data. Therefore we can continue to the next steps with the newly created `clean_data` data."
   ]
  },
  {
   "cell_type": "code",
   "execution_count": 54,
   "id": "applied-instrument",
   "metadata": {},
   "outputs": [
    {
     "name": "stdout",
     "output_type": "stream",
     "text": [
      "The ratio of `clean_data` to the original `data` dataframe: 97.5%\n"
     ]
    }
   ],
   "source": [
    "print('The ratio of `clean_data` to the original `data` dataframe: {:.1%}'.format(len(clean_data)/len(data)))"
   ]
  },
  {
   "cell_type": "markdown",
   "id": "addressed-atlantic",
   "metadata": {},
   "source": [
    "### Cleaning the `stock_code` column <a class=\"anchor\" id=\"step_3_4\"></a>\n"
   ]
  },
  {
   "cell_type": "markdown",
   "id": "norwegian-horizon",
   "metadata": {},
   "source": [
    "The last cleaning operation we are going to do is to make sure that suffixes of entries in the `stock_code` column is in uppercase."
   ]
  },
  {
   "cell_type": "code",
   "execution_count": 55,
   "id": "proprietary-announcement",
   "metadata": {},
   "outputs": [],
   "source": [
    "clean_data['stock_code'] = clean_data['stock_code'].apply(lambda x: x.upper() if x[-1].isalpha() else x)"
   ]
  },
  {
   "cell_type": "code",
   "execution_count": 56,
   "id": "revised-discovery",
   "metadata": {},
   "outputs": [
    {
     "data": {
      "text/html": [
       "<div>\n",
       "<style scoped>\n",
       "    .dataframe tbody tr th:only-of-type {\n",
       "        vertical-align: middle;\n",
       "    }\n",
       "\n",
       "    .dataframe tbody tr th {\n",
       "        vertical-align: top;\n",
       "    }\n",
       "\n",
       "    .dataframe thead th {\n",
       "        text-align: right;\n",
       "    }\n",
       "</style>\n",
       "<table border=\"1\" class=\"dataframe\">\n",
       "  <thead>\n",
       "    <tr style=\"text-align: right;\">\n",
       "      <th></th>\n",
       "      <th>invoice_no</th>\n",
       "      <th>stock_code</th>\n",
       "      <th>description</th>\n",
       "      <th>quantity</th>\n",
       "      <th>invoice_date</th>\n",
       "      <th>unit_price</th>\n",
       "      <th>customer_id</th>\n",
       "      <th>is_alpha</th>\n",
       "    </tr>\n",
       "  </thead>\n",
       "  <tbody>\n",
       "    <tr>\n",
       "      <th>0</th>\n",
       "      <td>536365</td>\n",
       "      <td>85123A</td>\n",
       "      <td>white hanging heart t-light holder</td>\n",
       "      <td>6</td>\n",
       "      <td>2018-11-29 08:26:00</td>\n",
       "      <td>2.55</td>\n",
       "      <td>17856.0</td>\n",
       "      <td>False</td>\n",
       "    </tr>\n",
       "    <tr>\n",
       "      <th>1</th>\n",
       "      <td>536365</td>\n",
       "      <td>71053</td>\n",
       "      <td>white metal lantern</td>\n",
       "      <td>6</td>\n",
       "      <td>2018-11-29 08:26:00</td>\n",
       "      <td>3.39</td>\n",
       "      <td>17856.0</td>\n",
       "      <td>False</td>\n",
       "    </tr>\n",
       "    <tr>\n",
       "      <th>2</th>\n",
       "      <td>536365</td>\n",
       "      <td>84406B</td>\n",
       "      <td>cream cupid hearts coat hanger</td>\n",
       "      <td>8</td>\n",
       "      <td>2018-11-29 08:26:00</td>\n",
       "      <td>2.75</td>\n",
       "      <td>17856.0</td>\n",
       "      <td>False</td>\n",
       "    </tr>\n",
       "    <tr>\n",
       "      <th>3</th>\n",
       "      <td>536365</td>\n",
       "      <td>84029G</td>\n",
       "      <td>knitted union flag hot water bottle</td>\n",
       "      <td>6</td>\n",
       "      <td>2018-11-29 08:26:00</td>\n",
       "      <td>3.39</td>\n",
       "      <td>17856.0</td>\n",
       "      <td>False</td>\n",
       "    </tr>\n",
       "    <tr>\n",
       "      <th>4</th>\n",
       "      <td>536365</td>\n",
       "      <td>84029E</td>\n",
       "      <td>red woolly hottie white heart.</td>\n",
       "      <td>6</td>\n",
       "      <td>2018-11-29 08:26:00</td>\n",
       "      <td>3.39</td>\n",
       "      <td>17856.0</td>\n",
       "      <td>False</td>\n",
       "    </tr>\n",
       "  </tbody>\n",
       "</table>\n",
       "</div>"
      ],
      "text/plain": [
       "  invoice_no stock_code                          description  quantity  \\\n",
       "0     536365     85123A   white hanging heart t-light holder         6   \n",
       "1     536365      71053                  white metal lantern         6   \n",
       "2     536365     84406B       cream cupid hearts coat hanger         8   \n",
       "3     536365     84029G  knitted union flag hot water bottle         6   \n",
       "4     536365     84029E       red woolly hottie white heart.         6   \n",
       "\n",
       "         invoice_date  unit_price customer_id is_alpha  \n",
       "0 2018-11-29 08:26:00        2.55     17856.0    False  \n",
       "1 2018-11-29 08:26:00        3.39     17856.0    False  \n",
       "2 2018-11-29 08:26:00        2.75     17856.0    False  \n",
       "3 2018-11-29 08:26:00        3.39     17856.0    False  \n",
       "4 2018-11-29 08:26:00        3.39     17856.0    False  "
      ]
     },
     "execution_count": 56,
     "metadata": {},
     "output_type": "execute_result"
    }
   ],
   "source": [
    "clean_data.head()"
   ]
  },
  {
   "cell_type": "markdown",
   "id": "fourth-publicity",
   "metadata": {},
   "source": [
    "### Conclusion <a class=\"anchor\" id=\"conclusion_3\"></a>\n",
    "\n",
    "\n",
    "We have done numerous preprocessing steps to clean the data, including converting data types, reducing memory usage, filling in missing values, removing duplicated rows. We also performed exploration to handle the negative values in the `quantity columns. In the end, we have come up with a smaller dataset yet still maintaining 97.5% of data from the original dataset."
   ]
  },
  {
   "cell_type": "markdown",
   "id": "immune-entrepreneur",
   "metadata": {},
   "source": [
    "## Step 4: Calculating Sales Key Performance Indicators <a class=\"anchor\" id=\"step_4\"></a>\n"
   ]
  },
  {
   "cell_type": "markdown",
   "id": "personalized-tragedy",
   "metadata": {},
   "source": [
    "We arrive at the first part of the analysis. In this section, we will calculate several key performance indicators for the sales data. The indicators that we are interested in are:\n",
    "- Monthly Revenue\n",
    "- Percent Growth\n",
    "- Average Check\n",
    "- Average Revenue Per Paying Users (ARPPU)\n",
    "- Average Revenue Per Unit (ARPU)\n",
    "- Product Performance"
   ]
  },
  {
   "cell_type": "markdown",
   "id": "classified-titanium",
   "metadata": {},
   "source": [
    "### Monthly Revenue <a class=\"anchor\" id=\"step_4_1\"></a>\n"
   ]
  },
  {
   "cell_type": "markdown",
   "id": "boring-designer",
   "metadata": {},
   "source": [
    "Monthly Revenue is the amount of money that we made from the sales every month. We get the figure by multiplying the number of items sold on each invoice per month by the item's unit price. "
   ]
  },
  {
   "cell_type": "code",
   "execution_count": 57,
   "id": "charged-dispute",
   "metadata": {},
   "outputs": [
    {
     "data": {
      "text/html": [
       "<div>\n",
       "<style scoped>\n",
       "    .dataframe tbody tr th:only-of-type {\n",
       "        vertical-align: middle;\n",
       "    }\n",
       "\n",
       "    .dataframe tbody tr th {\n",
       "        vertical-align: top;\n",
       "    }\n",
       "\n",
       "    .dataframe thead th {\n",
       "        text-align: right;\n",
       "    }\n",
       "</style>\n",
       "<table border=\"1\" class=\"dataframe\">\n",
       "  <thead>\n",
       "    <tr style=\"text-align: right;\">\n",
       "      <th></th>\n",
       "      <th>invoice_no</th>\n",
       "      <th>stock_code</th>\n",
       "      <th>description</th>\n",
       "      <th>quantity</th>\n",
       "      <th>invoice_date</th>\n",
       "      <th>unit_price</th>\n",
       "      <th>customer_id</th>\n",
       "      <th>is_alpha</th>\n",
       "      <th>year</th>\n",
       "      <th>month</th>\n",
       "      <th>day</th>\n",
       "      <th>revenue</th>\n",
       "    </tr>\n",
       "  </thead>\n",
       "  <tbody>\n",
       "    <tr>\n",
       "      <th>0</th>\n",
       "      <td>536365</td>\n",
       "      <td>85123A</td>\n",
       "      <td>white hanging heart t-light holder</td>\n",
       "      <td>6</td>\n",
       "      <td>2018-11-29 08:26:00</td>\n",
       "      <td>2.55</td>\n",
       "      <td>17856.0</td>\n",
       "      <td>False</td>\n",
       "      <td>2018</td>\n",
       "      <td>11</td>\n",
       "      <td>29</td>\n",
       "      <td>15.299999</td>\n",
       "    </tr>\n",
       "    <tr>\n",
       "      <th>1</th>\n",
       "      <td>536365</td>\n",
       "      <td>71053</td>\n",
       "      <td>white metal lantern</td>\n",
       "      <td>6</td>\n",
       "      <td>2018-11-29 08:26:00</td>\n",
       "      <td>3.39</td>\n",
       "      <td>17856.0</td>\n",
       "      <td>False</td>\n",
       "      <td>2018</td>\n",
       "      <td>11</td>\n",
       "      <td>29</td>\n",
       "      <td>20.340000</td>\n",
       "    </tr>\n",
       "    <tr>\n",
       "      <th>2</th>\n",
       "      <td>536365</td>\n",
       "      <td>84406B</td>\n",
       "      <td>cream cupid hearts coat hanger</td>\n",
       "      <td>8</td>\n",
       "      <td>2018-11-29 08:26:00</td>\n",
       "      <td>2.75</td>\n",
       "      <td>17856.0</td>\n",
       "      <td>False</td>\n",
       "      <td>2018</td>\n",
       "      <td>11</td>\n",
       "      <td>29</td>\n",
       "      <td>22.000000</td>\n",
       "    </tr>\n",
       "  </tbody>\n",
       "</table>\n",
       "</div>"
      ],
      "text/plain": [
       "  invoice_no stock_code                         description  quantity  \\\n",
       "0     536365     85123A  white hanging heart t-light holder         6   \n",
       "1     536365      71053                 white metal lantern         6   \n",
       "2     536365     84406B      cream cupid hearts coat hanger         8   \n",
       "\n",
       "         invoice_date  unit_price customer_id is_alpha  year  month  day  \\\n",
       "0 2018-11-29 08:26:00        2.55     17856.0    False  2018     11   29   \n",
       "1 2018-11-29 08:26:00        3.39     17856.0    False  2018     11   29   \n",
       "2 2018-11-29 08:26:00        2.75     17856.0    False  2018     11   29   \n",
       "\n",
       "     revenue  \n",
       "0  15.299999  \n",
       "1  20.340000  \n",
       "2  22.000000  "
      ]
     },
     "execution_count": 57,
     "metadata": {},
     "output_type": "execute_result"
    }
   ],
   "source": [
    "### Extracting the year, month and day information from the `invoice_date` column\n",
    "clean_data['year'] = clean_data['invoice_date'].dt.year\n",
    "clean_data['month'] = clean_data['invoice_date'].dt.month\n",
    "clean_data['day'] = clean_data['invoice_date'].dt.day\n",
    "\n",
    "# Calculating the revenue\n",
    "clean_data.loc[:,'revenue'] = clean_data.loc[:,'quantity'] * clean_data.loc[:,'unit_price']\n",
    "clean_data.head(3)"
   ]
  },
  {
   "cell_type": "markdown",
   "id": "russian-processing",
   "metadata": {},
   "source": [
    "Summing the `revenue` by `['year', 'month']` to get the total revenue every month,"
   ]
  },
  {
   "cell_type": "code",
   "execution_count": 58,
   "id": "tribal-community",
   "metadata": {},
   "outputs": [
    {
     "data": {
      "text/html": [
       "<div>\n",
       "<style scoped>\n",
       "    .dataframe tbody tr th:only-of-type {\n",
       "        vertical-align: middle;\n",
       "    }\n",
       "\n",
       "    .dataframe tbody tr th {\n",
       "        vertical-align: top;\n",
       "    }\n",
       "\n",
       "    .dataframe thead th {\n",
       "        text-align: right;\n",
       "    }\n",
       "</style>\n",
       "<table border=\"1\" class=\"dataframe\">\n",
       "  <thead>\n",
       "    <tr style=\"text-align: right;\">\n",
       "      <th></th>\n",
       "      <th>year</th>\n",
       "      <th>month</th>\n",
       "      <th>revenue</th>\n",
       "      <th>invoice_date</th>\n",
       "      <th>label</th>\n",
       "    </tr>\n",
       "  </thead>\n",
       "  <tbody>\n",
       "    <tr>\n",
       "      <th>0</th>\n",
       "      <td>2018</td>\n",
       "      <td>11</td>\n",
       "      <td>1.047652e+05</td>\n",
       "      <td>2018-11-29 08:26:00</td>\n",
       "      <td>2018-11</td>\n",
       "    </tr>\n",
       "    <tr>\n",
       "      <th>1</th>\n",
       "      <td>2018</td>\n",
       "      <td>12</td>\n",
       "      <td>6.694826e+05</td>\n",
       "      <td>2018-12-01 09:31:00</td>\n",
       "      <td>2018-12</td>\n",
       "    </tr>\n",
       "    <tr>\n",
       "      <th>2</th>\n",
       "      <td>2019</td>\n",
       "      <td>1</td>\n",
       "      <td>7.175488e+05</td>\n",
       "      <td>2019-01-02 10:00:00</td>\n",
       "      <td>2019-01</td>\n",
       "    </tr>\n",
       "    <tr>\n",
       "      <th>3</th>\n",
       "      <td>2019</td>\n",
       "      <td>2</td>\n",
       "      <td>5.017269e+05</td>\n",
       "      <td>2019-02-01 08:18:00</td>\n",
       "      <td>2019-02</td>\n",
       "    </tr>\n",
       "    <tr>\n",
       "      <th>4</th>\n",
       "      <td>2019</td>\n",
       "      <td>3</td>\n",
       "      <td>6.707474e+05</td>\n",
       "      <td>2019-03-01 08:24:00</td>\n",
       "      <td>2019-03</td>\n",
       "    </tr>\n",
       "    <tr>\n",
       "      <th>5</th>\n",
       "      <td>2019</td>\n",
       "      <td>4</td>\n",
       "      <td>4.967570e+05</td>\n",
       "      <td>2019-04-01 10:10:00</td>\n",
       "      <td>2019-04</td>\n",
       "    </tr>\n",
       "    <tr>\n",
       "      <th>6</th>\n",
       "      <td>2019</td>\n",
       "      <td>5</td>\n",
       "      <td>7.835728e+05</td>\n",
       "      <td>2019-05-01 08:35:00</td>\n",
       "      <td>2019-05</td>\n",
       "    </tr>\n",
       "    <tr>\n",
       "      <th>7</th>\n",
       "      <td>2019</td>\n",
       "      <td>6</td>\n",
       "      <td>6.979084e+05</td>\n",
       "      <td>2019-06-01 07:48:00</td>\n",
       "      <td>2019-06</td>\n",
       "    </tr>\n",
       "    <tr>\n",
       "      <th>8</th>\n",
       "      <td>2019</td>\n",
       "      <td>7</td>\n",
       "      <td>7.193738e+05</td>\n",
       "      <td>2019-07-01 10:11:00</td>\n",
       "      <td>2019-07</td>\n",
       "    </tr>\n",
       "    <tr>\n",
       "      <th>9</th>\n",
       "      <td>2019</td>\n",
       "      <td>8</td>\n",
       "      <td>7.526335e+05</td>\n",
       "      <td>2019-08-01 08:21:00</td>\n",
       "      <td>2019-08</td>\n",
       "    </tr>\n",
       "    <tr>\n",
       "      <th>10</th>\n",
       "      <td>2019</td>\n",
       "      <td>9</td>\n",
       "      <td>9.613188e+05</td>\n",
       "      <td>2019-09-02 10:35:00</td>\n",
       "      <td>2019-09</td>\n",
       "    </tr>\n",
       "    <tr>\n",
       "      <th>11</th>\n",
       "      <td>2019</td>\n",
       "      <td>10</td>\n",
       "      <td>1.162657e+06</td>\n",
       "      <td>2019-10-01 08:30:00</td>\n",
       "      <td>2019-10</td>\n",
       "    </tr>\n",
       "    <tr>\n",
       "      <th>12</th>\n",
       "      <td>2019</td>\n",
       "      <td>11</td>\n",
       "      <td>1.483943e+06</td>\n",
       "      <td>2019-11-01 08:39:00</td>\n",
       "      <td>2019-11</td>\n",
       "    </tr>\n",
       "    <tr>\n",
       "      <th>13</th>\n",
       "      <td>2019</td>\n",
       "      <td>12</td>\n",
       "      <td>5.074702e+05</td>\n",
       "      <td>2019-12-02 10:10:00</td>\n",
       "      <td>2019-12</td>\n",
       "    </tr>\n",
       "  </tbody>\n",
       "</table>\n",
       "</div>"
      ],
      "text/plain": [
       "    year  month       revenue        invoice_date    label\n",
       "0   2018     11  1.047652e+05 2018-11-29 08:26:00  2018-11\n",
       "1   2018     12  6.694826e+05 2018-12-01 09:31:00  2018-12\n",
       "2   2019      1  7.175488e+05 2019-01-02 10:00:00  2019-01\n",
       "3   2019      2  5.017269e+05 2019-02-01 08:18:00  2019-02\n",
       "4   2019      3  6.707474e+05 2019-03-01 08:24:00  2019-03\n",
       "5   2019      4  4.967570e+05 2019-04-01 10:10:00  2019-04\n",
       "6   2019      5  7.835728e+05 2019-05-01 08:35:00  2019-05\n",
       "7   2019      6  6.979084e+05 2019-06-01 07:48:00  2019-06\n",
       "8   2019      7  7.193738e+05 2019-07-01 10:11:00  2019-07\n",
       "9   2019      8  7.526335e+05 2019-08-01 08:21:00  2019-08\n",
       "10  2019      9  9.613188e+05 2019-09-02 10:35:00  2019-09\n",
       "11  2019     10  1.162657e+06 2019-10-01 08:30:00  2019-10\n",
       "12  2019     11  1.483943e+06 2019-11-01 08:39:00  2019-11\n",
       "13  2019     12  5.074702e+05 2019-12-02 10:10:00  2019-12"
      ]
     },
     "execution_count": 58,
     "metadata": {},
     "output_type": "execute_result"
    }
   ],
   "source": [
    "# Finding the monthly revenue\n",
    "revenue = clean_data.groupby(['year', 'month']).agg({'revenue':'sum', 'invoice_date':'min'}).reset_index()\n",
    "revenue['label'] = revenue['invoice_date'].dt.strftime('%Y-%m')\n",
    "revenue"
   ]
  },
  {
   "cell_type": "code",
   "execution_count": 59,
   "id": "mysterious-basic",
   "metadata": {},
   "outputs": [
    {
     "data": {
      "image/png": "[encoded data removed]",
      "text/plain": [
       "<Figure size 1008x576 with 1 Axes>"
      ]
     },
     "metadata": {},
     "output_type": "display_data"
    }
   ],
   "source": [
    "# Plotting monthly revenue\n",
    "\n",
    "fig, ax = plt.subplots(figsize=(14,8))\n",
    "sns.barplot(data=revenue, x='label', y='revenue', color='teal')\n",
    "\n",
    "# Creating label on top of each bar\n",
    "for row in revenue.itertuples():\n",
    "    ax.text(row.Index, \n",
    "            row.revenue+20000, \n",
    "            s=round(row.revenue, 2), \n",
    "            horizontalalignment='center',\n",
    "            verticalalignment='bottom', fontdict={'size':11})\n",
    "\n",
    "plt.title('Monthly Revenue', fontdict={'size':16})\n",
    "plt.xlabel('Year-Month', fontdict={'size':14})\n",
    "plt.xlabel('Revenue', fontdict={'size':14})\n",
    "plt.show()"
   ]
  },
  {
   "cell_type": "markdown",
   "id": "blond-classics",
   "metadata": {},
   "source": [
    "The figure shows that we were getting growing revenues until November 2019 when it reached its peak at\n",
    "1,483,943 and drastically declined to 507,470 the following month."
   ]
  },
  {
   "cell_type": "markdown",
   "id": "prescription-usage",
   "metadata": {},
   "source": [
    "### Percent Growth <a class=\"anchor\" id=\"step_4_2\"></a>"
   ]
  },
  {
   "cell_type": "markdown",
   "id": "cross-humidity",
   "metadata": {},
   "source": [
    "Percent Growth shows how much revenue changes every month in percentage compared to the previous month's revenue. A positive value means that we earn more income than last month. On the contrary, a negative value means we lost money. The figure is calculated by the change of revenue each month divided by the previous month's income. Panda already has the method to calculate the percent change,`.pct_change`, that we can use readily."
   ]
  },
  {
   "cell_type": "code",
   "execution_count": 60,
   "id": "executive-seminar",
   "metadata": {},
   "outputs": [
    {
     "data": {
      "text/html": [
       "<div>\n",
       "<style scoped>\n",
       "    .dataframe tbody tr th:only-of-type {\n",
       "        vertical-align: middle;\n",
       "    }\n",
       "\n",
       "    .dataframe tbody tr th {\n",
       "        vertical-align: top;\n",
       "    }\n",
       "\n",
       "    .dataframe thead th {\n",
       "        text-align: right;\n",
       "    }\n",
       "</style>\n",
       "<table border=\"1\" class=\"dataframe\">\n",
       "  <thead>\n",
       "    <tr style=\"text-align: right;\">\n",
       "      <th></th>\n",
       "      <th>year</th>\n",
       "      <th>month</th>\n",
       "      <th>revenue</th>\n",
       "      <th>invoice_date</th>\n",
       "      <th>label</th>\n",
       "      <th>growth</th>\n",
       "      <th>color</th>\n",
       "    </tr>\n",
       "  </thead>\n",
       "  <tbody>\n",
       "    <tr>\n",
       "      <th>0</th>\n",
       "      <td>2018</td>\n",
       "      <td>11</td>\n",
       "      <td>1.047652e+05</td>\n",
       "      <td>2018-11-29 08:26:00</td>\n",
       "      <td>2018-11</td>\n",
       "      <td>0.000000</td>\n",
       "      <td>forestgreen</td>\n",
       "    </tr>\n",
       "    <tr>\n",
       "      <th>1</th>\n",
       "      <td>2018</td>\n",
       "      <td>12</td>\n",
       "      <td>6.694826e+05</td>\n",
       "      <td>2018-12-01 09:31:00</td>\n",
       "      <td>2018-12</td>\n",
       "      <td>5.390312</td>\n",
       "      <td>forestgreen</td>\n",
       "    </tr>\n",
       "    <tr>\n",
       "      <th>2</th>\n",
       "      <td>2019</td>\n",
       "      <td>1</td>\n",
       "      <td>7.175488e+05</td>\n",
       "      <td>2019-01-02 10:00:00</td>\n",
       "      <td>2019-01</td>\n",
       "      <td>0.071796</td>\n",
       "      <td>forestgreen</td>\n",
       "    </tr>\n",
       "    <tr>\n",
       "      <th>3</th>\n",
       "      <td>2019</td>\n",
       "      <td>2</td>\n",
       "      <td>5.017269e+05</td>\n",
       "      <td>2019-02-01 08:18:00</td>\n",
       "      <td>2019-02</td>\n",
       "      <td>-0.300777</td>\n",
       "      <td>firebrick</td>\n",
       "    </tr>\n",
       "    <tr>\n",
       "      <th>4</th>\n",
       "      <td>2019</td>\n",
       "      <td>3</td>\n",
       "      <td>6.707474e+05</td>\n",
       "      <td>2019-03-01 08:24:00</td>\n",
       "      <td>2019-03</td>\n",
       "      <td>0.336877</td>\n",
       "      <td>forestgreen</td>\n",
       "    </tr>\n",
       "    <tr>\n",
       "      <th>5</th>\n",
       "      <td>2019</td>\n",
       "      <td>4</td>\n",
       "      <td>4.967570e+05</td>\n",
       "      <td>2019-04-01 10:10:00</td>\n",
       "      <td>2019-04</td>\n",
       "      <td>-0.259398</td>\n",
       "      <td>firebrick</td>\n",
       "    </tr>\n",
       "    <tr>\n",
       "      <th>6</th>\n",
       "      <td>2019</td>\n",
       "      <td>5</td>\n",
       "      <td>7.835728e+05</td>\n",
       "      <td>2019-05-01 08:35:00</td>\n",
       "      <td>2019-05</td>\n",
       "      <td>0.577376</td>\n",
       "      <td>forestgreen</td>\n",
       "    </tr>\n",
       "    <tr>\n",
       "      <th>7</th>\n",
       "      <td>2019</td>\n",
       "      <td>6</td>\n",
       "      <td>6.979084e+05</td>\n",
       "      <td>2019-06-01 07:48:00</td>\n",
       "      <td>2019-06</td>\n",
       "      <td>-0.109325</td>\n",
       "      <td>firebrick</td>\n",
       "    </tr>\n",
       "    <tr>\n",
       "      <th>8</th>\n",
       "      <td>2019</td>\n",
       "      <td>7</td>\n",
       "      <td>7.193738e+05</td>\n",
       "      <td>2019-07-01 10:11:00</td>\n",
       "      <td>2019-07</td>\n",
       "      <td>0.030757</td>\n",
       "      <td>forestgreen</td>\n",
       "    </tr>\n",
       "    <tr>\n",
       "      <th>9</th>\n",
       "      <td>2019</td>\n",
       "      <td>8</td>\n",
       "      <td>7.526335e+05</td>\n",
       "      <td>2019-08-01 08:21:00</td>\n",
       "      <td>2019-08</td>\n",
       "      <td>0.046234</td>\n",
       "      <td>forestgreen</td>\n",
       "    </tr>\n",
       "    <tr>\n",
       "      <th>10</th>\n",
       "      <td>2019</td>\n",
       "      <td>9</td>\n",
       "      <td>9.613188e+05</td>\n",
       "      <td>2019-09-02 10:35:00</td>\n",
       "      <td>2019-09</td>\n",
       "      <td>0.277273</td>\n",
       "      <td>forestgreen</td>\n",
       "    </tr>\n",
       "    <tr>\n",
       "      <th>11</th>\n",
       "      <td>2019</td>\n",
       "      <td>10</td>\n",
       "      <td>1.162657e+06</td>\n",
       "      <td>2019-10-01 08:30:00</td>\n",
       "      <td>2019-10</td>\n",
       "      <td>0.209440</td>\n",
       "      <td>forestgreen</td>\n",
       "    </tr>\n",
       "    <tr>\n",
       "      <th>12</th>\n",
       "      <td>2019</td>\n",
       "      <td>11</td>\n",
       "      <td>1.483943e+06</td>\n",
       "      <td>2019-11-01 08:39:00</td>\n",
       "      <td>2019-11</td>\n",
       "      <td>0.276337</td>\n",
       "      <td>forestgreen</td>\n",
       "    </tr>\n",
       "    <tr>\n",
       "      <th>13</th>\n",
       "      <td>2019</td>\n",
       "      <td>12</td>\n",
       "      <td>5.074702e+05</td>\n",
       "      <td>2019-12-02 10:10:00</td>\n",
       "      <td>2019-12</td>\n",
       "      <td>-0.658026</td>\n",
       "      <td>firebrick</td>\n",
       "    </tr>\n",
       "  </tbody>\n",
       "</table>\n",
       "</div>"
      ],
      "text/plain": [
       "    year  month       revenue        invoice_date    label    growth  \\\n",
       "0   2018     11  1.047652e+05 2018-11-29 08:26:00  2018-11  0.000000   \n",
       "1   2018     12  6.694826e+05 2018-12-01 09:31:00  2018-12  5.390312   \n",
       "2   2019      1  7.175488e+05 2019-01-02 10:00:00  2019-01  0.071796   \n",
       "3   2019      2  5.017269e+05 2019-02-01 08:18:00  2019-02 -0.300777   \n",
       "4   2019      3  6.707474e+05 2019-03-01 08:24:00  2019-03  0.336877   \n",
       "5   2019      4  4.967570e+05 2019-04-01 10:10:00  2019-04 -0.259398   \n",
       "6   2019      5  7.835728e+05 2019-05-01 08:35:00  2019-05  0.577376   \n",
       "7   2019      6  6.979084e+05 2019-06-01 07:48:00  2019-06 -0.109325   \n",
       "8   2019      7  7.193738e+05 2019-07-01 10:11:00  2019-07  0.030757   \n",
       "9   2019      8  7.526335e+05 2019-08-01 08:21:00  2019-08  0.046234   \n",
       "10  2019      9  9.613188e+05 2019-09-02 10:35:00  2019-09  0.277273   \n",
       "11  2019     10  1.162657e+06 2019-10-01 08:30:00  2019-10  0.209440   \n",
       "12  2019     11  1.483943e+06 2019-11-01 08:39:00  2019-11  0.276337   \n",
       "13  2019     12  5.074702e+05 2019-12-02 10:10:00  2019-12 -0.658026   \n",
       "\n",
       "          color  \n",
       "0   forestgreen  \n",
       "1   forestgreen  \n",
       "2   forestgreen  \n",
       "3     firebrick  \n",
       "4   forestgreen  \n",
       "5     firebrick  \n",
       "6   forestgreen  \n",
       "7     firebrick  \n",
       "8   forestgreen  \n",
       "9   forestgreen  \n",
       "10  forestgreen  \n",
       "11  forestgreen  \n",
       "12  forestgreen  \n",
       "13    firebrick  "
      ]
     },
     "execution_count": 60,
     "metadata": {},
     "output_type": "execute_result"
    }
   ],
   "source": [
    "# Calculating percent growth\n",
    "revenue['growth'] = revenue['revenue'].pct_change().fillna(0)\n",
    "revenue['color'] = revenue['growth'].apply(lambda x: 'firebrick' if x < 0 else 'forestgreen')\n",
    "revenue"
   ]
  },
  {
   "cell_type": "code",
   "execution_count": 61,
   "id": "expanded-equivalent",
   "metadata": {},
   "outputs": [
    {
     "data": {
      "image/png": "[encoded data removed]",
      "text/plain": [
       "<Figure size 900x450 with 1 Axes>"
      ]
     },
     "metadata": {},
     "output_type": "display_data"
    }
   ],
   "source": [
    "plt.figure(figsize=(12,6), dpi= 75)\n",
    "plt.hlines(y=revenue.label, xmin=0, xmax=revenue.growth, linewidth=8, color=revenue.color)\n",
    "for x, y, tex in zip(revenue.growth, revenue.label, revenue.growth):\n",
    "    t = plt.text(x, y, round(tex, 2), horizontalalignment='right' if x < 0 else 'left', \n",
    "                 verticalalignment='center', fontdict={'color':'firebrick' if x < 0 else 'forestgreen', 'size':10})\n",
    "\n",
    "# Decorations    \n",
    "plt.yticks(revenue.index, revenue.label, fontsize=12)\n",
    "plt.gca().invert_yaxis()\n",
    "plt.title('Percent Growth', fontdict={'size':16})\n",
    "plt.grid(linestyle='--', alpha=0.5)\n",
    "plt.xlim(-2.5, 6.0);\n",
    "plt.xlabel('Percent Change in Revenue [%]')\n",
    "plt.ylabel('Year-Month');"
   ]
  },
  {
   "cell_type": "markdown",
   "id": "limited-desperate",
   "metadata": {},
   "source": [
    "We got the most significant revenue growth in the second month, where the change reached 5.3% from the previous month. Though, unfortunately, the sales only generated not more than 1% growth months after. Furthermore, we get a rather significant loss in December 2019, where the percent difference is -0.66%."
   ]
  },
  {
   "cell_type": "markdown",
   "id": "comic-python",
   "metadata": {},
   "source": [
    "### Average Check <a class=\"anchor\" id=\"step_4_3\"></a>"
   ]
  },
  {
   "cell_type": "markdown",
   "id": "sealed-catholic",
   "metadata": {},
   "source": [
    "The average check is the number of invoices in a month divided by the number of paying customers. This indicator shows how many transactions per person made in a particular month.\n",
    "\n",
    "To find the number of invoices in amount, we first group the data by `year`, `month`, and `invoice_no` and count only the number of invoices with `quantity` at least one."
   ]
  },
  {
   "cell_type": "code",
   "execution_count": 62,
   "id": "considerable-visibility",
   "metadata": {},
   "outputs": [
    {
     "data": {
      "text/html": [
       "<div>\n",
       "<style scoped>\n",
       "    .dataframe tbody tr th:only-of-type {\n",
       "        vertical-align: middle;\n",
       "    }\n",
       "\n",
       "    .dataframe tbody tr th {\n",
       "        vertical-align: top;\n",
       "    }\n",
       "\n",
       "    .dataframe thead th {\n",
       "        text-align: right;\n",
       "    }\n",
       "</style>\n",
       "<table border=\"1\" class=\"dataframe\">\n",
       "  <thead>\n",
       "    <tr style=\"text-align: right;\">\n",
       "      <th></th>\n",
       "      <th>year</th>\n",
       "      <th>month</th>\n",
       "      <th>invoice_no</th>\n",
       "      <th>invoice_date</th>\n",
       "      <th>label</th>\n",
       "    </tr>\n",
       "  </thead>\n",
       "  <tbody>\n",
       "    <tr>\n",
       "      <th>0</th>\n",
       "      <td>2018</td>\n",
       "      <td>11</td>\n",
       "      <td>278</td>\n",
       "      <td>2018-11-29 08:26:00</td>\n",
       "      <td>2018-11</td>\n",
       "    </tr>\n",
       "    <tr>\n",
       "      <th>1</th>\n",
       "      <td>2018</td>\n",
       "      <td>12</td>\n",
       "      <td>1343</td>\n",
       "      <td>2018-12-01 09:31:00</td>\n",
       "      <td>2018-12</td>\n",
       "    </tr>\n",
       "    <tr>\n",
       "      <th>2</th>\n",
       "      <td>2019</td>\n",
       "      <td>1</td>\n",
       "      <td>1243</td>\n",
       "      <td>2019-01-02 10:00:00</td>\n",
       "      <td>2019-01</td>\n",
       "    </tr>\n",
       "    <tr>\n",
       "      <th>3</th>\n",
       "      <td>2019</td>\n",
       "      <td>2</td>\n",
       "      <td>1094</td>\n",
       "      <td>2019-02-01 08:18:00</td>\n",
       "      <td>2019-02</td>\n",
       "    </tr>\n",
       "    <tr>\n",
       "      <th>4</th>\n",
       "      <td>2019</td>\n",
       "      <td>3</td>\n",
       "      <td>1494</td>\n",
       "      <td>2019-03-01 08:24:00</td>\n",
       "      <td>2019-03</td>\n",
       "    </tr>\n",
       "    <tr>\n",
       "      <th>5</th>\n",
       "      <td>2019</td>\n",
       "      <td>4</td>\n",
       "      <td>1245</td>\n",
       "      <td>2019-04-01 10:10:00</td>\n",
       "      <td>2019-04</td>\n",
       "    </tr>\n",
       "    <tr>\n",
       "      <th>6</th>\n",
       "      <td>2019</td>\n",
       "      <td>5</td>\n",
       "      <td>1797</td>\n",
       "      <td>2019-05-01 08:35:00</td>\n",
       "      <td>2019-05</td>\n",
       "    </tr>\n",
       "    <tr>\n",
       "      <th>7</th>\n",
       "      <td>2019</td>\n",
       "      <td>6</td>\n",
       "      <td>1523</td>\n",
       "      <td>2019-06-01 07:48:00</td>\n",
       "      <td>2019-06</td>\n",
       "    </tr>\n",
       "    <tr>\n",
       "      <th>8</th>\n",
       "      <td>2019</td>\n",
       "      <td>7</td>\n",
       "      <td>1549</td>\n",
       "      <td>2019-07-01 10:11:00</td>\n",
       "      <td>2019-07</td>\n",
       "    </tr>\n",
       "    <tr>\n",
       "      <th>9</th>\n",
       "      <td>2019</td>\n",
       "      <td>8</td>\n",
       "      <td>1455</td>\n",
       "      <td>2019-08-01 08:21:00</td>\n",
       "      <td>2019-08</td>\n",
       "    </tr>\n",
       "    <tr>\n",
       "      <th>10</th>\n",
       "      <td>2019</td>\n",
       "      <td>9</td>\n",
       "      <td>1756</td>\n",
       "      <td>2019-09-02 10:35:00</td>\n",
       "      <td>2019-09</td>\n",
       "    </tr>\n",
       "    <tr>\n",
       "      <th>11</th>\n",
       "      <td>2019</td>\n",
       "      <td>10</td>\n",
       "      <td>2243</td>\n",
       "      <td>2019-10-01 08:30:00</td>\n",
       "      <td>2019-10</td>\n",
       "    </tr>\n",
       "    <tr>\n",
       "      <th>12</th>\n",
       "      <td>2019</td>\n",
       "      <td>11</td>\n",
       "      <td>2924</td>\n",
       "      <td>2019-11-01 08:39:00</td>\n",
       "      <td>2019-11</td>\n",
       "    </tr>\n",
       "    <tr>\n",
       "      <th>13</th>\n",
       "      <td>2019</td>\n",
       "      <td>12</td>\n",
       "      <td>592</td>\n",
       "      <td>2019-12-02 10:10:00</td>\n",
       "      <td>2019-12</td>\n",
       "    </tr>\n",
       "  </tbody>\n",
       "</table>\n",
       "</div>"
      ],
      "text/plain": [
       "    year  month  invoice_no        invoice_date    label\n",
       "0   2018     11         278 2018-11-29 08:26:00  2018-11\n",
       "1   2018     12        1343 2018-12-01 09:31:00  2018-12\n",
       "2   2019      1        1243 2019-01-02 10:00:00  2019-01\n",
       "3   2019      2        1094 2019-02-01 08:18:00  2019-02\n",
       "4   2019      3        1494 2019-03-01 08:24:00  2019-03\n",
       "5   2019      4        1245 2019-04-01 10:10:00  2019-04\n",
       "6   2019      5        1797 2019-05-01 08:35:00  2019-05\n",
       "7   2019      6        1523 2019-06-01 07:48:00  2019-06\n",
       "8   2019      7        1549 2019-07-01 10:11:00  2019-07\n",
       "9   2019      8        1455 2019-08-01 08:21:00  2019-08\n",
       "10  2019      9        1756 2019-09-02 10:35:00  2019-09\n",
       "11  2019     10        2243 2019-10-01 08:30:00  2019-10\n",
       "12  2019     11        2924 2019-11-01 08:39:00  2019-11\n",
       "13  2019     12         592 2019-12-02 10:10:00  2019-12"
      ]
     },
     "execution_count": 62,
     "metadata": {},
     "output_type": "execute_result"
    }
   ],
   "source": [
    "# Finding the number of invoices per month\n",
    "invoice = (clean_data\n",
    "           .groupby(['year', 'month', 'invoice_no'])\n",
    "           .agg({'quantity':'count', 'invoice_date':pd.Series.min})\n",
    "           .reset_index()\n",
    "           .query('quantity > 0')\n",
    "           .groupby(['year', 'month'])\n",
    "           .agg({'invoice_no':'count', 'invoice_date':'min'})\n",
    "           .reset_index()\n",
    "        )\n",
    "invoice['label'] = invoice['invoice_date'].dt.strftime('%Y-%m')\n",
    "invoice"
   ]
  },
  {
   "cell_type": "markdown",
   "id": "domestic-adapter",
   "metadata": {},
   "source": [
    "We use a similar method to find the number of customers that made a transaction every month,"
   ]
  },
  {
   "cell_type": "code",
   "execution_count": 63,
   "id": "impaired-progress",
   "metadata": {},
   "outputs": [
    {
     "data": {
      "text/html": [
       "<div>\n",
       "<style scoped>\n",
       "    .dataframe tbody tr th:only-of-type {\n",
       "        vertical-align: middle;\n",
       "    }\n",
       "\n",
       "    .dataframe tbody tr th {\n",
       "        vertical-align: top;\n",
       "    }\n",
       "\n",
       "    .dataframe thead th {\n",
       "        text-align: right;\n",
       "    }\n",
       "</style>\n",
       "<table border=\"1\" class=\"dataframe\">\n",
       "  <thead>\n",
       "    <tr style=\"text-align: right;\">\n",
       "      <th></th>\n",
       "      <th>year</th>\n",
       "      <th>month</th>\n",
       "      <th>customer_id</th>\n",
       "      <th>invoice_date</th>\n",
       "      <th>label</th>\n",
       "    </tr>\n",
       "  </thead>\n",
       "  <tbody>\n",
       "    <tr>\n",
       "      <th>0</th>\n",
       "      <td>2018</td>\n",
       "      <td>11</td>\n",
       "      <td>182</td>\n",
       "      <td>2018-11-29 08:26:00</td>\n",
       "      <td>2018-11</td>\n",
       "    </tr>\n",
       "    <tr>\n",
       "      <th>1</th>\n",
       "      <td>2018</td>\n",
       "      <td>12</td>\n",
       "      <td>630</td>\n",
       "      <td>2018-12-01 09:31:00</td>\n",
       "      <td>2018-12</td>\n",
       "    </tr>\n",
       "    <tr>\n",
       "      <th>2</th>\n",
       "      <td>2019</td>\n",
       "      <td>1</td>\n",
       "      <td>592</td>\n",
       "      <td>2019-01-02 10:00:00</td>\n",
       "      <td>2019-01</td>\n",
       "    </tr>\n",
       "    <tr>\n",
       "      <th>3</th>\n",
       "      <td>2019</td>\n",
       "      <td>2</td>\n",
       "      <td>551</td>\n",
       "      <td>2019-02-01 08:18:00</td>\n",
       "      <td>2019-02</td>\n",
       "    </tr>\n",
       "    <tr>\n",
       "      <th>4</th>\n",
       "      <td>2019</td>\n",
       "      <td>3</td>\n",
       "      <td>694</td>\n",
       "      <td>2019-03-01 08:24:00</td>\n",
       "      <td>2019-03</td>\n",
       "    </tr>\n",
       "    <tr>\n",
       "      <th>5</th>\n",
       "      <td>2019</td>\n",
       "      <td>4</td>\n",
       "      <td>604</td>\n",
       "      <td>2019-04-01 10:10:00</td>\n",
       "      <td>2019-04</td>\n",
       "    </tr>\n",
       "    <tr>\n",
       "      <th>6</th>\n",
       "      <td>2019</td>\n",
       "      <td>5</td>\n",
       "      <td>708</td>\n",
       "      <td>2019-05-01 08:35:00</td>\n",
       "      <td>2019-05</td>\n",
       "    </tr>\n",
       "    <tr>\n",
       "      <th>7</th>\n",
       "      <td>2019</td>\n",
       "      <td>6</td>\n",
       "      <td>664</td>\n",
       "      <td>2019-06-01 07:48:00</td>\n",
       "      <td>2019-06</td>\n",
       "    </tr>\n",
       "    <tr>\n",
       "      <th>8</th>\n",
       "      <td>2019</td>\n",
       "      <td>7</td>\n",
       "      <td>696</td>\n",
       "      <td>2019-07-01 10:11:00</td>\n",
       "      <td>2019-07</td>\n",
       "    </tr>\n",
       "    <tr>\n",
       "      <th>9</th>\n",
       "      <td>2019</td>\n",
       "      <td>8</td>\n",
       "      <td>614</td>\n",
       "      <td>2019-08-01 08:21:00</td>\n",
       "      <td>2019-08</td>\n",
       "    </tr>\n",
       "    <tr>\n",
       "      <th>10</th>\n",
       "      <td>2019</td>\n",
       "      <td>9</td>\n",
       "      <td>648</td>\n",
       "      <td>2019-09-02 10:35:00</td>\n",
       "      <td>2019-09</td>\n",
       "    </tr>\n",
       "    <tr>\n",
       "      <th>11</th>\n",
       "      <td>2019</td>\n",
       "      <td>10</td>\n",
       "      <td>780</td>\n",
       "      <td>2019-10-01 08:30:00</td>\n",
       "      <td>2019-10</td>\n",
       "    </tr>\n",
       "    <tr>\n",
       "      <th>12</th>\n",
       "      <td>2019</td>\n",
       "      <td>11</td>\n",
       "      <td>788</td>\n",
       "      <td>2019-11-01 08:39:00</td>\n",
       "      <td>2019-11</td>\n",
       "    </tr>\n",
       "    <tr>\n",
       "      <th>13</th>\n",
       "      <td>2019</td>\n",
       "      <td>12</td>\n",
       "      <td>375</td>\n",
       "      <td>2019-12-02 10:10:00</td>\n",
       "      <td>2019-12</td>\n",
       "    </tr>\n",
       "  </tbody>\n",
       "</table>\n",
       "</div>"
      ],
      "text/plain": [
       "    year  month  customer_id        invoice_date    label\n",
       "0   2018     11          182 2018-11-29 08:26:00  2018-11\n",
       "1   2018     12          630 2018-12-01 09:31:00  2018-12\n",
       "2   2019      1          592 2019-01-02 10:00:00  2019-01\n",
       "3   2019      2          551 2019-02-01 08:18:00  2019-02\n",
       "4   2019      3          694 2019-03-01 08:24:00  2019-03\n",
       "5   2019      4          604 2019-04-01 10:10:00  2019-04\n",
       "6   2019      5          708 2019-05-01 08:35:00  2019-05\n",
       "7   2019      6          664 2019-06-01 07:48:00  2019-06\n",
       "8   2019      7          696 2019-07-01 10:11:00  2019-07\n",
       "9   2019      8          614 2019-08-01 08:21:00  2019-08\n",
       "10  2019      9          648 2019-09-02 10:35:00  2019-09\n",
       "11  2019     10          780 2019-10-01 08:30:00  2019-10\n",
       "12  2019     11          788 2019-11-01 08:39:00  2019-11\n",
       "13  2019     12          375 2019-12-02 10:10:00  2019-12"
      ]
     },
     "execution_count": 63,
     "metadata": {},
     "output_type": "execute_result"
    }
   ],
   "source": [
    "# Finding the number of customers per month\n",
    "customer = (clean_data\n",
    "            .groupby(['year', 'month', 'customer_id'])\n",
    "            .agg({'invoice_no':'count', 'invoice_date':'min'})\n",
    "            .reset_index()\n",
    "            .query('invoice_no > 0')\n",
    "            .groupby(['year', 'month'])\n",
    "            .agg({'customer_id':'count', 'invoice_date':'min'})\n",
    "            .reset_index()\n",
    "            )\n",
    "customer['label'] = customer['invoice_date'].dt.strftime('%Y-%m')\n",
    "customer"
   ]
  },
  {
   "cell_type": "code",
   "execution_count": 64,
   "id": "coastal-forestry",
   "metadata": {},
   "outputs": [
    {
     "data": {
      "text/html": [
       "<div>\n",
       "<style scoped>\n",
       "    .dataframe tbody tr th:only-of-type {\n",
       "        vertical-align: middle;\n",
       "    }\n",
       "\n",
       "    .dataframe tbody tr th {\n",
       "        vertical-align: top;\n",
       "    }\n",
       "\n",
       "    .dataframe thead th {\n",
       "        text-align: right;\n",
       "    }\n",
       "</style>\n",
       "<table border=\"1\" class=\"dataframe\">\n",
       "  <thead>\n",
       "    <tr style=\"text-align: right;\">\n",
       "      <th></th>\n",
       "      <th>year</th>\n",
       "      <th>month</th>\n",
       "      <th>n_invoice</th>\n",
       "      <th>invoice_date</th>\n",
       "      <th>label</th>\n",
       "      <th>n_customer</th>\n",
       "      <th>check</th>\n",
       "    </tr>\n",
       "  </thead>\n",
       "  <tbody>\n",
       "    <tr>\n",
       "      <th>0</th>\n",
       "      <td>2018</td>\n",
       "      <td>11</td>\n",
       "      <td>278</td>\n",
       "      <td>2018-11-29 08:26:00</td>\n",
       "      <td>2018-11</td>\n",
       "      <td>182</td>\n",
       "      <td>1.527473</td>\n",
       "    </tr>\n",
       "    <tr>\n",
       "      <th>1</th>\n",
       "      <td>2018</td>\n",
       "      <td>12</td>\n",
       "      <td>1343</td>\n",
       "      <td>2018-12-01 09:31:00</td>\n",
       "      <td>2018-12</td>\n",
       "      <td>630</td>\n",
       "      <td>2.131746</td>\n",
       "    </tr>\n",
       "    <tr>\n",
       "      <th>2</th>\n",
       "      <td>2019</td>\n",
       "      <td>1</td>\n",
       "      <td>1243</td>\n",
       "      <td>2019-01-02 10:00:00</td>\n",
       "      <td>2019-01</td>\n",
       "      <td>592</td>\n",
       "      <td>2.099662</td>\n",
       "    </tr>\n",
       "    <tr>\n",
       "      <th>3</th>\n",
       "      <td>2019</td>\n",
       "      <td>2</td>\n",
       "      <td>1094</td>\n",
       "      <td>2019-02-01 08:18:00</td>\n",
       "      <td>2019-02</td>\n",
       "      <td>551</td>\n",
       "      <td>1.985481</td>\n",
       "    </tr>\n",
       "    <tr>\n",
       "      <th>4</th>\n",
       "      <td>2019</td>\n",
       "      <td>3</td>\n",
       "      <td>1494</td>\n",
       "      <td>2019-03-01 08:24:00</td>\n",
       "      <td>2019-03</td>\n",
       "      <td>694</td>\n",
       "      <td>2.152738</td>\n",
       "    </tr>\n",
       "    <tr>\n",
       "      <th>5</th>\n",
       "      <td>2019</td>\n",
       "      <td>4</td>\n",
       "      <td>1245</td>\n",
       "      <td>2019-04-01 10:10:00</td>\n",
       "      <td>2019-04</td>\n",
       "      <td>604</td>\n",
       "      <td>2.061258</td>\n",
       "    </tr>\n",
       "    <tr>\n",
       "      <th>6</th>\n",
       "      <td>2019</td>\n",
       "      <td>5</td>\n",
       "      <td>1797</td>\n",
       "      <td>2019-05-01 08:35:00</td>\n",
       "      <td>2019-05</td>\n",
       "      <td>708</td>\n",
       "      <td>2.538136</td>\n",
       "    </tr>\n",
       "    <tr>\n",
       "      <th>7</th>\n",
       "      <td>2019</td>\n",
       "      <td>6</td>\n",
       "      <td>1523</td>\n",
       "      <td>2019-06-01 07:48:00</td>\n",
       "      <td>2019-06</td>\n",
       "      <td>664</td>\n",
       "      <td>2.293675</td>\n",
       "    </tr>\n",
       "    <tr>\n",
       "      <th>8</th>\n",
       "      <td>2019</td>\n",
       "      <td>7</td>\n",
       "      <td>1549</td>\n",
       "      <td>2019-07-01 10:11:00</td>\n",
       "      <td>2019-07</td>\n",
       "      <td>696</td>\n",
       "      <td>2.225575</td>\n",
       "    </tr>\n",
       "    <tr>\n",
       "      <th>9</th>\n",
       "      <td>2019</td>\n",
       "      <td>8</td>\n",
       "      <td>1455</td>\n",
       "      <td>2019-08-01 08:21:00</td>\n",
       "      <td>2019-08</td>\n",
       "      <td>614</td>\n",
       "      <td>2.369707</td>\n",
       "    </tr>\n",
       "    <tr>\n",
       "      <th>10</th>\n",
       "      <td>2019</td>\n",
       "      <td>9</td>\n",
       "      <td>1756</td>\n",
       "      <td>2019-09-02 10:35:00</td>\n",
       "      <td>2019-09</td>\n",
       "      <td>648</td>\n",
       "      <td>2.709877</td>\n",
       "    </tr>\n",
       "    <tr>\n",
       "      <th>11</th>\n",
       "      <td>2019</td>\n",
       "      <td>10</td>\n",
       "      <td>2243</td>\n",
       "      <td>2019-10-01 08:30:00</td>\n",
       "      <td>2019-10</td>\n",
       "      <td>780</td>\n",
       "      <td>2.875641</td>\n",
       "    </tr>\n",
       "    <tr>\n",
       "      <th>12</th>\n",
       "      <td>2019</td>\n",
       "      <td>11</td>\n",
       "      <td>2924</td>\n",
       "      <td>2019-11-01 08:39:00</td>\n",
       "      <td>2019-11</td>\n",
       "      <td>788</td>\n",
       "      <td>3.710660</td>\n",
       "    </tr>\n",
       "    <tr>\n",
       "      <th>13</th>\n",
       "      <td>2019</td>\n",
       "      <td>12</td>\n",
       "      <td>592</td>\n",
       "      <td>2019-12-02 10:10:00</td>\n",
       "      <td>2019-12</td>\n",
       "      <td>375</td>\n",
       "      <td>1.578667</td>\n",
       "    </tr>\n",
       "  </tbody>\n",
       "</table>\n",
       "</div>"
      ],
      "text/plain": [
       "    year  month  n_invoice        invoice_date    label  n_customer     check\n",
       "0   2018     11        278 2018-11-29 08:26:00  2018-11         182  1.527473\n",
       "1   2018     12       1343 2018-12-01 09:31:00  2018-12         630  2.131746\n",
       "2   2019      1       1243 2019-01-02 10:00:00  2019-01         592  2.099662\n",
       "3   2019      2       1094 2019-02-01 08:18:00  2019-02         551  1.985481\n",
       "4   2019      3       1494 2019-03-01 08:24:00  2019-03         694  2.152738\n",
       "5   2019      4       1245 2019-04-01 10:10:00  2019-04         604  2.061258\n",
       "6   2019      5       1797 2019-05-01 08:35:00  2019-05         708  2.538136\n",
       "7   2019      6       1523 2019-06-01 07:48:00  2019-06         664  2.293675\n",
       "8   2019      7       1549 2019-07-01 10:11:00  2019-07         696  2.225575\n",
       "9   2019      8       1455 2019-08-01 08:21:00  2019-08         614  2.369707\n",
       "10  2019      9       1756 2019-09-02 10:35:00  2019-09         648  2.709877\n",
       "11  2019     10       2243 2019-10-01 08:30:00  2019-10         780  2.875641\n",
       "12  2019     11       2924 2019-11-01 08:39:00  2019-11         788  3.710660\n",
       "13  2019     12        592 2019-12-02 10:10:00  2019-12         375  1.578667"
      ]
     },
     "execution_count": 64,
     "metadata": {},
     "output_type": "execute_result"
    }
   ],
   "source": [
    "# Merging the dataframes\n",
    "check = pd.merge(invoice, customer, on=['year', 'month','label', 'invoice_date'], how='left')\n",
    "check.columns = ['year', 'month', 'n_invoice', 'invoice_date', 'label', 'n_customer']\n",
    "\n",
    "# Calculating the average check\n",
    "check['check'] = check['n_invoice']/check['n_customer']\n",
    "check"
   ]
  },
  {
   "cell_type": "code",
   "execution_count": 65,
   "id": "affected-criterion",
   "metadata": {},
   "outputs": [
    {
     "data": {
      "image/png": "[encoded data removed]",
      "text/plain": [
       "<Figure size 1050x600 with 1 Axes>"
      ]
     },
     "metadata": {},
     "output_type": "display_data"
    }
   ],
   "source": [
    "# Plotting the average check\n",
    "fig, ax = plt.subplots(figsize=(14,8), dpi=75)\n",
    "sns.barplot(data=check, x='label', y='check', color='teal')\n",
    "\n",
    "# Creating label on top of each bar\n",
    "for row in check.itertuples():\n",
    "    ax.text(row.Index, \n",
    "            row.check+0.05, \n",
    "            s=round(row.check, 2), \n",
    "            horizontalalignment='center',\n",
    "            verticalalignment='bottom')\n",
    "    \n",
    "plt.title('Average Check', fontdict={'size':16})\n",
    "plt.xlabel('Year-Month')\n",
    "plt.show()"
   ]
  },
  {
   "cell_type": "code",
   "execution_count": 66,
   "id": "endless-cattle",
   "metadata": {},
   "outputs": [
    {
     "name": "stdout",
     "output_type": "stream",
     "text": [
      "The average check is 2.30\n"
     ]
    }
   ],
   "source": [
    "print('The average check is {:.2f}'.format(check.check.mean()))"
   ]
  },
  {
   "cell_type": "markdown",
   "id": "filled-terrain",
   "metadata": {},
   "source": [
    "In general, our customers generate an average check of 2.30. The highest figure was in November 2019 where there are 3.71 invoices per user. However, there was a massive drop in the month after, where the sales made only 1.58 invoices per user."
   ]
  },
  {
   "cell_type": "markdown",
   "id": "digital-consciousness",
   "metadata": {},
   "source": [
    "### Average Revenue Per Paying User (ARPPU) <a class=\"anchor\" id=\"step_4_4\"></a>"
   ]
  },
  {
   "cell_type": "markdown",
   "id": "ordinary-dallas",
   "metadata": {},
   "source": [
    "Average Revenue Per Paying User (ARPPU) is the metric that shows how much money a single user makes. The figure is calculated by dividing the revenue by the number of paying customers per month.\n",
    "\n",
    "We have calculated the `revenue` and `customer` dataframes before,"
   ]
  },
  {
   "cell_type": "code",
   "execution_count": 67,
   "id": "conditional-nigeria",
   "metadata": {},
   "outputs": [
    {
     "data": {
      "text/html": [
       "<div>\n",
       "<style scoped>\n",
       "    .dataframe tbody tr th:only-of-type {\n",
       "        vertical-align: middle;\n",
       "    }\n",
       "\n",
       "    .dataframe tbody tr th {\n",
       "        vertical-align: top;\n",
       "    }\n",
       "\n",
       "    .dataframe thead th {\n",
       "        text-align: right;\n",
       "    }\n",
       "</style>\n",
       "<table border=\"1\" class=\"dataframe\">\n",
       "  <thead>\n",
       "    <tr style=\"text-align: right;\">\n",
       "      <th></th>\n",
       "      <th>year</th>\n",
       "      <th>month</th>\n",
       "      <th>revenue</th>\n",
       "      <th>invoice_date</th>\n",
       "      <th>label</th>\n",
       "      <th>growth</th>\n",
       "      <th>color</th>\n",
       "    </tr>\n",
       "  </thead>\n",
       "  <tbody>\n",
       "    <tr>\n",
       "      <th>0</th>\n",
       "      <td>2018</td>\n",
       "      <td>11</td>\n",
       "      <td>104765.250</td>\n",
       "      <td>2018-11-29 08:26:00</td>\n",
       "      <td>2018-11</td>\n",
       "      <td>0.000000</td>\n",
       "      <td>forestgreen</td>\n",
       "    </tr>\n",
       "    <tr>\n",
       "      <th>1</th>\n",
       "      <td>2018</td>\n",
       "      <td>12</td>\n",
       "      <td>669482.625</td>\n",
       "      <td>2018-12-01 09:31:00</td>\n",
       "      <td>2018-12</td>\n",
       "      <td>5.390312</td>\n",
       "      <td>forestgreen</td>\n",
       "    </tr>\n",
       "    <tr>\n",
       "      <th>2</th>\n",
       "      <td>2019</td>\n",
       "      <td>1</td>\n",
       "      <td>717548.750</td>\n",
       "      <td>2019-01-02 10:00:00</td>\n",
       "      <td>2019-01</td>\n",
       "      <td>0.071796</td>\n",
       "      <td>forestgreen</td>\n",
       "    </tr>\n",
       "  </tbody>\n",
       "</table>\n",
       "</div>"
      ],
      "text/plain": [
       "   year  month     revenue        invoice_date    label    growth        color\n",
       "0  2018     11  104765.250 2018-11-29 08:26:00  2018-11  0.000000  forestgreen\n",
       "1  2018     12  669482.625 2018-12-01 09:31:00  2018-12  5.390312  forestgreen\n",
       "2  2019      1  717548.750 2019-01-02 10:00:00  2019-01  0.071796  forestgreen"
      ]
     },
     "execution_count": 67,
     "metadata": {},
     "output_type": "execute_result"
    }
   ],
   "source": [
    "# Displaying the `revenue` dataframe\n",
    "revenue.head(3)"
   ]
  },
  {
   "cell_type": "code",
   "execution_count": 68,
   "id": "cultural-booth",
   "metadata": {},
   "outputs": [
    {
     "data": {
      "text/html": [
       "<div>\n",
       "<style scoped>\n",
       "    .dataframe tbody tr th:only-of-type {\n",
       "        vertical-align: middle;\n",
       "    }\n",
       "\n",
       "    .dataframe tbody tr th {\n",
       "        vertical-align: top;\n",
       "    }\n",
       "\n",
       "    .dataframe thead th {\n",
       "        text-align: right;\n",
       "    }\n",
       "</style>\n",
       "<table border=\"1\" class=\"dataframe\">\n",
       "  <thead>\n",
       "    <tr style=\"text-align: right;\">\n",
       "      <th></th>\n",
       "      <th>year</th>\n",
       "      <th>month</th>\n",
       "      <th>customer_id</th>\n",
       "      <th>invoice_date</th>\n",
       "      <th>label</th>\n",
       "    </tr>\n",
       "  </thead>\n",
       "  <tbody>\n",
       "    <tr>\n",
       "      <th>0</th>\n",
       "      <td>2018</td>\n",
       "      <td>11</td>\n",
       "      <td>182</td>\n",
       "      <td>2018-11-29 08:26:00</td>\n",
       "      <td>2018-11</td>\n",
       "    </tr>\n",
       "    <tr>\n",
       "      <th>1</th>\n",
       "      <td>2018</td>\n",
       "      <td>12</td>\n",
       "      <td>630</td>\n",
       "      <td>2018-12-01 09:31:00</td>\n",
       "      <td>2018-12</td>\n",
       "    </tr>\n",
       "    <tr>\n",
       "      <th>2</th>\n",
       "      <td>2019</td>\n",
       "      <td>1</td>\n",
       "      <td>592</td>\n",
       "      <td>2019-01-02 10:00:00</td>\n",
       "      <td>2019-01</td>\n",
       "    </tr>\n",
       "  </tbody>\n",
       "</table>\n",
       "</div>"
      ],
      "text/plain": [
       "   year  month  customer_id        invoice_date    label\n",
       "0  2018     11          182 2018-11-29 08:26:00  2018-11\n",
       "1  2018     12          630 2018-12-01 09:31:00  2018-12\n",
       "2  2019      1          592 2019-01-02 10:00:00  2019-01"
      ]
     },
     "execution_count": 68,
     "metadata": {},
     "output_type": "execute_result"
    }
   ],
   "source": [
    "# Displaying the `customer` dataframe\n",
    "customer.head(3)"
   ]
  },
  {
   "cell_type": "code",
   "execution_count": 69,
   "id": "residential-cologne",
   "metadata": {},
   "outputs": [
    {
     "data": {
      "text/html": [
       "<div>\n",
       "<style scoped>\n",
       "    .dataframe tbody tr th:only-of-type {\n",
       "        vertical-align: middle;\n",
       "    }\n",
       "\n",
       "    .dataframe tbody tr th {\n",
       "        vertical-align: top;\n",
       "    }\n",
       "\n",
       "    .dataframe thead th {\n",
       "        text-align: right;\n",
       "    }\n",
       "</style>\n",
       "<table border=\"1\" class=\"dataframe\">\n",
       "  <thead>\n",
       "    <tr style=\"text-align: right;\">\n",
       "      <th></th>\n",
       "      <th>year</th>\n",
       "      <th>month</th>\n",
       "      <th>revenue</th>\n",
       "      <th>invoice_date</th>\n",
       "      <th>label</th>\n",
       "      <th>growth</th>\n",
       "      <th>color</th>\n",
       "      <th>n_customer</th>\n",
       "      <th>arppu</th>\n",
       "    </tr>\n",
       "  </thead>\n",
       "  <tbody>\n",
       "    <tr>\n",
       "      <th>0</th>\n",
       "      <td>2018</td>\n",
       "      <td>11</td>\n",
       "      <td>1.047652e+05</td>\n",
       "      <td>2018-11-29 08:26:00</td>\n",
       "      <td>2018-11</td>\n",
       "      <td>0.000000</td>\n",
       "      <td>forestgreen</td>\n",
       "      <td>182</td>\n",
       "      <td>575.633242</td>\n",
       "    </tr>\n",
       "    <tr>\n",
       "      <th>1</th>\n",
       "      <td>2018</td>\n",
       "      <td>12</td>\n",
       "      <td>6.694826e+05</td>\n",
       "      <td>2018-12-01 09:31:00</td>\n",
       "      <td>2018-12</td>\n",
       "      <td>5.390312</td>\n",
       "      <td>forestgreen</td>\n",
       "      <td>630</td>\n",
       "      <td>1062.670833</td>\n",
       "    </tr>\n",
       "    <tr>\n",
       "      <th>2</th>\n",
       "      <td>2019</td>\n",
       "      <td>1</td>\n",
       "      <td>7.175488e+05</td>\n",
       "      <td>2019-01-02 10:00:00</td>\n",
       "      <td>2019-01</td>\n",
       "      <td>0.071796</td>\n",
       "      <td>forestgreen</td>\n",
       "      <td>592</td>\n",
       "      <td>1212.075591</td>\n",
       "    </tr>\n",
       "    <tr>\n",
       "      <th>3</th>\n",
       "      <td>2019</td>\n",
       "      <td>2</td>\n",
       "      <td>5.017269e+05</td>\n",
       "      <td>2019-02-01 08:18:00</td>\n",
       "      <td>2019-02</td>\n",
       "      <td>-0.300777</td>\n",
       "      <td>firebrick</td>\n",
       "      <td>551</td>\n",
       "      <td>910.575204</td>\n",
       "    </tr>\n",
       "    <tr>\n",
       "      <th>4</th>\n",
       "      <td>2019</td>\n",
       "      <td>3</td>\n",
       "      <td>6.707474e+05</td>\n",
       "      <td>2019-03-01 08:24:00</td>\n",
       "      <td>2019-03</td>\n",
       "      <td>0.336877</td>\n",
       "      <td>forestgreen</td>\n",
       "      <td>694</td>\n",
       "      <td>966.494777</td>\n",
       "    </tr>\n",
       "    <tr>\n",
       "      <th>5</th>\n",
       "      <td>2019</td>\n",
       "      <td>4</td>\n",
       "      <td>4.967570e+05</td>\n",
       "      <td>2019-04-01 10:10:00</td>\n",
       "      <td>2019-04</td>\n",
       "      <td>-0.259398</td>\n",
       "      <td>firebrick</td>\n",
       "      <td>604</td>\n",
       "      <td>822.445364</td>\n",
       "    </tr>\n",
       "    <tr>\n",
       "      <th>6</th>\n",
       "      <td>2019</td>\n",
       "      <td>5</td>\n",
       "      <td>7.835728e+05</td>\n",
       "      <td>2019-05-01 08:35:00</td>\n",
       "      <td>2019-05</td>\n",
       "      <td>0.577376</td>\n",
       "      <td>forestgreen</td>\n",
       "      <td>708</td>\n",
       "      <td>1106.741261</td>\n",
       "    </tr>\n",
       "    <tr>\n",
       "      <th>7</th>\n",
       "      <td>2019</td>\n",
       "      <td>6</td>\n",
       "      <td>6.979084e+05</td>\n",
       "      <td>2019-06-01 07:48:00</td>\n",
       "      <td>2019-06</td>\n",
       "      <td>-0.109325</td>\n",
       "      <td>firebrick</td>\n",
       "      <td>664</td>\n",
       "      <td>1051.066924</td>\n",
       "    </tr>\n",
       "    <tr>\n",
       "      <th>8</th>\n",
       "      <td>2019</td>\n",
       "      <td>7</td>\n",
       "      <td>7.193738e+05</td>\n",
       "      <td>2019-07-01 10:11:00</td>\n",
       "      <td>2019-07</td>\n",
       "      <td>0.030757</td>\n",
       "      <td>forestgreen</td>\n",
       "      <td>696</td>\n",
       "      <td>1033.583064</td>\n",
       "    </tr>\n",
       "    <tr>\n",
       "      <th>9</th>\n",
       "      <td>2019</td>\n",
       "      <td>8</td>\n",
       "      <td>7.526335e+05</td>\n",
       "      <td>2019-08-01 08:21:00</td>\n",
       "      <td>2019-08</td>\n",
       "      <td>0.046234</td>\n",
       "      <td>forestgreen</td>\n",
       "      <td>614</td>\n",
       "      <td>1225.787459</td>\n",
       "    </tr>\n",
       "    <tr>\n",
       "      <th>10</th>\n",
       "      <td>2019</td>\n",
       "      <td>9</td>\n",
       "      <td>9.613188e+05</td>\n",
       "      <td>2019-09-02 10:35:00</td>\n",
       "      <td>2019-09</td>\n",
       "      <td>0.277273</td>\n",
       "      <td>forestgreen</td>\n",
       "      <td>648</td>\n",
       "      <td>1483.516590</td>\n",
       "    </tr>\n",
       "    <tr>\n",
       "      <th>11</th>\n",
       "      <td>2019</td>\n",
       "      <td>10</td>\n",
       "      <td>1.162657e+06</td>\n",
       "      <td>2019-10-01 08:30:00</td>\n",
       "      <td>2019-10</td>\n",
       "      <td>0.209440</td>\n",
       "      <td>forestgreen</td>\n",
       "      <td>780</td>\n",
       "      <td>1490.585897</td>\n",
       "    </tr>\n",
       "    <tr>\n",
       "      <th>12</th>\n",
       "      <td>2019</td>\n",
       "      <td>11</td>\n",
       "      <td>1.483943e+06</td>\n",
       "      <td>2019-11-01 08:39:00</td>\n",
       "      <td>2019-11</td>\n",
       "      <td>0.276337</td>\n",
       "      <td>forestgreen</td>\n",
       "      <td>788</td>\n",
       "      <td>1883.175920</td>\n",
       "    </tr>\n",
       "    <tr>\n",
       "      <th>13</th>\n",
       "      <td>2019</td>\n",
       "      <td>12</td>\n",
       "      <td>5.074702e+05</td>\n",
       "      <td>2019-12-02 10:10:00</td>\n",
       "      <td>2019-12</td>\n",
       "      <td>-0.658026</td>\n",
       "      <td>firebrick</td>\n",
       "      <td>375</td>\n",
       "      <td>1353.254000</td>\n",
       "    </tr>\n",
       "  </tbody>\n",
       "</table>\n",
       "</div>"
      ],
      "text/plain": [
       "    year  month       revenue        invoice_date    label    growth  \\\n",
       "0   2018     11  1.047652e+05 2018-11-29 08:26:00  2018-11  0.000000   \n",
       "1   2018     12  6.694826e+05 2018-12-01 09:31:00  2018-12  5.390312   \n",
       "2   2019      1  7.175488e+05 2019-01-02 10:00:00  2019-01  0.071796   \n",
       "3   2019      2  5.017269e+05 2019-02-01 08:18:00  2019-02 -0.300777   \n",
       "4   2019      3  6.707474e+05 2019-03-01 08:24:00  2019-03  0.336877   \n",
       "5   2019      4  4.967570e+05 2019-04-01 10:10:00  2019-04 -0.259398   \n",
       "6   2019      5  7.835728e+05 2019-05-01 08:35:00  2019-05  0.577376   \n",
       "7   2019      6  6.979084e+05 2019-06-01 07:48:00  2019-06 -0.109325   \n",
       "8   2019      7  7.193738e+05 2019-07-01 10:11:00  2019-07  0.030757   \n",
       "9   2019      8  7.526335e+05 2019-08-01 08:21:00  2019-08  0.046234   \n",
       "10  2019      9  9.613188e+05 2019-09-02 10:35:00  2019-09  0.277273   \n",
       "11  2019     10  1.162657e+06 2019-10-01 08:30:00  2019-10  0.209440   \n",
       "12  2019     11  1.483943e+06 2019-11-01 08:39:00  2019-11  0.276337   \n",
       "13  2019     12  5.074702e+05 2019-12-02 10:10:00  2019-12 -0.658026   \n",
       "\n",
       "          color  n_customer        arppu  \n",
       "0   forestgreen         182   575.633242  \n",
       "1   forestgreen         630  1062.670833  \n",
       "2   forestgreen         592  1212.075591  \n",
       "3     firebrick         551   910.575204  \n",
       "4   forestgreen         694   966.494777  \n",
       "5     firebrick         604   822.445364  \n",
       "6   forestgreen         708  1106.741261  \n",
       "7     firebrick         664  1051.066924  \n",
       "8   forestgreen         696  1033.583064  \n",
       "9   forestgreen         614  1225.787459  \n",
       "10  forestgreen         648  1483.516590  \n",
       "11  forestgreen         780  1490.585897  \n",
       "12  forestgreen         788  1883.175920  \n",
       "13    firebrick         375  1353.254000  "
      ]
     },
     "execution_count": 69,
     "metadata": {},
     "output_type": "execute_result"
    }
   ],
   "source": [
    "# Calculating the ARPPU\n",
    "arppu = pd.merge(revenue, customer, on=['year', 'month', 'invoice_date', 'label'], how='left')\n",
    "arppu.columns = ['year', 'month', 'revenue', 'invoice_date', 'label', 'growth', 'color', 'n_customer']\n",
    "arppu['arppu'] = arppu['revenue']/arppu['n_customer']\n",
    "arppu"
   ]
  },
  {
   "cell_type": "code",
   "execution_count": 70,
   "id": "united-glory",
   "metadata": {},
   "outputs": [
    {
     "data": {
      "image/png": "[encoded data removed]",
      "text/plain": [
       "<Figure size 1050x600 with 1 Axes>"
      ]
     },
     "metadata": {},
     "output_type": "display_data"
    }
   ],
   "source": [
    "# Plotting the ARPPU\n",
    "fig, ax = plt.subplots(figsize=(14,8), dpi=75)\n",
    "sns.barplot(data=arppu, x='label', y='arppu', color='teal')\n",
    "\n",
    "# Creating label on top of each bar\n",
    "for row in arppu.itertuples():\n",
    "    ax.text(row.Index, \n",
    "            row.arppu+25, \n",
    "            s=round(row.arppu, 2), \n",
    "            horizontalalignment='center',\n",
    "            verticalalignment='bottom')\n",
    "\n",
    "plt.title('Average Revenue Per Paying Users (ARPPU)', fontdict={'size':16})\n",
    "plt.xlabel('Year-Month')\n",
    "plt.ylabel(\"ARPPU\")\n",
    "plt.show()"
   ]
  },
  {
   "cell_type": "code",
   "execution_count": 71,
   "id": "imposed-layer",
   "metadata": {},
   "outputs": [
    {
     "name": "stdout",
     "output_type": "stream",
     "text": [
      "The average revenue per paying user (ARPPU) is 1155.54\n"
     ]
    }
   ],
   "source": [
    "print('The average revenue per paying user (ARPPU) is {:.2f}'.format(arppu.arppu.mean()))"
   ]
  },
  {
   "cell_type": "markdown",
   "id": "creative-palmer",
   "metadata": {},
   "source": [
    "The graph above shows how much money a single user made from their purchase. In general, we can say that one customer generates 1155 of revenue. The top ARPPU was on November 2019 with 1883 points."
   ]
  },
  {
   "cell_type": "markdown",
   "id": "qualified-grill",
   "metadata": {},
   "source": [
    "### Average Revenue Per Unit (ARPU) <a class=\"anchor\" id=\"step_4_5\"></a>"
   ]
  },
  {
   "cell_type": "markdown",
   "id": "agreed-natural",
   "metadata": {},
   "source": [
    "Average Revenue Per Unit is the amount of money we can expect to receive from selling a single product. It is calculated by dividing the monthly revenue by the number of products sold in a month.\n",
    "\n",
    "We get the number of product by calculating the sum of product `quantity` om each month,"
   ]
  },
  {
   "cell_type": "code",
   "execution_count": 72,
   "id": "alternate-contact",
   "metadata": {},
   "outputs": [
    {
     "data": {
      "text/html": [
       "<div>\n",
       "<style scoped>\n",
       "    .dataframe tbody tr th:only-of-type {\n",
       "        vertical-align: middle;\n",
       "    }\n",
       "\n",
       "    .dataframe tbody tr th {\n",
       "        vertical-align: top;\n",
       "    }\n",
       "\n",
       "    .dataframe thead th {\n",
       "        text-align: right;\n",
       "    }\n",
       "</style>\n",
       "<table border=\"1\" class=\"dataframe\">\n",
       "  <thead>\n",
       "    <tr style=\"text-align: right;\">\n",
       "      <th></th>\n",
       "      <th>year</th>\n",
       "      <th>month</th>\n",
       "      <th>quantity</th>\n",
       "      <th>invoice_date</th>\n",
       "      <th>label</th>\n",
       "    </tr>\n",
       "  </thead>\n",
       "  <tbody>\n",
       "    <tr>\n",
       "      <th>0</th>\n",
       "      <td>2018</td>\n",
       "      <td>11</td>\n",
       "      <td>58127</td>\n",
       "      <td>2018-11-29 08:26:00</td>\n",
       "      <td>2018-11</td>\n",
       "    </tr>\n",
       "    <tr>\n",
       "      <th>1</th>\n",
       "      <td>2018</td>\n",
       "      <td>12</td>\n",
       "      <td>302266</td>\n",
       "      <td>2018-12-01 09:31:00</td>\n",
       "      <td>2018-12</td>\n",
       "    </tr>\n",
       "    <tr>\n",
       "      <th>2</th>\n",
       "      <td>2019</td>\n",
       "      <td>1</td>\n",
       "      <td>420922</td>\n",
       "      <td>2019-01-02 10:00:00</td>\n",
       "      <td>2019-01</td>\n",
       "    </tr>\n",
       "    <tr>\n",
       "      <th>3</th>\n",
       "      <td>2019</td>\n",
       "      <td>2</td>\n",
       "      <td>280917</td>\n",
       "      <td>2019-02-01 08:18:00</td>\n",
       "      <td>2019-02</td>\n",
       "    </tr>\n",
       "    <tr>\n",
       "      <th>4</th>\n",
       "      <td>2019</td>\n",
       "      <td>3</td>\n",
       "      <td>380226</td>\n",
       "      <td>2019-03-01 08:24:00</td>\n",
       "      <td>2019-03</td>\n",
       "    </tr>\n",
       "    <tr>\n",
       "      <th>5</th>\n",
       "      <td>2019</td>\n",
       "      <td>4</td>\n",
       "      <td>296206</td>\n",
       "      <td>2019-04-01 10:10:00</td>\n",
       "      <td>2019-04</td>\n",
       "    </tr>\n",
       "    <tr>\n",
       "      <th>6</th>\n",
       "      <td>2019</td>\n",
       "      <td>5</td>\n",
       "      <td>419083</td>\n",
       "      <td>2019-05-01 08:35:00</td>\n",
       "      <td>2019-05</td>\n",
       "    </tr>\n",
       "    <tr>\n",
       "      <th>7</th>\n",
       "      <td>2019</td>\n",
       "      <td>6</td>\n",
       "      <td>375286</td>\n",
       "      <td>2019-06-01 07:48:00</td>\n",
       "      <td>2019-06</td>\n",
       "    </tr>\n",
       "    <tr>\n",
       "      <th>8</th>\n",
       "      <td>2019</td>\n",
       "      <td>7</td>\n",
       "      <td>424104</td>\n",
       "      <td>2019-07-01 10:11:00</td>\n",
       "      <td>2019-07</td>\n",
       "    </tr>\n",
       "    <tr>\n",
       "      <th>9</th>\n",
       "      <td>2019</td>\n",
       "      <td>8</td>\n",
       "      <td>442878</td>\n",
       "      <td>2019-08-01 08:21:00</td>\n",
       "      <td>2019-08</td>\n",
       "    </tr>\n",
       "    <tr>\n",
       "      <th>10</th>\n",
       "      <td>2019</td>\n",
       "      <td>9</td>\n",
       "      <td>533976</td>\n",
       "      <td>2019-09-02 10:35:00</td>\n",
       "      <td>2019-09</td>\n",
       "    </tr>\n",
       "    <tr>\n",
       "      <th>11</th>\n",
       "      <td>2019</td>\n",
       "      <td>10</td>\n",
       "      <td>661617</td>\n",
       "      <td>2019-10-01 08:30:00</td>\n",
       "      <td>2019-10</td>\n",
       "    </tr>\n",
       "    <tr>\n",
       "      <th>12</th>\n",
       "      <td>2019</td>\n",
       "      <td>11</td>\n",
       "      <td>773061</td>\n",
       "      <td>2019-11-01 08:39:00</td>\n",
       "      <td>2019-11</td>\n",
       "    </tr>\n",
       "    <tr>\n",
       "      <th>13</th>\n",
       "      <td>2019</td>\n",
       "      <td>12</td>\n",
       "      <td>257698</td>\n",
       "      <td>2019-12-02 10:10:00</td>\n",
       "      <td>2019-12</td>\n",
       "    </tr>\n",
       "  </tbody>\n",
       "</table>\n",
       "</div>"
      ],
      "text/plain": [
       "    year  month  quantity        invoice_date    label\n",
       "0   2018     11     58127 2018-11-29 08:26:00  2018-11\n",
       "1   2018     12    302266 2018-12-01 09:31:00  2018-12\n",
       "2   2019      1    420922 2019-01-02 10:00:00  2019-01\n",
       "3   2019      2    280917 2019-02-01 08:18:00  2019-02\n",
       "4   2019      3    380226 2019-03-01 08:24:00  2019-03\n",
       "5   2019      4    296206 2019-04-01 10:10:00  2019-04\n",
       "6   2019      5    419083 2019-05-01 08:35:00  2019-05\n",
       "7   2019      6    375286 2019-06-01 07:48:00  2019-06\n",
       "8   2019      7    424104 2019-07-01 10:11:00  2019-07\n",
       "9   2019      8    442878 2019-08-01 08:21:00  2019-08\n",
       "10  2019      9    533976 2019-09-02 10:35:00  2019-09\n",
       "11  2019     10    661617 2019-10-01 08:30:00  2019-10\n",
       "12  2019     11    773061 2019-11-01 08:39:00  2019-11\n",
       "13  2019     12    257698 2019-12-02 10:10:00  2019-12"
      ]
     },
     "execution_count": 72,
     "metadata": {},
     "output_type": "execute_result"
    }
   ],
   "source": [
    "# Calculating the quantity if products sold\n",
    "quantity = (clean_data\n",
    "             .groupby(['year', 'month', 'stock_code'])\n",
    "             .agg({'quantity':'sum', 'invoice_date':'min'})\n",
    "             .reset_index()\n",
    "             .groupby(['year', 'month'])\n",
    "             .agg({'quantity':'sum', 'invoice_date':'min'})\n",
    "             .reset_index()\n",
    "            )\n",
    "quantity['label'] = quantity['invoice_date'].dt.strftime('%Y-%m')\n",
    "quantity"
   ]
  },
  {
   "cell_type": "code",
   "execution_count": 73,
   "id": "solved-tampa",
   "metadata": {},
   "outputs": [
    {
     "data": {
      "text/html": [
       "<div>\n",
       "<style scoped>\n",
       "    .dataframe tbody tr th:only-of-type {\n",
       "        vertical-align: middle;\n",
       "    }\n",
       "\n",
       "    .dataframe tbody tr th {\n",
       "        vertical-align: top;\n",
       "    }\n",
       "\n",
       "    .dataframe thead th {\n",
       "        text-align: right;\n",
       "    }\n",
       "</style>\n",
       "<table border=\"1\" class=\"dataframe\">\n",
       "  <thead>\n",
       "    <tr style=\"text-align: right;\">\n",
       "      <th></th>\n",
       "      <th>year</th>\n",
       "      <th>month</th>\n",
       "      <th>quantity</th>\n",
       "      <th>invoice_date</th>\n",
       "      <th>label</th>\n",
       "      <th>revenue</th>\n",
       "      <th>growth</th>\n",
       "      <th>color</th>\n",
       "      <th>arpu</th>\n",
       "    </tr>\n",
       "  </thead>\n",
       "  <tbody>\n",
       "    <tr>\n",
       "      <th>0</th>\n",
       "      <td>2018</td>\n",
       "      <td>11</td>\n",
       "      <td>58127</td>\n",
       "      <td>2018-11-29 08:26:00</td>\n",
       "      <td>2018-11</td>\n",
       "      <td>1.047652e+05</td>\n",
       "      <td>0.000000</td>\n",
       "      <td>forestgreen</td>\n",
       "      <td>1.802351</td>\n",
       "    </tr>\n",
       "    <tr>\n",
       "      <th>1</th>\n",
       "      <td>2018</td>\n",
       "      <td>12</td>\n",
       "      <td>302266</td>\n",
       "      <td>2018-12-01 09:31:00</td>\n",
       "      <td>2018-12</td>\n",
       "      <td>6.694826e+05</td>\n",
       "      <td>5.390312</td>\n",
       "      <td>forestgreen</td>\n",
       "      <td>2.214879</td>\n",
       "    </tr>\n",
       "    <tr>\n",
       "      <th>2</th>\n",
       "      <td>2019</td>\n",
       "      <td>1</td>\n",
       "      <td>420922</td>\n",
       "      <td>2019-01-02 10:00:00</td>\n",
       "      <td>2019-01</td>\n",
       "      <td>7.175488e+05</td>\n",
       "      <td>0.071796</td>\n",
       "      <td>forestgreen</td>\n",
       "      <td>1.704707</td>\n",
       "    </tr>\n",
       "    <tr>\n",
       "      <th>3</th>\n",
       "      <td>2019</td>\n",
       "      <td>2</td>\n",
       "      <td>280917</td>\n",
       "      <td>2019-02-01 08:18:00</td>\n",
       "      <td>2019-02</td>\n",
       "      <td>5.017269e+05</td>\n",
       "      <td>-0.300777</td>\n",
       "      <td>firebrick</td>\n",
       "      <td>1.786033</td>\n",
       "    </tr>\n",
       "    <tr>\n",
       "      <th>4</th>\n",
       "      <td>2019</td>\n",
       "      <td>3</td>\n",
       "      <td>380226</td>\n",
       "      <td>2019-03-01 08:24:00</td>\n",
       "      <td>2019-03</td>\n",
       "      <td>6.707474e+05</td>\n",
       "      <td>0.336877</td>\n",
       "      <td>forestgreen</td>\n",
       "      <td>1.764076</td>\n",
       "    </tr>\n",
       "    <tr>\n",
       "      <th>5</th>\n",
       "      <td>2019</td>\n",
       "      <td>4</td>\n",
       "      <td>296206</td>\n",
       "      <td>2019-04-01 10:10:00</td>\n",
       "      <td>2019-04</td>\n",
       "      <td>4.967570e+05</td>\n",
       "      <td>-0.259398</td>\n",
       "      <td>firebrick</td>\n",
       "      <td>1.677066</td>\n",
       "    </tr>\n",
       "    <tr>\n",
       "      <th>6</th>\n",
       "      <td>2019</td>\n",
       "      <td>5</td>\n",
       "      <td>419083</td>\n",
       "      <td>2019-05-01 08:35:00</td>\n",
       "      <td>2019-05</td>\n",
       "      <td>7.835728e+05</td>\n",
       "      <td>0.577376</td>\n",
       "      <td>forestgreen</td>\n",
       "      <td>1.869732</td>\n",
       "    </tr>\n",
       "    <tr>\n",
       "      <th>7</th>\n",
       "      <td>2019</td>\n",
       "      <td>6</td>\n",
       "      <td>375286</td>\n",
       "      <td>2019-06-01 07:48:00</td>\n",
       "      <td>2019-06</td>\n",
       "      <td>6.979084e+05</td>\n",
       "      <td>-0.109325</td>\n",
       "      <td>firebrick</td>\n",
       "      <td>1.859671</td>\n",
       "    </tr>\n",
       "    <tr>\n",
       "      <th>8</th>\n",
       "      <td>2019</td>\n",
       "      <td>7</td>\n",
       "      <td>424104</td>\n",
       "      <td>2019-07-01 10:11:00</td>\n",
       "      <td>2019-07</td>\n",
       "      <td>7.193738e+05</td>\n",
       "      <td>0.030757</td>\n",
       "      <td>forestgreen</td>\n",
       "      <td>1.696220</td>\n",
       "    </tr>\n",
       "    <tr>\n",
       "      <th>9</th>\n",
       "      <td>2019</td>\n",
       "      <td>8</td>\n",
       "      <td>442878</td>\n",
       "      <td>2019-08-01 08:21:00</td>\n",
       "      <td>2019-08</td>\n",
       "      <td>7.526335e+05</td>\n",
       "      <td>0.046234</td>\n",
       "      <td>forestgreen</td>\n",
       "      <td>1.699415</td>\n",
       "    </tr>\n",
       "    <tr>\n",
       "      <th>10</th>\n",
       "      <td>2019</td>\n",
       "      <td>9</td>\n",
       "      <td>533976</td>\n",
       "      <td>2019-09-02 10:35:00</td>\n",
       "      <td>2019-09</td>\n",
       "      <td>9.613188e+05</td>\n",
       "      <td>0.277273</td>\n",
       "      <td>forestgreen</td>\n",
       "      <td>1.800303</td>\n",
       "    </tr>\n",
       "    <tr>\n",
       "      <th>11</th>\n",
       "      <td>2019</td>\n",
       "      <td>10</td>\n",
       "      <td>661617</td>\n",
       "      <td>2019-10-01 08:30:00</td>\n",
       "      <td>2019-10</td>\n",
       "      <td>1.162657e+06</td>\n",
       "      <td>0.209440</td>\n",
       "      <td>forestgreen</td>\n",
       "      <td>1.757296</td>\n",
       "    </tr>\n",
       "    <tr>\n",
       "      <th>12</th>\n",
       "      <td>2019</td>\n",
       "      <td>11</td>\n",
       "      <td>773061</td>\n",
       "      <td>2019-11-01 08:39:00</td>\n",
       "      <td>2019-11</td>\n",
       "      <td>1.483943e+06</td>\n",
       "      <td>0.276337</td>\n",
       "      <td>forestgreen</td>\n",
       "      <td>1.919567</td>\n",
       "    </tr>\n",
       "    <tr>\n",
       "      <th>13</th>\n",
       "      <td>2019</td>\n",
       "      <td>12</td>\n",
       "      <td>257698</td>\n",
       "      <td>2019-12-02 10:10:00</td>\n",
       "      <td>2019-12</td>\n",
       "      <td>5.074702e+05</td>\n",
       "      <td>-0.658026</td>\n",
       "      <td>firebrick</td>\n",
       "      <td>1.969244</td>\n",
       "    </tr>\n",
       "  </tbody>\n",
       "</table>\n",
       "</div>"
      ],
      "text/plain": [
       "    year  month  quantity        invoice_date    label       revenue  \\\n",
       "0   2018     11     58127 2018-11-29 08:26:00  2018-11  1.047652e+05   \n",
       "1   2018     12    302266 2018-12-01 09:31:00  2018-12  6.694826e+05   \n",
       "2   2019      1    420922 2019-01-02 10:00:00  2019-01  7.175488e+05   \n",
       "3   2019      2    280917 2019-02-01 08:18:00  2019-02  5.017269e+05   \n",
       "4   2019      3    380226 2019-03-01 08:24:00  2019-03  6.707474e+05   \n",
       "5   2019      4    296206 2019-04-01 10:10:00  2019-04  4.967570e+05   \n",
       "6   2019      5    419083 2019-05-01 08:35:00  2019-05  7.835728e+05   \n",
       "7   2019      6    375286 2019-06-01 07:48:00  2019-06  6.979084e+05   \n",
       "8   2019      7    424104 2019-07-01 10:11:00  2019-07  7.193738e+05   \n",
       "9   2019      8    442878 2019-08-01 08:21:00  2019-08  7.526335e+05   \n",
       "10  2019      9    533976 2019-09-02 10:35:00  2019-09  9.613188e+05   \n",
       "11  2019     10    661617 2019-10-01 08:30:00  2019-10  1.162657e+06   \n",
       "12  2019     11    773061 2019-11-01 08:39:00  2019-11  1.483943e+06   \n",
       "13  2019     12    257698 2019-12-02 10:10:00  2019-12  5.074702e+05   \n",
       "\n",
       "      growth        color      arpu  \n",
       "0   0.000000  forestgreen  1.802351  \n",
       "1   5.390312  forestgreen  2.214879  \n",
       "2   0.071796  forestgreen  1.704707  \n",
       "3  -0.300777    firebrick  1.786033  \n",
       "4   0.336877  forestgreen  1.764076  \n",
       "5  -0.259398    firebrick  1.677066  \n",
       "6   0.577376  forestgreen  1.869732  \n",
       "7  -0.109325    firebrick  1.859671  \n",
       "8   0.030757  forestgreen  1.696220  \n",
       "9   0.046234  forestgreen  1.699415  \n",
       "10  0.277273  forestgreen  1.800303  \n",
       "11  0.209440  forestgreen  1.757296  \n",
       "12  0.276337  forestgreen  1.919567  \n",
       "13 -0.658026    firebrick  1.969244  "
      ]
     },
     "execution_count": 73,
     "metadata": {},
     "output_type": "execute_result"
    }
   ],
   "source": [
    "# Merging the dataframes and calculating the ARPU\n",
    "arpu = pd.merge(quantity, revenue, on=['year', 'month', 'invoice_date', 'label'], how='left')\n",
    "arpu['arpu'] = arpu['revenue']/arpu['quantity']\n",
    "arpu"
   ]
  },
  {
   "cell_type": "code",
   "execution_count": 74,
   "id": "pursuant-group",
   "metadata": {},
   "outputs": [
    {
     "data": {
      "image/png": "[encoded data removed]",
      "text/plain": [
       "<Figure size 1050x450 with 1 Axes>"
      ]
     },
     "metadata": {},
     "output_type": "display_data"
    }
   ],
   "source": [
    "fig, ax = plt.subplots(figsize=(14,6), dpi=75)\n",
    "sns.barplot(data=arpu, x='label', y='arpu', color='teal')\n",
    "\n",
    "for row in arpu.itertuples():\n",
    "    ax.text(row.Index, \n",
    "            row.arpu+0.01, \n",
    "            s=round(row.arpu, 2), \n",
    "            horizontalalignment='center',\n",
    "            verticalalignment='bottom')\n",
    "    \n",
    "plt.title('Average Revenue Per Unit (ARPU)', fontdict={'size':16})\n",
    "plt.xlabel('Year-Month')\n",
    "plt.ylabel('ARPU')\n",
    "plt.show()"
   ]
  },
  {
   "cell_type": "code",
   "execution_count": 75,
   "id": "applicable-albuquerque",
   "metadata": {},
   "outputs": [
    {
     "name": "stdout",
     "output_type": "stream",
     "text": [
      "The average revenue per user (ARPU) is 1.82\n"
     ]
    }
   ],
   "source": [
    "print('The average revenue per user (ARPU) is {:.2f}'.format(arpu.arpu.mean()))"
   ]
  },
  {
   "cell_type": "markdown",
   "id": "blond-municipality",
   "metadata": {},
   "source": [
    "The graph shows that the sales generate a relatively stable revenue per unit, which on average is 1.82. There is a relatively high figure in December 2018, where the ARPU was 2.21 points."
   ]
  },
  {
   "cell_type": "markdown",
   "id": "integrated-television",
   "metadata": {},
   "source": [
    "<div class=\"alert alert-success\">\n",
    "Good KPI-analysis!\n",
    " </div>"
   ]
  },
  {
   "cell_type": "markdown",
   "id": "friendly-tomato",
   "metadata": {},
   "source": [
    "### Product Performace <a class=\"anchor\" id=\"step_4_6\"></a>"
   ]
  },
  {
   "cell_type": "markdown",
   "id": "stuck-indianapolis",
   "metadata": {},
   "source": [
    "The following functions is used to show the number of top `n` products based on revenue,"
   ]
  },
  {
   "cell_type": "code",
   "execution_count": 76,
   "id": "adverse-wound",
   "metadata": {},
   "outputs": [],
   "source": [
    "def show_top(n_highest):\n",
    "    '''\n",
    "    Description:\n",
    "    Display of top n products based on revenue.\n",
    "    '''\n",
    "    result = (clean_data\n",
    "              .groupby(['stock_code', 'description'])\n",
    "              .sum()['revenue']\n",
    "              .sort_values(ascending=False)\n",
    "              .head(n_highest).reset_index()\n",
    "             )\n",
    "    fig, ax = plt.subplots(figsize=(10,round(n_highest*0.5)), dpi=75)\n",
    "    sns.barplot(data=result, y=result.description.map(lambda x: x.title()), x='revenue', color='teal', orient='h')\n",
    "    \n",
    "    for row in result.itertuples():\n",
    "        ax.text(row.revenue+10000,\n",
    "                row.Index,\n",
    "                s=round(row.revenue, 2), \n",
    "                horizontalalignment='center',\n",
    "                verticalalignment='bottom')\n",
    "    plt.title('The Top {} Products Based on Revenue'.format(n_highest), fontdict={'size':16})\n",
    "    plt.xlabel('Revenue')\n",
    "    plt.xlim(0, result.revenue.max()+25000)\n",
    "    plt.ylabel('Item Name')\n",
    "    plt.show()\n",
    "    "
   ]
  },
  {
   "cell_type": "code",
   "execution_count": 77,
   "id": "eight-colleague",
   "metadata": {},
   "outputs": [
    {
     "data": {
      "image/png": "[encoded data removed]",
      "text/plain": [
       "<Figure size 750x150 with 1 Axes>"
      ]
     },
     "metadata": {},
     "output_type": "display_data"
    }
   ],
   "source": [
    "# Showing the top 3 products\n",
    "show_top(3)"
   ]
  },
  {
   "cell_type": "code",
   "execution_count": 78,
   "id": "scientific-petroleum",
   "metadata": {},
   "outputs": [
    {
     "data": {
      "image/png": "[encoded data removed]",
      "text/plain": [
       "<Figure size 750x375 with 1 Axes>"
      ]
     },
     "metadata": {},
     "output_type": "display_data"
    }
   ],
   "source": [
    "# Showing the top 10 products\n",
    "show_top(10)"
   ]
  },
  {
   "cell_type": "code",
   "execution_count": 79,
   "id": "biblical-covering",
   "metadata": {},
   "outputs": [
    {
     "data": {
      "image/png": "[encoded data removed]",
      "text/plain": [
       "<Figure size 750x900 with 1 Axes>"
      ]
     },
     "metadata": {},
     "output_type": "display_data"
    }
   ],
   "source": [
    "# Showing the top 25 products\n",
    "show_top(25)"
   ]
  },
  {
   "cell_type": "markdown",
   "id": "hollow-edmonton",
   "metadata": {},
   "source": [
    "The above figures shows the 3, 10, and 25 top products based on the revenue. Among the top performers are `Regency Cakestand 3 Tier`, `Paper Craft, Little Birdie`, and `White Hanging Heart T-Light Holder`."
   ]
  },
  {
   "cell_type": "markdown",
   "id": "heavy-swift",
   "metadata": {},
   "source": [
    "### Analysis <a class=\"anchor\" id=\"step_4_7\"></a>"
   ]
  },
  {
   "cell_type": "markdown",
   "id": "conscious-zambia",
   "metadata": {},
   "source": [
    "Three of the KPIs show that our most profitable month is November 2019, where we scored the highest revenue, check, and ARPPU. To find out what caused the increased sales, we start by finding the most profitable day and finding out the most purchased product.\n",
    "\n",
    "To begin, we extract the day information from `invoice_date.`"
   ]
  },
  {
   "cell_type": "code",
   "execution_count": 80,
   "id": "northern-comparative",
   "metadata": {},
   "outputs": [
    {
     "data": {
      "text/html": [
       "<div>\n",
       "<style scoped>\n",
       "    .dataframe tbody tr th:only-of-type {\n",
       "        vertical-align: middle;\n",
       "    }\n",
       "\n",
       "    .dataframe tbody tr th {\n",
       "        vertical-align: top;\n",
       "    }\n",
       "\n",
       "    .dataframe thead th {\n",
       "        text-align: right;\n",
       "    }\n",
       "</style>\n",
       "<table border=\"1\" class=\"dataframe\">\n",
       "  <thead>\n",
       "    <tr style=\"text-align: right;\">\n",
       "      <th></th>\n",
       "      <th>invoice_no</th>\n",
       "      <th>stock_code</th>\n",
       "      <th>description</th>\n",
       "      <th>quantity</th>\n",
       "      <th>invoice_date</th>\n",
       "      <th>unit_price</th>\n",
       "      <th>customer_id</th>\n",
       "      <th>is_alpha</th>\n",
       "      <th>year</th>\n",
       "      <th>month</th>\n",
       "      <th>day</th>\n",
       "      <th>revenue</th>\n",
       "    </tr>\n",
       "  </thead>\n",
       "  <tbody>\n",
       "    <tr>\n",
       "      <th>0</th>\n",
       "      <td>536365</td>\n",
       "      <td>85123A</td>\n",
       "      <td>white hanging heart t-light holder</td>\n",
       "      <td>6</td>\n",
       "      <td>2018-11-29 08:26:00</td>\n",
       "      <td>2.55</td>\n",
       "      <td>17856.0</td>\n",
       "      <td>False</td>\n",
       "      <td>2018</td>\n",
       "      <td>11</td>\n",
       "      <td>29</td>\n",
       "      <td>15.299999</td>\n",
       "    </tr>\n",
       "    <tr>\n",
       "      <th>1</th>\n",
       "      <td>536365</td>\n",
       "      <td>71053</td>\n",
       "      <td>white metal lantern</td>\n",
       "      <td>6</td>\n",
       "      <td>2018-11-29 08:26:00</td>\n",
       "      <td>3.39</td>\n",
       "      <td>17856.0</td>\n",
       "      <td>False</td>\n",
       "      <td>2018</td>\n",
       "      <td>11</td>\n",
       "      <td>29</td>\n",
       "      <td>20.340000</td>\n",
       "    </tr>\n",
       "    <tr>\n",
       "      <th>2</th>\n",
       "      <td>536365</td>\n",
       "      <td>84406B</td>\n",
       "      <td>cream cupid hearts coat hanger</td>\n",
       "      <td>8</td>\n",
       "      <td>2018-11-29 08:26:00</td>\n",
       "      <td>2.75</td>\n",
       "      <td>17856.0</td>\n",
       "      <td>False</td>\n",
       "      <td>2018</td>\n",
       "      <td>11</td>\n",
       "      <td>29</td>\n",
       "      <td>22.000000</td>\n",
       "    </tr>\n",
       "    <tr>\n",
       "      <th>3</th>\n",
       "      <td>536365</td>\n",
       "      <td>84029G</td>\n",
       "      <td>knitted union flag hot water bottle</td>\n",
       "      <td>6</td>\n",
       "      <td>2018-11-29 08:26:00</td>\n",
       "      <td>3.39</td>\n",
       "      <td>17856.0</td>\n",
       "      <td>False</td>\n",
       "      <td>2018</td>\n",
       "      <td>11</td>\n",
       "      <td>29</td>\n",
       "      <td>20.340000</td>\n",
       "    </tr>\n",
       "    <tr>\n",
       "      <th>4</th>\n",
       "      <td>536365</td>\n",
       "      <td>84029E</td>\n",
       "      <td>red woolly hottie white heart.</td>\n",
       "      <td>6</td>\n",
       "      <td>2018-11-29 08:26:00</td>\n",
       "      <td>3.39</td>\n",
       "      <td>17856.0</td>\n",
       "      <td>False</td>\n",
       "      <td>2018</td>\n",
       "      <td>11</td>\n",
       "      <td>29</td>\n",
       "      <td>20.340000</td>\n",
       "    </tr>\n",
       "    <tr>\n",
       "      <th>...</th>\n",
       "      <td>...</td>\n",
       "      <td>...</td>\n",
       "      <td>...</td>\n",
       "      <td>...</td>\n",
       "      <td>...</td>\n",
       "      <td>...</td>\n",
       "      <td>...</td>\n",
       "      <td>...</td>\n",
       "      <td>...</td>\n",
       "      <td>...</td>\n",
       "      <td>...</td>\n",
       "      <td>...</td>\n",
       "    </tr>\n",
       "    <tr>\n",
       "      <th>541904</th>\n",
       "      <td>581587</td>\n",
       "      <td>22613</td>\n",
       "      <td>pack of 20 spaceboy napkins</td>\n",
       "      <td>12</td>\n",
       "      <td>2019-12-07 12:50:00</td>\n",
       "      <td>0.85</td>\n",
       "      <td>12680.0</td>\n",
       "      <td>False</td>\n",
       "      <td>2019</td>\n",
       "      <td>12</td>\n",
       "      <td>7</td>\n",
       "      <td>10.200001</td>\n",
       "    </tr>\n",
       "    <tr>\n",
       "      <th>541905</th>\n",
       "      <td>581587</td>\n",
       "      <td>22899</td>\n",
       "      <td>children's apron dolly girl</td>\n",
       "      <td>6</td>\n",
       "      <td>2019-12-07 12:50:00</td>\n",
       "      <td>2.10</td>\n",
       "      <td>12680.0</td>\n",
       "      <td>False</td>\n",
       "      <td>2019</td>\n",
       "      <td>12</td>\n",
       "      <td>7</td>\n",
       "      <td>12.599999</td>\n",
       "    </tr>\n",
       "    <tr>\n",
       "      <th>541906</th>\n",
       "      <td>581587</td>\n",
       "      <td>23254</td>\n",
       "      <td>childrens cutlery dolly girl</td>\n",
       "      <td>4</td>\n",
       "      <td>2019-12-07 12:50:00</td>\n",
       "      <td>4.15</td>\n",
       "      <td>12680.0</td>\n",
       "      <td>False</td>\n",
       "      <td>2019</td>\n",
       "      <td>12</td>\n",
       "      <td>7</td>\n",
       "      <td>16.600000</td>\n",
       "    </tr>\n",
       "    <tr>\n",
       "      <th>541907</th>\n",
       "      <td>581587</td>\n",
       "      <td>23255</td>\n",
       "      <td>childrens cutlery circus parade</td>\n",
       "      <td>4</td>\n",
       "      <td>2019-12-07 12:50:00</td>\n",
       "      <td>4.15</td>\n",
       "      <td>12680.0</td>\n",
       "      <td>False</td>\n",
       "      <td>2019</td>\n",
       "      <td>12</td>\n",
       "      <td>7</td>\n",
       "      <td>16.600000</td>\n",
       "    </tr>\n",
       "    <tr>\n",
       "      <th>541908</th>\n",
       "      <td>581587</td>\n",
       "      <td>22138</td>\n",
       "      <td>baking set 9 piece retrospot</td>\n",
       "      <td>3</td>\n",
       "      <td>2019-12-07 12:50:00</td>\n",
       "      <td>4.95</td>\n",
       "      <td>12680.0</td>\n",
       "      <td>False</td>\n",
       "      <td>2019</td>\n",
       "      <td>12</td>\n",
       "      <td>7</td>\n",
       "      <td>14.849999</td>\n",
       "    </tr>\n",
       "  </tbody>\n",
       "</table>\n",
       "<p>523277 rows × 12 columns</p>\n",
       "</div>"
      ],
      "text/plain": [
       "       invoice_no stock_code                          description  quantity  \\\n",
       "0          536365     85123A   white hanging heart t-light holder         6   \n",
       "1          536365      71053                  white metal lantern         6   \n",
       "2          536365     84406B       cream cupid hearts coat hanger         8   \n",
       "3          536365     84029G  knitted union flag hot water bottle         6   \n",
       "4          536365     84029E       red woolly hottie white heart.         6   \n",
       "...           ...        ...                                  ...       ...   \n",
       "541904     581587      22613          pack of 20 spaceboy napkins        12   \n",
       "541905     581587      22899         children's apron dolly girl          6   \n",
       "541906     581587      23254        childrens cutlery dolly girl          4   \n",
       "541907     581587      23255      childrens cutlery circus parade         4   \n",
       "541908     581587      22138        baking set 9 piece retrospot          3   \n",
       "\n",
       "              invoice_date  unit_price customer_id is_alpha  year  month  day  \\\n",
       "0      2018-11-29 08:26:00        2.55     17856.0    False  2018     11   29   \n",
       "1      2018-11-29 08:26:00        3.39     17856.0    False  2018     11   29   \n",
       "2      2018-11-29 08:26:00        2.75     17856.0    False  2018     11   29   \n",
       "3      2018-11-29 08:26:00        3.39     17856.0    False  2018     11   29   \n",
       "4      2018-11-29 08:26:00        3.39     17856.0    False  2018     11   29   \n",
       "...                    ...         ...         ...      ...   ...    ...  ...   \n",
       "541904 2019-12-07 12:50:00        0.85     12680.0    False  2019     12    7   \n",
       "541905 2019-12-07 12:50:00        2.10     12680.0    False  2019     12    7   \n",
       "541906 2019-12-07 12:50:00        4.15     12680.0    False  2019     12    7   \n",
       "541907 2019-12-07 12:50:00        4.15     12680.0    False  2019     12    7   \n",
       "541908 2019-12-07 12:50:00        4.95     12680.0    False  2019     12    7   \n",
       "\n",
       "          revenue  \n",
       "0       15.299999  \n",
       "1       20.340000  \n",
       "2       22.000000  \n",
       "3       20.340000  \n",
       "4       20.340000  \n",
       "...           ...  \n",
       "541904  10.200001  \n",
       "541905  12.599999  \n",
       "541906  16.600000  \n",
       "541907  16.600000  \n",
       "541908  14.849999  \n",
       "\n",
       "[523277 rows x 12 columns]"
      ]
     },
     "execution_count": 80,
     "metadata": {},
     "output_type": "execute_result"
    }
   ],
   "source": [
    "# Extracting `day` from `invoice_date`\n",
    "clean_data['day'] = clean_data['invoice_date'].dt.day\n",
    "clean_data"
   ]
  },
  {
   "cell_type": "markdown",
   "id": "hollywood-bikini",
   "metadata": {},
   "source": [
    "Now we find the day with the highest revenue,"
   ]
  },
  {
   "cell_type": "code",
   "execution_count": 81,
   "id": "planned-statement",
   "metadata": {},
   "outputs": [
    {
     "data": {
      "image/png": "[encoded data removed]",
      "text/plain": [
       "<Figure size 1440x432 with 1 Axes>"
      ]
     },
     "metadata": {},
     "output_type": "display_data"
    }
   ],
   "source": [
    "# Finding the day in November 2019 with the highest revenue\n",
    "day_revenue = clean_data.query('year == 2019 and month == 11').groupby(['day']).sum()['revenue'].reset_index()\n",
    "\n",
    "# Plotting the graph\n",
    "fig, ax = plt.subplots(figsize=(20,6))\n",
    "sns.barplot(data=day_revenue, x='day', y='revenue', color='teal')\n",
    "\n",
    "for row in day_revenue.itertuples():\n",
    "    ax.text(row.Index, \n",
    "            row.revenue+1000, \n",
    "            s=round(row.revenue), \n",
    "            horizontalalignment='center',\n",
    "            verticalalignment='bottom')\n",
    "    \n",
    "plt.title('Day in November 2019 with the Highest Revenue', fontdict={'size':16})\n",
    "plt.xlabel('Day')\n",
    "plt.ylabel('Revenue')\n",
    "plt.show()"
   ]
  },
  {
   "cell_type": "markdown",
   "id": "careful-central",
   "metadata": {},
   "source": [
    "The graph shows that the most profitable day is day 12. We can find out what is the most profitable item purchased on that day"
   ]
  },
  {
   "cell_type": "code",
   "execution_count": 82,
   "id": "humanitarian-photographer",
   "metadata": {},
   "outputs": [
    {
     "data": {
      "text/html": [
       "<div>\n",
       "<style scoped>\n",
       "    .dataframe tbody tr th:only-of-type {\n",
       "        vertical-align: middle;\n",
       "    }\n",
       "\n",
       "    .dataframe tbody tr th {\n",
       "        vertical-align: top;\n",
       "    }\n",
       "\n",
       "    .dataframe thead th {\n",
       "        text-align: right;\n",
       "    }\n",
       "</style>\n",
       "<table border=\"1\" class=\"dataframe\">\n",
       "  <thead>\n",
       "    <tr style=\"text-align: right;\">\n",
       "      <th></th>\n",
       "      <th>day</th>\n",
       "      <th>quantity</th>\n",
       "      <th>unit_price</th>\n",
       "      <th>year</th>\n",
       "      <th>month</th>\n",
       "      <th>revenue</th>\n",
       "    </tr>\n",
       "    <tr>\n",
       "      <th>stock_code</th>\n",
       "      <th></th>\n",
       "      <th></th>\n",
       "      <th></th>\n",
       "      <th></th>\n",
       "      <th></th>\n",
       "      <th></th>\n",
       "    </tr>\n",
       "  </thead>\n",
       "  <tbody>\n",
       "    <tr>\n",
       "      <th>22086</th>\n",
       "      <td>12</td>\n",
       "      <td>914</td>\n",
       "      <td>46.830002</td>\n",
       "      <td>26247</td>\n",
       "      <td>143</td>\n",
       "      <td>5483.700195</td>\n",
       "    </tr>\n",
       "    <tr>\n",
       "      <th>23084</th>\n",
       "      <td>12</td>\n",
       "      <td>686</td>\n",
       "      <td>51.860001</td>\n",
       "      <td>44418</td>\n",
       "      <td>242</td>\n",
       "      <td>2774.579834</td>\n",
       "    </tr>\n",
       "    <tr>\n",
       "      <th>22197</th>\n",
       "      <td>12</td>\n",
       "      <td>1767</td>\n",
       "      <td>14.890000</td>\n",
       "      <td>30285</td>\n",
       "      <td>165</td>\n",
       "      <td>2708.030029</td>\n",
       "    </tr>\n",
       "    <tr>\n",
       "      <th>22158</th>\n",
       "      <td>12</td>\n",
       "      <td>430</td>\n",
       "      <td>30.040001</td>\n",
       "      <td>16152</td>\n",
       "      <td>88</td>\n",
       "      <td>2552.579834</td>\n",
       "    </tr>\n",
       "    <tr>\n",
       "      <th>23344</th>\n",
       "      <td>12</td>\n",
       "      <td>539</td>\n",
       "      <td>25.430000</td>\n",
       "      <td>20190</td>\n",
       "      <td>110</td>\n",
       "      <td>2225.359863</td>\n",
       "    </tr>\n",
       "  </tbody>\n",
       "</table>\n",
       "</div>"
      ],
      "text/plain": [
       "            day  quantity  unit_price   year  month      revenue\n",
       "stock_code                                                      \n",
       "22086        12       914   46.830002  26247    143  5483.700195\n",
       "23084        12       686   51.860001  44418    242  2774.579834\n",
       "22197        12      1767   14.890000  30285    165  2708.030029\n",
       "22158        12       430   30.040001  16152     88  2552.579834\n",
       "23344        12       539   25.430000  20190    110  2225.359863"
      ]
     },
     "execution_count": 82,
     "metadata": {},
     "output_type": "execute_result"
    }
   ],
   "source": [
    "# Finding the most profitable items sold in Nov 12, 2019\n",
    "(clean_data\n",
    " .query('year == 2019 and month == 11')\n",
    " .groupby(['day', 'stock_code'])\n",
    " .sum()\n",
    " .reset_index()\n",
    " .query('day == 12')\n",
    " .groupby('stock_code')\n",
    " .sum()\n",
    " .sort_values(by='revenue', ascending=False)\n",
    " .head()\n",
    ")"
   ]
  },
  {
   "cell_type": "markdown",
   "id": "figured-lewis",
   "metadata": {},
   "source": [
    "The highest generating item on November 12, 2019, was `stock_code=22086`, which is"
   ]
  },
  {
   "cell_type": "code",
   "execution_count": 83,
   "id": "lyric-organizer",
   "metadata": {},
   "outputs": [
    {
     "name": "stdout",
     "output_type": "stream",
     "text": [
      "Item with stock_code 22086: Paper Chain Kit 50'S Christmas \n"
     ]
    }
   ],
   "source": [
    "print('Item with stock_code 22086: {}'.format(clean_data\n",
    "                                              .query('stock_code == \"22086\"')\n",
    "                                              .description\n",
    "                                              .unique()[0].title())\n",
    "     )"
   ]
  },
  {
   "cell_type": "markdown",
   "id": "coupled-livestock",
   "metadata": {},
   "source": [
    "It is also interesting to find out what is the most profitable item in the whole month,"
   ]
  },
  {
   "cell_type": "code",
   "execution_count": 84,
   "id": "inner-oracle",
   "metadata": {},
   "outputs": [
    {
     "data": {
      "text/html": [
       "<div>\n",
       "<style scoped>\n",
       "    .dataframe tbody tr th:only-of-type {\n",
       "        vertical-align: middle;\n",
       "    }\n",
       "\n",
       "    .dataframe tbody tr th {\n",
       "        vertical-align: top;\n",
       "    }\n",
       "\n",
       "    .dataframe thead th {\n",
       "        text-align: right;\n",
       "    }\n",
       "</style>\n",
       "<table border=\"1\" class=\"dataframe\">\n",
       "  <thead>\n",
       "    <tr style=\"text-align: right;\">\n",
       "      <th></th>\n",
       "      <th>stock_code</th>\n",
       "      <th>day</th>\n",
       "      <th>quantity</th>\n",
       "      <th>unit_price</th>\n",
       "      <th>year</th>\n",
       "      <th>month</th>\n",
       "      <th>revenue</th>\n",
       "    </tr>\n",
       "  </thead>\n",
       "  <tbody>\n",
       "    <tr>\n",
       "      <th>0</th>\n",
       "      <td>23084</td>\n",
       "      <td>411</td>\n",
       "      <td>14871</td>\n",
       "      <td>1142.049927</td>\n",
       "      <td>1039785</td>\n",
       "      <td>5665</td>\n",
       "      <td>34634.210938</td>\n",
       "    </tr>\n",
       "    <tr>\n",
       "      <th>1</th>\n",
       "      <td>22086</td>\n",
       "      <td>411</td>\n",
       "      <td>8106</td>\n",
       "      <td>1334.180054</td>\n",
       "      <td>835866</td>\n",
       "      <td>4554</td>\n",
       "      <td>29559.980469</td>\n",
       "    </tr>\n",
       "    <tr>\n",
       "      <th>2</th>\n",
       "      <td>22197</td>\n",
       "      <td>411</td>\n",
       "      <td>13642</td>\n",
       "      <td>253.720001</td>\n",
       "      <td>514845</td>\n",
       "      <td>2805</td>\n",
       "      <td>15148.879883</td>\n",
       "    </tr>\n",
       "    <tr>\n",
       "      <th>3</th>\n",
       "      <td>85123A</td>\n",
       "      <td>411</td>\n",
       "      <td>4981</td>\n",
       "      <td>889.849976</td>\n",
       "      <td>545130</td>\n",
       "      <td>2970</td>\n",
       "      <td>14458.470703</td>\n",
       "    </tr>\n",
       "    <tr>\n",
       "      <th>4</th>\n",
       "      <td>22423</td>\n",
       "      <td>411</td>\n",
       "      <td>1080</td>\n",
       "      <td>3064.320068</td>\n",
       "      <td>419952</td>\n",
       "      <td>2288</td>\n",
       "      <td>14151.120117</td>\n",
       "    </tr>\n",
       "    <tr>\n",
       "      <th>5</th>\n",
       "      <td>22910</td>\n",
       "      <td>411</td>\n",
       "      <td>3675</td>\n",
       "      <td>994.609985</td>\n",
       "      <td>593586</td>\n",
       "      <td>3234</td>\n",
       "      <td>12710.030273</td>\n",
       "    </tr>\n",
       "    <tr>\n",
       "      <th>6</th>\n",
       "      <td>23355</td>\n",
       "      <td>411</td>\n",
       "      <td>2420</td>\n",
       "      <td>1621.569946</td>\n",
       "      <td>611757</td>\n",
       "      <td>3333</td>\n",
       "      <td>12245.120117</td>\n",
       "    </tr>\n",
       "    <tr>\n",
       "      <th>7</th>\n",
       "      <td>85099B</td>\n",
       "      <td>411</td>\n",
       "      <td>6222</td>\n",
       "      <td>592.309998</td>\n",
       "      <td>504750</td>\n",
       "      <td>2750</td>\n",
       "      <td>12203.360352</td>\n",
       "    </tr>\n",
       "    <tr>\n",
       "      <th>8</th>\n",
       "      <td>79321</td>\n",
       "      <td>411</td>\n",
       "      <td>2221</td>\n",
       "      <td>833.019958</td>\n",
       "      <td>232185</td>\n",
       "      <td>1265</td>\n",
       "      <td>12101.739258</td>\n",
       "    </tr>\n",
       "    <tr>\n",
       "      <th>9</th>\n",
       "      <td>23344</td>\n",
       "      <td>411</td>\n",
       "      <td>4175</td>\n",
       "      <td>650.809998</td>\n",
       "      <td>563301</td>\n",
       "      <td>3069</td>\n",
       "      <td>11267.819336</td>\n",
       "    </tr>\n",
       "  </tbody>\n",
       "</table>\n",
       "</div>"
      ],
      "text/plain": [
       "  stock_code  day  quantity   unit_price     year  month       revenue\n",
       "0      23084  411     14871  1142.049927  1039785   5665  34634.210938\n",
       "1      22086  411      8106  1334.180054   835866   4554  29559.980469\n",
       "2      22197  411     13642   253.720001   514845   2805  15148.879883\n",
       "3     85123A  411      4981   889.849976   545130   2970  14458.470703\n",
       "4      22423  411      1080  3064.320068   419952   2288  14151.120117\n",
       "5      22910  411      3675   994.609985   593586   3234  12710.030273\n",
       "6      23355  411      2420  1621.569946   611757   3333  12245.120117\n",
       "7     85099B  411      6222   592.309998   504750   2750  12203.360352\n",
       "8      79321  411      2221   833.019958   232185   1265  12101.739258\n",
       "9      23344  411      4175   650.809998   563301   3069  11267.819336"
      ]
     },
     "execution_count": 84,
     "metadata": {},
     "output_type": "execute_result"
    }
   ],
   "source": [
    "# Finding the most profitable items sold in Nov 2019\n",
    "top_10_nov = (clean_data\n",
    "              .query('year == 2019 and month == 11')\n",
    "              .groupby(['day', 'stock_code'])\n",
    "              .sum()\n",
    "              .reset_index()\n",
    "              .groupby('stock_code')\n",
    "              .sum()\n",
    "              .sort_values(by='revenue', ascending=False)\n",
    "              .reset_index()\n",
    "              .head(10)\n",
    "             )\n",
    "top_10_nov"
   ]
  },
  {
   "cell_type": "markdown",
   "id": "adolescent-arrangement",
   "metadata": {},
   "source": [
    "Beside item with `stock_code=22086`, item with `stock_code=23084` and `stock_code=22197` also make equally high revenues. We can take ten most profitable items and see what their names are,"
   ]
  },
  {
   "cell_type": "code",
   "execution_count": 85,
   "id": "pressing-ethics",
   "metadata": {},
   "outputs": [
    {
     "name": "stdout",
     "output_type": "stream",
     "text": [
      "Item with stock_code=23084: Rabbit Night Light\n",
      "Item with stock_code=22086: Paper Chain Kit 50'S Christmas \n",
      "Item with stock_code=22197: Small Popcorn Holder\n",
      "Item with stock_code=85123A: White Hanging Heart T-Light Holder\n",
      "Item with stock_code=22423: Regency Cakestand 3 Tier\n",
      "Item with stock_code=22910: Paper Chain Kit Vintage Christmas\n",
      "Item with stock_code=23355: Hot Water Bottle Keep Calm\n",
      "Item with stock_code=85099B: Jumbo Bag Red Retrospot\n",
      "Item with stock_code=79321: Chilli Lights\n",
      "Item with stock_code=23344: Jumbo Bag 50'S Christmas \n"
     ]
    }
   ],
   "source": [
    "# Finding the names\n",
    "for item in top_10_nov.stock_code:\n",
    "    print('Item with stock_code={}: {}'.format(item, clean_data.query('stock_code == @item').description.unique()[0].title()))"
   ]
  },
  {
   "cell_type": "markdown",
   "id": "structural-hearing",
   "metadata": {},
   "source": [
    "We can also find the top products sold in December 2019,"
   ]
  },
  {
   "cell_type": "code",
   "execution_count": 86,
   "id": "powered-indonesian",
   "metadata": {},
   "outputs": [
    {
     "name": "stdout",
     "output_type": "stream",
     "text": [
      "Item with stock_code=23843: Paper Craft , Little Birdie\n",
      "Item with stock_code=23084: Rabbit Night Light\n",
      "Item with stock_code=21137: Black Record Cover Frame\n",
      "Item with stock_code=22086: Paper Chain Kit 50'S Christmas \n",
      "Item with stock_code=22423: Regency Cakestand 3 Tier\n",
      "Item with stock_code=22197: Small Popcorn Holder\n",
      "Item with stock_code=22413: Metal Sign Take It Or Leave It \n",
      "Item with stock_code=22727: Alarm Clock Bakelike Red \n",
      "Item with stock_code=22114: Hot Water Bottle Tea And Sympathy\n",
      "Item with stock_code=23543: Keep Calm Wall Art \n"
     ]
    }
   ],
   "source": [
    "# Finding the most profitable items sold in Nov 2019\n",
    "top_10_dec = (clean_data\n",
    "              .query('year == 2019 and month == 12')\n",
    "              .groupby(['day', 'stock_code'])\n",
    "              .sum()\n",
    "              .reset_index()\n",
    "              .groupby('stock_code')\n",
    "              .sum()\n",
    "              .sort_values(by='revenue', ascending=False)\n",
    "              .reset_index()\n",
    "              .head(10)\n",
    "             )\n",
    "\n",
    "for item in top_10_dec.stock_code:\n",
    "    print('Item with stock_code={}: {}'.format(item, clean_data.query('stock_code == @item').description.unique()[0].title()))"
   ]
  },
  {
   "cell_type": "markdown",
   "id": "cosmetic-miller",
   "metadata": {},
   "source": [
    "Therefore we can conclude that the high revenue in November was generated by items related to Christmas decoration. Customers started to make Christmas decorations or gifts in November and bought the supplies from us. This also explains why the revenue in December 2018 dropped since all decorations or giftd supposedly are ready to be sold, and fewer people look for these supplies."
   ]
  },
  {
   "cell_type": "markdown",
   "id": "assured-agency",
   "metadata": {},
   "source": [
    "Before moving to the next part, we will merge all the dataframes used in calculating the KPI. Then, we will use the merged dataframes to build visualization in Tableau."
   ]
  },
  {
   "cell_type": "code",
   "execution_count": 87,
   "id": "announced-demographic",
   "metadata": {},
   "outputs": [
    {
     "data": {
      "text/html": [
       "<div>\n",
       "<style scoped>\n",
       "    .dataframe tbody tr th:only-of-type {\n",
       "        vertical-align: middle;\n",
       "    }\n",
       "\n",
       "    .dataframe tbody tr th {\n",
       "        vertical-align: top;\n",
       "    }\n",
       "\n",
       "    .dataframe thead th {\n",
       "        text-align: right;\n",
       "    }\n",
       "</style>\n",
       "<table border=\"1\" class=\"dataframe\">\n",
       "  <thead>\n",
       "    <tr style=\"text-align: right;\">\n",
       "      <th></th>\n",
       "      <th>year</th>\n",
       "      <th>month</th>\n",
       "      <th>revenue</th>\n",
       "      <th>invoice_date</th>\n",
       "      <th>label</th>\n",
       "      <th>growth</th>\n",
       "      <th>color</th>\n",
       "    </tr>\n",
       "  </thead>\n",
       "  <tbody>\n",
       "    <tr>\n",
       "      <th>0</th>\n",
       "      <td>2018</td>\n",
       "      <td>11</td>\n",
       "      <td>104765.250</td>\n",
       "      <td>2018-11-29 08:26:00</td>\n",
       "      <td>2018-11</td>\n",
       "      <td>0.000000</td>\n",
       "      <td>forestgreen</td>\n",
       "    </tr>\n",
       "    <tr>\n",
       "      <th>1</th>\n",
       "      <td>2018</td>\n",
       "      <td>12</td>\n",
       "      <td>669482.625</td>\n",
       "      <td>2018-12-01 09:31:00</td>\n",
       "      <td>2018-12</td>\n",
       "      <td>5.390312</td>\n",
       "      <td>forestgreen</td>\n",
       "    </tr>\n",
       "    <tr>\n",
       "      <th>2</th>\n",
       "      <td>2019</td>\n",
       "      <td>1</td>\n",
       "      <td>717548.750</td>\n",
       "      <td>2019-01-02 10:00:00</td>\n",
       "      <td>2019-01</td>\n",
       "      <td>0.071796</td>\n",
       "      <td>forestgreen</td>\n",
       "    </tr>\n",
       "  </tbody>\n",
       "</table>\n",
       "</div>"
      ],
      "text/plain": [
       "   year  month     revenue        invoice_date    label    growth        color\n",
       "0  2018     11  104765.250 2018-11-29 08:26:00  2018-11  0.000000  forestgreen\n",
       "1  2018     12  669482.625 2018-12-01 09:31:00  2018-12  5.390312  forestgreen\n",
       "2  2019      1  717548.750 2019-01-02 10:00:00  2019-01  0.071796  forestgreen"
      ]
     },
     "metadata": {},
     "output_type": "display_data"
    },
    {
     "data": {
      "text/html": [
       "<div>\n",
       "<style scoped>\n",
       "    .dataframe tbody tr th:only-of-type {\n",
       "        vertical-align: middle;\n",
       "    }\n",
       "\n",
       "    .dataframe tbody tr th {\n",
       "        vertical-align: top;\n",
       "    }\n",
       "\n",
       "    .dataframe thead th {\n",
       "        text-align: right;\n",
       "    }\n",
       "</style>\n",
       "<table border=\"1\" class=\"dataframe\">\n",
       "  <thead>\n",
       "    <tr style=\"text-align: right;\">\n",
       "      <th></th>\n",
       "      <th>year</th>\n",
       "      <th>month</th>\n",
       "      <th>n_invoice</th>\n",
       "      <th>invoice_date</th>\n",
       "      <th>label</th>\n",
       "      <th>n_customer</th>\n",
       "      <th>check</th>\n",
       "    </tr>\n",
       "  </thead>\n",
       "  <tbody>\n",
       "    <tr>\n",
       "      <th>0</th>\n",
       "      <td>2018</td>\n",
       "      <td>11</td>\n",
       "      <td>278</td>\n",
       "      <td>2018-11-29 08:26:00</td>\n",
       "      <td>2018-11</td>\n",
       "      <td>182</td>\n",
       "      <td>1.527473</td>\n",
       "    </tr>\n",
       "    <tr>\n",
       "      <th>1</th>\n",
       "      <td>2018</td>\n",
       "      <td>12</td>\n",
       "      <td>1343</td>\n",
       "      <td>2018-12-01 09:31:00</td>\n",
       "      <td>2018-12</td>\n",
       "      <td>630</td>\n",
       "      <td>2.131746</td>\n",
       "    </tr>\n",
       "    <tr>\n",
       "      <th>2</th>\n",
       "      <td>2019</td>\n",
       "      <td>1</td>\n",
       "      <td>1243</td>\n",
       "      <td>2019-01-02 10:00:00</td>\n",
       "      <td>2019-01</td>\n",
       "      <td>592</td>\n",
       "      <td>2.099662</td>\n",
       "    </tr>\n",
       "  </tbody>\n",
       "</table>\n",
       "</div>"
      ],
      "text/plain": [
       "   year  month  n_invoice        invoice_date    label  n_customer     check\n",
       "0  2018     11        278 2018-11-29 08:26:00  2018-11         182  1.527473\n",
       "1  2018     12       1343 2018-12-01 09:31:00  2018-12         630  2.131746\n",
       "2  2019      1       1243 2019-01-02 10:00:00  2019-01         592  2.099662"
      ]
     },
     "metadata": {},
     "output_type": "display_data"
    },
    {
     "data": {
      "text/html": [
       "<div>\n",
       "<style scoped>\n",
       "    .dataframe tbody tr th:only-of-type {\n",
       "        vertical-align: middle;\n",
       "    }\n",
       "\n",
       "    .dataframe tbody tr th {\n",
       "        vertical-align: top;\n",
       "    }\n",
       "\n",
       "    .dataframe thead th {\n",
       "        text-align: right;\n",
       "    }\n",
       "</style>\n",
       "<table border=\"1\" class=\"dataframe\">\n",
       "  <thead>\n",
       "    <tr style=\"text-align: right;\">\n",
       "      <th></th>\n",
       "      <th>year</th>\n",
       "      <th>month</th>\n",
       "      <th>revenue</th>\n",
       "      <th>invoice_date</th>\n",
       "      <th>label</th>\n",
       "      <th>growth</th>\n",
       "      <th>color</th>\n",
       "      <th>n_customer</th>\n",
       "      <th>arppu</th>\n",
       "    </tr>\n",
       "  </thead>\n",
       "  <tbody>\n",
       "    <tr>\n",
       "      <th>0</th>\n",
       "      <td>2018</td>\n",
       "      <td>11</td>\n",
       "      <td>104765.250</td>\n",
       "      <td>2018-11-29 08:26:00</td>\n",
       "      <td>2018-11</td>\n",
       "      <td>0.000000</td>\n",
       "      <td>forestgreen</td>\n",
       "      <td>182</td>\n",
       "      <td>575.633242</td>\n",
       "    </tr>\n",
       "    <tr>\n",
       "      <th>1</th>\n",
       "      <td>2018</td>\n",
       "      <td>12</td>\n",
       "      <td>669482.625</td>\n",
       "      <td>2018-12-01 09:31:00</td>\n",
       "      <td>2018-12</td>\n",
       "      <td>5.390312</td>\n",
       "      <td>forestgreen</td>\n",
       "      <td>630</td>\n",
       "      <td>1062.670833</td>\n",
       "    </tr>\n",
       "    <tr>\n",
       "      <th>2</th>\n",
       "      <td>2019</td>\n",
       "      <td>1</td>\n",
       "      <td>717548.750</td>\n",
       "      <td>2019-01-02 10:00:00</td>\n",
       "      <td>2019-01</td>\n",
       "      <td>0.071796</td>\n",
       "      <td>forestgreen</td>\n",
       "      <td>592</td>\n",
       "      <td>1212.075591</td>\n",
       "    </tr>\n",
       "  </tbody>\n",
       "</table>\n",
       "</div>"
      ],
      "text/plain": [
       "   year  month     revenue        invoice_date    label    growth  \\\n",
       "0  2018     11  104765.250 2018-11-29 08:26:00  2018-11  0.000000   \n",
       "1  2018     12  669482.625 2018-12-01 09:31:00  2018-12  5.390312   \n",
       "2  2019      1  717548.750 2019-01-02 10:00:00  2019-01  0.071796   \n",
       "\n",
       "         color  n_customer        arppu  \n",
       "0  forestgreen         182   575.633242  \n",
       "1  forestgreen         630  1062.670833  \n",
       "2  forestgreen         592  1212.075591  "
      ]
     },
     "metadata": {},
     "output_type": "display_data"
    },
    {
     "data": {
      "text/html": [
       "<div>\n",
       "<style scoped>\n",
       "    .dataframe tbody tr th:only-of-type {\n",
       "        vertical-align: middle;\n",
       "    }\n",
       "\n",
       "    .dataframe tbody tr th {\n",
       "        vertical-align: top;\n",
       "    }\n",
       "\n",
       "    .dataframe thead th {\n",
       "        text-align: right;\n",
       "    }\n",
       "</style>\n",
       "<table border=\"1\" class=\"dataframe\">\n",
       "  <thead>\n",
       "    <tr style=\"text-align: right;\">\n",
       "      <th></th>\n",
       "      <th>year</th>\n",
       "      <th>month</th>\n",
       "      <th>quantity</th>\n",
       "      <th>invoice_date</th>\n",
       "      <th>label</th>\n",
       "      <th>revenue</th>\n",
       "      <th>growth</th>\n",
       "      <th>color</th>\n",
       "      <th>arpu</th>\n",
       "    </tr>\n",
       "  </thead>\n",
       "  <tbody>\n",
       "    <tr>\n",
       "      <th>0</th>\n",
       "      <td>2018</td>\n",
       "      <td>11</td>\n",
       "      <td>58127</td>\n",
       "      <td>2018-11-29 08:26:00</td>\n",
       "      <td>2018-11</td>\n",
       "      <td>104765.250</td>\n",
       "      <td>0.000000</td>\n",
       "      <td>forestgreen</td>\n",
       "      <td>1.802351</td>\n",
       "    </tr>\n",
       "    <tr>\n",
       "      <th>1</th>\n",
       "      <td>2018</td>\n",
       "      <td>12</td>\n",
       "      <td>302266</td>\n",
       "      <td>2018-12-01 09:31:00</td>\n",
       "      <td>2018-12</td>\n",
       "      <td>669482.625</td>\n",
       "      <td>5.390312</td>\n",
       "      <td>forestgreen</td>\n",
       "      <td>2.214879</td>\n",
       "    </tr>\n",
       "    <tr>\n",
       "      <th>2</th>\n",
       "      <td>2019</td>\n",
       "      <td>1</td>\n",
       "      <td>420922</td>\n",
       "      <td>2019-01-02 10:00:00</td>\n",
       "      <td>2019-01</td>\n",
       "      <td>717548.750</td>\n",
       "      <td>0.071796</td>\n",
       "      <td>forestgreen</td>\n",
       "      <td>1.704707</td>\n",
       "    </tr>\n",
       "  </tbody>\n",
       "</table>\n",
       "</div>"
      ],
      "text/plain": [
       "   year  month  quantity        invoice_date    label     revenue    growth  \\\n",
       "0  2018     11     58127 2018-11-29 08:26:00  2018-11  104765.250  0.000000   \n",
       "1  2018     12    302266 2018-12-01 09:31:00  2018-12  669482.625  5.390312   \n",
       "2  2019      1    420922 2019-01-02 10:00:00  2019-01  717548.750  0.071796   \n",
       "\n",
       "         color      arpu  \n",
       "0  forestgreen  1.802351  \n",
       "1  forestgreen  2.214879  \n",
       "2  forestgreen  1.704707  "
      ]
     },
     "metadata": {},
     "output_type": "display_data"
    }
   ],
   "source": [
    "# Displaying the dataframe used in visualizing KPI \n",
    "display(revenue.head(3))\n",
    "display(check.head(3))\n",
    "display(arppu.head(3))\n",
    "display(arpu.head(3))"
   ]
  },
  {
   "cell_type": "code",
   "execution_count": 88,
   "id": "chief-failing",
   "metadata": {},
   "outputs": [
    {
     "data": {
      "text/html": [
       "<div>\n",
       "<style scoped>\n",
       "    .dataframe tbody tr th:only-of-type {\n",
       "        vertical-align: middle;\n",
       "    }\n",
       "\n",
       "    .dataframe tbody tr th {\n",
       "        vertical-align: top;\n",
       "    }\n",
       "\n",
       "    .dataframe thead th {\n",
       "        text-align: right;\n",
       "    }\n",
       "</style>\n",
       "<table border=\"1\" class=\"dataframe\">\n",
       "  <thead>\n",
       "    <tr style=\"text-align: right;\">\n",
       "      <th></th>\n",
       "      <th>year</th>\n",
       "      <th>month</th>\n",
       "      <th>invoice_date</th>\n",
       "      <th>label</th>\n",
       "      <th>n_customer</th>\n",
       "      <th>revenue</th>\n",
       "      <th>growth</th>\n",
       "      <th>n_invoice</th>\n",
       "      <th>quantity</th>\n",
       "      <th>check</th>\n",
       "      <th>arppu</th>\n",
       "      <th>arpu</th>\n",
       "    </tr>\n",
       "  </thead>\n",
       "  <tbody>\n",
       "    <tr>\n",
       "      <th>0</th>\n",
       "      <td>2018</td>\n",
       "      <td>11</td>\n",
       "      <td>2018-11-29 08:26:00</td>\n",
       "      <td>2018-11</td>\n",
       "      <td>182</td>\n",
       "      <td>104765.2500</td>\n",
       "      <td>0.000000</td>\n",
       "      <td>278</td>\n",
       "      <td>58127</td>\n",
       "      <td>1.527473</td>\n",
       "      <td>575.633242</td>\n",
       "      <td>1.802351</td>\n",
       "    </tr>\n",
       "    <tr>\n",
       "      <th>1</th>\n",
       "      <td>2018</td>\n",
       "      <td>12</td>\n",
       "      <td>2018-12-01 09:31:00</td>\n",
       "      <td>2018-12</td>\n",
       "      <td>630</td>\n",
       "      <td>669482.6250</td>\n",
       "      <td>5.390312</td>\n",
       "      <td>1343</td>\n",
       "      <td>302266</td>\n",
       "      <td>2.131746</td>\n",
       "      <td>1062.670833</td>\n",
       "      <td>2.214879</td>\n",
       "    </tr>\n",
       "    <tr>\n",
       "      <th>2</th>\n",
       "      <td>2019</td>\n",
       "      <td>1</td>\n",
       "      <td>2019-01-02 10:00:00</td>\n",
       "      <td>2019-01</td>\n",
       "      <td>592</td>\n",
       "      <td>717548.7500</td>\n",
       "      <td>0.071796</td>\n",
       "      <td>1243</td>\n",
       "      <td>420922</td>\n",
       "      <td>2.099662</td>\n",
       "      <td>1212.075591</td>\n",
       "      <td>1.704707</td>\n",
       "    </tr>\n",
       "    <tr>\n",
       "      <th>3</th>\n",
       "      <td>2019</td>\n",
       "      <td>2</td>\n",
       "      <td>2019-02-01 08:18:00</td>\n",
       "      <td>2019-02</td>\n",
       "      <td>551</td>\n",
       "      <td>501726.9375</td>\n",
       "      <td>-0.300777</td>\n",
       "      <td>1094</td>\n",
       "      <td>280917</td>\n",
       "      <td>1.985481</td>\n",
       "      <td>910.575204</td>\n",
       "      <td>1.786033</td>\n",
       "    </tr>\n",
       "    <tr>\n",
       "      <th>4</th>\n",
       "      <td>2019</td>\n",
       "      <td>3</td>\n",
       "      <td>2019-03-01 08:24:00</td>\n",
       "      <td>2019-03</td>\n",
       "      <td>694</td>\n",
       "      <td>670747.3750</td>\n",
       "      <td>0.336877</td>\n",
       "      <td>1494</td>\n",
       "      <td>380226</td>\n",
       "      <td>2.152738</td>\n",
       "      <td>966.494777</td>\n",
       "      <td>1.764076</td>\n",
       "    </tr>\n",
       "  </tbody>\n",
       "</table>\n",
       "</div>"
      ],
      "text/plain": [
       "   year  month        invoice_date    label  n_customer      revenue  \\\n",
       "0  2018     11 2018-11-29 08:26:00  2018-11         182  104765.2500   \n",
       "1  2018     12 2018-12-01 09:31:00  2018-12         630  669482.6250   \n",
       "2  2019      1 2019-01-02 10:00:00  2019-01         592  717548.7500   \n",
       "3  2019      2 2019-02-01 08:18:00  2019-02         551  501726.9375   \n",
       "4  2019      3 2019-03-01 08:24:00  2019-03         694  670747.3750   \n",
       "\n",
       "     growth  n_invoice  quantity     check        arppu      arpu  \n",
       "0  0.000000        278     58127  1.527473   575.633242  1.802351  \n",
       "1  5.390312       1343    302266  2.131746  1062.670833  2.214879  \n",
       "2  0.071796       1243    420922  2.099662  1212.075591  1.704707  \n",
       "3 -0.300777       1094    280917  1.985481   910.575204  1.786033  \n",
       "4  0.336877       1494    380226  2.152738   966.494777  1.764076  "
      ]
     },
     "execution_count": 88,
     "metadata": {},
     "output_type": "execute_result"
    }
   ],
   "source": [
    "# Merging the dataset\n",
    "kpi = pd.merge(arppu, check, on=['year', 'month', 'invoice_date', 'n_customer', 'label'], how='left')\n",
    "kpi = pd.merge(kpi, arpu, on=['year', 'month', 'invoice_date', 'label', 'growth', 'color', 'revenue'], how='left')\n",
    "\n",
    "# Rearranging the columns\n",
    "kpi = kpi[['year', \n",
    "             'month', \n",
    "             'invoice_date', \n",
    "             'label', \n",
    "             'n_customer', \n",
    "             'revenue', \n",
    "             'growth', \n",
    "             'n_invoice', \n",
    "             'quantity', \n",
    "             'check', \n",
    "             'arppu', \n",
    "             'arpu']]\n",
    "kpi.head()"
   ]
  },
  {
   "cell_type": "markdown",
   "id": "thick-selection",
   "metadata": {},
   "source": [
    "### Conclusion <a class=\"anchor\" id=\"conclusion_4\"></a>\n",
    "\n",
    "We have calculated the monthly revenue, monthly growth, average check, average revenue per paying user (ARPPU), average revenue per unit (ARPU), and product performance. From the indicators, we learned that the sales performed very well; it scored 5.3% growth in December 2018  and kept growing until November 2019 where it reached the highest revenue of 1,483,943. The average revenue per paying unit (ARPPU) also scored the highest this month, with 1891 points. However, the following month showed an interesting phenomenon where sales dropped -0.66% and only earned 507,470. The average check and ARPPU also present a similar trend. The ARPU, on the other hand, is relatively steady throughout the year, with an average of 2.21 points. We have also displayed the top 3, 10, and 25 products based on revenue in the last section of this analysis.\n",
    "\n",
    "In November 2019, most of our customers bought Christmas decorations, which boost revenue. Furthermore, it also explains why the revenue dropped drastically in the following month."
   ]
  },
  {
   "cell_type": "markdown",
   "id": "acceptable-violin",
   "metadata": {},
   "source": [
    "## Step 5: Product Range Analysis <a class=\"anchor\" id=\"step_5\"></a>"
   ]
  },
  {
   "cell_type": "markdown",
   "id": "tutorial-andrews",
   "metadata": {},
   "source": [
    "### Finding Items Commonly Sold In Bundles  <a class=\"anchor\" id=\"step_5_1\"></a>"
   ]
  },
  {
   "cell_type": "markdown",
   "id": "weighted-short",
   "metadata": {},
   "source": [
    "In the first part of the product range analysis, we would like to know which products are typically sold in bundles. After exploring the dataset, we found out that these items are indicated in the `description`. Take as an example item with `stock_code==23191`,"
   ]
  },
  {
   "cell_type": "code",
   "execution_count": 89,
   "id": "efficient-contact",
   "metadata": {},
   "outputs": [
    {
     "data": {
      "text/plain": [
       "'bundle of 3 retro note books'"
      ]
     },
     "execution_count": 89,
     "metadata": {},
     "output_type": "execute_result"
    }
   ],
   "source": [
    "clean_data.query('stock_code == \"23191\"')['description'].unique()[0]"
   ]
  },
  {
   "cell_type": "markdown",
   "id": "secure-norfolk",
   "metadata": {},
   "source": [
    "The description tells us that the item is already sold in a bundle. Many other descriptors in the product's name indicate that the products are sold in groups. The indicators include the words such as  `set of`, `box of`, `pack of`, `bundle of`. We can search the `description` column and mark the row if the keyword appears in the item name."
   ]
  },
  {
   "cell_type": "code",
   "execution_count": 90,
   "id": "operating-conservative",
   "metadata": {},
   "outputs": [
    {
     "data": {
      "text/html": [
       "<div>\n",
       "<style scoped>\n",
       "    .dataframe tbody tr th:only-of-type {\n",
       "        vertical-align: middle;\n",
       "    }\n",
       "\n",
       "    .dataframe tbody tr th {\n",
       "        vertical-align: top;\n",
       "    }\n",
       "\n",
       "    .dataframe thead th {\n",
       "        text-align: right;\n",
       "    }\n",
       "</style>\n",
       "<table border=\"1\" class=\"dataframe\">\n",
       "  <thead>\n",
       "    <tr style=\"text-align: right;\">\n",
       "      <th></th>\n",
       "      <th>invoice_no</th>\n",
       "      <th>stock_code</th>\n",
       "      <th>description</th>\n",
       "      <th>quantity</th>\n",
       "      <th>invoice_date</th>\n",
       "      <th>unit_price</th>\n",
       "      <th>customer_id</th>\n",
       "      <th>is_alpha</th>\n",
       "      <th>year</th>\n",
       "      <th>month</th>\n",
       "      <th>day</th>\n",
       "      <th>revenue</th>\n",
       "      <th>is_bundle</th>\n",
       "    </tr>\n",
       "  </thead>\n",
       "  <tbody>\n",
       "    <tr>\n",
       "      <th>0</th>\n",
       "      <td>536365</td>\n",
       "      <td>85123A</td>\n",
       "      <td>white hanging heart t-light holder</td>\n",
       "      <td>6</td>\n",
       "      <td>2018-11-29 08:26:00</td>\n",
       "      <td>2.55</td>\n",
       "      <td>17856.0</td>\n",
       "      <td>False</td>\n",
       "      <td>2018</td>\n",
       "      <td>11</td>\n",
       "      <td>29</td>\n",
       "      <td>15.299999</td>\n",
       "      <td>False</td>\n",
       "    </tr>\n",
       "    <tr>\n",
       "      <th>1</th>\n",
       "      <td>536365</td>\n",
       "      <td>71053</td>\n",
       "      <td>white metal lantern</td>\n",
       "      <td>6</td>\n",
       "      <td>2018-11-29 08:26:00</td>\n",
       "      <td>3.39</td>\n",
       "      <td>17856.0</td>\n",
       "      <td>False</td>\n",
       "      <td>2018</td>\n",
       "      <td>11</td>\n",
       "      <td>29</td>\n",
       "      <td>20.340000</td>\n",
       "      <td>False</td>\n",
       "    </tr>\n",
       "    <tr>\n",
       "      <th>2</th>\n",
       "      <td>536365</td>\n",
       "      <td>84406B</td>\n",
       "      <td>cream cupid hearts coat hanger</td>\n",
       "      <td>8</td>\n",
       "      <td>2018-11-29 08:26:00</td>\n",
       "      <td>2.75</td>\n",
       "      <td>17856.0</td>\n",
       "      <td>False</td>\n",
       "      <td>2018</td>\n",
       "      <td>11</td>\n",
       "      <td>29</td>\n",
       "      <td>22.000000</td>\n",
       "      <td>False</td>\n",
       "    </tr>\n",
       "  </tbody>\n",
       "</table>\n",
       "</div>"
      ],
      "text/plain": [
       "  invoice_no stock_code                         description  quantity  \\\n",
       "0     536365     85123A  white hanging heart t-light holder         6   \n",
       "1     536365      71053                 white metal lantern         6   \n",
       "2     536365     84406B      cream cupid hearts coat hanger         8   \n",
       "\n",
       "         invoice_date  unit_price customer_id is_alpha  year  month  day  \\\n",
       "0 2018-11-29 08:26:00        2.55     17856.0    False  2018     11   29   \n",
       "1 2018-11-29 08:26:00        3.39     17856.0    False  2018     11   29   \n",
       "2 2018-11-29 08:26:00        2.75     17856.0    False  2018     11   29   \n",
       "\n",
       "     revenue  is_bundle  \n",
       "0  15.299999      False  \n",
       "1  20.340000      False  \n",
       "2  22.000000      False  "
      ]
     },
     "execution_count": 90,
     "metadata": {},
     "output_type": "execute_result"
    }
   ],
   "source": [
    "# Creating a boolean column to find a row that consist of the keywords\n",
    "keywords = ['box of', 'set of', 'pack of', 'bundle of']\n",
    "\n",
    "clean_data['is_bundle'] = (clean_data['description']\n",
    "                           .apply(lambda x: True if any(w in x for w in keywords) else False))\n",
    "\n",
    "clean_data.head(3)"
   ]
  },
  {
   "cell_type": "markdown",
   "id": "fiscal-recipe",
   "metadata": {},
   "source": [
    "Then using `Counter()`, we can calculate the number of occurrences of items where the `is_bundle` column is `True` and sort them decreasingly. The following are the top five items that are commonly sold in bundles (groups)."
   ]
  },
  {
   "cell_type": "code",
   "execution_count": 91,
   "id": "boxed-optics",
   "metadata": {},
   "outputs": [
    {
     "data": {
      "text/plain": [
       "[('set of 3 cake tins pantry design ', 1394),\n",
       " ('pack of 72 retrospot cake cases', 1352),\n",
       " ('set of 4 pantry jelly moulds', 1090),\n",
       " ('pack of 60 pink paisley cake cases', 880),\n",
       " ('set of 3 regency cake tins', 876)]"
      ]
     },
     "execution_count": 91,
     "metadata": {},
     "output_type": "execute_result"
    }
   ],
   "source": [
    "Counter(clean_data.query('is_bundle == True')['description']).most_common(5)"
   ]
  },
  {
   "cell_type": "markdown",
   "id": "multiple-publication",
   "metadata": {},
   "source": [
    "We can also find the ratio between items that are sold individually against those  sold in bundles,"
   ]
  },
  {
   "cell_type": "code",
   "execution_count": 92,
   "id": "roman-surveillance",
   "metadata": {},
   "outputs": [
    {
     "data": {
      "text/plain": [
       "False    476498\n",
       "True      46779\n",
       "Name: is_bundle, dtype: int64"
      ]
     },
     "execution_count": 92,
     "metadata": {},
     "output_type": "execute_result"
    }
   ],
   "source": [
    "clean_data['is_bundle'].value_counts()"
   ]
  },
  {
   "cell_type": "markdown",
   "id": "potential-windows",
   "metadata": {},
   "source": [
    "### Finding Product Categories <a class=\"anchor\" id=\"step_5_2\"></a>"
   ]
  },
  {
   "cell_type": "markdown",
   "id": "basic-inspection",
   "metadata": {},
   "source": [
    "The dataset provides us with the item names under the `description` column. There is, however, no other column that we can use to label which category an item belongs to. Consequently, we have to consider methods used in unsupervised machine learning to help us find item groupings. \n",
    "\n",
    "In the Natural Language Processing domain, a technique called Topic Modelling aims to discover the topic in a collection of documents,  which is quite similar to our objective. The model uses the method known as Latent Dirichlet Allocation, which assumes that a document consists of a collection of topics in a certain proportion. And each topic is a collection of keywords in a certain proportion. The method groups keywords based on the given suggested number of topics and calculate how much each keyword contributes to a particular topic. \n",
    "\n",
    "We will implement Topic Modelling in this analysis. To help us, we will a library called `Gensim`, which is built for topic modeling. In addition, we will use another tool to visualize the topic models called `pyLDAviz`. The steps that we are going to take are the following:\n",
    "1. Preprocess the input text by tokenizing the text into a smaller unit, removing the stop words, stemming, and lemmatizing the remaining words.\n",
    "2. Create a Gensim dictionary and a corpus as a main input for the LDA model.\n",
    "3. Run the LDA model by giving the model an initial guess of the number of topics, the dictionary, and the corpus.\n",
    "4. Visualize the model output using `pyLDAviz`.\n",
    "5. Evaluate the model output by calculating the coherence model.\n",
    "6. Reiterate the modeling using a different number of topics until we find the best coherence model."
   ]
  },
  {
   "cell_type": "markdown",
   "id": "encouraging-rocket",
   "metadata": {},
   "source": [
    "To better understand our workflow, let's take one data as an example,"
   ]
  },
  {
   "cell_type": "code",
   "execution_count": 93,
   "id": "affecting-dominican",
   "metadata": {},
   "outputs": [
    {
     "data": {
      "text/plain": [
       "'white hanging heart t-light holder'"
      ]
     },
     "execution_count": 93,
     "metadata": {},
     "output_type": "execute_result"
    }
   ],
   "source": [
    "# Taking a sample\n",
    "sample = clean_data.description[0]\n",
    "sample"
   ]
  },
  {
   "cell_type": "markdown",
   "id": "social-military",
   "metadata": {},
   "source": [
    "We use NTLK's `stopwords` library to filter out the common words. In this analysis, we add some words that refer to color to the stop words list since they frequently appear in the item description even though they don't seem to help us categorize the item."
   ]
  },
  {
   "cell_type": "code",
   "execution_count": 94,
   "id": "familiar-philippines",
   "metadata": {},
   "outputs": [],
   "source": [
    "# Adding new words to NLTK's stopword's list\n",
    "stop_words = stopwords.words('english')\n",
    "stop_words.extend(['white', 'black', 'blue', 'green', 'red', 'yellow', 'orange', 'gold', 'silver', 'brown', 'gray', 'purple', 'pink'])"
   ]
  },
  {
   "cell_type": "markdown",
   "id": "medieval-deficit",
   "metadata": {},
   "source": [
    "The first step is to clean the text by splitting the input text into individual words. After that, we filter out the stop words, then stemming and lemmatizing the remaining words."
   ]
  },
  {
   "cell_type": "code",
   "execution_count": 95,
   "id": "closed-championship",
   "metadata": {},
   "outputs": [],
   "source": [
    "# Create a lemmatizer and stemmer function\n",
    "def lemmatize_stemming(text):\n",
    "    return stemmer.stem(WordNetLemmatizer().lemmatize(text, pos='n'))\n",
    "\n",
    "# Creating a pipeline to preprocess text\n",
    "def preprocess(text):\n",
    "    '''\n",
    "    Description: \n",
    "    Convert text input into Gensim's token, apply the stop words, lemmatize and stem the token\n",
    "    '''\n",
    "    result = []\n",
    "    \n",
    "    # Splitting text into words\n",
    "    split = text.split(' ')\n",
    "    \n",
    "    for i in split:\n",
    "        \n",
    "        # Gensim has a method to tokenize a word called simple_process\n",
    "        for token in gensim.utils.simple_preprocess(i) :\n",
    "            \n",
    "            # Excluding stop words and token too short\n",
    "            if token not in stop_words and len(token) > 3:\n",
    "                result.append(lemmatize_stemming(token))\n",
    "    return result\n",
    "\n",
    "stemmer = SnowballStemmer('english')"
   ]
  },
  {
   "cell_type": "code",
   "execution_count": 96,
   "id": "dedicated-seating",
   "metadata": {},
   "outputs": [
    {
     "data": {
      "text/plain": [
       "['hang', 'heart', 'light', 'holder']"
      ]
     },
     "execution_count": 96,
     "metadata": {},
     "output_type": "execute_result"
    }
   ],
   "source": [
    "# Preprocess the sample text\n",
    "word = preprocess(sample)\n",
    "word"
   ]
  },
  {
   "cell_type": "markdown",
   "id": "analyzed-pledge",
   "metadata": {},
   "source": [
    "The `preprocess` function converts the input `white hanging heart t-light holder` into four tokens `hang`, `heart`, `light`, `holder`."
   ]
  },
  {
   "cell_type": "markdown",
   "id": "monetary-authority",
   "metadata": {},
   "source": [
    "The next step is to pass the tokens into the Gensim dictionary and create a corpus for input to the LDA model. "
   ]
  },
  {
   "cell_type": "code",
   "execution_count": 97,
   "id": "official-buddy",
   "metadata": {},
   "outputs": [
    {
     "data": {
      "text/plain": [
       "[(0, 1), (1, 1), (2, 1), (3, 1)]"
      ]
     },
     "execution_count": 97,
     "metadata": {},
     "output_type": "execute_result"
    }
   ],
   "source": [
    "# Creating a Gensim dictionary\n",
    "id2word = gensim.corpora.Dictionary([word])\n",
    "\n",
    "# Creating a corpus from the dictionaruy using the bag-of-words method\n",
    "corpus = id2word.doc2bow(word)\n",
    "corpus"
   ]
  },
  {
   "cell_type": "markdown",
   "id": "moral-mapping",
   "metadata": {},
   "source": [
    "The corpus creates a unique id for each token in the list and marks how many times they occur. For example, in the output above, (0,1) means that the word with id 0 occurs once in the list. Likewise, the word with id 1 also appears once, and so on. \n",
    "\n",
    "We can also see the corpus in a human-readable format in the following,"
   ]
  },
  {
   "cell_type": "code",
   "execution_count": 98,
   "id": "renewable-compression",
   "metadata": {},
   "outputs": [
    {
     "data": {
      "text/plain": [
       "[('hang', 1), ('heart', 1), ('holder', 1), ('light', 1)]"
      ]
     },
     "execution_count": 98,
     "metadata": {},
     "output_type": "execute_result"
    }
   ],
   "source": [
    "[(id2word[id], freq) for id, freq in corpus]"
   ]
  },
  {
   "cell_type": "markdown",
   "id": "sudden-space",
   "metadata": {},
   "source": [
    "We can rewrite the steps above into a new function called `get_corpus` as follows,"
   ]
  },
  {
   "cell_type": "code",
   "execution_count": 99,
   "id": "super-avenue",
   "metadata": {},
   "outputs": [],
   "source": [
    "def get_corpus(df):\n",
    "    words = [preprocess(line) for line in df.description]\n",
    "    id2word = gensim.corpora.Dictionary(words)\n",
    "    \n",
    "    # Filter out any tokens that occur less than 10 times and no more that 35% of the corpus size\n",
    "    id2word.filter_extremes(no_below=10, no_above=0.35)\n",
    "    \n",
    "    # Removing any gaps\n",
    "    id2word.compactify()\n",
    "    \n",
    "    # Creating the corpus\n",
    "    corpus = [id2word.doc2bow(text) for text in words]\n",
    "    return corpus, id2word, words"
   ]
  },
  {
   "cell_type": "markdown",
   "id": "popular-lecture",
   "metadata": {},
   "source": [
    "Now let's feed in the item description from the `clean_data` dataframe into the `get_corpus` function to create required inputs for the model."
   ]
  },
  {
   "cell_type": "code",
   "execution_count": 100,
   "id": "excited-marine",
   "metadata": {},
   "outputs": [],
   "source": [
    "np.random.seed(0)\n",
    "\n",
    "# Creating a corpus and dictionary from the input text\n",
    "corpus, id2word, words = get_corpus(clean_data)"
   ]
  },
  {
   "cell_type": "markdown",
   "id": "adjusted-appliance",
   "metadata": {},
   "source": [
    "Finally, run the LDA model using the `corpus` and dictionary `id2word` from `get_corpus`. The model requires prior knowledge of the number of topics the document might have. As an initial guess, we assume that there are 10 product categories."
   ]
  },
  {
   "cell_type": "code",
   "execution_count": 101,
   "id": "danish-operator",
   "metadata": {
    "scrolled": false
   },
   "outputs": [
    {
     "name": "stdout",
     "output_type": "stream",
     "text": [
      "('Topic: 0 Words: 0.115*\"light\" + 0.086*\"heart\" + 0.084*\"decor\" + '\n",
      " '0.068*\"holder\" + 0.064*\"hang\" + 0.058*\"star\" + 0.057*\"wooden\" + '\n",
      " '0.037*\"glass\" + 0.037*\"bell\" + 0.029*\"antiqu\"')\n",
      "('Topic: 1 Words: 0.213*\"christma\" + 0.122*\"vintag\" + 0.088*\"card\" + '\n",
      " '0.034*\"tree\" + 0.023*\"union\" + 0.022*\"cover\" + 0.021*\"travel\" + 0.018*\"jack\" '\n",
      " '+ 0.016*\"frame\" + 0.016*\"birthday\"')\n",
      "('Topic: 2 Words: 0.077*\"home\" + 0.053*\"wrap\" + 0.047*\"bird\" + 0.044*\"assort\" '\n",
      " '+ 0.043*\"gift\" + 0.043*\"doormat\" + 0.041*\"keep\" + 0.041*\"calm\" + '\n",
      " '0.036*\"sweet\" + 0.034*\"magnet\"')\n",
      "('Topic: 3 Words: 0.059*\"mini\" + 0.049*\"tissu\" + 0.048*\"rose\" + 0.041*\"regenc\" '\n",
      " '+ 0.038*\"woodland\" + 0.036*\"craft\" + 0.031*\"notebook\" + 0.030*\"cream\" + '\n",
      " '0.029*\"babushka\" + 0.029*\"roll\"')\n",
      "('Topic: 4 Words: 0.088*\"paper\" + 0.077*\"candl\" + 0.062*\"spaceboy\" + '\n",
      " '0.058*\"polkadot\" + 0.046*\"children\" + 0.038*\"chain\" + 0.035*\"retrospot\" + '\n",
      " '0.034*\"bunt\" + 0.028*\"plate\" + 0.022*\"rose\"')\n",
      "('Topic: 5 Words: 0.137*\"heart\" + 0.075*\"small\" + 0.053*\"larg\" + '\n",
      " '0.050*\"ribbon\" + 0.048*\"pencil\" + 0.045*\"wicker\" + 0.033*\"skull\" + '\n",
      " '0.028*\"colour\" + 0.027*\"retrospot\" + 0.024*\"reel\"')\n",
      "('Topic: 6 Words: 0.132*\"metal\" + 0.101*\"sign\" + 0.033*\"feltcraft\" + '\n",
      " '0.031*\"flower\" + 0.026*\"french\" + 0.025*\"classic\" + 0.024*\"lantern\" + '\n",
      " '0.020*\"butterfli\" + 0.020*\"enamel\" + 0.019*\"storag\"')\n",
      "('Topic: 7 Words: 0.125*\"bottl\" + 0.109*\"water\" + 0.055*\"wall\" + 0.048*\"clock\" '\n",
      " '+ 0.043*\"love\" + 0.037*\"london\" + 0.029*\"ivori\" + 0.029*\"alarm\" + '\n",
      " '0.029*\"bakelik\" + 0.020*\"lola\"')\n",
      "('Topic: 8 Words: 0.108*\"design\" + 0.077*\"jumbo\" + 0.073*\"retrospot\" + '\n",
      " '0.060*\"lunch\" + 0.053*\"vintag\" + 0.043*\"doili\" + 0.038*\"paisley\" + '\n",
      " '0.036*\"girl\" + 0.035*\"dolli\" + 0.034*\"pack\"')\n",
      "('Topic: 9 Words: 0.085*\"cake\" + 0.050*\"ceram\" + 0.047*\"case\" + 0.042*\"fairi\" '\n",
      " '+ 0.039*\"garden\" + 0.032*\"drawer\" + 0.028*\"alphabet\" + 0.027*\"bake\" + '\n",
      " '0.026*\"sew\" + 0.026*\"spot\"')\n"
     ]
    }
   ],
   "source": [
    "# Running the LDA model\n",
    "lda_model =  gensim.models.LdaMulticore(corpus, num_topics=10, id2word = id2word, passes=2, workers=2)\n",
    "\n",
    "from pprint import pprint\n",
    "\n",
    "# Visualizing outputs from the model\n",
    "for idx, topic in lda_model.print_topics(-1):\n",
    "    pprint('Topic: {} Words: {}'.format(idx, topic))"
   ]
  },
  {
   "cell_type": "markdown",
   "id": "racial-airfare",
   "metadata": {},
   "source": [
    "The LDA model gives out ten topics with the probability of words that makes up each topic. As an example, in Topic 0 the 'light' keyword contributes 11.7% to the topic, 'heart' contributes 9%, 'decor' 8.5%, and so on.\n",
    "\n",
    "One important thing to note is that the LDA model does not assign any title to the output topics. Therefore, we have to name them manually.\n",
    "\n",
    "As mentioned above, we can use `pyLDAviz` to visualize the topic models."
   ]
  },
  {
   "cell_type": "code",
   "execution_count": 102,
   "id": "democratic-seating",
   "metadata": {},
   "outputs": [
    {
     "data": {
      "text/html": [
       "\n",
       "<link rel=\"stylesheet\" type=\"text/css\" href=\"https://cdn.jsdelivr.net/gh/bmabey/pyLDAvis@3.3.1/pyLDAvis/js/ldavis.v1.0.0.css\">\n",
       "\n",
       "\n",
       "<div id=\"ldavis_el121561401838719200801319269405\"></div>\n",
       "<script type=\"text/javascript\">\n",
       "\n",
       "var ldavis_el121561401838719200801319269405_data = {\"mdsDat\": {\"x\": [-0.1866952438964563, 0.2983239347841685, -0.22073553575044078, 0.264422894902486, -0.044567084428115626, -0.10938074721756137, -0.042373085443342964, -0.0038819790827555045, -0.07164034771926672, 0.11652719385128478], \"y\": [-0.17257910109818536, -0.07104701053394566, 0.07100571475029228, -0.06891712027215213, -0.10930080841492021, 0.24912006088301633, -0.192683348585459, -0.007472773987274331, -0.009989092429403186, 0.3118634796880308], \"topics\": [1, 2, 3, 4, 5, 6, 7, 8, 9, 10], \"cluster\": [1, 1, 1, 1, 1, 1, 1, 1, 1, 1], \"Freq\": [14.092570868077503, 11.846062325448164, 10.498434017943193, 10.07639703440788, 9.87777058674618, 9.2139780647533, 8.987330087627852, 8.905648553454641, 8.46918428871027, 8.032624172831015]}, \"tinfo\": {\"Term\": [\"christma\", \"heart\", \"design\", \"light\", \"metal\", \"vintag\", \"bottl\", \"sign\", \"water\", \"decor\", \"jumbo\", \"card\", \"cake\", \"paper\", \"retrospot\", \"small\", \"holder\", \"candl\", \"lunch\", \"home\", \"hang\", \"star\", \"spaceboy\", \"mini\", \"polkadot\", \"wooden\", \"larg\", \"doili\", \"ceram\", \"case\", \"design\", \"jumbo\", \"lunch\", \"doili\", \"paisley\", \"girl\", \"dolli\", \"pantri\", \"warmer\", \"tin\", \"suki\", \"napkin\", \"shopper\", \"stock\", \"sugar\", \"carri\", \"sketchbook\", \"knack\", \"knick\", \"mushroom\", \"ornament\", \"recycl\", \"cash\", \"raffia\", \"crate\", \"memo\", \"baroqu\", \"coffe\", \"offic\", \"spice\", \"strawberri\", \"recip\", \"hand\", \"appl\", \"retrospot\", \"charlott\", \"pack\", \"vintag\", \"cake\", \"case\", \"skull\", \"spaceboy\", \"light\", \"holder\", \"hang\", \"decor\", \"star\", \"bell\", \"wood\", \"leaf\", \"night\", \"play\", \"pictur\", \"doorstop\", \"toadstool\", \"cabinet\", \"finish\", \"santa\", \"shoulder\", \"domino\", \"purs\", \"swir\", \"marbl\", \"soldier\", \"skittl\", \"jar\", \"portrait\", \"flute\", \"string\", \"pizza\", \"pretti\", \"laurel\", \"zinc\", \"parti\", \"antiqu\", \"wooden\", \"glass\", \"sticker\", \"heart\", \"glitter\", \"frame\", \"colour\", \"gingham\", \"make\", \"card\", \"christma\", \"tree\", \"union\", \"cover\", \"travel\", \"jack\", \"book\", \"wallet\", \"tray\", \"retro\", \"folkart\", \"ruler\", \"poppi\", \"sleigh\", \"flag\", \"popcorn\", \"list\", \"villag\", \"shop\", \"feather\", \"cakestand\", \"tail\", \"playhous\", \"snap\", \"littl\", \"wire\", \"record\", \"baubl\", \"bundl\", \"airlin\", \"vintag\", \"cosi\", \"cushion\", \"birthday\", \"game\", \"sweetheart\", \"frame\", \"photo\", \"gingham\", \"angel\", \"tier\", \"small\", \"larg\", \"pencil\", \"wicker\", \"reel\", \"tube\", \"plaster\", \"chalkboard\", \"money\", \"biscuit\", \"milk\", \"shape\", \"bank\", \"mould\", \"chalk\", \"tall\", \"pick\", \"ball\", \"jelli\", \"cross\", \"filigre\", \"naught\", \"disco\", \"trelli\", \"hotti\", \"woolli\", \"cherri\", \"calcul\", \"strongman\", \"spin\", \"ribbon\", \"stick\", \"heart\", \"natur\", \"skull\", \"fri\", \"scandinavian\", \"tradit\", \"mirror\", \"colour\", \"slate\", \"ivori\", \"love\", \"retrospot\", \"bowl\", \"glass\", \"fairi\", \"garden\", \"drawer\", \"alphabet\", \"sew\", \"spot\", \"cooki\", \"round\", \"knob\", \"cutter\", \"stand\", \"snack\", \"wreath\", \"charm\", \"magic\", \"medium\", \"jingl\", \"jigsaw\", \"kneel\", \"dinosaur\", \"balloon\", \"owl\", \"draw\", \"stripe\", \"style\", \"write\", \"loaf\", \"acryl\", \"delux\", \"hldr\", \"ceram\", \"bake\", \"cake\", \"case\", \"mini\", \"victorian\", \"angel\", \"box\", \"metal\", \"sign\", \"flower\", \"french\", \"lantern\", \"enamel\", \"classic\", \"circus\", \"parad\", \"tag\", \"hors\", \"bead\", \"clip\", \"toilet\", \"person\", \"food\", \"friend\", \"print\", \"crystal\", \"hairband\", \"grow\", \"contain\", \"picnic\", \"nanci\", \"potter\", \"car\", \"collag\", \"snake\", \"cook\", \"pleas\", \"ladder\", \"butterfli\", \"feltcraft\", \"storag\", \"make\", \"bath\", \"knit\", \"tabl\", \"cream\", \"vintag\", \"hand\", \"children\", \"chain\", \"plate\", \"candl\", \"door\", \"bunt\", \"ring\", \"piec\", \"botan\", \"letter\", \"beaker\", \"tonic\", \"harmonica\", \"time\", \"babi\", \"lace\", \"backpack\", \"tidi\", \"scent\", \"empir\", \"glove\", \"morri\", \"oven\", \"funki\", \"incens\", \"eras\", \"jewel\", \"diet\", \"necklac\", \"lavend\", \"polkadot\", \"paper\", \"spaceboy\", \"apron\", \"dinner\", \"cutleri\", \"rose\", \"retrospot\", \"bracelet\", \"gingham\", \"wooden\", \"home\", \"wrap\", \"bird\", \"assort\", \"doormat\", \"gift\", \"keep\", \"calm\", \"sweet\", \"magnet\", \"paint\", \"rabbit\", \"park\", \"block\", \"spotti\", \"pear\", \"hous\", \"spoon\", \"parasol\", \"school\", \"reindeer\", \"music\", \"embroid\", \"come\", \"build\", \"word\", \"flock\", \"holli\", \"stripey\", \"lolli\", \"garland\", \"hook\", \"colour\", \"pack\", \"box\", \"tissu\", \"craft\", \"roll\", \"english\", \"doll\", \"treasur\", \"felt\", \"notebook\", \"saucer\", \"teacup\", \"rock\", \"anim\", \"happi\", \"fold\", \"princess\", \"squar\", \"rack\", \"herb\", \"babushka\", \"marker\", \"chest\", \"gymkhana\", \"pud\", \"gloss\", \"stencil\", \"sack\", \"tape\", \"advent\", \"willi\", \"winki\", \"coat\", \"regenc\", \"trinket\", \"mini\", \"woodland\", \"rose\", \"cream\", \"bowl\", \"stamp\", \"cracker\", \"feltcraft\", \"pack\", \"bottl\", \"water\", \"clock\", \"london\", \"wall\", \"alarm\", \"bakelik\", \"bicycl\", \"scotti\", \"lola\", \"charli\", \"towel\", \"floral\", \"scale\", \"grey\", \"stationeri\", \"sympathi\", \"breakfast\", \"apothecari\", \"poor\", \"earring\", \"wish\", \"cotton\", \"repair\", \"drop\", \"king\", \"choic\", \"thank\", \"pocket\", \"chrome\", \"kitchen\", \"love\", \"child\", \"diner\", \"ivori\", \"chocol\", \"tabl\"], \"Freq\": [37627.0, 40375.0, 25603.0, 22956.0, 20426.0, 36694.0, 16946.0, 15671.0, 14814.0, 16778.0, 18256.0, 15603.0, 20494.0, 13595.0, 27189.0, 12779.0, 13518.0, 11606.0, 14213.0, 11496.0, 12678.0, 11599.0, 12560.0, 11685.0, 8838.0, 13978.0, 8972.0, 10319.0, 8435.0, 11489.0, 25602.670785333434, 18255.753105909942, 14212.212278401841, 10318.374014904526, 9022.625394819755, 8536.245064972394, 8373.0454972198, 8089.34751725239, 7552.303675226957, 5833.847930483971, 3581.3951412970046, 3448.86143642971, 2610.8609875271886, 1877.1240302289423, 1731.3219419898835, 1686.9105557342145, 1424.3067847551647, 1380.9639886817276, 1380.9639886817276, 1164.753680657833, 1136.8824475280308, 1051.6391094177175, 959.7157007755025, 910.0021570886288, 869.8004589717152, 861.4707951846743, 842.8473002437694, 2222.0403101934194, 702.428901120107, 627.6424022563231, 3986.185858000198, 2040.8860836888814, 6844.618827175974, 4077.42218946648, 17348.856338663947, 3735.4936726165283, 8102.166177381725, 12475.159128856892, 6360.020144274283, 3691.408634200498, 2741.2163868957555, 3103.395936930231, 22955.77386214679, 13517.47960274744, 12677.21115335065, 16776.915073954453, 11598.68410725271, 7379.355394394676, 4950.049147370612, 4053.324130025412, 3581.2225195800065, 2897.4847947093826, 1865.860911595195, 1718.4037100909848, 1657.1336400379942, 1621.8641758162105, 1562.645963488791, 1349.8738001190475, 1329.016313210927, 1141.416020745006, 1045.196067028123, 1033.5013143474175, 936.8393005218143, 885.3438048803495, 764.5571760675143, 750.4744438590008, 689.4196423033509, 622.5771244009994, 566.1211140226236, 529.9845819336097, 483.09675212579543, 461.28057000817034, 5544.193173738206, 4093.2546938757832, 5834.471196056218, 11346.45057521631, 7408.957902646315, 1937.9829672223145, 17096.313492301266, 1271.355393988812, 2760.182244523292, 1306.4846293470139, 1149.8633926186421, 1070.22901006511, 15602.102766228862, 37622.1869693303, 6068.916389955566, 4146.152100940411, 3896.2553344241605, 3719.8641860374223, 3100.814596837793, 2729.995699079169, 2591.0298841795534, 2627.948559541964, 1882.8969160751778, 1510.801654919807, 1415.9317329138742, 1380.458746225259, 1297.626154870496, 1277.5596271204106, 1233.7708421830105, 1536.094700535702, 1190.4777619355716, 1172.9236885760229, 1164.9473644478594, 1106.5238847602707, 1062.9630630363301, 1013.5053402971728, 928.5665599174785, 875.8368073839779, 856.5414673256676, 848.9657259541033, 822.9096459550069, 775.4830029739188, 1038.2168655914504, 21531.636781337675, 994.3710898506856, 2605.607505769725, 2835.6630723364774, 2000.3378316264639, 1965.412351962082, 2905.629989831625, 1479.4331590665927, 1569.9981341455207, 1268.099647901759, 1229.9668707717112, 12778.171871244791, 8971.787275439627, 8159.57595084818, 7578.241303421453, 4054.700066629062, 3919.5018301294117, 3841.013030398358, 2193.5100805783018, 2193.31104296347, 2299.0000164393305, 2007.0812377942668, 1669.6770680837333, 1567.8297260935121, 1421.0017802531981, 1366.2835100920763, 1344.9562897653777, 964.9724568373607, 1645.7191996944398, 892.1959892244399, 849.1017370980776, 907.9699178146747, 821.4190670860203, 717.1589275758884, 652.2620334650004, 637.4870476299052, 637.4870476299052, 611.2366105579366, 594.5453145971959, 581.0352214994095, 566.9725184074646, 8406.199206716426, 2164.294394084094, 23277.737097933095, 1950.108103852088, 5564.857102429615, 1323.6571307386255, 2860.167679484754, 3876.1650651347786, 2278.2572616106736, 4755.743429168606, 1744.2968864424383, 2698.8349662709425, 2886.850102484069, 4570.653940374132, 2222.0266849972213, 2163.36528839516, 6982.991587142509, 6551.152310338801, 5388.537143587145, 4604.340263239091, 4349.206549988232, 4283.083456302503, 3464.4466768675884, 3413.734968447414, 3379.9453466279033, 3282.5119294360693, 3087.7055355038474, 3013.4356888653037, 2781.4116146879846, 2280.699823559834, 2202.0423100973653, 2162.5077458801825, 1987.890322437023, 1949.2969245317115, 3194.3113336168744, 1728.7331348260798, 2065.4922976564235, 1487.1407172828397, 1452.310899796397, 1684.7365155370392, 1257.0774708283839, 1203.905216132303, 1197.7559426120108, 1143.0900338876386, 1115.1243919792291, 1074.3061655586496, 8366.322264630477, 4423.538076882354, 14133.336895268536, 7797.124468116103, 3228.837399090923, 1585.7778293115423, 1532.018372383339, 1519.3598172178613, 20425.076448683907, 15670.446916527362, 4869.9152446631015, 4108.440716000584, 3665.6325455146207, 3064.961092822549, 3811.9945495986494, 2651.3669783086198, 2651.3669783086198, 2448.5191847145143, 2232.094649825897, 1845.9655469903978, 1676.2449327655936, 1585.6077487593313, 1536.5535543435221, 1499.9330569020735, 1464.0337746007838, 1406.8444064001571, 1319.174193637957, 1189.2552153125632, 1155.248165037153, 1147.7210150806598, 1145.6976661712117, 1048.3032644266336, 1024.107212051554, 989.802871951382, 978.3704048949893, 968.059225718862, 961.2355821723876, 940.2594106199847, 1014.5267167651709, 3178.854971420617, 5117.267896040262, 2932.499213129553, 2018.9066925626594, 1323.11695205301, 1441.5441210059084, 1642.6905754569923, 1990.7915897867551, 2686.656646609899, 1684.560229634123, 6985.751838281652, 5781.8265250890645, 4313.9655919790775, 11603.148017309719, 2655.826441986355, 5212.606382943859, 2536.4131629510825, 2305.3502052007784, 2231.8037731872387, 2218.2919585758746, 1730.6919190000922, 1649.6981611267684, 1523.2710059381072, 1516.1241619665238, 1507.482804840066, 1420.6010966121717, 1392.8154757780708, 1298.894228466871, 1264.4262344916574, 1298.1975222211654, 1235.6473736667144, 1224.862315861555, 1170.6698926559388, 1123.1958693968954, 1073.3011409216706, 1006.9743115161812, 945.384196249301, 907.4168784733024, 901.4698469778797, 896.2193807230532, 8827.425212783177, 13397.49105275871, 9455.80489462142, 2424.569320200362, 2045.231311585497, 2671.6066057931585, 3273.1397608261213, 5268.649145698003, 1326.7571201009407, 1366.7037265980425, 1297.1626857230406, 11495.93205100459, 7883.26706992324, 7035.769773480338, 6654.076246636902, 6385.1323845168035, 6468.364045391748, 6193.149388929532, 6174.824361755792, 5439.504981140326, 5096.98659321101, 4431.058973266045, 3686.934212538273, 3455.6517240492603, 2295.7748353984725, 2215.233691810779, 1772.628647634771, 1621.4624033218117, 1605.482357018031, 1517.2009461805537, 1510.0081159234708, 1432.142958370542, 1111.6942594635823, 1086.146291600925, 999.7922977098011, 991.9426967574167, 991.9426967574167, 921.4527785973472, 851.8814032627029, 774.7975101162792, 772.826569274258, 2798.259538256953, 2999.534431467655, 3573.62872740734, 2485.6774865793327, 1238.4265520299648, 7045.755963955479, 5192.86629861965, 4130.548566945964, 2806.0799954216654, 2549.43738705704, 2537.3871507227605, 2505.627453870401, 4423.93105540449, 2340.505412499081, 2145.773869718694, 1666.8741076069055, 1641.015555843661, 1576.3661867310964, 1562.1289483698024, 1506.205662865967, 1384.6477345372932, 1512.917350051491, 1338.1514522419507, 4182.1968408321345, 1272.8990929599593, 1180.1046461177568, 1176.06920948367, 1082.3023778772842, 1020.9363686339419, 977.9218961456884, 976.6649579553642, 965.7900740987541, 939.5000747638641, 930.3400189441722, 930.3400189441722, 1057.1137856632354, 5905.9849555610435, 4015.2719412371966, 8456.257599604643, 5478.322748381327, 6778.998853233703, 4265.417722509724, 3993.7941701914106, 1732.5983086896094, 1742.6558073485053, 2524.5295613101566, 3148.5292476271766, 16945.49853095274, 14813.19398689088, 6453.216692185862, 5030.561382889535, 7491.420840861088, 3893.0279977274176, 3873.707391140372, 2587.5079459704543, 2452.1212900047462, 2686.2786333568934, 2209.483376691505, 1900.4883935434432, 1792.3242007979704, 1435.962565177589, 1348.0658155245076, 1291.5972828326949, 1205.5785789140277, 980.4601025705828, 974.0722013398574, 967.9645828707303, 952.6795313423715, 907.1069279944824, 907.0394408457252, 887.8640797095526, 886.9060898658972, 833.5250784764213, 807.434332521992, 790.7234180598549, 762.2540494244874, 767.9362026943538, 2616.7347333995294, 5776.808690482474, 1546.4025430439892, 1439.985832660172, 3960.4843960376975, 2395.625157526607, 1549.856675206708], \"Total\": [37627.0, 40375.0, 25603.0, 22956.0, 20426.0, 36694.0, 16946.0, 15671.0, 14814.0, 16778.0, 18256.0, 15603.0, 20494.0, 13595.0, 27189.0, 12779.0, 13518.0, 11606.0, 14213.0, 11496.0, 12678.0, 11599.0, 12560.0, 11685.0, 8838.0, 13978.0, 8972.0, 10319.0, 8435.0, 11489.0, 25603.58381066938, 18256.665938142432, 14213.281304939206, 10319.31400936172, 9023.538289859049, 8537.157908534044, 8373.958352150736, 8090.260367902414, 7553.217546007628, 5834.763468709487, 3582.308576241424, 3449.7765714003285, 2611.7737917921486, 1878.036903887975, 1732.2348373416096, 1687.8234508510782, 1425.2196858489945, 1381.8776453161952, 1381.8776453161952, 1165.6666321376078, 1137.7954430674197, 1052.5519430046459, 960.6285049028143, 910.9150382447464, 870.7134009017994, 862.3850341637562, 843.760126953167, 2224.607322317742, 703.3417639709926, 628.5552063245846, 4001.3811373972294, 2057.122408145941, 8529.970699626128, 5047.192572284781, 27189.767742993918, 4992.118491518036, 13742.960363737617, 36694.25380537225, 20494.16213854601, 11489.337851629653, 8306.890153481498, 12560.117019610416, 22956.69533053477, 13518.405473724537, 12678.144236815733, 16778.174046542164, 11599.615168358783, 7380.323359773814, 4950.971260455484, 4054.24534162353, 3582.143645972782, 2898.4061126557326, 1866.7821096723942, 1719.324883715485, 1658.0562945326608, 1622.7853176749943, 1563.5670716877098, 1350.7949390334536, 1329.9374820354417, 1142.3371260851807, 1046.1182423651142, 1034.4224273275581, 937.7604057083173, 886.2649102922835, 765.4782874522698, 751.3955527564877, 690.3407756531078, 623.4982359159237, 567.04225584118, 530.905773942892, 484.0179875171181, 462.2016751692258, 5588.702769729328, 4217.566163100701, 6226.703803975743, 13978.948502411087, 9790.069113332154, 2403.4606925017483, 40375.02615350211, 1605.8213152876606, 5666.652350977483, 9636.576893946234, 4087.2933489874295, 3089.935630830652, 15603.97690090077, 37627.069857723836, 6069.845470823188, 4147.0797920099, 3897.185456964377, 3720.8105401907096, 3101.742268199092, 2730.923453686295, 2591.9575525284686, 2629.2316106050203, 1883.8246740478783, 1511.7298554073411, 1416.8593778997508, 1381.3864571827144, 1298.5538294596843, 1278.487277163417, 1234.6985001807109, 1537.2611164788239, 1191.4054238236881, 1173.852236692075, 1165.875023902513, 1107.4515145502198, 1063.890692862052, 1014.4329772935039, 929.4941897701964, 876.7644890350654, 857.469376776758, 849.8933560795265, 823.8373040393705, 776.4106389762626, 1040.6841293269586, 36694.25380537225, 1027.1379461589963, 3302.8550311599897, 3801.5225669899355, 2536.611705270902, 3016.6625673950057, 5666.652350977483, 2378.2706510761395, 4087.2933489874295, 2800.937632482353, 2341.665349862749, 12779.088364479288, 8972.698806841408, 8160.4870845597825, 7579.155294465686, 4055.617585464013, 3920.4129523440783, 3841.924255784307, 2194.421227426003, 2194.222211946293, 2300.014660217762, 2007.9923933931289, 1670.5882008234778, 1568.7408814782023, 1421.9129115129115, 1367.1946429839222, 1345.867595648355, 965.8836948991697, 1647.305462869296, 893.1071192490082, 850.0128577404113, 908.9646638634259, 822.3301816329574, 718.0962390962846, 653.173172011287, 638.3981621806224, 638.3981621806224, 612.1477597580856, 595.4564364655951, 581.9463359911772, 567.883632904655, 9883.031941422765, 2510.0523199182503, 40375.02615350211, 2350.7515001112247, 8306.890153481498, 1514.666294429341, 4163.409283920611, 6538.256705142575, 3252.644530101962, 9636.576893946234, 3195.835511784832, 7505.627724274751, 9177.618091543203, 27189.767742993918, 6216.625982392776, 9790.069113332154, 6983.893576029552, 6552.052976615783, 5389.452597082627, 4605.240882788281, 4350.107157350997, 4283.987193700873, 3465.347263449233, 3414.6355621321904, 3380.8459218788066, 3283.4125134613278, 3088.60631164844, 3014.336293222269, 2782.312261884308, 2281.601317204715, 2202.942905538138, 2163.4087918280247, 1988.7909761910635, 1950.1975292038057, 3195.8966307284804, 1729.6337247676167, 2066.66374223954, 1488.0413079471261, 1453.2114805264403, 1685.8859507381374, 1257.9780789681317, 1204.805796296038, 1198.6565787850639, 1143.9906712404845, 1116.024992094802, 1075.2067591183727, 8435.881992952885, 5009.778065874045, 20494.16213854601, 11489.337851629653, 11685.892105947181, 2261.6030848186715, 2800.937632482353, 3828.217663933796, 20426.00867313515, 15671.49492028662, 4870.802764568924, 4109.338945401794, 3666.5200829662954, 3065.848633861313, 3813.1327644175094, 2652.254447022976, 2652.254447022976, 2449.40703368855, 2233.0425559200517, 1846.8530387083995, 1677.1343868536799, 1586.4952108841228, 1537.44102150129, 1500.8205412191821, 1464.921956362939, 1407.7318675160936, 1320.0616762068876, 1190.1426562282932, 1156.1356204870262, 1148.6084686456425, 1146.5851295838552, 1049.1907052640327, 1024.994653113828, 990.6903244502832, 979.2581415704716, 968.9467165155635, 962.1231295297071, 941.1468515001138, 1015.8945766848163, 3852.274998580024, 7642.695171603158, 4316.122224817353, 3089.935630830652, 1585.2976252124477, 2004.8723512823244, 3193.3419027109057, 6257.0777713846455, 36694.25380537225, 8529.970699626128, 6986.653302927343, 5782.723124833531, 4314.867321656437, 11606.125457386077, 2656.723327626404, 5214.3800425693435, 2537.31144026289, 2306.2468155545043, 2232.7003819058023, 2219.188601993864, 1731.58853485724, 1650.594789906183, 1524.1675945539469, 1517.0208336460778, 1508.3794447136154, 1421.4978797679498, 1393.7121546204746, 1299.790850414489, 1265.3228325305895, 1299.1365340033271, 1236.5439630015583, 1225.7589068189463, 1171.5664844270116, 1124.0927802456426, 1074.1977370020722, 1007.8710626242996, 946.2808049013262, 908.3134988069548, 902.367181599884, 897.1159882093452, 8838.596540477927, 13595.264256087488, 12560.117019610416, 3255.163453244645, 2672.737307280479, 3985.5587728636738, 10052.929507672987, 27189.767742993918, 1621.3889497824957, 4087.2933489874295, 13978.948502411087, 11496.834212634723, 7884.169287605358, 7036.69995106011, 6654.97866980342, 6386.034626881499, 6469.304761588618, 6194.051566840524, 6175.726542952013, 5440.407142957754, 5097.894632337396, 4431.961192916765, 3687.8364642436145, 3456.553963208317, 2296.6770529342903, 2216.1358726416024, 1773.5308458555794, 1622.3654758842365, 1606.3845452875955, 1518.1031052630206, 1510.9103181666599, 1433.0451574748552, 1112.5965084840666, 1087.048625489288, 1000.6944515621539, 992.8448507065578, 992.8448507065578, 922.3550687652172, 852.7836051295101, 775.6996823443527, 773.7287425221948, 3124.7579611121614, 3545.0923615618253, 9636.576893946234, 13742.960363737617, 3828.217663933796, 7046.658613800364, 5193.770873797375, 4131.451257699206, 2807.016169707961, 2550.3399932002444, 2538.2897724110367, 2506.534695336901, 4425.550969897846, 2341.4080162090154, 2146.676471880686, 1667.7768135329327, 1641.9181738171185, 1577.2688004980919, 1563.0316047298188, 1507.1082675911562, 1385.5531648423969, 1513.9139321873001, 1339.054069651624, 4185.055163879531, 1273.80171518437, 1181.0072630047412, 1177.0225189908413, 1083.2050101542125, 1021.8389733417032, 978.8245016847683, 977.5676004566615, 966.6926926049533, 940.4026804689314, 931.2426423722327, 931.2426423722327, 1058.188332622096, 6998.704227186298, 4581.9088354368505, 11685.892105947181, 7372.106760210553, 10052.929507672987, 6257.0777713846455, 6216.625982392776, 2342.5112542159095, 2581.10878495789, 7642.695171603158, 13742.960363737617, 16946.414354354634, 14814.109808319554, 6454.1325002336835, 5031.477280980826, 7492.959963186179, 3893.943803547462, 3874.6231969151763, 2588.4238059321847, 2453.038403960767, 2687.358669748116, 2210.3992326304992, 1901.4067008686175, 1793.2418516589908, 1436.878371266005, 1348.981631717428, 1292.514659029651, 1206.4943845541693, 981.3759370218932, 974.988039199627, 968.8803885195146, 953.5953799617996, 908.0228069154829, 907.9571577440291, 888.7798853524318, 887.8219934619677, 834.4500037889642, 808.3565052452082, 791.6392521304364, 763.1698979478887, 768.860393031472, 3119.7613178584747, 9177.618091543203, 1918.710039360263, 1767.0764257888118, 7505.627724274751, 4584.291332285901, 3193.3419027109057], \"Category\": [\"Default\", \"Default\", \"Default\", \"Default\", \"Default\", \"Default\", \"Default\", \"Default\", \"Default\", \"Default\", \"Default\", \"Default\", \"Default\", \"Default\", \"Default\", \"Default\", \"Default\", \"Default\", \"Default\", \"Default\", \"Default\", \"Default\", \"Default\", \"Default\", \"Default\", \"Default\", \"Default\", \"Default\", \"Default\", \"Default\", \"Topic1\", \"Topic1\", \"Topic1\", \"Topic1\", \"Topic1\", \"Topic1\", \"Topic1\", \"Topic1\", \"Topic1\", \"Topic1\", \"Topic1\", \"Topic1\", \"Topic1\", \"Topic1\", \"Topic1\", \"Topic1\", \"Topic1\", \"Topic1\", \"Topic1\", \"Topic1\", \"Topic1\", \"Topic1\", \"Topic1\", \"Topic1\", \"Topic1\", \"Topic1\", \"Topic1\", \"Topic1\", \"Topic1\", \"Topic1\", \"Topic1\", \"Topic1\", \"Topic1\", \"Topic1\", \"Topic1\", \"Topic1\", \"Topic1\", \"Topic1\", \"Topic1\", \"Topic1\", \"Topic1\", \"Topic1\", \"Topic2\", \"Topic2\", \"Topic2\", \"Topic2\", \"Topic2\", \"Topic2\", \"Topic2\", \"Topic2\", \"Topic2\", \"Topic2\", \"Topic2\", \"Topic2\", \"Topic2\", \"Topic2\", \"Topic2\", \"Topic2\", \"Topic2\", \"Topic2\", \"Topic2\", \"Topic2\", \"Topic2\", \"Topic2\", \"Topic2\", \"Topic2\", \"Topic2\", \"Topic2\", \"Topic2\", \"Topic2\", \"Topic2\", \"Topic2\", \"Topic2\", \"Topic2\", \"Topic2\", \"Topic2\", \"Topic2\", \"Topic2\", \"Topic2\", \"Topic2\", \"Topic2\", \"Topic2\", \"Topic2\", \"Topic2\", \"Topic3\", \"Topic3\", \"Topic3\", \"Topic3\", \"Topic3\", \"Topic3\", \"Topic3\", \"Topic3\", \"Topic3\", \"Topic3\", \"Topic3\", \"Topic3\", \"Topic3\", \"Topic3\", \"Topic3\", \"Topic3\", \"Topic3\", \"Topic3\", \"Topic3\", \"Topic3\", \"Topic3\", \"Topic3\", \"Topic3\", \"Topic3\", \"Topic3\", \"Topic3\", \"Topic3\", \"Topic3\", \"Topic3\", \"Topic3\", \"Topic3\", \"Topic3\", \"Topic3\", \"Topic3\", \"Topic3\", \"Topic3\", \"Topic3\", \"Topic3\", \"Topic3\", \"Topic3\", \"Topic3\", \"Topic3\", \"Topic4\", \"Topic4\", \"Topic4\", \"Topic4\", \"Topic4\", \"Topic4\", \"Topic4\", \"Topic4\", \"Topic4\", \"Topic4\", \"Topic4\", \"Topic4\", \"Topic4\", \"Topic4\", \"Topic4\", \"Topic4\", \"Topic4\", \"Topic4\", \"Topic4\", \"Topic4\", \"Topic4\", \"Topic4\", \"Topic4\", \"Topic4\", \"Topic4\", \"Topic4\", \"Topic4\", \"Topic4\", \"Topic4\", \"Topic4\", \"Topic4\", \"Topic4\", \"Topic4\", \"Topic4\", \"Topic4\", \"Topic4\", \"Topic4\", \"Topic4\", \"Topic4\", \"Topic4\", \"Topic4\", \"Topic4\", \"Topic4\", \"Topic4\", \"Topic4\", \"Topic4\", \"Topic5\", \"Topic5\", \"Topic5\", \"Topic5\", \"Topic5\", \"Topic5\", \"Topic5\", \"Topic5\", \"Topic5\", \"Topic5\", \"Topic5\", \"Topic5\", \"Topic5\", \"Topic5\", \"Topic5\", \"Topic5\", \"Topic5\", \"Topic5\", \"Topic5\", \"Topic5\", \"Topic5\", \"Topic5\", \"Topic5\", \"Topic5\", \"Topic5\", \"Topic5\", \"Topic5\", \"Topic5\", \"Topic5\", \"Topic5\", \"Topic5\", \"Topic5\", \"Topic5\", \"Topic5\", \"Topic5\", \"Topic5\", \"Topic5\", \"Topic5\", \"Topic6\", \"Topic6\", \"Topic6\", \"Topic6\", \"Topic6\", \"Topic6\", \"Topic6\", \"Topic6\", \"Topic6\", \"Topic6\", \"Topic6\", \"Topic6\", \"Topic6\", \"Topic6\", \"Topic6\", \"Topic6\", \"Topic6\", \"Topic6\", \"Topic6\", \"Topic6\", \"Topic6\", \"Topic6\", \"Topic6\", \"Topic6\", \"Topic6\", \"Topic6\", \"Topic6\", \"Topic6\", \"Topic6\", \"Topic6\", \"Topic6\", \"Topic6\", \"Topic6\", \"Topic6\", \"Topic6\", \"Topic6\", \"Topic6\", \"Topic6\", \"Topic6\", \"Topic6\", \"Topic6\", \"Topic7\", \"Topic7\", \"Topic7\", \"Topic7\", \"Topic7\", \"Topic7\", \"Topic7\", \"Topic7\", \"Topic7\", \"Topic7\", \"Topic7\", \"Topic7\", \"Topic7\", \"Topic7\", \"Topic7\", \"Topic7\", \"Topic7\", \"Topic7\", \"Topic7\", \"Topic7\", \"Topic7\", \"Topic7\", \"Topic7\", \"Topic7\", \"Topic7\", \"Topic7\", \"Topic7\", \"Topic7\", \"Topic7\", \"Topic7\", \"Topic7\", \"Topic7\", \"Topic7\", \"Topic7\", \"Topic7\", \"Topic7\", \"Topic7\", \"Topic7\", \"Topic7\", \"Topic7\", \"Topic7\", \"Topic8\", \"Topic8\", \"Topic8\", \"Topic8\", \"Topic8\", \"Topic8\", \"Topic8\", \"Topic8\", \"Topic8\", \"Topic8\", \"Topic8\", \"Topic8\", \"Topic8\", \"Topic8\", \"Topic8\", \"Topic8\", \"Topic8\", \"Topic8\", \"Topic8\", \"Topic8\", \"Topic8\", \"Topic8\", \"Topic8\", \"Topic8\", \"Topic8\", \"Topic8\", \"Topic8\", \"Topic8\", \"Topic8\", \"Topic8\", \"Topic8\", \"Topic8\", \"Topic8\", \"Topic8\", \"Topic8\", \"Topic9\", \"Topic9\", \"Topic9\", \"Topic9\", \"Topic9\", \"Topic9\", \"Topic9\", \"Topic9\", \"Topic9\", \"Topic9\", \"Topic9\", \"Topic9\", \"Topic9\", \"Topic9\", \"Topic9\", \"Topic9\", \"Topic9\", \"Topic9\", \"Topic9\", \"Topic9\", \"Topic9\", \"Topic9\", \"Topic9\", \"Topic9\", \"Topic9\", \"Topic9\", \"Topic9\", \"Topic9\", \"Topic9\", \"Topic9\", \"Topic9\", \"Topic9\", \"Topic9\", \"Topic9\", \"Topic9\", \"Topic9\", \"Topic9\", \"Topic9\", \"Topic9\", \"Topic9\", \"Topic9\", \"Topic9\", \"Topic10\", \"Topic10\", \"Topic10\", \"Topic10\", \"Topic10\", \"Topic10\", \"Topic10\", \"Topic10\", \"Topic10\", \"Topic10\", \"Topic10\", \"Topic10\", \"Topic10\", \"Topic10\", \"Topic10\", \"Topic10\", \"Topic10\", \"Topic10\", \"Topic10\", \"Topic10\", \"Topic10\", \"Topic10\", \"Topic10\", \"Topic10\", \"Topic10\", \"Topic10\", \"Topic10\", \"Topic10\", \"Topic10\", \"Topic10\", \"Topic10\", \"Topic10\", \"Topic10\", \"Topic10\", \"Topic10\", \"Topic10\", \"Topic10\"], \"logprob\": [30.0, 29.0, 28.0, 27.0, 26.0, 25.0, 24.0, 23.0, 22.0, 21.0, 20.0, 19.0, 18.0, 17.0, 16.0, 15.0, 14.0, 13.0, 12.0, 11.0, 10.0, 9.0, 8.0, 7.0, 6.0, 5.0, 4.0, 3.0, 2.0, 1.0, -2.2271, -2.5653, -2.8157, -3.1359, -3.27, -3.3255, -3.3448, -3.3792, -3.4479, -3.7061, -4.194, -4.2317, -4.5101, -4.84, -4.9209, -4.9469, -5.1161, -5.147, -5.147, -5.3173, -5.3415, -5.4194, -5.5109, -5.5641, -5.6093, -5.6189, -5.6407, -4.6714, -5.823, -5.9356, -4.0869, -4.7564, -3.5463, -4.0643, -2.6163, -4.1519, -3.3776, -2.946, -3.6197, -4.1638, -4.4614, -4.3373, -2.1626, -2.6921, -2.7563, -2.4761, -2.8452, -3.2974, -3.6967, -3.8966, -4.0204, -4.2323, -4.6724, -4.7547, -4.791, -4.8125, -4.8497, -4.9961, -5.0117, -5.1639, -5.2519, -5.2632, -5.3614, -5.4179, -5.5646, -5.5832, -5.668, -5.77, -5.8651, -5.931, -6.0237, -6.0699, -3.5834, -3.8868, -3.5323, -2.8672, -3.2934, -4.6345, -2.4573, -5.056, -4.2808, -5.0288, -5.1565, -5.2283, -2.428, -1.5478, -3.3722, -3.7532, -3.8153, -3.8617, -4.0437, -4.1711, -4.2233, -4.2092, -4.5425, -4.7627, -4.8276, -4.8529, -4.9148, -4.9304, -4.9653, -4.7461, -5.001, -5.0159, -5.0227, -5.0741, -5.1143, -5.1619, -5.2495, -5.3079, -5.3302, -5.3391, -5.3703, -5.4296, -5.1379, -2.1058, -5.181, -4.2177, -4.1331, -4.482, -4.4997, -4.1087, -4.7837, -4.7243, -4.9378, -4.9684, -2.5866, -2.9402, -3.0351, -3.109, -3.7344, -3.7684, -3.7886, -4.3488, -4.3489, -4.3019, -4.4376, -4.6217, -4.6846, -4.783, -4.8222, -4.838, -5.17, -4.6361, -5.2484, -5.2979, -5.2309, -5.331, -5.4668, -5.5616, -5.5845, -5.5845, -5.6266, -5.6543, -5.6773, -5.7018, -3.0054, -4.3622, -1.9868, -4.4664, -3.4179, -4.8539, -4.0834, -3.7795, -4.3109, -3.575, -4.578, -4.1415, -4.0742, -3.6147, -4.3359, -4.3627, -3.1709, -3.2348, -3.4301, -3.5874, -3.6444, -3.6597, -3.8719, -3.8866, -3.8966, -3.9258, -3.987, -4.0113, -4.0915, -4.2899, -4.325, -4.3431, -4.4273, -4.4469, -3.953, -4.567, -4.389, -4.7176, -4.7413, -4.5928, -4.8856, -4.9288, -4.934, -4.9807, -5.0055, -5.0427, -2.9902, -3.6275, -2.4659, -3.0607, -3.9423, -4.6533, -4.6878, -4.6961, -2.0281, -2.2931, -3.4618, -3.6318, -3.7459, -3.9248, -3.7067, -4.0698, -4.0698, -4.1494, -4.2419, -4.4318, -4.5283, -4.5839, -4.6153, -4.6394, -4.6637, -4.7035, -4.7678, -4.8715, -4.9005, -4.9071, -4.9088, -4.9977, -5.021, -5.0551, -5.0667, -5.0773, -5.0844, -5.1065, -5.0304, -3.8883, -3.4122, -3.969, -4.3423, -4.7649, -4.6791, -4.5485, -4.3563, -4.0566, -4.5233, -3.0761, -3.2652, -3.5581, -2.5687, -4.0432, -3.3689, -4.0892, -4.1847, -4.2171, -4.2232, -4.4714, -4.5194, -4.5991, -4.6038, -4.6095, -4.6689, -4.6886, -4.7584, -4.7853, -4.759, -4.8084, -4.8171, -4.8624, -4.9038, -4.9492, -5.013, -5.0761, -5.1171, -5.1237, -5.1295, -2.8421, -2.4249, -2.7733, -4.1343, -4.3044, -4.0373, -3.8342, -3.3582, -4.7372, -4.7075, -4.7598, -2.5688, -2.9461, -3.0598, -3.1156, -3.1568, -3.1439, -3.1874, -3.1903, -3.3171, -3.3822, -3.5222, -3.706, -3.7708, -4.1797, -4.2155, -4.4384, -4.5275, -4.5374, -4.5939, -4.5987, -4.6516, -4.9049, -4.9282, -5.011, -5.0189, -5.0189, -5.0926, -5.1711, -5.266, -5.2685, -3.9818, -3.9124, -3.7372, -4.1003, -4.797, -3.0081, -3.3133, -3.5422, -3.9288, -4.0247, -4.0294, -4.042, -3.4735, -4.1102, -4.1971, -4.4496, -4.4652, -4.5054, -4.5145, -4.551, -4.6351, -4.5465, -4.6693, -3.5297, -4.7193, -4.795, -4.7984, -4.8815, -4.9398, -4.9829, -4.9842, -4.9954, -5.023, -5.0328, -5.0328, -4.905, -3.1846, -3.5705, -2.8257, -3.2598, -3.0467, -3.51, -3.5758, -4.4109, -4.4052, -4.0345, -3.8136, -2.0776, -2.2121, -3.0431, -3.2921, -2.8939, -3.5485, -3.5534, -3.9569, -4.0107, -3.9195, -4.1149, -4.2655, -4.3241, -4.5458, -4.609, -4.6518, -4.7207, -4.9274, -4.9339, -4.9402, -4.9561, -5.0051, -5.0052, -5.0266, -5.0277, -5.0897, -5.1215, -5.1424, -5.1791, -5.1717, -3.9457, -3.1538, -4.4717, -4.543, -3.5313, -4.034, -4.4695], \"loglift\": [30.0, 29.0, 28.0, 27.0, 26.0, 25.0, 24.0, 23.0, 22.0, 21.0, 20.0, 19.0, 18.0, 17.0, 16.0, 15.0, 14.0, 13.0, 12.0, 11.0, 10.0, 9.0, 8.0, 7.0, 6.0, 5.0, 4.0, 3.0, 2.0, 1.0, 1.9595, 1.9595, 1.9594, 1.9594, 1.9594, 1.9594, 1.9594, 1.9594, 1.9594, 1.9594, 1.9593, 1.9593, 1.9592, 1.959, 1.959, 1.959, 1.9589, 1.9589, 1.9589, 1.9587, 1.9587, 1.9587, 1.9586, 1.9585, 1.9585, 1.9585, 1.9584, 1.9584, 1.9582, 1.9581, 1.9557, 1.9516, 1.7394, 1.7462, 1.5102, 1.6695, 1.4311, 0.8806, 0.7894, 0.8241, 0.8508, 0.5615, 2.1331, 2.1331, 2.1331, 2.1331, 2.1331, 2.133, 2.133, 2.1329, 2.1329, 2.1329, 2.1327, 2.1326, 2.1326, 2.1326, 2.1326, 2.1325, 2.1325, 2.1324, 2.1323, 2.1323, 2.1322, 2.1321, 2.132, 2.1319, 2.1318, 2.1317, 2.1315, 2.1314, 2.1313, 2.1312, 2.1252, 2.1033, 2.0681, 1.9245, 1.8545, 1.9179, 1.2738, 1.8996, 1.4139, 0.1349, 0.8649, 1.0729, 2.2538, 2.2538, 2.2538, 2.2537, 2.2537, 2.2537, 2.2536, 2.2536, 2.2536, 2.2535, 2.2535, 2.2533, 2.2533, 2.2533, 2.2532, 2.2532, 2.2532, 2.2532, 2.2532, 2.2532, 2.2531, 2.2531, 2.2531, 2.253, 2.2529, 2.2529, 2.2529, 2.2529, 2.2528, 2.2527, 2.2516, 1.7208, 2.2215, 2.0168, 1.9608, 2.0164, 1.8255, 1.586, 1.7792, 1.2971, 1.4615, 1.6101, 2.2949, 2.2949, 2.2949, 2.2949, 2.2947, 2.2947, 2.2947, 2.2946, 2.2946, 2.2945, 2.2945, 2.2944, 2.2944, 2.2943, 2.2943, 2.2943, 2.294, 2.294, 2.294, 2.2939, 2.2939, 2.2939, 2.2937, 2.2936, 2.2935, 2.2935, 2.2935, 2.2934, 2.2934, 2.2934, 2.1331, 2.1468, 1.7443, 2.1081, 1.8944, 2.1602, 1.9195, 1.7722, 1.9389, 1.5888, 1.6895, 1.2721, 1.1384, 0.5118, 1.2662, 0.7853, 2.3148, 2.3147, 2.3147, 2.3147, 2.3147, 2.3147, 2.3146, 2.3146, 2.3146, 2.3146, 2.3146, 2.3146, 2.3146, 2.3145, 2.3145, 2.3145, 2.3144, 2.3144, 2.3144, 2.3144, 2.3143, 2.3143, 2.3143, 2.3142, 2.3142, 2.3141, 2.3141, 2.3141, 2.3141, 2.314, 2.3066, 2.1904, 1.9433, 1.9272, 1.0286, 1.9599, 1.7115, 1.3908, 2.3844, 2.3844, 2.3843, 2.3842, 2.3842, 2.3842, 2.3841, 2.3841, 2.3841, 2.3841, 2.384, 2.384, 2.3839, 2.3839, 2.3839, 2.3839, 2.3838, 2.3838, 2.3838, 2.3837, 2.3837, 2.3837, 2.3837, 2.3836, 2.3836, 2.3836, 2.3835, 2.3835, 2.3835, 2.3835, 2.3831, 2.1923, 1.9833, 1.9979, 1.9589, 2.2037, 2.0546, 1.7197, 1.2393, -0.2299, 0.7624, 2.4092, 2.4092, 2.4091, 2.4091, 2.409, 2.409, 2.409, 2.409, 2.409, 2.409, 2.4088, 2.4088, 2.4088, 2.4088, 2.4088, 2.4087, 2.4087, 2.4087, 2.4086, 2.4086, 2.4086, 2.4086, 2.4086, 2.4086, 2.4085, 2.4085, 2.4084, 2.4084, 2.4084, 2.4084, 2.4081, 2.3947, 2.1255, 2.1148, 2.1418, 2.0094, 1.2872, 0.7683, 2.2088, 1.3139, 0.032, 2.4184, 2.4184, 2.4184, 2.4183, 2.4183, 2.4183, 2.4183, 2.4183, 2.4183, 2.4183, 2.4183, 2.4182, 2.4182, 2.4181, 2.4181, 2.418, 2.4179, 2.4179, 2.4179, 2.4179, 2.4179, 2.4177, 2.4177, 2.4176, 2.4176, 2.4176, 2.4175, 2.4174, 2.4173, 2.4173, 2.3081, 2.2514, 1.4265, 0.7085, 1.2899, 2.4686, 2.4686, 2.4685, 2.4684, 2.4684, 2.4684, 2.4684, 2.4684, 2.4684, 2.4683, 2.4682, 2.4682, 2.4682, 2.4682, 2.4681, 2.4681, 2.4681, 2.4681, 2.4681, 2.468, 2.468, 2.4679, 2.4679, 2.4679, 2.4678, 2.4678, 2.4678, 2.4678, 2.4678, 2.4678, 2.4677, 2.299, 2.3367, 2.1453, 2.1718, 2.0747, 2.0856, 2.0263, 2.1671, 2.0759, 1.361, 0.9951, 2.5216, 2.5216, 2.5215, 2.5215, 2.5215, 2.5214, 2.5214, 2.5213, 2.5213, 2.5213, 2.5212, 2.5212, 2.5211, 2.521, 2.521, 2.5209, 2.5209, 2.5207, 2.5207, 2.5207, 2.5207, 2.5206, 2.5206, 2.5206, 2.5206, 2.5205, 2.5205, 2.5205, 2.5205, 2.5205, 2.3458, 2.0587, 2.3059, 2.317, 1.8824, 1.8727, 1.7988]}, \"token.table\": {\"Topic\": [5, 9, 3, 7, 10, 5, 3, 5, 9, 2, 4, 8, 10, 1, 8, 7, 10, 8, 7, 2, 8, 9, 7, 4, 5, 10, 4, 8, 5, 4, 1, 6, 8, 3, 6, 7, 2, 10, 8, 3, 9, 4, 8, 3, 7, 10, 4, 9, 5, 7, 8, 2, 3, 5, 7, 8, 10, 8, 3, 7, 9, 5, 6, 2, 1, 5, 3, 4, 8, 7, 9, 6, 2, 3, 1, 1, 5, 1, 4, 5, 7, 4, 4, 10, 1, 9, 5, 4, 9, 5, 6, 10, 7, 4, 6, 10, 10, 2, 3, 10, 6, 6, 6, 10, 9, 1, 3, 6, 2, 4, 8, 8, 6, 6, 5, 3, 8, 10, 3, 3, 9, 9, 1, 6, 9, 4, 6, 3, 6, 1, 7, 5, 2, 5, 1, 7, 5, 10, 1, 7, 5, 4, 1, 9, 1, 2, 7, 8, 2, 5, 5, 10, 10, 8, 7, 6, 9, 7, 5, 3, 9, 6, 9, 4, 2, 3, 8, 10, 6, 2, 9, 3, 6, 2, 3, 6, 3, 4, 6, 7, 3, 7, 5, 8, 9, 8, 2, 3, 7, 1, 2, 4, 6, 2, 6, 9, 7, 10, 6, 9, 6, 1, 6, 2, 9, 7, 2, 4, 9, 5, 2, 8, 8, 5, 8, 6, 4, 8, 7, 2, 4, 10, 3, 2, 4, 7, 5, 5, 1, 8, 10, 3, 6, 10, 1, 5, 8, 1, 3, 6, 5, 7, 5, 6, 6, 4, 2, 7, 2, 7, 2, 3, 3, 5, 10, 8, 10, 4, 8, 10, 1, 5, 8, 2, 6, 2, 9, 5, 1, 6, 4, 5, 9, 4, 7, 4, 7, 4, 1, 8, 6, 1, 4, 8, 4, 7, 2, 3, 9, 1, 1, 7, 5, 1, 8, 9, 10, 8, 1, 1, 1, 7, 8, 6, 8, 8, 2, 7, 8, 4, 6, 3, 8, 4, 6, 2, 7, 2, 4, 7, 2, 3, 6, 10, 7, 9, 10, 3, 3, 2, 6, 2, 9, 6, 9, 2, 8, 9, 1, 1, 3, 3, 1, 4, 3, 9, 8, 10, 3, 1, 4, 7, 10, 4, 5, 7, 9, 9, 7, 9, 5, 3, 9, 2, 9, 10, 1, 4, 7, 8, 10, 5, 4, 3, 1, 2, 6, 1, 2, 1, 4, 4, 5, 3, 4, 5, 6, 3, 2, 1, 7, 1, 4, 8, 5, 8, 9, 9, 10, 5, 2, 10, 9, 4, 9, 2, 5, 1, 4, 6, 1, 4, 2, 5, 8, 4, 5, 1, 1, 8, 3, 5, 9, 2, 10, 6, 10, 6, 3, 4, 9, 9, 10, 7, 3, 5, 7, 1, 9, 2, 6, 7, 10, 1, 2, 4, 6, 7, 9, 3, 3, 9, 3, 4, 4, 9, 4, 3, 2, 5, 3, 1, 3, 6, 10, 3, 1, 10, 4, 9, 9, 3, 10, 2, 2, 7, 8, 9, 4, 5, 9, 4, 8, 8, 5, 5, 2, 9], \"Freq\": [0.9991340215743103, 0.9995717999562372, 0.9974208030551072, 0.0019218127226495322, 0.9997576227097571, 0.9997305498626752, 0.45270554591971585, 0.5469596974361236, 0.9994407919762628, 0.9369323134135589, 0.003211972277729033, 0.05958208575187356, 0.9989866140302213, 0.8077757964670663, 0.19198791924861106, 0.7449702710267393, 0.25497951544420355, 0.9998529417069568, 0.9990854789764937, 0.00023894547642545373, 0.00047789095285090746, 0.9992699824112475, 0.999489023168727, 0.1167716398426796, 0.8830730507077172, 0.9998391593495666, 0.9992075162143746, 0.0006070519539577003, 0.9991949622933157, 0.9995277222089705, 0.9990991196088967, 0.8345436080639452, 0.16463785465207081, 0.9989836536470671, 0.9995381122966903, 0.9996601185296665, 0.999820690814033, 0.9998362687241504, 0.9999005285055526, 0.7460168787701184, 0.25384565867883085, 0.9995588461954995, 0.9997052032485694, 0.9996618529585484, 0.99968630725758, 0.9999165396097924, 0.35742861260968983, 0.6424706925126468, 0.3967903952564462, 0.279503438396575, 0.32338809040650457, 0.0006167551592936087, 0.01850265477880826, 0.0012335103185872173, 0.8184340963826187, 0.16097309657563186, 0.9985979511316849, 0.9991490606956801, 0.9981831277091687, 0.9997353390895798, 0.00019177735259727217, 0.1747019618921475, 0.8252266520878706, 0.9995160680427406, 0.3103322769188953, 0.6896110172476018, 0.9995922940695031, 0.9992334679119361, 0.9998823550643055, 0.9997307062208183, 0.00017232279690094257, 0.9993031884603635, 6.408622662997361e-05, 0.9998733078808483, 0.9995121226389745, 0.3212543705881594, 0.6786291865282794, 0.9993457357348793, 0.008179346280287087, 0.9917161011721995, 0.999874950811595, 0.9991262085540982, 0.9998080462307152, 0.9993669774175437, 0.7481793563886816, 0.251596592134989, 0.9997364494838863, 0.998125028247201, 0.9991471153173279, 0.1928378923390454, 0.0005211834928082309, 0.8057496798815249, 0.9999064927227648, 0.25740074407784364, 0.21988131358514099, 0.5226543922122994, 0.9983218972861526, 0.00010630644414047846, 0.9998652603632702, 0.9988809502488747, 0.9995270261402016, 0.9997029307691356, 0.9993236160068198, 0.9998245309910135, 0.9988770121674359, 0.9988279628986273, 0.0008990350701157761, 0.9987152094865877, 0.13552530264355991, 0.4935362476054908, 0.37087858472288143, 0.9993060303661424, 0.9994702558249811, 0.9988326550986711, 0.9996112183435573, 0.9677375894027512, 0.03115453004113485, 0.9989458117755167, 0.9996958171538235, 0.3246666722780814, 0.6752911811225487, 0.9998515772420258, 0.9991806708142306, 0.3181996568918155, 0.6816280947481633, 0.9988084206830662, 0.9991957374219527, 0.7890143452904597, 0.21072677832776665, 0.3294393772185156, 0.670420423402798, 0.9998743644121363, 0.9999300253687375, 0.9990815688698171, 0.9999771980878264, 0.9985539146905996, 0.18448551247831607, 0.8149053311925618, 0.23459095598062163, 0.765133181786876, 0.9996336075328885, 0.9984734092220504, 0.9998726650472571, 0.9994745825247547, 0.9998855556583358, 0.9988294820726321, 0.9997277369386257, 0.9998379860207547, 0.9992294163086723, 0.9991663425849062, 0.9999160216971067, 0.9990741460923237, 0.9993756471829557, 0.9990353462902213, 0.9991251620029306, 0.9997231977300053, 0.9996379893643196, 0.9991357400201256, 0.9998720518834052, 0.9992494702394566, 0.999786679459137, 0.6695282076684789, 0.3303808333716844, 0.9989387223708722, 0.9996373218021931, 0.9996188642842828, 0.998530859957184, 0.9993074823355022, 0.9998351884468072, 0.9992009024449094, 0.9993399975235964, 0.9995172051377232, 0.999453271596006, 0.48706005398829644, 0.5128248249601411, 0.9996741701233254, 0.1254401716726545, 0.8741199331294451, 0.9993706447234718, 0.99902785582752, 0.7884533513127531, 0.21091127147616143, 0.9998392905827317, 0.8954293531919311, 0.10432808046482113, 0.9997983150219842, 0.2813597904062591, 0.3841172790763711, 0.33445115955248367, 0.9998643683827276, 0.7567873029527845, 0.22093817469116925, 0.02216531849652507, 0.7914952852474237, 0.20799325355833165, 0.9991789573860551, 0.9995600940865557, 0.9992723164686993, 0.9990177445734715, 0.9991312664164506, 0.9990398997781372, 0.8024646556288897, 0.19753877936226136, 0.9999097472946861, 0.9991955711685344, 0.999233946084329, 0.42343006627420104, 0.5765445181756464, 0.9992128251759853, 0.9988776492445396, 0.9998960325811155, 0.9990811207851598, 0.9999274397960957, 0.15373365329186936, 0.8462402933497395, 0.999533123129567, 0.9978098900287453, 0.9991583426148215, 0.9988849939254062, 0.11271542249076133, 0.35959683841910733, 0.5276041052759041, 0.9997606931411736, 0.9981427189030223, 0.9987603735037527, 0.9986464853828882, 0.9993859446615674, 0.9996022828942143, 0.9999635235620409, 0.9998302295631257, 0.9994607180934497, 0.00032053734183948366, 0.1609097456034208, 0.8388462235939288, 0.9993648892728166, 0.9994065419043143, 0.00031290123415914664, 0.9993648892728166, 0.2808158831857315, 0.7192477860636319, 0.9997497898755656, 0.9996497499046351, 0.0009843541081431054, 0.999119419765252, 0.9998581535203608, 0.9999221185446595, 0.9974001064172132, 0.998756026841554, 0.9996928302264433, 0.9994643979367973, 0.9999697112095292, 0.9991796341784065, 0.9991280565709194, 0.9994522377829609, 0.9994944218784747, 0.9990581421082804, 0.9999051409846109, 0.3145696379172992, 0.05589685633930533, 0.6294661580354131, 0.9999098515739105, 0.9995719791303862, 0.9998245094491124, 0.346285530780574, 0.6534116697625971, 0.9991891258111468, 0.9993706122587109, 0.9998110427259199, 0.9983939492119094, 0.9999506181970598, 0.9995057783105185, 0.2763160887269101, 0.7236075708500316, 0.700353198426079, 0.2994486458590873, 0.9994429862483212, 0.9993808677915987, 0.999357969461055, 0.9994281108172537, 0.9994638591083849, 0.998865120270263, 0.9997748922620767, 0.8295219634690169, 0.17015835148082398, 0.9983824239184362, 0.9984848943669915, 0.9996807369871759, 0.00022596056554356728, 0.9996495419647418, 0.9980923015812154, 0.9993008909709857, 0.9995164726590069, 0.9993002156986067, 0.5895381915950263, 0.18089261223219397, 0.229135493129195, 0.0004365871574389235, 0.9997831224428813, 0.999940346032592, 0.9998442117008478, 0.0007355502483537491, 0.9854166677195176, 0.013754789644215108, 0.9995270261402016, 0.9992733660452994, 0.999839735408672, 0.9704649178498906, 0.029400842856923147, 0.99970068417089, 0.9999403118276231, 0.9997131457433994, 0.6218804404497739, 0.377585284329883, 0.9990850918140182, 0.9994896762841609, 0.9995810385859486, 0.9994593746228309, 0.9982939082840161, 0.9997594289416519, 0.9997989922767536, 0.9995148669299333, 0.9995731829473259, 0.9987814319324494, 0.9984670543858787, 0.9986879658524044, 0.0011314013434376396, 0.9990913341523407, 0.999434274698958, 0.9989963292491357, 0.99805780608593, 0.9990296016561585, 0.9978967981699604, 0.9992646396977654, 0.9994801087245506, 0.9988875511625995, 0.9989310554774516, 0.9997731829348387, 0.9993963116608752, 0.9989954735553498, 0.9921626403552369, 0.0072917391500874834, 0.9989488609681014, 0.9994756144736475, 0.9998477209818237, 0.15602888256916933, 0.8438704949208005, 0.9992706737332012, 0.9991225213742067, 0.9995622341828094, 0.6380709156469487, 0.16811471297609099, 0.19378613490943414, 3.6778541451781014e-05, 0.8505487030521394, 0.14934688147810585, 0.9994831378434356, 0.9995342221293465, 0.9998907750155918, 0.32557673835292034, 0.6743308002732804, 0.999813871167032, 0.9993934628141964, 0.999419374725189, 0.9994115028043987, 0.999825738954428, 0.9993886947680679, 0.31272447919747365, 0.6869370280374614, 0.9989545493872549, 0.9993975035078426, 0.9995766866270457, 0.9997454873383691, 0.9996479079505124, 0.9992739829891396, 0.9997037293985489, 0.9992950931542985, 0.9999046089543963, 0.9991442120389546, 0.9993751782903448, 0.3299670453510476, 0.6699257961979496, 0.5457101886404657, 0.4540283736911214, 0.9995735028867346, 0.9999148323848895, 0.9995566874123257, 0.9990229426454243, 0.9994683239813273, 0.9985727627511888, 0.24705183838297132, 0.7528592277632539, 0.9991166944144316, 0.9984439894840158, 0.9991380984760734, 0.999769561939325, 0.9994874535196037, 0.999600762456156, 0.7398043432581388, 0.25997740625747634, 0.9998036940978352, 0.9999469664855382, 0.9996018157116783, 0.9991576613750993, 0.8621334236054805, 0.137447334170005, 0.8063372977332727, 0.19347102344993386, 0.9994478788538029, 0.3204265143484265, 0.6793134779968087, 0.9961560429089156, 0.0034987919219078823, 0.9981619432582959, 0.9994744895182562, 0.9990979984132028, 0.998373843200567, 0.9992224991957459, 0.999287142069314, 0.9996347114678779, 0.9999251631455044, 0.6513821006161941, 0.003977905957961491, 0.34408886536366895, 0.9995916297671064, 0.9995902305385764, 0.5145080138788826, 0.4853849187536628, 0.9998338235814007, 0.9991627966406437, 0.9993553632978754, 0.9992834407353522, 0.999684874786887, 0.9991924956617347, 0.9993915556381731, 0.5252671992913477, 0.4744486653761686, 0.9993270800087667, 0.9998691517293578, 0.9999065353046799, 0.9993629320451037, 0.999687858569805, 0.99963965116707, 0.9992601788623261, 0.00030589193575512684, 0.07341406458123045, 0.5928185714934359, 0.1602873743356865, 0.08182609281449643, 0.09115579685502781, 0.9997821603164272, 0.999531570136289, 0.9994918734554835, 0.9998607096626673, 0.9982038882465512, 0.12331105229118587, 0.8762723450426748, 0.9998946661106628, 0.9997396259382372, 0.29846085925997906, 0.7012724782019656, 0.9988203647594808, 0.3399714861669591, 0.5867948729576724, 0.07322672411467888, 0.999738426043138, 0.9996305678202428, 0.9998388043240894, 0.9999250843733499, 0.9998475694954384, 0.9986656083863737, 0.9986656083863737, 0.9994526022859004, 0.9988735889586768, 0.9998038242590415, 0.8116490305435379, 0.09278237199144797, 0.0005722891102016837, 0.09492845615470429, 0.1505675427804436, 0.10621115855593455, 0.7430711705867298, 0.9978098900287453, 0.9991490606956801, 0.9998516917175795, 0.9995283556406356, 0.9993311815908297, 0.9920012261214792, 0.007873025604138724], \"Term\": [\"acryl\", \"advent\", \"airlin\", \"airlin\", \"alarm\", \"alphabet\", \"angel\", \"angel\", \"anim\", \"antiqu\", \"antiqu\", \"antiqu\", \"apothecari\", \"appl\", \"appl\", \"apron\", \"apron\", \"assort\", \"babi\", \"babushka\", \"babushka\", \"babushka\", \"backpack\", \"bake\", \"bake\", \"bakelik\", \"ball\", \"ball\", \"balloon\", \"bank\", \"baroqu\", \"bath\", \"bath\", \"baubl\", \"bead\", \"beaker\", \"bell\", \"bicycl\", \"bird\", \"birthday\", \"birthday\", \"biscuit\", \"block\", \"book\", \"botan\", \"bottl\", \"bowl\", \"bowl\", \"box\", \"box\", \"box\", \"bracelet\", \"bracelet\", \"bracelet\", \"bracelet\", \"bracelet\", \"breakfast\", \"build\", \"bundl\", \"bunt\", \"bunt\", \"butterfli\", \"butterfli\", \"cabinet\", \"cake\", \"cake\", \"cakestand\", \"calcul\", \"calm\", \"candl\", \"candl\", \"car\", \"card\", \"card\", \"carri\", \"case\", \"case\", \"cash\", \"ceram\", \"ceram\", \"chain\", \"chalk\", \"chalkboard\", \"charli\", \"charlott\", \"charlott\", \"charm\", \"cherri\", \"chest\", \"child\", \"child\", \"child\", \"children\", \"chocol\", \"chocol\", \"chocol\", \"choic\", \"christma\", \"christma\", \"chrome\", \"circus\", \"classic\", \"clip\", \"clock\", \"coat\", \"coffe\", \"coffe\", \"collag\", \"colour\", \"colour\", \"colour\", \"come\", \"contain\", \"cook\", \"cooki\", \"cosi\", \"cosi\", \"cotton\", \"cover\", \"cracker\", \"cracker\", \"craft\", \"crate\", \"cream\", \"cream\", \"cross\", \"crystal\", \"cushion\", \"cushion\", \"cutleri\", \"cutleri\", \"cutter\", \"decor\", \"delux\", \"design\", \"diet\", \"diner\", \"diner\", \"dinner\", \"dinner\", \"dinosaur\", \"disco\", \"doili\", \"doll\", \"dolli\", \"domino\", \"door\", \"doormat\", \"doorstop\", \"draw\", \"drawer\", \"drop\", \"earring\", \"embroid\", \"empir\", \"enamel\", \"english\", \"eras\", \"fairi\", \"feather\", \"felt\", \"feltcraft\", \"feltcraft\", \"filigre\", \"finish\", \"flag\", \"flock\", \"floral\", \"flower\", \"flute\", \"fold\", \"folkart\", \"food\", \"frame\", \"frame\", \"french\", \"fri\", \"fri\", \"friend\", \"funki\", \"game\", \"game\", \"garden\", \"garland\", \"garland\", \"gift\", \"gingham\", \"gingham\", \"gingham\", \"girl\", \"glass\", \"glass\", \"glass\", \"glitter\", \"glitter\", \"gloss\", \"glove\", \"grey\", \"grow\", \"gymkhana\", \"hairband\", \"hand\", \"hand\", \"hang\", \"happi\", \"harmonica\", \"heart\", \"heart\", \"herb\", \"hldr\", \"holder\", \"holli\", \"home\", \"hook\", \"hook\", \"hors\", \"hotti\", \"hous\", \"incens\", \"ivori\", \"ivori\", \"ivori\", \"jack\", \"jar\", \"jelli\", \"jewel\", \"jigsaw\", \"jingl\", \"jumbo\", \"keep\", \"king\", \"kitchen\", \"kitchen\", \"kitchen\", \"knack\", \"kneel\", \"kneel\", \"knick\", \"knit\", \"knit\", \"knob\", \"lace\", \"ladder\", \"ladder\", \"lantern\", \"larg\", \"laurel\", \"lavend\", \"leaf\", \"letter\", \"light\", \"list\", \"littl\", \"loaf\", \"lola\", \"lolli\", \"london\", \"love\", \"love\", \"love\", \"lunch\", \"magic\", \"magnet\", \"make\", \"make\", \"marbl\", \"marker\", \"medium\", \"memo\", \"metal\", \"milk\", \"mini\", \"mini\", \"mirror\", \"mirror\", \"money\", \"morri\", \"mould\", \"mushroom\", \"music\", \"nanci\", \"napkin\", \"natur\", \"natur\", \"naught\", \"necklac\", \"night\", \"notebook\", \"notebook\", \"offic\", \"ornament\", \"oven\", \"owl\", \"pack\", \"pack\", \"pack\", \"pack\", \"paint\", \"paisley\", \"pantri\", \"paper\", \"paper\", \"paper\", \"parad\", \"parasol\", \"park\", \"parti\", \"parti\", \"pear\", \"pencil\", \"person\", \"photo\", \"photo\", \"pick\", \"picnic\", \"pictur\", \"piec\", \"pizza\", \"plaster\", \"plate\", \"play\", \"playhous\", \"pleas\", \"pocket\", \"polkadot\", \"polkadot\", \"poor\", \"popcorn\", \"poppi\", \"portrait\", \"potter\", \"pretti\", \"princess\", \"print\", \"pud\", \"purs\", \"rabbit\", \"rack\", \"raffia\", \"recip\", \"recip\", \"record\", \"recycl\", \"reel\", \"regenc\", \"regenc\", \"reindeer\", \"repair\", \"retro\", \"retrospot\", \"retrospot\", \"retrospot\", \"retrospot\", \"ribbon\", \"ribbon\", \"ring\", \"rock\", \"roll\", \"rose\", \"rose\", \"round\", \"ruler\", \"sack\", \"santa\", \"saucer\", \"scale\", \"scandinavian\", \"scandinavian\", \"scent\", \"school\", \"scotti\", \"sew\", \"shape\", \"shop\", \"shopper\", \"shoulder\", \"sign\", \"sketchbook\", \"skittl\", \"skull\", \"skull\", \"slate\", \"slate\", \"sleigh\", \"small\", \"snack\", \"snake\", \"snap\", \"soldier\", \"spaceboy\", \"spaceboy\", \"spice\", \"spin\", \"spoon\", \"spot\", \"spotti\", \"squar\", \"stamp\", \"stamp\", \"stand\", \"star\", \"stationeri\", \"stencil\", \"stick\", \"stick\", \"sticker\", \"sticker\", \"stock\", \"storag\", \"storag\", \"strawberri\", \"strawberri\", \"string\", \"stripe\", \"stripey\", \"strongman\", \"style\", \"sugar\", \"suki\", \"sweet\", \"sweetheart\", \"sweetheart\", \"sweetheart\", \"swir\", \"sympathi\", \"tabl\", \"tabl\", \"tag\", \"tail\", \"tall\", \"tape\", \"teacup\", \"thank\", \"tidi\", \"tier\", \"tier\", \"time\", \"tin\", \"tissu\", \"toadstool\", \"toilet\", \"tonic\", \"towel\", \"tradit\", \"tradit\", \"tradit\", \"tradit\", \"tradit\", \"tradit\", \"travel\", \"tray\", \"treasur\", \"tree\", \"trelli\", \"trinket\", \"trinket\", \"tube\", \"union\", \"victorian\", \"victorian\", \"villag\", \"vintag\", \"vintag\", \"vintag\", \"wall\", \"wallet\", \"warmer\", \"water\", \"wicker\", \"willi\", \"winki\", \"wire\", \"wish\", \"wood\", \"wooden\", \"wooden\", \"wooden\", \"wooden\", \"woodland\", \"woodland\", \"woodland\", \"woolli\", \"word\", \"wrap\", \"wreath\", \"write\", \"zinc\", \"zinc\"]}, \"R\": 30, \"lambda.step\": 0.01, \"plot.opts\": {\"xlab\": \"PC1\", \"ylab\": \"PC2\"}, \"topic.order\": [9, 1, 2, 6, 10, 7, 5, 3, 4, 8]};\n",
       "\n",
       "function LDAvis_load_lib(url, callback){\n",
       "  var s = document.createElement('script');\n",
       "  s.src = url;\n",
       "  s.async = true;\n",
       "  s.onreadystatechange = s.onload = callback;\n",
       "  s.onerror = function(){console.warn(\"failed to load library \" + url);};\n",
       "  document.getElementsByTagName(\"head\")[0].appendChild(s);\n",
       "}\n",
       "\n",
       "if(typeof(LDAvis) !== \"undefined\"){\n",
       "   // already loaded: just create the visualization\n",
       "   !function(LDAvis){\n",
       "       new LDAvis(\"#\" + \"ldavis_el121561401838719200801319269405\", ldavis_el121561401838719200801319269405_data);\n",
       "   }(LDAvis);\n",
       "}else if(typeof define === \"function\" && define.amd){\n",
       "   // require.js is available: use it to load d3/LDAvis\n",
       "   require.config({paths: {d3: \"https://d3js.org/d3.v5\"}});\n",
       "   require([\"d3\"], function(d3){\n",
       "      window.d3 = d3;\n",
       "      LDAvis_load_lib(\"https://cdn.jsdelivr.net/gh/bmabey/pyLDAvis@3.3.1/pyLDAvis/js/ldavis.v3.0.0.js\", function(){\n",
       "        new LDAvis(\"#\" + \"ldavis_el121561401838719200801319269405\", ldavis_el121561401838719200801319269405_data);\n",
       "      });\n",
       "    });\n",
       "}else{\n",
       "    // require.js not available: dynamically load d3 & LDAvis\n",
       "    LDAvis_load_lib(\"https://d3js.org/d3.v5.js\", function(){\n",
       "         LDAvis_load_lib(\"https://cdn.jsdelivr.net/gh/bmabey/pyLDAvis@3.3.1/pyLDAvis/js/ldavis.v3.0.0.js\", function(){\n",
       "                 new LDAvis(\"#\" + \"ldavis_el121561401838719200801319269405\", ldavis_el121561401838719200801319269405_data);\n",
       "            })\n",
       "         });\n",
       "}\n",
       "</script>"
      ],
      "text/plain": [
       "PreparedData(topic_coordinates=              x         y  topics  cluster       Freq\n",
       "topic                                                \n",
       "8     -0.186695 -0.172579       1        1  14.092571\n",
       "0      0.298324 -0.071047       2        1  11.846062\n",
       "1     -0.220736  0.071006       3        1  10.498434\n",
       "5      0.264423 -0.068917       4        1  10.076397\n",
       "9     -0.044567 -0.109301       5        1   9.877771\n",
       "6     -0.109381  0.249120       6        1   9.213978\n",
       "4     -0.042373 -0.192683       7        1   8.987330\n",
       "2     -0.003882 -0.007473       8        1   8.905649\n",
       "3     -0.071640 -0.009989       9        1   8.469184\n",
       "7      0.116527  0.311863      10        1   8.032624, topic_info=         Term          Freq         Total Category  logprob  loglift\n",
       "95   christma  37627.000000  37627.000000  Default  30.0000  30.0000\n",
       "1       heart  40375.000000  40375.000000  Default  29.0000  29.0000\n",
       "85     design  25603.000000  25603.000000  Default  28.0000  28.0000\n",
       "3       light  22956.000000  22956.000000  Default  27.0000  27.0000\n",
       "5       metal  20426.000000  20426.000000  Default  26.0000  26.0000\n",
       "..        ...           ...           ...      ...      ...      ...\n",
       "401     child   1546.402543   1918.710039  Topic10  -4.4717   2.3059\n",
       "241     diner   1439.985833   1767.076426  Topic10  -4.5430   2.3170\n",
       "40      ivori   3960.484396   7505.627724  Topic10  -3.5313   1.8824\n",
       "199    chocol   2395.625158   4584.291332  Topic10  -4.0340   1.8727\n",
       "203      tabl   1549.856675   3193.341903  Topic10  -4.4695   1.7988\n",
       "\n",
       "[436 rows x 6 columns], token_table=      Topic      Freq    Term\n",
       "term                         \n",
       "154       5  0.999134   acryl\n",
       "449       9  0.999572  advent\n",
       "149       3  0.997421  airlin\n",
       "149       7  0.001922  airlin\n",
       "59       10  0.999758   alarm\n",
       "...     ...       ...     ...\n",
       "383       8  0.999852    wrap\n",
       "448       5  0.999528  wreath\n",
       "309       5  0.999331   write\n",
       "181       2  0.992001    zinc\n",
       "181       9  0.007873    zinc\n",
       "\n",
       "[488 rows x 3 columns], R=30, lambda_step=0.01, plot_opts={'xlab': 'PC1', 'ylab': 'PC2'}, topic_order=[9, 1, 2, 6, 10, 7, 5, 3, 4, 8])"
      ]
     },
     "execution_count": 102,
     "metadata": {},
     "output_type": "execute_result"
    }
   ],
   "source": [
    "# Visualizing the topic model using pyLDAvuz library\n",
    "pyLDAvis.enable_notebook()\n",
    "vis = pyLDAvis.gensim_models.prepare(lda_model, corpus, id2word)\n",
    "vis"
   ]
  },
  {
   "cell_type": "markdown",
   "id": "smaller-procurement",
   "metadata": {},
   "source": [
    "The visualization shows several bubbles and bars charts in the main window. Each bubble represents a topic; the larger the bubble, the higher percentage of the words in the corpus is about that topic. Blue bars represent the overall frequency of each word in the corpus. Red bars give the estimated number of times a given topic generates a given term. For example, there are 40,000 counts of the word 'heart' in the corpus, as indicated by the blue bar. Topic 4 generates around 22,000 of them and  Topic 2 around 18,000, as shown by the red bars. \n",
    "\n",
    "Additionally, the further the bubbles are away from each other, the more different they are.\n",
    "\n",
    "The model gives us ten bubbles of the same size. Some bubbles intersect with the other, indicating that there are keywords found in more than one bubble.\n",
    "\n",
    "To evaluate how good our selection of the number of topics is, we use a coherence model metric."
   ]
  },
  {
   "cell_type": "code",
   "execution_count": 103,
   "id": "assured-regulation",
   "metadata": {},
   "outputs": [
    {
     "name": "stdout",
     "output_type": "stream",
     "text": [
      "Coherence Score:  0.5893033145176693\n"
     ]
    }
   ],
   "source": [
    "# Compute Coherence Score\n",
    "coherence_model = CoherenceModel(model=lda_model, texts=words, dictionary=id2word, coherence='c_v')\n",
    "coherence_model = coherence_model.get_coherence()\n",
    "print('Coherence Score: ', coherence_model)"
   ]
  },
  {
   "cell_type": "markdown",
   "id": "animal-leather",
   "metadata": {},
   "source": [
    "The LDA with 10 topic models gives us around 59% coherence. This is a good start as the value is relatively high. Nevertheless, we need to find the optimal number of topics using an iterative method."
   ]
  },
  {
   "cell_type": "code",
   "execution_count": 104,
   "id": "proof-novelty",
   "metadata": {},
   "outputs": [],
   "source": [
    "np.random.seed(0)\n",
    "\n",
    "def compute_coherence_values(dictionary, corpus, texts, limit, start=2, step=3):\n",
    "    \"\"\"\n",
    "    Description:\n",
    "    Compute c_v coherence for various number of topics\n",
    "\n",
    "    Inputs:\n",
    "    dictionary : Gensim dictionary\n",
    "    corpus : Gensim corpus\n",
    "    texts : List of input texts\n",
    "    limit : Max num of topics\n",
    "\n",
    "    Ouputs:\n",
    "    model_list : List of LDA topic models\n",
    "    coherence_values : Coherence values corresponding to the LDA model with respective number of topics\n",
    "    \"\"\"\n",
    "    coherence_values = []\n",
    "    model_list = []\n",
    "    for num_topics in range(start, limit, step):\n",
    "        model = gensim.models.LdaMulticore(corpus=corpus, num_topics=num_topics, id2word=id2word)\n",
    "        model_list.append(model)\n",
    "        coherencemodel = CoherenceModel(model=model, texts=texts, dictionary=dictionary, coherence='c_v')\n",
    "        coherence_values.append(coherencemodel.get_coherence())\n",
    "\n",
    "    return model_list, coherence_values\n",
    "\n",
    "model_list, coherence_values = compute_coherence_values(dictionary=id2word, corpus=corpus, texts=words, start=2, limit=40, step=4)\n",
    "\n"
   ]
  },
  {
   "cell_type": "code",
   "execution_count": 105,
   "id": "registered-genius",
   "metadata": {},
   "outputs": [
    {
     "data": {
      "image/png": "[encoded data removed]",
      "text/plain": [
       "<Figure size 1080x360 with 1 Axes>"
      ]
     },
     "metadata": {},
     "output_type": "display_data"
    }
   ],
   "source": [
    "# Showing the graph\n",
    "limit = 40\n",
    "start = 2\n",
    "step = 4\n",
    "x = range(start, limit, step)\n",
    "\n",
    "plt.figure(figsize=(15,5))\n",
    "plt.plot(x, coherence_values)\n",
    "plt.xlabel(\"# Topics\")\n",
    "plt.ylabel(\"Coherence Score\")\n",
    "plt.legend((\"coherence_values\"), loc='best')\n",
    "plt.title('Coherence Values of Different Number of Topic Models')\n",
    "plt.show()"
   ]
  },
  {
   "cell_type": "markdown",
   "id": "tired-probe",
   "metadata": {},
   "source": [
    "We can find the optimal number of topics and their coherence values as follows, "
   ]
  },
  {
   "cell_type": "code",
   "execution_count": 106,
   "id": "complete-painting",
   "metadata": {
    "scrolled": true
   },
   "outputs": [
    {
     "name": "stdout",
     "output_type": "stream",
     "text": [
      "The 18 topics gives the highest coherence score of 60.7%\n"
     ]
    }
   ],
   "source": [
    "best_result_index = coherence_values.index(max(coherence_values))\n",
    "optimal_model = model_list[best_result_index]\n",
    "\n",
    "# Select the model and print the topics\n",
    "model_topics = optimal_model.show_topics(formatted=False)\n",
    "print('The {} topics gives the highest coherence score of {:.1%}'.format(x[best_result_index], coherence_values[best_result_index]))\n",
    "\n",
    "# print(f'''The {x[best_result_index]} topics gives the highest coherence score \\\\\n",
    "# of {coherence_values[best_result_index]}''')"
   ]
  },
  {
   "cell_type": "markdown",
   "id": "friendly-macintosh",
   "metadata": {},
   "source": [
    "Our iterative process suggested that selecting 30 topics give the best coherence score. However, we will stick with 10 topic models since the coherence value is not so much different from our previous collection.\n",
    "The 30 topics give the highest coherence score of 59.2%."
   ]
  },
  {
   "cell_type": "code",
   "execution_count": 107,
   "id": "handy-intensity",
   "metadata": {},
   "outputs": [
    {
     "data": {
      "text/plain": [
       "[(10,\n",
       "  [('larg', 0.106872015),\n",
       "   ('heart', 0.1051393),\n",
       "   ('wicker', 0.06373671),\n",
       "   ('doormat', 0.05723935),\n",
       "   ('box', 0.045519),\n",
       "   ('ceram', 0.043497473),\n",
       "   ('round', 0.040553633),\n",
       "   ('strawberri', 0.03841765),\n",
       "   ('trinket', 0.036117714),\n",
       "   ('snack', 0.03345954)]),\n",
       " (4,\n",
       "  [('bottl', 0.23760429),\n",
       "   ('water', 0.20452014),\n",
       "   ('skull', 0.11532667),\n",
       "   ('chocol', 0.06169477),\n",
       "   ('heart', 0.047553215),\n",
       "   ('wreath', 0.03428456),\n",
       "   ('scotti', 0.031222697),\n",
       "   ('hand', 0.02412342),\n",
       "   ('tonic', 0.020102156),\n",
       "   ('grey', 0.019020533)]),\n",
       " (6,\n",
       "  [('vintag', 0.25030908),\n",
       "   ('card', 0.15665352),\n",
       "   ('jumbo', 0.12988883),\n",
       "   ('paisley', 0.070143975),\n",
       "   ('keep', 0.045845333),\n",
       "   ('birthday', 0.031014742),\n",
       "   ('shopper', 0.022669611),\n",
       "   ('plaster', 0.021579258),\n",
       "   ('tray', 0.02108203),\n",
       "   ('treasur', 0.019883683)]),\n",
       " (9,\n",
       "  [('girl', 0.1097787),\n",
       "   ('dolli', 0.10896545),\n",
       "   ('regenc', 0.072972074),\n",
       "   ('travel', 0.05544979),\n",
       "   ('cutleri', 0.048459217),\n",
       "   ('sew', 0.047997907),\n",
       "   ('children', 0.040454797),\n",
       "   ('saucer', 0.028906627),\n",
       "   ('teacup', 0.026947644),\n",
       "   ('medium', 0.023681698)]),\n",
       " (17,\n",
       "  [('christma', 0.23978263),\n",
       "   ('decor', 0.11122584),\n",
       "   ('heart', 0.06838709),\n",
       "   ('bell', 0.06006832),\n",
       "   ('star', 0.058082357),\n",
       "   ('tree', 0.055308465),\n",
       "   ('plate', 0.025587838),\n",
       "   ('scandinavian', 0.024641894),\n",
       "   ('napkin', 0.023274548),\n",
       "   ('zinc', 0.020196917)]),\n",
       " (11,\n",
       "  [('small', 0.09972993),\n",
       "   ('glass', 0.07822418),\n",
       "   ('antiqu', 0.07095635),\n",
       "   ('woodland', 0.064749874),\n",
       "   ('heart', 0.06471932),\n",
       "   ('bowl', 0.060965013),\n",
       "   ('wicker', 0.027840985),\n",
       "   ('parad', 0.024193496),\n",
       "   ('circus', 0.024193496),\n",
       "   ('stick', 0.022539033)]),\n",
       " (16,\n",
       "  [('ribbon', 0.09767369),\n",
       "   ('love', 0.09591682),\n",
       "   ('candl', 0.06410694),\n",
       "   ('wood', 0.05495221),\n",
       "   ('london', 0.053418096),\n",
       "   ('magnet', 0.053026292),\n",
       "   ('reel', 0.045675214),\n",
       "   ('kitchen', 0.034249254),\n",
       "   ('heart', 0.03343831),\n",
       "   ('assort', 0.022537274)]),\n",
       " (3,\n",
       "  [('design', 0.22230688),\n",
       "   ('lunch', 0.07346241),\n",
       "   ('spaceboy', 0.07195031),\n",
       "   ('pantri', 0.0718961),\n",
       "   ('wrap', 0.058238633),\n",
       "   ('charlott', 0.045109645),\n",
       "   ('appl', 0.043174203),\n",
       "   ('gift', 0.04257048),\n",
       "   ('bake', 0.038732152),\n",
       "   ('suki', 0.03279624)]),\n",
       " (12,\n",
       "  [('light', 0.21917845),\n",
       "   ('holder', 0.12959538),\n",
       "   ('hang', 0.10661896),\n",
       "   ('heart', 0.09526223),\n",
       "   ('star', 0.04345449),\n",
       "   ('leaf', 0.040070895),\n",
       "   ('night', 0.033259925),\n",
       "   ('decor', 0.030668259),\n",
       "   ('glass', 0.029018996),\n",
       "   ('zinc', 0.027600298)]),\n",
       " (1,\n",
       "  [('wooden', 0.16903324),\n",
       "   ('colour', 0.105928615),\n",
       "   ('christma', 0.081744075),\n",
       "   ('assort', 0.053878095),\n",
       "   ('roll', 0.046851974),\n",
       "   ('game', 0.03522633),\n",
       "   ('garland', 0.034337845),\n",
       "   ('stock', 0.023536136),\n",
       "   ('tradit', 0.023462603),\n",
       "   ('hors', 0.021545501)])]"
      ]
     },
     "execution_count": 107,
     "metadata": {},
     "output_type": "execute_result"
    }
   ],
   "source": [
    "optimal_model.show_topics(formatted=False)"
   ]
  },
  {
   "cell_type": "markdown",
   "id": "conscious-interstate",
   "metadata": {},
   "source": [
    "The final step is to assign the category to each item in the `description` column. We can use the model and corpus that have been trained to assign the groupings. Concretely take a sample from row 700,"
   ]
  },
  {
   "cell_type": "code",
   "execution_count": 108,
   "id": "fresh-crown",
   "metadata": {},
   "outputs": [
    {
     "name": "stdout",
     "output_type": "stream",
     "text": [
      "metal sign empire tea\n"
     ]
    }
   ],
   "source": [
    "sample_text = clean_data.description[700]\n",
    "print(sample_text)"
   ]
  },
  {
   "cell_type": "markdown",
   "id": "pressing-municipality",
   "metadata": {},
   "source": [
    "If we pass the sample text into the trained `lda_model`, the model will give us ten topics with the probability of the sample text being a part of the topic,"
   ]
  },
  {
   "cell_type": "code",
   "execution_count": 109,
   "id": "narrow-mineral",
   "metadata": {},
   "outputs": [
    {
     "name": "stdout",
     "output_type": "stream",
     "text": [
      "[(0, 0.025000496),\n",
      " (1, 0.025000496),\n",
      " (2, 0.025000496),\n",
      " (3, 0.025000496),\n",
      " (4, 0.27498686),\n",
      " (5, 0.025000496),\n",
      " (6, 0.52500916),\n",
      " (7, 0.025000496),\n",
      " (8, 0.025000496),\n",
      " (9, 0.025000496)]\n"
     ]
    }
   ],
   "source": [
    "sample_text = preprocess(str(sample_text))\n",
    "sample_corpus = id2word.doc2bow(sample_text)\n",
    "sample_topic = list(lda_model[sample_corpus])\n",
    "pprint(sample_topic)"
   ]
  },
  {
   "cell_type": "markdown",
   "id": "arranged-karen",
   "metadata": {},
   "source": [
    "As shown above, the sample text has a 52.5% probability of being a part of `Topic 6`, 27.5% of `Topic 4`, and 2.5% of the rest.\n",
    "\n",
    "Writing these steps into a function,"
   ]
  },
  {
   "cell_type": "code",
   "execution_count": 110,
   "id": "novel-battlefield",
   "metadata": {},
   "outputs": [],
   "source": [
    "def topic_prediction(item):\n",
    "    '''\n",
    "    Description:\n",
    "    Find the topic the input text most associated with\n",
    "    \n",
    "    Parameters:\n",
    "    A string type text input\n",
    "    \n",
    "    Returns\n",
    "    The Topic with the highest probability\n",
    "    '''\n",
    "    text = preprocess(item)\n",
    "    corpus = id2word.doc2bow(text)\n",
    "    output = list(lda_model[corpus])\n",
    "    topics = sorted(output, key=lambda x: x[1], reverse=True)\n",
    "    return topics[0][0]"
   ]
  },
  {
   "cell_type": "code",
   "execution_count": 111,
   "id": "gross-timber",
   "metadata": {},
   "outputs": [
    {
     "data": {
      "text/html": [
       "<div>\n",
       "<style scoped>\n",
       "    .dataframe tbody tr th:only-of-type {\n",
       "        vertical-align: middle;\n",
       "    }\n",
       "\n",
       "    .dataframe tbody tr th {\n",
       "        vertical-align: top;\n",
       "    }\n",
       "\n",
       "    .dataframe thead th {\n",
       "        text-align: right;\n",
       "    }\n",
       "</style>\n",
       "<table border=\"1\" class=\"dataframe\">\n",
       "  <thead>\n",
       "    <tr style=\"text-align: right;\">\n",
       "      <th></th>\n",
       "      <th>invoice_no</th>\n",
       "      <th>stock_code</th>\n",
       "      <th>description</th>\n",
       "      <th>quantity</th>\n",
       "      <th>invoice_date</th>\n",
       "      <th>unit_price</th>\n",
       "      <th>customer_id</th>\n",
       "      <th>is_alpha</th>\n",
       "      <th>year</th>\n",
       "      <th>month</th>\n",
       "      <th>day</th>\n",
       "      <th>revenue</th>\n",
       "      <th>is_bundle</th>\n",
       "      <th>category</th>\n",
       "    </tr>\n",
       "  </thead>\n",
       "  <tbody>\n",
       "    <tr>\n",
       "      <th>0</th>\n",
       "      <td>536365</td>\n",
       "      <td>85123A</td>\n",
       "      <td>white hanging heart t-light holder</td>\n",
       "      <td>6</td>\n",
       "      <td>2018-11-29 08:26:00</td>\n",
       "      <td>2.55</td>\n",
       "      <td>17856.0</td>\n",
       "      <td>False</td>\n",
       "      <td>2018</td>\n",
       "      <td>11</td>\n",
       "      <td>29</td>\n",
       "      <td>15.299999</td>\n",
       "      <td>False</td>\n",
       "      <td>0</td>\n",
       "    </tr>\n",
       "    <tr>\n",
       "      <th>1</th>\n",
       "      <td>536365</td>\n",
       "      <td>71053</td>\n",
       "      <td>white metal lantern</td>\n",
       "      <td>6</td>\n",
       "      <td>2018-11-29 08:26:00</td>\n",
       "      <td>3.39</td>\n",
       "      <td>17856.0</td>\n",
       "      <td>False</td>\n",
       "      <td>2018</td>\n",
       "      <td>11</td>\n",
       "      <td>29</td>\n",
       "      <td>20.340000</td>\n",
       "      <td>False</td>\n",
       "      <td>6</td>\n",
       "    </tr>\n",
       "    <tr>\n",
       "      <th>2</th>\n",
       "      <td>536365</td>\n",
       "      <td>84406B</td>\n",
       "      <td>cream cupid hearts coat hanger</td>\n",
       "      <td>8</td>\n",
       "      <td>2018-11-29 08:26:00</td>\n",
       "      <td>2.75</td>\n",
       "      <td>17856.0</td>\n",
       "      <td>False</td>\n",
       "      <td>2018</td>\n",
       "      <td>11</td>\n",
       "      <td>29</td>\n",
       "      <td>22.000000</td>\n",
       "      <td>False</td>\n",
       "      <td>6</td>\n",
       "    </tr>\n",
       "    <tr>\n",
       "      <th>3</th>\n",
       "      <td>536365</td>\n",
       "      <td>84029G</td>\n",
       "      <td>knitted union flag hot water bottle</td>\n",
       "      <td>6</td>\n",
       "      <td>2018-11-29 08:26:00</td>\n",
       "      <td>3.39</td>\n",
       "      <td>17856.0</td>\n",
       "      <td>False</td>\n",
       "      <td>2018</td>\n",
       "      <td>11</td>\n",
       "      <td>29</td>\n",
       "      <td>20.340000</td>\n",
       "      <td>False</td>\n",
       "      <td>1</td>\n",
       "    </tr>\n",
       "    <tr>\n",
       "      <th>4</th>\n",
       "      <td>536365</td>\n",
       "      <td>84029E</td>\n",
       "      <td>red woolly hottie white heart.</td>\n",
       "      <td>6</td>\n",
       "      <td>2018-11-29 08:26:00</td>\n",
       "      <td>3.39</td>\n",
       "      <td>17856.0</td>\n",
       "      <td>False</td>\n",
       "      <td>2018</td>\n",
       "      <td>11</td>\n",
       "      <td>29</td>\n",
       "      <td>20.340000</td>\n",
       "      <td>False</td>\n",
       "      <td>5</td>\n",
       "    </tr>\n",
       "    <tr>\n",
       "      <th>...</th>\n",
       "      <td>...</td>\n",
       "      <td>...</td>\n",
       "      <td>...</td>\n",
       "      <td>...</td>\n",
       "      <td>...</td>\n",
       "      <td>...</td>\n",
       "      <td>...</td>\n",
       "      <td>...</td>\n",
       "      <td>...</td>\n",
       "      <td>...</td>\n",
       "      <td>...</td>\n",
       "      <td>...</td>\n",
       "      <td>...</td>\n",
       "      <td>...</td>\n",
       "    </tr>\n",
       "    <tr>\n",
       "      <th>541904</th>\n",
       "      <td>581587</td>\n",
       "      <td>22613</td>\n",
       "      <td>pack of 20 spaceboy napkins</td>\n",
       "      <td>12</td>\n",
       "      <td>2019-12-07 12:50:00</td>\n",
       "      <td>0.85</td>\n",
       "      <td>12680.0</td>\n",
       "      <td>False</td>\n",
       "      <td>2019</td>\n",
       "      <td>12</td>\n",
       "      <td>7</td>\n",
       "      <td>10.200001</td>\n",
       "      <td>True</td>\n",
       "      <td>8</td>\n",
       "    </tr>\n",
       "    <tr>\n",
       "      <th>541905</th>\n",
       "      <td>581587</td>\n",
       "      <td>22899</td>\n",
       "      <td>children's apron dolly girl</td>\n",
       "      <td>6</td>\n",
       "      <td>2019-12-07 12:50:00</td>\n",
       "      <td>2.10</td>\n",
       "      <td>12680.0</td>\n",
       "      <td>False</td>\n",
       "      <td>2019</td>\n",
       "      <td>12</td>\n",
       "      <td>7</td>\n",
       "      <td>12.599999</td>\n",
       "      <td>False</td>\n",
       "      <td>8</td>\n",
       "    </tr>\n",
       "    <tr>\n",
       "      <th>541906</th>\n",
       "      <td>581587</td>\n",
       "      <td>23254</td>\n",
       "      <td>childrens cutlery dolly girl</td>\n",
       "      <td>4</td>\n",
       "      <td>2019-12-07 12:50:00</td>\n",
       "      <td>4.15</td>\n",
       "      <td>12680.0</td>\n",
       "      <td>False</td>\n",
       "      <td>2019</td>\n",
       "      <td>12</td>\n",
       "      <td>7</td>\n",
       "      <td>16.600000</td>\n",
       "      <td>False</td>\n",
       "      <td>8</td>\n",
       "    </tr>\n",
       "    <tr>\n",
       "      <th>541907</th>\n",
       "      <td>581587</td>\n",
       "      <td>23255</td>\n",
       "      <td>childrens cutlery circus parade</td>\n",
       "      <td>4</td>\n",
       "      <td>2019-12-07 12:50:00</td>\n",
       "      <td>4.15</td>\n",
       "      <td>12680.0</td>\n",
       "      <td>False</td>\n",
       "      <td>2019</td>\n",
       "      <td>12</td>\n",
       "      <td>7</td>\n",
       "      <td>16.600000</td>\n",
       "      <td>False</td>\n",
       "      <td>4</td>\n",
       "    </tr>\n",
       "    <tr>\n",
       "      <th>541908</th>\n",
       "      <td>581587</td>\n",
       "      <td>22138</td>\n",
       "      <td>baking set 9 piece retrospot</td>\n",
       "      <td>3</td>\n",
       "      <td>2019-12-07 12:50:00</td>\n",
       "      <td>4.95</td>\n",
       "      <td>12680.0</td>\n",
       "      <td>False</td>\n",
       "      <td>2019</td>\n",
       "      <td>12</td>\n",
       "      <td>7</td>\n",
       "      <td>14.849999</td>\n",
       "      <td>False</td>\n",
       "      <td>4</td>\n",
       "    </tr>\n",
       "  </tbody>\n",
       "</table>\n",
       "<p>523277 rows × 14 columns</p>\n",
       "</div>"
      ],
      "text/plain": [
       "       invoice_no stock_code                          description  quantity  \\\n",
       "0          536365     85123A   white hanging heart t-light holder         6   \n",
       "1          536365      71053                  white metal lantern         6   \n",
       "2          536365     84406B       cream cupid hearts coat hanger         8   \n",
       "3          536365     84029G  knitted union flag hot water bottle         6   \n",
       "4          536365     84029E       red woolly hottie white heart.         6   \n",
       "...           ...        ...                                  ...       ...   \n",
       "541904     581587      22613          pack of 20 spaceboy napkins        12   \n",
       "541905     581587      22899         children's apron dolly girl          6   \n",
       "541906     581587      23254        childrens cutlery dolly girl          4   \n",
       "541907     581587      23255      childrens cutlery circus parade         4   \n",
       "541908     581587      22138        baking set 9 piece retrospot          3   \n",
       "\n",
       "              invoice_date  unit_price customer_id is_alpha  year  month  day  \\\n",
       "0      2018-11-29 08:26:00        2.55     17856.0    False  2018     11   29   \n",
       "1      2018-11-29 08:26:00        3.39     17856.0    False  2018     11   29   \n",
       "2      2018-11-29 08:26:00        2.75     17856.0    False  2018     11   29   \n",
       "3      2018-11-29 08:26:00        3.39     17856.0    False  2018     11   29   \n",
       "4      2018-11-29 08:26:00        3.39     17856.0    False  2018     11   29   \n",
       "...                    ...         ...         ...      ...   ...    ...  ...   \n",
       "541904 2019-12-07 12:50:00        0.85     12680.0    False  2019     12    7   \n",
       "541905 2019-12-07 12:50:00        2.10     12680.0    False  2019     12    7   \n",
       "541906 2019-12-07 12:50:00        4.15     12680.0    False  2019     12    7   \n",
       "541907 2019-12-07 12:50:00        4.15     12680.0    False  2019     12    7   \n",
       "541908 2019-12-07 12:50:00        4.95     12680.0    False  2019     12    7   \n",
       "\n",
       "          revenue  is_bundle  category  \n",
       "0       15.299999      False         0  \n",
       "1       20.340000      False         6  \n",
       "2       22.000000      False         6  \n",
       "3       20.340000      False         1  \n",
       "4       20.340000      False         5  \n",
       "...           ...        ...       ...  \n",
       "541904  10.200001       True         8  \n",
       "541905  12.599999      False         8  \n",
       "541906  16.600000      False         8  \n",
       "541907  16.600000      False         4  \n",
       "541908  14.849999      False         4  \n",
       "\n",
       "[523277 rows x 14 columns]"
      ]
     },
     "execution_count": 111,
     "metadata": {},
     "output_type": "execute_result"
    }
   ],
   "source": [
    "clean_data['category'] = clean_data['description'].apply(topic_prediction)\n",
    "clean_data"
   ]
  },
  {
   "cell_type": "markdown",
   "id": "found-large",
   "metadata": {},
   "source": [
    "We can check the `category` distribution among the product name,"
   ]
  },
  {
   "cell_type": "code",
   "execution_count": 112,
   "id": "driven-durham",
   "metadata": {},
   "outputs": [
    {
     "data": {
      "text/plain": [
       "8    17.706301\n",
       "0    12.047157\n",
       "1    10.362198\n",
       "5     9.653778\n",
       "4     9.054096\n",
       "6     8.918986\n",
       "9     8.640930\n",
       "3     8.139857\n",
       "2     8.053096\n",
       "7     7.423602\n",
       "Name: category, dtype: float64"
      ]
     },
     "execution_count": 112,
     "metadata": {},
     "output_type": "execute_result"
    }
   ],
   "source": [
    "clean_data.category.value_counts()*100/len(clean_data)"
   ]
  },
  {
   "cell_type": "markdown",
   "id": "parallel-relations",
   "metadata": {},
   "source": [
    "### Group the product categories <a class=\"anchor\" id=\"step_5_3\"></a>"
   ]
  },
  {
   "cell_type": "code",
   "execution_count": 113,
   "id": "intelligent-marking",
   "metadata": {},
   "outputs": [
    {
     "data": {
      "text/plain": [
       "category\n",
       "8    92653\n",
       "0    63040\n",
       "1    54223\n",
       "5    50516\n",
       "4    47378\n",
       "6    46671\n",
       "9    45216\n",
       "3    42594\n",
       "2    42140\n",
       "7    38846\n",
       "Name: invoice_no, dtype: int64"
      ]
     },
     "execution_count": 113,
     "metadata": {},
     "output_type": "execute_result"
    }
   ],
   "source": [
    "clean_data.groupby('category').count()['invoice_no'].sort_values(ascending=False)"
   ]
  },
  {
   "cell_type": "markdown",
   "id": "given-planning",
   "metadata": {},
   "source": [
    "The result above suggest that `Topic 8` has the most `invoice_no` with 92,588 invoices which is 17% of the entire data."
   ]
  },
  {
   "cell_type": "markdown",
   "id": "frank-machine",
   "metadata": {},
   "source": [
    "### Conclusion <a class=\"anchor\" id=\"conclusion_5\"></a>"
   ]
  },
  {
   "cell_type": "markdown",
   "id": "reduced-prompt",
   "metadata": {},
   "source": [
    "In this section, we have identified items sold bundles by selecting several keywords such as `box of`, `set of`, `pack of`, `bundle of`, and search them in the `description` column. As a result, we found 46,779 items sold in groups/bundles and 476,498 sold individually.\n",
    "\n",
    "Next, we managed to group the products into 10 categories using the Topic Modelling technique known in the Natural Language Processing domain. The method uses a Latent Dirichlet Allocation model that calculates the contribution of words in the item's `description` to each topic. We chose several topic numbers, evaluated them using the coherence model, and decided to use 10 topics/categories.  \n",
    "\n",
    "Even though we picked 10 categories for the product range, our selection is far from perfect. There are still many ways to improve our model, such as choosing a different hyperparameter, applying the TF-IDF method, utilizing the Gensim LDA Mallet model as suggested by some references, or using the output categories as target labels and run a supervised machine learning method to the dataset. However, due to time restrictions, we keep these options as a future recommendation. One caveat of the technique is that the model does not assign the naming to the output topics/categories. \n",
    "\n"
   ]
  },
  {
   "cell_type": "markdown",
   "id": "average-damage",
   "metadata": {},
   "source": [
    "## Step 6: Hypothesis Testing  <a class=\"anchor\" id=\"step_6\"></a>"
   ]
  },
  {
   "cell_type": "markdown",
   "id": "sixth-anthony",
   "metadata": {},
   "source": [
    "In the last step, we found out that there are products sold as individual items, and there are those that are sold in bundles. In this section, we would like to know if the revenue generated by the two groups is different. Specifically, we would like to evaluate if the items sold in bundles create more revenue than items sold individually. We will use hypothesis testing to compare the average revenue between the two groups.\n",
    "\n",
    "We begin the analysis by separating the data into two smaller sets, `bundle` for items sold in bundles and `non_bundle` for items sold individually,"
   ]
  },
  {
   "cell_type": "code",
   "execution_count": 114,
   "id": "practical-blame",
   "metadata": {},
   "outputs": [
    {
     "data": {
      "text/plain": [
       "14    25.500000\n",
       "15    14.849999\n",
       "16    19.900000\n",
       "34    70.800003\n",
       "96    50.399998\n",
       "Name: revenue, dtype: float32"
      ]
     },
     "execution_count": 114,
     "metadata": {},
     "output_type": "execute_result"
    }
   ],
   "source": [
    "# Getting the revenue of items sold in bundles\n",
    "bundle = clean_data.query('is_bundle == True')['revenue']\n",
    "bundle.head()"
   ]
  },
  {
   "cell_type": "code",
   "execution_count": 115,
   "id": "random-sentence",
   "metadata": {},
   "outputs": [
    {
     "data": {
      "text/plain": [
       "0    15.299999\n",
       "1    20.340000\n",
       "2    22.000000\n",
       "3    20.340000\n",
       "4    20.340000\n",
       "Name: revenue, dtype: float32"
      ]
     },
     "execution_count": 115,
     "metadata": {},
     "output_type": "execute_result"
    }
   ],
   "source": [
    "# Getting the revenue of items sold individually\n",
    "non_bundle = clean_data.query('is_bundle == False')['revenue']\n",
    "non_bundle.head()"
   ]
  },
  {
   "cell_type": "markdown",
   "id": "round-guide",
   "metadata": {},
   "source": [
    "Then we can plot the histograms of the new dataframes,"
   ]
  },
  {
   "cell_type": "code",
   "execution_count": 116,
   "id": "minor-monaco",
   "metadata": {},
   "outputs": [
    {
     "data": {
      "image/png": "[encoded data removed]",
      "text/plain": [
       "<Figure size 1440x360 with 2 Axes>"
      ]
     },
     "metadata": {},
     "output_type": "display_data"
    }
   ],
   "source": [
    "# Plotting the histograms\n",
    "fig = plt.figure(figsize=(20,5))\n",
    "plt.subplot(1, 2, 1)\n",
    "bundle.plot(kind='hist', bins=25, color='teal',\n",
    "                  title=('Revenue Distribution of Items Sold In Bundle'));\n",
    "plt.xlabel('Revenue');\n",
    "\n",
    "\n",
    "plt.subplot(1, 2, 2)\n",
    "non_bundle.plot(kind='hist', bins=25, color='mediumseagreen',\n",
    "                  title=('Revenue Distribution of Items Sold Indivdually'));\n",
    "plt.xlabel('Revenue');\n"
   ]
  },
  {
   "cell_type": "markdown",
   "id": "heard-franklin",
   "metadata": {},
   "source": [
    "The histograms show that most of the data are concentrated at lower part of the x-axis while some points lie at the far right of the scale. This is the first indication that the distribution is skewed, and possible outliers in the samples. We need to  zoom in  to get a more clear picture of the distributions,"
   ]
  },
  {
   "cell_type": "code",
   "execution_count": 117,
   "id": "analyzed-twelve",
   "metadata": {},
   "outputs": [
    {
     "data": {
      "image/png": "[encoded data removed]",
      "text/plain": [
       "<Figure size 1440x360 with 2 Axes>"
      ]
     },
     "metadata": {},
     "output_type": "display_data"
    }
   ],
   "source": [
    "# Zooming in the histograms\n",
    "fig = plt.figure(figsize=(20,5))\n",
    "plt.subplot(1, 2, 1)\n",
    "bundle.plot(kind='hist', bins=25, color='teal', range=(0,100),\n",
    "                  title=('Revenue Distribution of Items Sold In Bundle (Zoomed In)'));\n",
    "plt.xlabel('Revenue');\n",
    "\n",
    "\n",
    "plt.subplot(1, 2, 2)\n",
    "non_bundle.plot(kind='hist', bins=25, color='mediumseagreen', range=(0,100),\n",
    "                  title=('Revenue Distribution of Items Sold Indivdually (Zoomed In)'));\n",
    "plt.xlabel('Revenue');\n"
   ]
  },
  {
   "cell_type": "markdown",
   "id": "arabic-virgin",
   "metadata": {},
   "source": [
    "Now we get a clearer view of the histogram. We can confirm that most samples are distributed around 0 to 40, with the peak around zero.\n",
    "\n",
    "Next, we will make box plots to verify the presence of outliers,"
   ]
  },
  {
   "cell_type": "code",
   "execution_count": 118,
   "id": "healthy-generator",
   "metadata": {},
   "outputs": [
    {
     "data": {
      "image/png": "[encoded data removed]",
      "text/plain": [
       "<Figure size 1440x216 with 2 Axes>"
      ]
     },
     "metadata": {},
     "output_type": "display_data"
    }
   ],
   "source": [
    "# Plotting boxplots \n",
    "fig = plt.figure(figsize=(20, 3))\n",
    "\n",
    "plt.subplot(1, 2, 1)\n",
    "sns.boxplot(x=bundle);\n",
    "plt.title('Box Plot of Revenue of Items Sold In Bundle');\n",
    "\n",
    "plt.subplot(1, 2, 2);\n",
    "sns.boxplot(x=non_bundle);\n",
    "plt.title('Box Plot of Revenue of Items Sold Individually');"
   ]
  },
  {
   "cell_type": "markdown",
   "id": "atlantic-aurora",
   "metadata": {},
   "source": [
    "The boxplots show that there are lots of samples that lie way above the third quartile. The quartiles of both samples are located near-zero values, but the maximum values are at 7000 or 175,000 for `bundle` and `non_bundle`, respectively. We need to remove the outliers to get a better comparison between the two samples."
   ]
  },
  {
   "cell_type": "code",
   "execution_count": 119,
   "id": "fatal-colombia",
   "metadata": {},
   "outputs": [],
   "source": [
    "# Defining a function that calculates the upper and lower threshold of outliers\n",
    "def outliers(col):\n",
    "    '''\n",
    "    Description:\n",
    "    Finds the first and third quantile of a distribution\n",
    "    \n",
    "    Input:\n",
    "    A list, array, or series of samples\n",
    "    \n",
    "    Output:\n",
    "    The first and the third quantile\n",
    "    '''\n",
    "    q1 = col.quantile(0.25)\n",
    "    q3 = col.quantile(0.75)\n",
    "    iqr = q3 - q1\n",
    "    upper = q3 + (1.5 * iqr)\n",
    "    lower = q1 - (1.5 * iqr)\n",
    "    return (lower, upper)"
   ]
  },
  {
   "cell_type": "markdown",
   "id": "ceramic-recognition",
   "metadata": {},
   "source": [
    "We define a function to calculate the outlier thresholds. Then we find the threshold and apply them to the samples. As a result, we get new samples without the outliers."
   ]
  },
  {
   "cell_type": "code",
   "execution_count": 120,
   "id": "guilty-senator",
   "metadata": {},
   "outputs": [],
   "source": [
    "# Calculating the outlier threshold\n",
    "_, bundle_upper = outliers(bundle)\n",
    "_, non_bundle_upper = outliers(non_bundle)\n",
    "\n",
    "# Applying the threshold to get trimmed down samples\n",
    "bundle_trimmed = bundle[bundle < bundle_upper]\n",
    "non_bundle_trimmed = non_bundle[non_bundle < non_bundle_upper]"
   ]
  },
  {
   "cell_type": "markdown",
   "id": "faced-techno",
   "metadata": {},
   "source": [
    "Plotting again the histograms after removing the outliers,"
   ]
  },
  {
   "cell_type": "code",
   "execution_count": 121,
   "id": "joint-harrison",
   "metadata": {},
   "outputs": [
    {
     "data": {
      "image/png": "[encoded data removed]",
      "text/plain": [
       "<Figure size 1440x360 with 2 Axes>"
      ]
     },
     "metadata": {},
     "output_type": "display_data"
    }
   ],
   "source": [
    "# Plotting the histograms\n",
    "fig = plt.figure(figsize=(20,5))\n",
    "plt.subplot(1, 2, 1)\n",
    "bundle_trimmed.plot(kind='hist', bins=25, color='teal',\n",
    "                  title=('Revenue Distribution of Items Sold In Bundle (Outliers Removed)'));\n",
    "plt.xlabel('Revenue');\n",
    "\n",
    "\n",
    "plt.subplot(1, 2, 2)\n",
    "non_bundle_trimmed.plot(kind='hist', bins=25, color='mediumseagreen',\n",
    "                  title=('Revenue Distribution of Items Sold Indivdually (Outliers Removed)'));\n",
    "plt.xlabel('Revenue');"
   ]
  },
  {
   "cell_type": "code",
   "execution_count": 122,
   "id": "robust-greek",
   "metadata": {},
   "outputs": [
    {
     "data": {
      "image/png": "[encoded data removed]",
      "text/plain": [
       "<Figure size 1440x216 with 2 Axes>"
      ]
     },
     "metadata": {},
     "output_type": "display_data"
    }
   ],
   "source": [
    "# Diplaying the boxplots\n",
    "fig = plt.figure(figsize=(20, 3))\n",
    "\n",
    "plt.subplot(1, 2, 1)\n",
    "sns.boxplot(x=bundle_trimmed, color='teal')\n",
    "plt.title('Box Plot of Revenue of Items Sold In Bundle (Outliers Removed)');\n",
    "plt.xlabel('Revenue');\n",
    "\n",
    "plt.subplot(1, 2, 2);\n",
    "sns.boxplot(x=non_bundle_trimmed, color='mediumseagreen')\n",
    "plt.title('Box Plot of Revenue of Items Sold Individually (Outliers Removed)');\n",
    "plt.xlabel('Revenue');"
   ]
  },
  {
   "cell_type": "markdown",
   "id": "completed-annex",
   "metadata": {},
   "source": [
    "The histograms and boxplots show that sample distributions are skewed to the right, with the median between 5 to 10.\n",
    "\n",
    "Even though it is visually apparent that the distributions are skewed, it is also helpful to verify this statistically. We can use the Shapiro-Wilk Normality Test and define the following null and alternate hypotheses:\n",
    "\n",
    "   * Null hypothesis, $H_0$: The samples are from the normal (Gaussian) distribution.\n",
    "   * Alternate hypothesis $H_A$: The samples are not from the normal (Gaussian) distribution."
   ]
  },
  {
   "cell_type": "code",
   "execution_count": 123,
   "id": "thermal-chapel",
   "metadata": {},
   "outputs": [
    {
     "name": "stdout",
     "output_type": "stream",
     "text": [
      "p-value < 0.001\n",
      "The samples of `bundle` dataset are not from the normal (Gaussian) distribution (reject H_0).\n"
     ]
    }
   ],
   "source": [
    "# Hypothesis testing using the Shapiro-Wilk Test on the `bundle` dataset\n",
    "_, p_value = shapiro(bundle_trimmed)\n",
    "\n",
    "if p_value == 0:\n",
    "    print('p-value < 0.001')\n",
    "else:\n",
    "    print('p-value: ', p_value)\n",
    "\n",
    "alpha = 0.05\n",
    "if p_value > alpha:\n",
    "    print('The samples of `bundle` dataset are from the normal (Gaussian) distribution (fail to reject H_0).')\n",
    "else:\n",
    "    print('The samples of `bundle` dataset are not from the normal (Gaussian) distribution (reject H_0).')\n"
   ]
  },
  {
   "cell_type": "code",
   "execution_count": 124,
   "id": "laughing-confusion",
   "metadata": {},
   "outputs": [
    {
     "name": "stdout",
     "output_type": "stream",
     "text": [
      "p-value < 0.001\n",
      "The samples of `non_bundle` dataset are not from the normal (Gaussian) distribution (reject H_0).\n"
     ]
    }
   ],
   "source": [
    "# Hypothesis testing using the Shapiro-Wilk Test on the `non_bundle` dataset\n",
    "_, p_value = shapiro(non_bundle_trimmed)\n",
    "\n",
    "if p_value == 0:\n",
    "    print('p-value < 0.001')\n",
    "else:\n",
    "    print('p-value: ', p_value)\n",
    "\n",
    "alpha = 0.05\n",
    "if p_value > alpha:\n",
    "    print('The samples of `non_bundle` dataset are from the normal (Gaussian) distribution (fail to reject H_0).')\n",
    "else:\n",
    "    print('The samples of `non_bundle` dataset are not from the normal (Gaussian) distribution (reject H_0).')\n"
   ]
  },
  {
   "cell_type": "markdown",
   "id": "marked-sucking",
   "metadata": {},
   "source": [
    "The Shapiro-Wilk Tests show that both samples do not have normal distributions. Therefore we cannot use the Student's t-Test for the hypothesis testing since the required assumption of the samples to normally distributed is not satisfied. Consequently, we are going to use the non-parametric Mann-Whitney U Test. We define the following null and alternate hypotheses:\n",
    "\n",
    "* Null hypothesis, $H_0$: There is no statistically significant difference between the average revenue of the `bundle` dataset and the `non_bundle` dataset.\n",
    "* Alternate hypothesis $H_A$: There exists a statistically significant difference between the average revenue of the `bundle` dataset and the `non_bundle` dataset."
   ]
  },
  {
   "cell_type": "code",
   "execution_count": 125,
   "id": "worldwide-breeding",
   "metadata": {},
   "outputs": [
    {
     "name": "stdout",
     "output_type": "stream",
     "text": [
      "Mann Whitney p-value 2.0478429204900973e-258\n",
      "p-value:  2.0478429204900973e-258\n",
      "There exists a statistically significant difference\n",
      "between the average revenue of the `bundle` dataset and the `non_bundle` dataset. (reject H_0)\n"
     ]
    }
   ],
   "source": [
    "# Hypothesis testing using the non-parametric method\n",
    "_, p_value = mannwhitneyu(bundle_trimmed, non_bundle_trimmed)\n",
    "print('Mann Whitney p-value {}'.format(p_value))\n",
    "\n",
    "if p_value == 0:\n",
    "    print('p-value < 0.001')\n",
    "else:\n",
    "    print('p-value: ', p_value)\n",
    "\n",
    "alpha = 0.05\n",
    "if p_value > alpha:\n",
    "    print('There is no statistically significant difference between')\n",
    "    print('the average revenue of the `bundle` dataset and the `non_bundle` dataset (fail to reject H_0)')      \n",
    "else:\n",
    "    print('There exists a statistically significant difference')\n",
    "    print('between the average revenue of the `bundle` dataset and the `non_bundle` dataset. (reject H_0)')"
   ]
  },
  {
   "cell_type": "code",
   "execution_count": 126,
   "id": "fewer-george",
   "metadata": {},
   "outputs": [
    {
     "name": "stdout",
     "output_type": "stream",
     "text": [
      "The average revenue of items sold in bundles: 9.25\n"
     ]
    }
   ],
   "source": [
    "print('The average revenue of items sold in bundles: {:.2f}'.format(bundle_trimmed.mean()))"
   ]
  },
  {
   "cell_type": "code",
   "execution_count": 127,
   "id": "progressive-mortality",
   "metadata": {},
   "outputs": [
    {
     "name": "stdout",
     "output_type": "stream",
     "text": [
      "The average revenue of items sold individually: 10.57\n"
     ]
    }
   ],
   "source": [
    "print('The average revenue of items sold individually: {:.2f}'.format(non_bundle_trimmed.mean()))"
   ]
  },
  {
   "cell_type": "markdown",
   "id": "written-toyota",
   "metadata": {},
   "source": [
    "The non-parametric test suggests that the two distributions are statistically different. The items sold individually generate 10.57 of revenue, which is higher than the average revenues of items sold in bundles, 9.25."
   ]
  },
  {
   "cell_type": "markdown",
   "id": "prepared-surfing",
   "metadata": {},
   "source": [
    "### Conclusion <a class=\"anchor\" id=\"conclusion_6\"></a>"
   ]
  },
  {
   "cell_type": "markdown",
   "id": "breathing-trailer",
   "metadata": {},
   "source": [
    "We learned from the hypothesis testing that the items sold individually generate more revenue than items in bundles. One of the reasons for this is that some individual items have a high unit price, as shown in the box plots. This is true even after removing the outliers. In addition, the clear difference between the number of samples between the two groups might also contribute to the result."
   ]
  },
  {
   "cell_type": "markdown",
   "id": "committed-plain",
   "metadata": {},
   "source": [
    "## Part 7: Additional Research <a class=\"anchor\" id=\"step_7\"></a>"
   ]
  },
  {
   "cell_type": "markdown",
   "id": "reflected-waste",
   "metadata": {},
   "source": [
    "As additional research, we will build a simple recommender system. The system we are creating is inspired by a method known as Item-Based Collaborative Filtering. The system assumes that customers who purchased the same item are more likely to look for similar items. Concretely, when a customer puts an item `A` in the shopping cart, the system shows the list of other top items other customers who ordered item `A` bought in the past. As a simple example, if a person is looking for a birthday decoration set, the person will likely buy a party balloon."
   ]
  },
  {
   "cell_type": "markdown",
   "id": "external-wagon",
   "metadata": {},
   "source": [
    "To implement the idea, first, let's assume a customer buys an item, `stock_code=22169`, and puts it in the shopping cart. Then we find the `n` highest customers who also bought item `22169`,"
   ]
  },
  {
   "cell_type": "code",
   "execution_count": 128,
   "id": "approved-maker",
   "metadata": {},
   "outputs": [
    {
     "data": {
      "text/plain": [
       "'family album white picture frame'"
      ]
     },
     "execution_count": 128,
     "metadata": {},
     "output_type": "execute_result"
    }
   ],
   "source": [
    "clean_data.query('stock_code == \"22169\"')['description'].unique()[0]"
   ]
  },
  {
   "cell_type": "code",
   "execution_count": 129,
   "id": "permanent-plenty",
   "metadata": {},
   "outputs": [
    {
     "data": {
      "text/html": [
       "<div>\n",
       "<style scoped>\n",
       "    .dataframe tbody tr th:only-of-type {\n",
       "        vertical-align: middle;\n",
       "    }\n",
       "\n",
       "    .dataframe tbody tr th {\n",
       "        vertical-align: top;\n",
       "    }\n",
       "\n",
       "    .dataframe thead th {\n",
       "        text-align: right;\n",
       "    }\n",
       "</style>\n",
       "<table border=\"1\" class=\"dataframe\">\n",
       "  <thead>\n",
       "    <tr style=\"text-align: right;\">\n",
       "      <th></th>\n",
       "      <th>invoice_no</th>\n",
       "      <th>description</th>\n",
       "      <th>quantity</th>\n",
       "      <th>invoice_date</th>\n",
       "      <th>unit_price</th>\n",
       "      <th>is_alpha</th>\n",
       "      <th>year</th>\n",
       "      <th>month</th>\n",
       "      <th>day</th>\n",
       "      <th>revenue</th>\n",
       "      <th>is_bundle</th>\n",
       "      <th>category</th>\n",
       "    </tr>\n",
       "    <tr>\n",
       "      <th>customer_id</th>\n",
       "      <th></th>\n",
       "      <th></th>\n",
       "      <th></th>\n",
       "      <th></th>\n",
       "      <th></th>\n",
       "      <th></th>\n",
       "      <th></th>\n",
       "      <th></th>\n",
       "      <th></th>\n",
       "      <th></th>\n",
       "      <th></th>\n",
       "      <th></th>\n",
       "    </tr>\n",
       "  </thead>\n",
       "  <tbody>\n",
       "    <tr>\n",
       "      <th>18112.0</th>\n",
       "      <td>19</td>\n",
       "      <td>19</td>\n",
       "      <td>19</td>\n",
       "      <td>19</td>\n",
       "      <td>19</td>\n",
       "      <td>19</td>\n",
       "      <td>19</td>\n",
       "      <td>19</td>\n",
       "      <td>19</td>\n",
       "      <td>19</td>\n",
       "      <td>19</td>\n",
       "      <td>19</td>\n",
       "    </tr>\n",
       "    <tr>\n",
       "      <th>16528.0</th>\n",
       "      <td>13</td>\n",
       "      <td>13</td>\n",
       "      <td>13</td>\n",
       "      <td>13</td>\n",
       "      <td>13</td>\n",
       "      <td>13</td>\n",
       "      <td>13</td>\n",
       "      <td>13</td>\n",
       "      <td>13</td>\n",
       "      <td>13</td>\n",
       "      <td>13</td>\n",
       "      <td>13</td>\n",
       "    </tr>\n",
       "    <tr>\n",
       "      <th>13088.0</th>\n",
       "      <td>9</td>\n",
       "      <td>9</td>\n",
       "      <td>9</td>\n",
       "      <td>9</td>\n",
       "      <td>9</td>\n",
       "      <td>9</td>\n",
       "      <td>9</td>\n",
       "      <td>9</td>\n",
       "      <td>9</td>\n",
       "      <td>9</td>\n",
       "      <td>9</td>\n",
       "      <td>9</td>\n",
       "    </tr>\n",
       "    <tr>\n",
       "      <th>14736.0</th>\n",
       "      <td>8</td>\n",
       "      <td>8</td>\n",
       "      <td>8</td>\n",
       "      <td>8</td>\n",
       "      <td>8</td>\n",
       "      <td>8</td>\n",
       "      <td>8</td>\n",
       "      <td>8</td>\n",
       "      <td>8</td>\n",
       "      <td>8</td>\n",
       "      <td>8</td>\n",
       "      <td>8</td>\n",
       "    </tr>\n",
       "    <tr>\n",
       "      <th>16720.0</th>\n",
       "      <td>7</td>\n",
       "      <td>7</td>\n",
       "      <td>7</td>\n",
       "      <td>7</td>\n",
       "      <td>7</td>\n",
       "      <td>7</td>\n",
       "      <td>7</td>\n",
       "      <td>7</td>\n",
       "      <td>7</td>\n",
       "      <td>7</td>\n",
       "      <td>7</td>\n",
       "      <td>7</td>\n",
       "    </tr>\n",
       "  </tbody>\n",
       "</table>\n",
       "</div>"
      ],
      "text/plain": [
       "             invoice_no  description  quantity  invoice_date  unit_price  \\\n",
       "customer_id                                                                \n",
       "18112.0              19           19        19            19          19   \n",
       "16528.0              13           13        13            13          13   \n",
       "13088.0               9            9         9             9           9   \n",
       "14736.0               8            8         8             8           8   \n",
       "16720.0               7            7         7             7           7   \n",
       "\n",
       "             is_alpha  year  month  day  revenue  is_bundle  category  \n",
       "customer_id                                                            \n",
       "18112.0            19    19     19   19       19         19        19  \n",
       "16528.0            13    13     13   13       13         13        13  \n",
       "13088.0             9     9      9    9        9          9         9  \n",
       "14736.0             8     8      8    8        8          8         8  \n",
       "16720.0             7     7      7    7        7          7         7  "
      ]
     },
     "execution_count": 129,
     "metadata": {},
     "output_type": "execute_result"
    }
   ],
   "source": [
    "item = '22169'\n",
    "\n",
    "# Finding the top customers who bought the same item\n",
    "top_customers = (clean_data\n",
    "                .groupby(['stock_code', 'customer_id'])\n",
    "                .count()\n",
    "                .loc[item]\n",
    "                .sort_values(by='invoice_no', ascending=False)\n",
    "               )\n",
    "top_customers.head()"
   ]
  },
  {
   "cell_type": "markdown",
   "id": "advance-blank",
   "metadata": {},
   "source": [
    "We take, as an example, the top three customers. For each of these customers, we find the top three products that they bought,"
   ]
  },
  {
   "cell_type": "code",
   "execution_count": 130,
   "id": "figured-graduate",
   "metadata": {},
   "outputs": [
    {
     "data": {
      "text/html": [
       "<div>\n",
       "<style scoped>\n",
       "    .dataframe tbody tr th:only-of-type {\n",
       "        vertical-align: middle;\n",
       "    }\n",
       "\n",
       "    .dataframe tbody tr th {\n",
       "        vertical-align: top;\n",
       "    }\n",
       "\n",
       "    .dataframe thead th {\n",
       "        text-align: right;\n",
       "    }\n",
       "</style>\n",
       "<table border=\"1\" class=\"dataframe\">\n",
       "  <thead>\n",
       "    <tr style=\"text-align: right;\">\n",
       "      <th></th>\n",
       "      <th>stock_code</th>\n",
       "      <th>count</th>\n",
       "    </tr>\n",
       "  </thead>\n",
       "  <tbody>\n",
       "    <tr>\n",
       "      <th>0</th>\n",
       "      <td>85123A</td>\n",
       "      <td>50</td>\n",
       "    </tr>\n",
       "    <tr>\n",
       "      <th>6</th>\n",
       "      <td>82482</td>\n",
       "      <td>47</td>\n",
       "    </tr>\n",
       "    <tr>\n",
       "      <th>3</th>\n",
       "      <td>22169</td>\n",
       "      <td>41</td>\n",
       "    </tr>\n",
       "    <tr>\n",
       "      <th>4</th>\n",
       "      <td>22457</td>\n",
       "      <td>34</td>\n",
       "    </tr>\n",
       "    <tr>\n",
       "      <th>50</th>\n",
       "      <td>82494L</td>\n",
       "      <td>32</td>\n",
       "    </tr>\n",
       "  </tbody>\n",
       "</table>\n",
       "</div>"
      ],
      "text/plain": [
       "   stock_code  count\n",
       "0      85123A     50\n",
       "6       82482     47\n",
       "3       22169     41\n",
       "4       22457     34\n",
       "50     82494L     32"
      ]
     },
     "execution_count": 130,
     "metadata": {},
     "output_type": "execute_result"
    }
   ],
   "source": [
    "recommended = {}\n",
    "\n",
    "for customer in top_customers[:3].index:\n",
    "    top_products = (clean_data\n",
    "                    .query('customer_id == @customer')\n",
    "                    .groupby(['stock_code'])\n",
    "                    .count()\n",
    "                    .sort_values(by='invoice_no', ascending=False)\n",
    "                    .reset_index()[['stock_code', 'invoice_no']]\n",
    "                    )\n",
    "\n",
    "    for product, invoice in zip(top_products.stock_code, top_products.invoice_no):\n",
    "        if product in recommended.keys():\n",
    "            recommended[product] += invoice\n",
    "        else:\n",
    "            recommended[product] = invoice\n",
    "            \n",
    "recommended_df = pd.DataFrame(list(recommended.items()),\n",
    "                              index=list(range(len(recommended))),\n",
    "                              columns=['stock_code', 'count']).sort_values(by='count', ascending=False).head(5)\n",
    "recommended_df"
   ]
  },
  {
   "cell_type": "markdown",
   "id": "behavioral-administration",
   "metadata": {},
   "source": [
    "The resulting dataframe only has the `stock_code` number. We can take the item name from the original dataframe,"
   ]
  },
  {
   "cell_type": "code",
   "execution_count": 131,
   "id": "right-magic",
   "metadata": {},
   "outputs": [
    {
     "data": {
      "text/html": [
       "<div>\n",
       "<style scoped>\n",
       "    .dataframe tbody tr th:only-of-type {\n",
       "        vertical-align: middle;\n",
       "    }\n",
       "\n",
       "    .dataframe tbody tr th {\n",
       "        vertical-align: top;\n",
       "    }\n",
       "\n",
       "    .dataframe thead th {\n",
       "        text-align: right;\n",
       "    }\n",
       "</style>\n",
       "<table border=\"1\" class=\"dataframe\">\n",
       "  <thead>\n",
       "    <tr style=\"text-align: right;\">\n",
       "      <th></th>\n",
       "      <th>stock_code</th>\n",
       "      <th>count</th>\n",
       "      <th>name</th>\n",
       "    </tr>\n",
       "  </thead>\n",
       "  <tbody>\n",
       "    <tr>\n",
       "      <th>0</th>\n",
       "      <td>85123A</td>\n",
       "      <td>50</td>\n",
       "      <td>white hanging heart t-light holder</td>\n",
       "    </tr>\n",
       "    <tr>\n",
       "      <th>6</th>\n",
       "      <td>82482</td>\n",
       "      <td>47</td>\n",
       "      <td>wooden picture frame white finish</td>\n",
       "    </tr>\n",
       "    <tr>\n",
       "      <th>3</th>\n",
       "      <td>22169</td>\n",
       "      <td>41</td>\n",
       "      <td>family album white picture frame</td>\n",
       "    </tr>\n",
       "    <tr>\n",
       "      <th>4</th>\n",
       "      <td>22457</td>\n",
       "      <td>34</td>\n",
       "      <td>natural slate heart chalkboard</td>\n",
       "    </tr>\n",
       "    <tr>\n",
       "      <th>50</th>\n",
       "      <td>82494L</td>\n",
       "      <td>32</td>\n",
       "      <td>wooden frame antique white</td>\n",
       "    </tr>\n",
       "  </tbody>\n",
       "</table>\n",
       "</div>"
      ],
      "text/plain": [
       "   stock_code  count                                name\n",
       "0      85123A     50  white hanging heart t-light holder\n",
       "6       82482     47   wooden picture frame white finish\n",
       "3       22169     41    family album white picture frame\n",
       "4       22457     34     natural slate heart chalkboard \n",
       "50     82494L     32         wooden frame antique white "
      ]
     },
     "execution_count": 131,
     "metadata": {},
     "output_type": "execute_result"
    }
   ],
   "source": [
    "recommended_df['name'] = (recommended_df['stock_code']\n",
    "                          .apply(lambda x, df: df[df['stock_code'] == x]['description'].iloc[0],\n",
    "                                 df=clean_data)\n",
    "                         )\n",
    "recommended_df"
   ]
  },
  {
   "cell_type": "markdown",
   "id": "educational-roulette",
   "metadata": {},
   "source": [
    "We get the top items from the other customers who also bought item `22169`. Putting the above steps into a function,"
   ]
  },
  {
   "cell_type": "code",
   "execution_count": 132,
   "id": "quantitative-greenhouse",
   "metadata": {},
   "outputs": [],
   "source": [
    "def recommender(item, df, n_customer=5, n_product=5, n_recommendation=5):\n",
    "    # First the RS finds the top n customer who bought the same item\n",
    "    top_customers = (df\n",
    "                     .groupby(['stock_code', 'customer_id'])\n",
    "                     .count()\n",
    "                     .loc[item]\n",
    "                     .sort_values(by='invoice_no', ascending=False)\n",
    "                    )\n",
    "\n",
    "    # For each of these customers, find the top n items that they bought\n",
    "    recommended = {}\n",
    "    for customer in top_customers[:n_customer].index:\n",
    "        top_products = (df\n",
    "                        .query('customer_id == @customer')\n",
    "                        .groupby('stock_code')\n",
    "                        .count()\n",
    "                        .sort_values(by='invoice_no', ascending=False)\n",
    "                        .reset_index()[['stock_code', 'invoice_no']]\n",
    "                       )\n",
    "        for product, invoice in zip(top_products.stock_code, top_products.invoice_no):\n",
    "            if product != item:\n",
    "                if product in recommended.keys():\n",
    "                    recommended[product] += invoice\n",
    "                else:\n",
    "                    recommended[product] = invoice\n",
    "    \n",
    "    recommended_df = (pd.DataFrame(list(recommended.items()), \n",
    "                                  index=list(range(len(recommended))), \n",
    "                                  columns=['stock_code', 'count'])\n",
    "                      .sort_values(by='count', ascending=False)\n",
    "                      .head(n_product))\n",
    "    \n",
    "    recommended_df['name'] = (recommended_df['stock_code']\n",
    "                              .apply(lambda x, df: df[df['stock_code'] == x]['description']\n",
    "                                     .iloc[0]\n",
    "                                     .title(), \n",
    "                                     df=df))\n",
    "    \n",
    "    if len(recommended_df) <= n_recommendation:\n",
    "        n_recommendation = len(recommended_df)\n",
    "    return recommended_df.sort_values(by='count', ascending=False)[['name', 'stock_code']].head(n_recommendation)"
   ]
  },
  {
   "cell_type": "markdown",
   "id": "abandoned-hampton",
   "metadata": {},
   "source": [
    "To test run the recommender system, we take one random sample,"
   ]
  },
  {
   "cell_type": "code",
   "execution_count": 133,
   "id": "provincial-professor",
   "metadata": {},
   "outputs": [
    {
     "name": "stdout",
     "output_type": "stream",
     "text": [
      "Item in cart:\n",
      "Name: Letter \"R\" Bling Key Ring\n",
      "Code: 90214R\n",
      "\n",
      "Recommended Items:\n",
      "Other customers who bought Letter \"R\" Bling Key Ring also bought these items: \n"
     ]
    },
    {
     "data": {
      "text/html": [
       "<div>\n",
       "<style scoped>\n",
       "    .dataframe tbody tr th:only-of-type {\n",
       "        vertical-align: middle;\n",
       "    }\n",
       "\n",
       "    .dataframe tbody tr th {\n",
       "        vertical-align: top;\n",
       "    }\n",
       "\n",
       "    .dataframe thead th {\n",
       "        text-align: right;\n",
       "    }\n",
       "</style>\n",
       "<table border=\"1\" class=\"dataframe\">\n",
       "  <thead>\n",
       "    <tr style=\"text-align: right;\">\n",
       "      <th></th>\n",
       "      <th>name</th>\n",
       "      <th>stock_code</th>\n",
       "    </tr>\n",
       "  </thead>\n",
       "  <tbody>\n",
       "    <tr>\n",
       "      <th>0</th>\n",
       "      <td>Hanging Heart Mirror Decoration</td>\n",
       "      <td>22227</td>\n",
       "    </tr>\n",
       "    <tr>\n",
       "      <th>2</th>\n",
       "      <td>Small Heart Measuring Spoons</td>\n",
       "      <td>22196</td>\n",
       "    </tr>\n",
       "    <tr>\n",
       "      <th>1</th>\n",
       "      <td>Assorted Colour Mini Cases</td>\n",
       "      <td>20749</td>\n",
       "    </tr>\n",
       "    <tr>\n",
       "      <th>3</th>\n",
       "      <td>Mirrored Disco Ball</td>\n",
       "      <td>21463</td>\n",
       "    </tr>\n",
       "    <tr>\n",
       "      <th>9</th>\n",
       "      <td>Box Of 24 Cocktail Parasols</td>\n",
       "      <td>84692</td>\n",
       "    </tr>\n",
       "  </tbody>\n",
       "</table>\n",
       "</div>"
      ],
      "text/plain": [
       "                               name stock_code\n",
       "0  Hanging Heart Mirror Decoration       22227\n",
       "2      Small Heart Measuring Spoons      22196\n",
       "1        Assorted Colour Mini Cases      20749\n",
       "3              Mirrored Disco Ball       21463\n",
       "9       Box Of 24 Cocktail Parasols      84692"
      ]
     },
     "execution_count": 133,
     "metadata": {},
     "output_type": "execute_result"
    }
   ],
   "source": [
    "sample_item = clean_data.sample(1)['stock_code'].item()\n",
    "\n",
    "sample_name = (clean_data\n",
    "               .query('stock_code == @sample_item')['description']\n",
    "               .iloc[0]\n",
    "               .title())\n",
    "print('Item in cart:\\nName: {}\\nCode: {}\\n'.format(sample_name, sample_item))\n",
    "\n",
    "print('Recommended Items:')\n",
    "print('Other customers who bought {} also bought these items: '.format(sample_name))\n",
    "recommender(sample_item, clean_data)"
   ]
  },
  {
   "cell_type": "markdown",
   "id": "empty-purpose",
   "metadata": {},
   "source": [
    "### Conclusion <a class=\"anchor\" id=\"conclusion_7\"></a>\n",
    "\n",
    "We have built a simple recommender system that works based on the item-based collaborative method. There are many rooms for improvement that we can implement for future works. We can examine other established techniques readily available, such as the simple content-based method or user-based collaborative, to the more advanced method using a deep neural network. One of the reasons that prevent us from following the procedure entirely is that our dataset doesn't have user ratings to calculate the similarity factor required in collaborative filtering."
   ]
  },
  {
   "cell_type": "markdown",
   "id": "focal-nurse",
   "metadata": {},
   "source": [
    "## Part 8: Recommendations <a class=\"anchor\" id=\"step_8\"></a>"
   ]
  },
  {
   "cell_type": "markdown",
   "id": "intended-harbor",
   "metadata": {},
   "source": [
    "Some recommendations that we can infer from on the analyses above:"
   ]
  },
  {
   "cell_type": "markdown",
   "id": "spiritual-louisiana",
   "metadata": {},
   "source": [
    "- We found out that Christmas-related items helped us gain the highest revenue in a year from the KPI analysis. Therefore we need to make sure that next year these items are ready in stock before November. \n",
    "- The high revenue in November can indicate that most customers associate us with Christmas/holiday decorations. We need to change this image, so customers come to us in any season of the year. This strategy might also help us to avoid such a drastic drop in revenue in December.\n",
    "- The product categorization can be improved by choosing a different hyperparameter, applying the TF-IDF method, or the LDA Mallet model. - Even further, we can find a labeling method then implement supervised learning models.\n",
    "- The items sold individually generate more revenues since some of these items might have an already high unit price. Therefore, we can focus on advertising these items to boost sales.\n",
    "- Find a way to get user ratings of our products to build a better recommender system."
   ]
  },
  {
   "cell_type": "markdown",
   "id": "neither-amino",
   "metadata": {},
   "source": [
    "## Part 9: References <a class=\"anchor\" id=\"step_9\"></a>\n",
    "\n",
    "We used the following references during the completion of this project:\n",
    "- https://en.wikipedia.org/wiki/Topic_model\n",
    "- http://blog.echen.me/2011/08/22/introduction-to-latent-dirichlet-allocation/\n",
    "- https://towardsdatascience.com/topic-modeling-and-latent-dirichlet-allocation-in-python-9bf156893c24\n",
    "- https://towardsdatascience.com/light-on-math-machine-learning-intuitive-guide-to-latent-dirichlet-allocation-437c81220158\n",
    "- https://medium.com/swlh/topic-modeling-lda-mallet-implementation-in-python-part-3-ab03e01b7cd7\n",
    "- https://www.analyticssteps.com/blogs/what-are-recommendation-systems-machine-learning\n",
    "- https://towardsdatascience.com/item-based-collaborative-filtering-in-python-91f747200fab\n",
    "- https://github.com/yjeong5126/movie_recommender/blob/master/item_based_collaborative_filtering/item_based_collaborative_filtering.ipynb"
   ]
  },
  {
   "cell_type": "markdown",
   "id": "plastic-roots",
   "metadata": {},
   "source": [
    "## Links to Dashboard and Presentation  <a class=\"anchor\" id=\"step_10\"></a>\n",
    "\n",
    "We have prepared a Tableau Dashboard and a PDF presentation files for this final project. The link to the dashboard is at:\n",
    "\n",
    "https://public.tableau.com/app/profile/widianto.persadha/viz/KPI_16275523309270/Dashboard?publish=yes\n",
    "\n",
    "The presentation and notebook can be found here:\n",
    "\n",
    "https://drive.google.com/drive/folders/1Jr2WrmbtnIaE-Y1UItFoAavpD0lWZlGS?usp=sharing"
   ]
  }
 ],
 "metadata": {
  "ExecuteTimeLog": [
   {
    "duration": 102,
    "start_time": "2021-08-02T17:39:15.577Z"
   },
   {
    "duration": 4665,
    "start_time": "2021-08-02T17:39:15.682Z"
   },
   {
    "duration": 33472,
    "start_time": "2021-08-02T17:39:20.350Z"
   },
   {
    "duration": 4,
    "start_time": "2021-08-02T17:39:53.825Z"
   },
   {
    "duration": 2696,
    "start_time": "2021-08-02T17:39:53.832Z"
   },
   {
    "duration": 587,
    "start_time": "2021-08-02T17:39:56.531Z"
   },
   {
    "duration": 4,
    "start_time": "2021-08-02T17:39:57.121Z"
   },
   {
    "duration": 6523,
    "start_time": "2021-08-02T17:39:57.128Z"
   },
   {
    "duration": 30,
    "start_time": "2021-08-02T17:40:03.655Z"
   },
   {
    "duration": 28,
    "start_time": "2021-08-02T17:40:03.689Z"
   },
   {
    "duration": 42,
    "start_time": "2021-08-02T17:40:03.719Z"
   },
   {
    "duration": 405,
    "start_time": "2021-08-02T17:40:03.765Z"
   },
   {
    "duration": 418,
    "start_time": "2021-08-02T17:40:04.173Z"
   },
   {
    "duration": 288,
    "start_time": "2021-08-02T17:40:04.594Z"
   },
   {
    "duration": 139,
    "start_time": "2021-08-02T17:40:04.884Z"
   },
   {
    "duration": 540,
    "start_time": "2021-08-02T17:40:05.025Z"
   },
   {
    "duration": 15,
    "start_time": "2021-08-02T17:40:05.568Z"
   },
   {
    "duration": 279,
    "start_time": "2021-08-02T17:40:05.585Z"
   },
   {
    "duration": 409,
    "start_time": "2021-08-02T17:40:05.867Z"
   },
   {
    "duration": 466,
    "start_time": "2021-08-02T17:40:06.278Z"
   },
   {
    "duration": 151,
    "start_time": "2021-08-02T17:40:06.746Z"
   },
   {
    "duration": 43,
    "start_time": "2021-08-02T17:40:06.900Z"
   },
   {
    "duration": 45,
    "start_time": "2021-08-02T17:40:06.969Z"
   },
   {
    "duration": 38,
    "start_time": "2021-08-02T17:40:07.018Z"
   },
   {
    "duration": 1648,
    "start_time": "2021-08-02T17:40:07.059Z"
   },
   {
    "duration": 13,
    "start_time": "2021-08-02T17:40:08.710Z"
   },
   {
    "duration": 7,
    "start_time": "2021-08-02T17:40:08.726Z"
   },
   {
    "duration": 16371,
    "start_time": "2021-08-02T17:40:08.757Z"
   },
   {
    "duration": 7,
    "start_time": "2021-08-02T17:40:25.130Z"
   },
   {
    "duration": 85,
    "start_time": "2021-08-02T17:40:25.140Z"
   },
   {
    "duration": 32,
    "start_time": "2021-08-02T17:40:25.228Z"
   },
   {
    "duration": 23,
    "start_time": "2021-08-02T17:40:25.263Z"
   },
   {
    "duration": 854,
    "start_time": "2021-08-02T17:40:25.289Z"
   },
   {
    "duration": 618,
    "start_time": "2021-08-02T17:40:26.146Z"
   },
   {
    "duration": 15998,
    "start_time": "2021-08-02T17:40:26.767Z"
   },
   {
    "duration": 50,
    "start_time": "2021-08-02T17:40:42.772Z"
   },
   {
    "duration": 87,
    "start_time": "2021-08-02T17:40:42.824Z"
   },
   {
    "duration": 888,
    "start_time": "2021-08-02T17:40:42.913Z"
   },
   {
    "duration": 901,
    "start_time": "2021-08-02T17:40:43.803Z"
   },
   {
    "duration": 29,
    "start_time": "2021-08-02T17:40:44.706Z"
   },
   {
    "duration": 52,
    "start_time": "2021-08-02T17:40:44.737Z"
   },
   {
    "duration": 951,
    "start_time": "2021-08-02T17:40:44.792Z"
   },
   {
    "duration": 116,
    "start_time": "2021-08-02T17:40:45.745Z"
   },
   {
    "duration": 108,
    "start_time": "2021-08-02T17:40:45.863Z"
   },
   {
    "duration": 24,
    "start_time": "2021-08-02T17:40:45.974Z"
   },
   {
    "duration": 78,
    "start_time": "2021-08-02T17:40:46.000Z"
   },
   {
    "duration": 207,
    "start_time": "2021-08-02T17:40:46.081Z"
   },
   {
    "duration": 71,
    "start_time": "2021-08-02T17:40:46.291Z"
   },
   {
    "duration": 128,
    "start_time": "2021-08-02T17:40:46.370Z"
   },
   {
    "duration": 65,
    "start_time": "2021-08-02T17:40:46.501Z"
   },
   {
    "duration": 318,
    "start_time": "2021-08-02T17:40:46.569Z"
   },
   {
    "duration": 5,
    "start_time": "2021-08-02T17:40:46.889Z"
   },
   {
    "duration": 363,
    "start_time": "2021-08-02T17:40:46.896Z"
   },
   {
    "duration": 29,
    "start_time": "2021-08-02T17:40:47.266Z"
   },
   {
    "duration": 14,
    "start_time": "2021-08-02T17:40:47.298Z"
   },
   {
    "duration": 115,
    "start_time": "2021-08-02T17:40:47.314Z"
   },
   {
    "duration": 5,
    "start_time": "2021-08-02T17:40:47.431Z"
   },
   {
    "duration": 52,
    "start_time": "2021-08-02T17:40:47.439Z"
   },
   {
    "duration": 17,
    "start_time": "2021-08-02T17:40:47.494Z"
   },
   {
    "duration": 270,
    "start_time": "2021-08-02T17:40:47.514Z"
   },
   {
    "duration": 84,
    "start_time": "2021-08-02T17:40:47.787Z"
   },
   {
    "duration": 571,
    "start_time": "2021-08-02T17:40:47.873Z"
   },
   {
    "duration": 33,
    "start_time": "2021-08-02T17:40:48.446Z"
   },
   {
    "duration": 537,
    "start_time": "2021-08-02T17:40:48.482Z"
   },
   {
    "duration": 8596,
    "start_time": "2021-08-02T17:40:49.022Z"
   },
   {
    "duration": 236,
    "start_time": "2021-08-02T17:40:57.621Z"
   },
   {
    "duration": 27,
    "start_time": "2021-08-02T17:40:57.860Z"
   },
   {
    "duration": 607,
    "start_time": "2021-08-02T17:40:57.902Z"
   },
   {
    "duration": 6,
    "start_time": "2021-08-02T17:40:58.513Z"
   },
   {
    "duration": 38,
    "start_time": "2021-08-02T17:40:58.522Z"
   },
   {
    "duration": 13,
    "start_time": "2021-08-02T17:40:58.564Z"
   },
   {
    "duration": 28,
    "start_time": "2021-08-02T17:40:58.580Z"
   },
   {
    "duration": 595,
    "start_time": "2021-08-02T17:40:58.611Z"
   },
   {
    "duration": 5,
    "start_time": "2021-08-02T17:40:59.208Z"
   },
   {
    "duration": 169,
    "start_time": "2021-08-02T17:40:59.216Z"
   },
   {
    "duration": 26,
    "start_time": "2021-08-02T17:40:59.388Z"
   },
   {
    "duration": 506,
    "start_time": "2021-08-02T17:40:59.417Z"
   },
   {
    "duration": 5,
    "start_time": "2021-08-02T17:40:59.925Z"
   },
   {
    "duration": 33,
    "start_time": "2021-08-02T17:40:59.933Z"
   },
   {
    "duration": 663,
    "start_time": "2021-08-02T17:40:59.969Z"
   },
   {
    "duration": 716,
    "start_time": "2021-08-02T17:41:00.635Z"
   },
   {
    "duration": 1468,
    "start_time": "2021-08-02T17:41:01.356Z"
   },
   {
    "duration": 109,
    "start_time": "2021-08-02T17:41:02.827Z"
   },
   {
    "duration": 890,
    "start_time": "2021-08-02T17:41:02.939Z"
   },
   {
    "duration": 112,
    "start_time": "2021-08-02T17:41:03.832Z"
   },
   {
    "duration": 44,
    "start_time": "2021-08-02T17:41:03.948Z"
   },
   {
    "duration": 114,
    "start_time": "2021-08-02T17:41:03.995Z"
   },
   {
    "duration": 306,
    "start_time": "2021-08-02T17:41:04.111Z"
   },
   {
    "duration": 338,
    "start_time": "2021-08-02T17:41:04.419Z"
   },
   {
    "duration": 51,
    "start_time": "2021-08-02T17:41:04.765Z"
   },
   {
    "duration": 69,
    "start_time": "2021-08-02T17:41:04.818Z"
   },
   {
    "duration": 531,
    "start_time": "2021-08-02T17:41:04.889Z"
   },
   {
    "duration": -134,
    "start_time": "2021-08-02T17:41:05.557Z"
   },
   {
    "duration": -140,
    "start_time": "2021-08-02T17:41:05.565Z"
   },
   {
    "duration": -147,
    "start_time": "2021-08-02T17:41:05.573Z"
   },
   {
    "duration": -155,
    "start_time": "2021-08-02T17:41:05.583Z"
   },
   {
    "duration": -165,
    "start_time": "2021-08-02T17:41:05.594Z"
   },
   {
    "duration": -176,
    "start_time": "2021-08-02T17:41:05.606Z"
   },
   {
    "duration": -183,
    "start_time": "2021-08-02T17:41:05.615Z"
   },
   {
    "duration": -195,
    "start_time": "2021-08-02T17:41:05.628Z"
   },
   {
    "duration": -203,
    "start_time": "2021-08-02T17:41:05.638Z"
   },
   {
    "duration": -211,
    "start_time": "2021-08-02T17:41:05.648Z"
   },
   {
    "duration": -222,
    "start_time": "2021-08-02T17:41:05.660Z"
   },
   {
    "duration": -232,
    "start_time": "2021-08-02T17:41:05.671Z"
   },
   {
    "duration": -239,
    "start_time": "2021-08-02T17:41:05.680Z"
   },
   {
    "duration": -247,
    "start_time": "2021-08-02T17:41:05.689Z"
   },
   {
    "duration": -254,
    "start_time": "2021-08-02T17:41:05.698Z"
   },
   {
    "duration": -263,
    "start_time": "2021-08-02T17:41:05.708Z"
   },
   {
    "duration": -273,
    "start_time": "2021-08-02T17:41:05.719Z"
   },
   {
    "duration": -284,
    "start_time": "2021-08-02T17:41:05.732Z"
   },
   {
    "duration": -292,
    "start_time": "2021-08-02T17:41:05.741Z"
   },
   {
    "duration": -301,
    "start_time": "2021-08-02T17:41:05.751Z"
   },
   {
    "duration": -310,
    "start_time": "2021-08-02T17:41:05.761Z"
   },
   {
    "duration": -321,
    "start_time": "2021-08-02T17:41:05.774Z"
   },
   {
    "duration": -328,
    "start_time": "2021-08-02T17:41:05.782Z"
   },
   {
    "duration": -337,
    "start_time": "2021-08-02T17:41:05.792Z"
   },
   {
    "duration": -344,
    "start_time": "2021-08-02T17:41:05.801Z"
   },
   {
    "duration": -354,
    "start_time": "2021-08-02T17:41:05.812Z"
   },
   {
    "duration": -364,
    "start_time": "2021-08-02T17:41:05.824Z"
   },
   {
    "duration": -373,
    "start_time": "2021-08-02T17:41:05.834Z"
   },
   {
    "duration": -381,
    "start_time": "2021-08-02T17:41:05.843Z"
   },
   {
    "duration": -389,
    "start_time": "2021-08-02T17:41:05.853Z"
   },
   {
    "duration": -396,
    "start_time": "2021-08-02T17:41:05.861Z"
   },
   {
    "duration": -405,
    "start_time": "2021-08-02T17:41:05.871Z"
   },
   {
    "duration": -411,
    "start_time": "2021-08-02T17:41:05.879Z"
   },
   {
    "duration": -419,
    "start_time": "2021-08-02T17:41:05.889Z"
   },
   {
    "duration": -425,
    "start_time": "2021-08-02T17:41:05.897Z"
   },
   {
    "duration": -433,
    "start_time": "2021-08-02T17:41:05.907Z"
   },
   {
    "duration": -441,
    "start_time": "2021-08-02T17:41:05.916Z"
   },
   {
    "duration": -451,
    "start_time": "2021-08-02T17:41:05.928Z"
   },
   {
    "duration": -459,
    "start_time": "2021-08-02T17:41:05.937Z"
   },
   {
    "duration": -468,
    "start_time": "2021-08-02T17:41:05.947Z"
   },
   {
    "duration": -474,
    "start_time": "2021-08-02T17:41:05.955Z"
   },
   {
    "duration": -481,
    "start_time": "2021-08-02T17:41:05.964Z"
   },
   {
    "duration": -488,
    "start_time": "2021-08-02T17:41:05.973Z"
   },
   {
    "duration": -495,
    "start_time": "2021-08-02T17:41:05.982Z"
   },
   {
    "duration": -501,
    "start_time": "2021-08-02T17:41:05.990Z"
   },
   {
    "duration": 29,
    "start_time": "2021-08-02T17:55:43.297Z"
   },
   {
    "duration": 727,
    "start_time": "2021-08-02T17:55:43.330Z"
   },
   {
    "duration": 44,
    "start_time": "2021-08-02T17:55:44.059Z"
   },
   {
    "duration": 13,
    "start_time": "2021-08-02T17:55:44.107Z"
   },
   {
    "duration": 51,
    "start_time": "2021-08-02T17:55:44.155Z"
   },
   {
    "duration": 9,
    "start_time": "2021-08-02T17:55:44.210Z"
   },
   {
    "duration": 8,
    "start_time": "2021-08-02T17:55:44.222Z"
   },
   {
    "duration": 2220,
    "start_time": "2021-08-02T17:55:44.257Z"
   },
   {
    "duration": 9,
    "start_time": "2021-08-02T17:55:46.480Z"
   },
   {
    "duration": 9,
    "start_time": "2021-08-02T17:55:46.495Z"
   },
   {
    "duration": 6,
    "start_time": "2021-08-02T17:55:46.507Z"
   },
   {
    "duration": 85975,
    "start_time": "2021-08-02T17:55:46.515Z"
   },
   {
    "duration": 305430,
    "start_time": "2021-08-02T17:57:12.493Z"
   },
   {
    "duration": 59028,
    "start_time": "2021-08-02T18:02:17.927Z"
   },
   {
    "duration": 73434,
    "start_time": "2021-08-02T18:03:16.957Z"
   }
  ],
  "kernelspec": {
   "display_name": "Python 3",
   "language": "python",
   "name": "python3"
  },
  "language_info": {
   "codemirror_mode": {
    "name": "ipython",
    "version": 3
   },
   "file_extension": ".py",
   "mimetype": "text/x-python",
   "name": "python",
   "nbconvert_exporter": "python",
   "pygments_lexer": "ipython3",
   "version": "3.7.9"
  },
  "toc": {
   "base_numbering": 1,
   "nav_menu": {},
   "number_sections": true,
   "sideBar": true,
   "skip_h1_title": true,
   "title_cell": "Table of Contents",
   "title_sidebar": "Contents",
   "toc_cell": false,
   "toc_position": {},
   "toc_section_display": true,
   "toc_window_display": false
  }
 },
 "nbformat": 4,
 "nbformat_minor": 5
}
