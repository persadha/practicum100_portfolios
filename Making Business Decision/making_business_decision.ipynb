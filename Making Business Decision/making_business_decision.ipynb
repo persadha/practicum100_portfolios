{
 "cells": [
  {
   "cell_type": "markdown",
   "id": "postal-taxation",
   "metadata": {},
   "source": [
    "# Making Business Decisions Based On Data Project"
   ]
  },
  {
   "cell_type": "markdown",
   "id": "coupled-mumbai",
   "metadata": {},
   "source": [
    "## Table of Contents\n",
    "\n",
    "* [Project Description](#description)\n",
    "* [Step 1. Open the data file and study the general information](#step_1)\n",
    "    * [Conclusion](#conclusion_1)\n",
    "* [Step 2. Data Processing](#step_2)\n",
    "    * [Conclusion](#conclusion_1)\n",
    "* [Step 3. Data Analyses](#step_3)\n",
    "    * [Part 1](#step_3_1)\n",
    "    * [Part 2](#step_3_2)\n",
    "    * [Conclusion](#step_3_3)"
   ]
  },
  {
   "cell_type": "markdown",
   "id": "spread-creativity",
   "metadata": {},
   "source": [
    "## Project Description<a class=\"anchor\" id=\"description\"></a>\n",
    "The main goal of this project is to select the best hypothesis among several options that may order to boost revenue and analyze the results of the A/B test.\n",
    "\n",
    "In the first part of the project, we have data that consist of nine hypotheses along with their own `reach`, `impact`, `confidence` and `effort` scores. Using the ICE and RICE methods, we will rank them and see which hypothesis should be prioritized.\n",
    "\n",
    "In the second part, we will work with two outcomes of an A/B test; sales record data and user's visit log. Both datasets consist of the A/B group where a user belongs to. We will evaluate the conversion rates, average order sizes, see how one group performs compared to the other, check their statistical significance, and in the end, decide if we should stop or continue the test.\n",
    "\n"
   ]
  },
  {
   "cell_type": "markdown",
   "id": "hearing-pierre",
   "metadata": {},
   "source": [
    "## Step 1: Open the data file and study the general information<a class=\"anchor\" id=\"step_1\"></a>"
   ]
  },
  {
   "cell_type": "code",
   "execution_count": 1,
   "id": "caring-islam",
   "metadata": {},
   "outputs": [],
   "source": [
    "%autosave 60"
   ]
  },
  {
   "cell_type": "code",
   "execution_count": 2,
   "id": "marked-hopkins",
   "metadata": {},
   "outputs": [],
   "source": [
    "# Loading necessary libraries\n",
    "import pandas as pd\n",
    "import numpy as np\n",
    "import matplotlib.pyplot as plt\n",
    "import datetime as dt\n",
    "import scipy.stats as stats\n",
    "import seaborn as sns"
   ]
  },
  {
   "cell_type": "code",
   "execution_count": 3,
   "id": "breathing-little",
   "metadata": {},
   "outputs": [],
   "source": [
    "# Loading the datasets\n",
    "try:\n",
    "    hypotheses = pd.read_csv('/Users/wpersadha/Documents/Practicum100/08_making_business_decisions/datasets/hypotheses_us.csv', sep=';')\n",
    "    orders = pd.read_csv('/Users/wpersadha/Documents/Practicum100/08_making_business_decisions/datasets/orders_us.csv')\n",
    "    visits = pd.read_csv('/Users/wpersadha/Documents/Practicum100/08_making_business_decisions/datasets/visits_us.csv')\n",
    "except:\n",
    "    hypotheses = pd.read_csv('/datasets/hypotheses_us.csv', sep=';')\n",
    "    orders = pd.read_csv('/datasets/orders_us.csv')\n",
    "    visits = pd.read_csv('/datasets/visits_us.csv')"
   ]
  },
  {
   "cell_type": "code",
   "execution_count": 4,
   "id": "proved-character",
   "metadata": {},
   "outputs": [
    {
     "data": {
      "text/html": [
       "<div>\n",
       "<style scoped>\n",
       "    .dataframe tbody tr th:only-of-type {\n",
       "        vertical-align: middle;\n",
       "    }\n",
       "\n",
       "    .dataframe tbody tr th {\n",
       "        vertical-align: top;\n",
       "    }\n",
       "\n",
       "    .dataframe thead th {\n",
       "        text-align: right;\n",
       "    }\n",
       "</style>\n",
       "<table border=\"1\" class=\"dataframe\">\n",
       "  <thead>\n",
       "    <tr style=\"text-align: right;\">\n",
       "      <th></th>\n",
       "      <th>Hypothesis</th>\n",
       "      <th>Reach</th>\n",
       "      <th>Impact</th>\n",
       "      <th>Confidence</th>\n",
       "      <th>Effort</th>\n",
       "    </tr>\n",
       "  </thead>\n",
       "  <tbody>\n",
       "    <tr>\n",
       "      <td>0</td>\n",
       "      <td>Add two new channels for attracting traffic. This will bring 30% more users</td>\n",
       "      <td>3</td>\n",
       "      <td>10</td>\n",
       "      <td>8</td>\n",
       "      <td>6</td>\n",
       "    </tr>\n",
       "    <tr>\n",
       "      <td>1</td>\n",
       "      <td>Launch your own delivery service. This will shorten delivery time</td>\n",
       "      <td>2</td>\n",
       "      <td>5</td>\n",
       "      <td>4</td>\n",
       "      <td>10</td>\n",
       "    </tr>\n",
       "    <tr>\n",
       "      <td>2</td>\n",
       "      <td>Add product recommendation blocks to the store's site. This will increase conversion and average purchase size</td>\n",
       "      <td>8</td>\n",
       "      <td>3</td>\n",
       "      <td>7</td>\n",
       "      <td>3</td>\n",
       "    </tr>\n",
       "    <tr>\n",
       "      <td>3</td>\n",
       "      <td>Change the category structure. This will increase conversion since users will find the products they want more quickly</td>\n",
       "      <td>8</td>\n",
       "      <td>3</td>\n",
       "      <td>3</td>\n",
       "      <td>8</td>\n",
       "    </tr>\n",
       "    <tr>\n",
       "      <td>4</td>\n",
       "      <td>Change the background color on the main page. This will increase user engagement</td>\n",
       "      <td>3</td>\n",
       "      <td>1</td>\n",
       "      <td>1</td>\n",
       "      <td>1</td>\n",
       "    </tr>\n",
       "    <tr>\n",
       "      <td>5</td>\n",
       "      <td>Add a customer review page. This will increase the number of orders</td>\n",
       "      <td>3</td>\n",
       "      <td>2</td>\n",
       "      <td>2</td>\n",
       "      <td>3</td>\n",
       "    </tr>\n",
       "    <tr>\n",
       "      <td>6</td>\n",
       "      <td>Show banners with current offers and sales on the main page. This will boost conversion</td>\n",
       "      <td>5</td>\n",
       "      <td>3</td>\n",
       "      <td>8</td>\n",
       "      <td>3</td>\n",
       "    </tr>\n",
       "    <tr>\n",
       "      <td>7</td>\n",
       "      <td>Add a subscription form to all the main pages. This will help you compile a mailing list</td>\n",
       "      <td>10</td>\n",
       "      <td>7</td>\n",
       "      <td>8</td>\n",
       "      <td>5</td>\n",
       "    </tr>\n",
       "    <tr>\n",
       "      <td>8</td>\n",
       "      <td>Launch a promotion that gives users discounts on their birthdays</td>\n",
       "      <td>1</td>\n",
       "      <td>9</td>\n",
       "      <td>9</td>\n",
       "      <td>5</td>\n",
       "    </tr>\n",
       "  </tbody>\n",
       "</table>\n",
       "</div>"
      ],
      "text/plain": [
       "                                                                                                               Hypothesis  \\\n",
       "0                                             Add two new channels for attracting traffic. This will bring 30% more users   \n",
       "1                                                       Launch your own delivery service. This will shorten delivery time   \n",
       "2          Add product recommendation blocks to the store's site. This will increase conversion and average purchase size   \n",
       "3  Change the category structure. This will increase conversion since users will find the products they want more quickly   \n",
       "4                                        Change the background color on the main page. This will increase user engagement   \n",
       "5                                                     Add a customer review page. This will increase the number of orders   \n",
       "6                                 Show banners with current offers and sales on the main page. This will boost conversion   \n",
       "7                                Add a subscription form to all the main pages. This will help you compile a mailing list   \n",
       "8                                                        Launch a promotion that gives users discounts on their birthdays   \n",
       "\n",
       "   Reach  Impact  Confidence  Effort  \n",
       "0      3      10           8       6  \n",
       "1      2       5           4      10  \n",
       "2      8       3           7       3  \n",
       "3      8       3           3       8  \n",
       "4      3       1           1       1  \n",
       "5      3       2           2       3  \n",
       "6      5       3           8       3  \n",
       "7     10       7           8       5  \n",
       "8      1       9           9       5  "
      ]
     },
     "execution_count": 4,
     "metadata": {},
     "output_type": "execute_result"
    }
   ],
   "source": [
    "# Loading dataframe\n",
    "pd.set_option('max_colwidth', 400)\n",
    "hypotheses"
   ]
  },
  {
   "cell_type": "code",
   "execution_count": 5,
   "id": "alternative-reviewer",
   "metadata": {},
   "outputs": [
    {
     "data": {
      "text/html": [
       "<div>\n",
       "<style scoped>\n",
       "    .dataframe tbody tr th:only-of-type {\n",
       "        vertical-align: middle;\n",
       "    }\n",
       "\n",
       "    .dataframe tbody tr th {\n",
       "        vertical-align: top;\n",
       "    }\n",
       "\n",
       "    .dataframe thead th {\n",
       "        text-align: right;\n",
       "    }\n",
       "</style>\n",
       "<table border=\"1\" class=\"dataframe\">\n",
       "  <thead>\n",
       "    <tr style=\"text-align: right;\">\n",
       "      <th></th>\n",
       "      <th>transactionId</th>\n",
       "      <th>visitorId</th>\n",
       "      <th>date</th>\n",
       "      <th>revenue</th>\n",
       "      <th>group</th>\n",
       "    </tr>\n",
       "  </thead>\n",
       "  <tbody>\n",
       "    <tr>\n",
       "      <td>0</td>\n",
       "      <td>3667963787</td>\n",
       "      <td>3312258926</td>\n",
       "      <td>2019-08-15</td>\n",
       "      <td>30.4</td>\n",
       "      <td>B</td>\n",
       "    </tr>\n",
       "    <tr>\n",
       "      <td>1</td>\n",
       "      <td>2804400009</td>\n",
       "      <td>3642806036</td>\n",
       "      <td>2019-08-15</td>\n",
       "      <td>15.2</td>\n",
       "      <td>B</td>\n",
       "    </tr>\n",
       "    <tr>\n",
       "      <td>2</td>\n",
       "      <td>2961555356</td>\n",
       "      <td>4069496402</td>\n",
       "      <td>2019-08-15</td>\n",
       "      <td>10.2</td>\n",
       "      <td>A</td>\n",
       "    </tr>\n",
       "    <tr>\n",
       "      <td>3</td>\n",
       "      <td>3797467345</td>\n",
       "      <td>1196621759</td>\n",
       "      <td>2019-08-15</td>\n",
       "      <td>155.1</td>\n",
       "      <td>B</td>\n",
       "    </tr>\n",
       "    <tr>\n",
       "      <td>4</td>\n",
       "      <td>2282983706</td>\n",
       "      <td>2322279887</td>\n",
       "      <td>2019-08-15</td>\n",
       "      <td>40.5</td>\n",
       "      <td>B</td>\n",
       "    </tr>\n",
       "  </tbody>\n",
       "</table>\n",
       "</div>"
      ],
      "text/plain": [
       "   transactionId   visitorId        date  revenue group\n",
       "0     3667963787  3312258926  2019-08-15     30.4     B\n",
       "1     2804400009  3642806036  2019-08-15     15.2     B\n",
       "2     2961555356  4069496402  2019-08-15     10.2     A\n",
       "3     3797467345  1196621759  2019-08-15    155.1     B\n",
       "4     2282983706  2322279887  2019-08-15     40.5     B"
      ]
     },
     "execution_count": 5,
     "metadata": {},
     "output_type": "execute_result"
    }
   ],
   "source": [
    "orders.head()"
   ]
  },
  {
   "cell_type": "code",
   "execution_count": 6,
   "id": "dependent-anxiety",
   "metadata": {},
   "outputs": [
    {
     "name": "stdout",
     "output_type": "stream",
     "text": [
      "<class 'pandas.core.frame.DataFrame'>\n",
      "RangeIndex: 1197 entries, 0 to 1196\n",
      "Data columns (total 5 columns):\n",
      "transactionId    1197 non-null int64\n",
      "visitorId        1197 non-null int64\n",
      "date             1197 non-null object\n",
      "revenue          1197 non-null float64\n",
      "group            1197 non-null object\n",
      "dtypes: float64(1), int64(2), object(2)\n",
      "memory usage: 183.6 KB\n"
     ]
    }
   ],
   "source": [
    "orders.info(memory_usage='deep')"
   ]
  },
  {
   "cell_type": "code",
   "execution_count": 7,
   "id": "major-japanese",
   "metadata": {},
   "outputs": [
    {
     "data": {
      "text/html": [
       "<div>\n",
       "<style scoped>\n",
       "    .dataframe tbody tr th:only-of-type {\n",
       "        vertical-align: middle;\n",
       "    }\n",
       "\n",
       "    .dataframe tbody tr th {\n",
       "        vertical-align: top;\n",
       "    }\n",
       "\n",
       "    .dataframe thead th {\n",
       "        text-align: right;\n",
       "    }\n",
       "</style>\n",
       "<table border=\"1\" class=\"dataframe\">\n",
       "  <thead>\n",
       "    <tr style=\"text-align: right;\">\n",
       "      <th></th>\n",
       "      <th>transactionId</th>\n",
       "      <th>visitorId</th>\n",
       "      <th>date</th>\n",
       "      <th>revenue</th>\n",
       "      <th>group</th>\n",
       "    </tr>\n",
       "  </thead>\n",
       "  <tbody>\n",
       "    <tr>\n",
       "      <td>count</td>\n",
       "      <td>1.197000e+03</td>\n",
       "      <td>1.197000e+03</td>\n",
       "      <td>1197</td>\n",
       "      <td>1197.000000</td>\n",
       "      <td>1197</td>\n",
       "    </tr>\n",
       "    <tr>\n",
       "      <td>unique</td>\n",
       "      <td>NaN</td>\n",
       "      <td>NaN</td>\n",
       "      <td>31</td>\n",
       "      <td>NaN</td>\n",
       "      <td>2</td>\n",
       "    </tr>\n",
       "    <tr>\n",
       "      <td>top</td>\n",
       "      <td>NaN</td>\n",
       "      <td>NaN</td>\n",
       "      <td>2019-08-05</td>\n",
       "      <td>NaN</td>\n",
       "      <td>B</td>\n",
       "    </tr>\n",
       "    <tr>\n",
       "      <td>freq</td>\n",
       "      <td>NaN</td>\n",
       "      <td>NaN</td>\n",
       "      <td>48</td>\n",
       "      <td>NaN</td>\n",
       "      <td>640</td>\n",
       "    </tr>\n",
       "    <tr>\n",
       "      <td>mean</td>\n",
       "      <td>2.155621e+09</td>\n",
       "      <td>2.165960e+09</td>\n",
       "      <td>NaN</td>\n",
       "      <td>131.491646</td>\n",
       "      <td>NaN</td>\n",
       "    </tr>\n",
       "    <tr>\n",
       "      <td>std</td>\n",
       "      <td>1.229085e+09</td>\n",
       "      <td>1.236014e+09</td>\n",
       "      <td>NaN</td>\n",
       "      <td>603.004729</td>\n",
       "      <td>NaN</td>\n",
       "    </tr>\n",
       "    <tr>\n",
       "      <td>min</td>\n",
       "      <td>1.062393e+06</td>\n",
       "      <td>5.114589e+06</td>\n",
       "      <td>NaN</td>\n",
       "      <td>5.000000</td>\n",
       "      <td>NaN</td>\n",
       "    </tr>\n",
       "    <tr>\n",
       "      <td>25%</td>\n",
       "      <td>1.166776e+09</td>\n",
       "      <td>1.111826e+09</td>\n",
       "      <td>NaN</td>\n",
       "      <td>20.800000</td>\n",
       "      <td>NaN</td>\n",
       "    </tr>\n",
       "    <tr>\n",
       "      <td>50%</td>\n",
       "      <td>2.145194e+09</td>\n",
       "      <td>2.217985e+09</td>\n",
       "      <td>NaN</td>\n",
       "      <td>50.200000</td>\n",
       "      <td>NaN</td>\n",
       "    </tr>\n",
       "    <tr>\n",
       "      <td>75%</td>\n",
       "      <td>3.237740e+09</td>\n",
       "      <td>3.177606e+09</td>\n",
       "      <td>NaN</td>\n",
       "      <td>130.400000</td>\n",
       "      <td>NaN</td>\n",
       "    </tr>\n",
       "    <tr>\n",
       "      <td>max</td>\n",
       "      <td>4.293856e+09</td>\n",
       "      <td>4.283872e+09</td>\n",
       "      <td>NaN</td>\n",
       "      <td>19920.400000</td>\n",
       "      <td>NaN</td>\n",
       "    </tr>\n",
       "  </tbody>\n",
       "</table>\n",
       "</div>"
      ],
      "text/plain": [
       "        transactionId     visitorId        date       revenue group\n",
       "count    1.197000e+03  1.197000e+03        1197   1197.000000  1197\n",
       "unique            NaN           NaN          31           NaN     2\n",
       "top               NaN           NaN  2019-08-05           NaN     B\n",
       "freq              NaN           NaN          48           NaN   640\n",
       "mean     2.155621e+09  2.165960e+09         NaN    131.491646   NaN\n",
       "std      1.229085e+09  1.236014e+09         NaN    603.004729   NaN\n",
       "min      1.062393e+06  5.114589e+06         NaN      5.000000   NaN\n",
       "25%      1.166776e+09  1.111826e+09         NaN     20.800000   NaN\n",
       "50%      2.145194e+09  2.217985e+09         NaN     50.200000   NaN\n",
       "75%      3.237740e+09  3.177606e+09         NaN    130.400000   NaN\n",
       "max      4.293856e+09  4.283872e+09         NaN  19920.400000   NaN"
      ]
     },
     "execution_count": 7,
     "metadata": {},
     "output_type": "execute_result"
    }
   ],
   "source": [
    "orders.describe(include='all')"
   ]
  },
  {
   "cell_type": "code",
   "execution_count": 8,
   "id": "dimensional-agent",
   "metadata": {},
   "outputs": [
    {
     "data": {
      "text/html": [
       "<div>\n",
       "<style scoped>\n",
       "    .dataframe tbody tr th:only-of-type {\n",
       "        vertical-align: middle;\n",
       "    }\n",
       "\n",
       "    .dataframe tbody tr th {\n",
       "        vertical-align: top;\n",
       "    }\n",
       "\n",
       "    .dataframe thead th {\n",
       "        text-align: right;\n",
       "    }\n",
       "</style>\n",
       "<table border=\"1\" class=\"dataframe\">\n",
       "  <thead>\n",
       "    <tr style=\"text-align: right;\">\n",
       "      <th></th>\n",
       "      <th>date</th>\n",
       "      <th>group</th>\n",
       "      <th>visits</th>\n",
       "    </tr>\n",
       "  </thead>\n",
       "  <tbody>\n",
       "    <tr>\n",
       "      <td>0</td>\n",
       "      <td>2019-08-01</td>\n",
       "      <td>A</td>\n",
       "      <td>719</td>\n",
       "    </tr>\n",
       "    <tr>\n",
       "      <td>1</td>\n",
       "      <td>2019-08-02</td>\n",
       "      <td>A</td>\n",
       "      <td>619</td>\n",
       "    </tr>\n",
       "    <tr>\n",
       "      <td>2</td>\n",
       "      <td>2019-08-03</td>\n",
       "      <td>A</td>\n",
       "      <td>507</td>\n",
       "    </tr>\n",
       "    <tr>\n",
       "      <td>3</td>\n",
       "      <td>2019-08-04</td>\n",
       "      <td>A</td>\n",
       "      <td>717</td>\n",
       "    </tr>\n",
       "    <tr>\n",
       "      <td>4</td>\n",
       "      <td>2019-08-05</td>\n",
       "      <td>A</td>\n",
       "      <td>756</td>\n",
       "    </tr>\n",
       "  </tbody>\n",
       "</table>\n",
       "</div>"
      ],
      "text/plain": [
       "         date group  visits\n",
       "0  2019-08-01     A     719\n",
       "1  2019-08-02     A     619\n",
       "2  2019-08-03     A     507\n",
       "3  2019-08-04     A     717\n",
       "4  2019-08-05     A     756"
      ]
     },
     "execution_count": 8,
     "metadata": {},
     "output_type": "execute_result"
    }
   ],
   "source": [
    "visits.head()"
   ]
  },
  {
   "cell_type": "code",
   "execution_count": 9,
   "id": "incoming-european",
   "metadata": {
    "scrolled": true
   },
   "outputs": [
    {
     "name": "stdout",
     "output_type": "stream",
     "text": [
      "<class 'pandas.core.frame.DataFrame'>\n",
      "RangeIndex: 62 entries, 0 to 61\n",
      "Data columns (total 3 columns):\n",
      "date      62 non-null object\n",
      "group     62 non-null object\n",
      "visits    62 non-null int64\n",
      "dtypes: int64(1), object(2)\n",
      "memory usage: 8.7 KB\n"
     ]
    }
   ],
   "source": [
    "visits.info(memory_usage='deep')"
   ]
  },
  {
   "cell_type": "code",
   "execution_count": 10,
   "id": "collect-knight",
   "metadata": {},
   "outputs": [
    {
     "data": {
      "text/html": [
       "<div>\n",
       "<style scoped>\n",
       "    .dataframe tbody tr th:only-of-type {\n",
       "        vertical-align: middle;\n",
       "    }\n",
       "\n",
       "    .dataframe tbody tr th {\n",
       "        vertical-align: top;\n",
       "    }\n",
       "\n",
       "    .dataframe thead th {\n",
       "        text-align: right;\n",
       "    }\n",
       "</style>\n",
       "<table border=\"1\" class=\"dataframe\">\n",
       "  <thead>\n",
       "    <tr style=\"text-align: right;\">\n",
       "      <th></th>\n",
       "      <th>date</th>\n",
       "      <th>group</th>\n",
       "      <th>visits</th>\n",
       "    </tr>\n",
       "  </thead>\n",
       "  <tbody>\n",
       "    <tr>\n",
       "      <td>count</td>\n",
       "      <td>62</td>\n",
       "      <td>62</td>\n",
       "      <td>62.000000</td>\n",
       "    </tr>\n",
       "    <tr>\n",
       "      <td>unique</td>\n",
       "      <td>31</td>\n",
       "      <td>2</td>\n",
       "      <td>NaN</td>\n",
       "    </tr>\n",
       "    <tr>\n",
       "      <td>top</td>\n",
       "      <td>2019-08-19</td>\n",
       "      <td>A</td>\n",
       "      <td>NaN</td>\n",
       "    </tr>\n",
       "    <tr>\n",
       "      <td>freq</td>\n",
       "      <td>2</td>\n",
       "      <td>31</td>\n",
       "      <td>NaN</td>\n",
       "    </tr>\n",
       "    <tr>\n",
       "      <td>mean</td>\n",
       "      <td>NaN</td>\n",
       "      <td>NaN</td>\n",
       "      <td>607.290323</td>\n",
       "    </tr>\n",
       "    <tr>\n",
       "      <td>std</td>\n",
       "      <td>NaN</td>\n",
       "      <td>NaN</td>\n",
       "      <td>114.400560</td>\n",
       "    </tr>\n",
       "    <tr>\n",
       "      <td>min</td>\n",
       "      <td>NaN</td>\n",
       "      <td>NaN</td>\n",
       "      <td>361.000000</td>\n",
       "    </tr>\n",
       "    <tr>\n",
       "      <td>25%</td>\n",
       "      <td>NaN</td>\n",
       "      <td>NaN</td>\n",
       "      <td>534.000000</td>\n",
       "    </tr>\n",
       "    <tr>\n",
       "      <td>50%</td>\n",
       "      <td>NaN</td>\n",
       "      <td>NaN</td>\n",
       "      <td>624.500000</td>\n",
       "    </tr>\n",
       "    <tr>\n",
       "      <td>75%</td>\n",
       "      <td>NaN</td>\n",
       "      <td>NaN</td>\n",
       "      <td>710.500000</td>\n",
       "    </tr>\n",
       "    <tr>\n",
       "      <td>max</td>\n",
       "      <td>NaN</td>\n",
       "      <td>NaN</td>\n",
       "      <td>770.000000</td>\n",
       "    </tr>\n",
       "  </tbody>\n",
       "</table>\n",
       "</div>"
      ],
      "text/plain": [
       "              date group      visits\n",
       "count           62    62   62.000000\n",
       "unique          31     2         NaN\n",
       "top     2019-08-19     A         NaN\n",
       "freq             2    31         NaN\n",
       "mean           NaN   NaN  607.290323\n",
       "std            NaN   NaN  114.400560\n",
       "min            NaN   NaN  361.000000\n",
       "25%            NaN   NaN  534.000000\n",
       "50%            NaN   NaN  624.500000\n",
       "75%            NaN   NaN  710.500000\n",
       "max            NaN   NaN  770.000000"
      ]
     },
     "execution_count": 10,
     "metadata": {},
     "output_type": "execute_result"
    }
   ],
   "source": [
    "visits.describe(include='all')"
   ]
  },
  {
   "cell_type": "markdown",
   "id": "confused-steel",
   "metadata": {},
   "source": [
    "## Conclusion<a class=\"anchor\" id=\"conclusion_1\"></a>"
   ]
  },
  {
   "cell_type": "markdown",
   "id": "driving-injury",
   "metadata": {},
   "source": [
    "We have opened the datasets for this project. They consist of one table with lists of hypotheses along with `reach`, `impact`, `confidence`, and `effort` scores, the table orders which has sales and revenue data and visits which consist of how many visits users from each observation group made at a particular day."
   ]
  },
  {
   "cell_type": "markdown",
   "id": "piano-treasure",
   "metadata": {},
   "source": [
    "## Step 2: Data Processing<a class=\"anchor\" id=\"step_2\"></a>"
   ]
  },
  {
   "cell_type": "markdown",
   "id": "regulated-color",
   "metadata": {},
   "source": [
    "**Processing `hypotheses` dataset**"
   ]
  },
  {
   "cell_type": "code",
   "execution_count": 11,
   "id": "selected-kitty",
   "metadata": {},
   "outputs": [],
   "source": [
    "# Changing column titles into lower case\n",
    "hypotheses.columns = [title.lower() for title in hypotheses.columns]"
   ]
  },
  {
   "cell_type": "markdown",
   "id": "first-mumbai",
   "metadata": {},
   "source": [
    "**Processing `orders` dataset**"
   ]
  },
  {
   "cell_type": "code",
   "execution_count": 12,
   "id": "similar-transcript",
   "metadata": {},
   "outputs": [
    {
     "data": {
      "text/html": [
       "<div>\n",
       "<style scoped>\n",
       "    .dataframe tbody tr th:only-of-type {\n",
       "        vertical-align: middle;\n",
       "    }\n",
       "\n",
       "    .dataframe tbody tr th {\n",
       "        vertical-align: top;\n",
       "    }\n",
       "\n",
       "    .dataframe thead th {\n",
       "        text-align: right;\n",
       "    }\n",
       "</style>\n",
       "<table border=\"1\" class=\"dataframe\">\n",
       "  <thead>\n",
       "    <tr style=\"text-align: right;\">\n",
       "      <th></th>\n",
       "      <th>transactionId</th>\n",
       "      <th>visitorId</th>\n",
       "      <th>date</th>\n",
       "      <th>revenue</th>\n",
       "      <th>group</th>\n",
       "    </tr>\n",
       "  </thead>\n",
       "  <tbody>\n",
       "    <tr>\n",
       "      <td>0</td>\n",
       "      <td>3667963787</td>\n",
       "      <td>3312258926</td>\n",
       "      <td>2019-08-15</td>\n",
       "      <td>30.4</td>\n",
       "      <td>B</td>\n",
       "    </tr>\n",
       "    <tr>\n",
       "      <td>1</td>\n",
       "      <td>2804400009</td>\n",
       "      <td>3642806036</td>\n",
       "      <td>2019-08-15</td>\n",
       "      <td>15.2</td>\n",
       "      <td>B</td>\n",
       "    </tr>\n",
       "    <tr>\n",
       "      <td>2</td>\n",
       "      <td>2961555356</td>\n",
       "      <td>4069496402</td>\n",
       "      <td>2019-08-15</td>\n",
       "      <td>10.2</td>\n",
       "      <td>A</td>\n",
       "    </tr>\n",
       "    <tr>\n",
       "      <td>3</td>\n",
       "      <td>3797467345</td>\n",
       "      <td>1196621759</td>\n",
       "      <td>2019-08-15</td>\n",
       "      <td>155.1</td>\n",
       "      <td>B</td>\n",
       "    </tr>\n",
       "    <tr>\n",
       "      <td>4</td>\n",
       "      <td>2282983706</td>\n",
       "      <td>2322279887</td>\n",
       "      <td>2019-08-15</td>\n",
       "      <td>40.5</td>\n",
       "      <td>B</td>\n",
       "    </tr>\n",
       "  </tbody>\n",
       "</table>\n",
       "</div>"
      ],
      "text/plain": [
       "   transactionId   visitorId        date  revenue group\n",
       "0     3667963787  3312258926  2019-08-15     30.4     B\n",
       "1     2804400009  3642806036  2019-08-15     15.2     B\n",
       "2     2961555356  4069496402  2019-08-15     10.2     A\n",
       "3     3797467345  1196621759  2019-08-15    155.1     B\n",
       "4     2282983706  2322279887  2019-08-15     40.5     B"
      ]
     },
     "execution_count": 12,
     "metadata": {},
     "output_type": "execute_result"
    }
   ],
   "source": [
    "orders.head()"
   ]
  },
  {
   "cell_type": "code",
   "execution_count": 13,
   "id": "brief-institute",
   "metadata": {},
   "outputs": [
    {
     "name": "stdout",
     "output_type": "stream",
     "text": [
      "<class 'pandas.core.frame.DataFrame'>\n",
      "RangeIndex: 1197 entries, 0 to 1196\n",
      "Data columns (total 5 columns):\n",
      "transactionId    1197 non-null int64\n",
      "visitorId        1197 non-null int64\n",
      "date             1197 non-null object\n",
      "revenue          1197 non-null float64\n",
      "group            1197 non-null object\n",
      "dtypes: float64(1), int64(2), object(2)\n",
      "memory usage: 183.6 KB\n"
     ]
    }
   ],
   "source": [
    "# Checking the statistical summary\n",
    "orders.info(memory_usage='deep')"
   ]
  },
  {
   "cell_type": "code",
   "execution_count": 14,
   "id": "expanded-welsh",
   "metadata": {},
   "outputs": [
    {
     "data": {
      "text/html": [
       "<div>\n",
       "<style scoped>\n",
       "    .dataframe tbody tr th:only-of-type {\n",
       "        vertical-align: middle;\n",
       "    }\n",
       "\n",
       "    .dataframe tbody tr th {\n",
       "        vertical-align: top;\n",
       "    }\n",
       "\n",
       "    .dataframe thead th {\n",
       "        text-align: right;\n",
       "    }\n",
       "</style>\n",
       "<table border=\"1\" class=\"dataframe\">\n",
       "  <thead>\n",
       "    <tr style=\"text-align: right;\">\n",
       "      <th></th>\n",
       "      <th>transactionId</th>\n",
       "      <th>visitorId</th>\n",
       "      <th>date</th>\n",
       "      <th>revenue</th>\n",
       "      <th>group</th>\n",
       "    </tr>\n",
       "  </thead>\n",
       "  <tbody>\n",
       "    <tr>\n",
       "      <td>0</td>\n",
       "      <td>3667963787</td>\n",
       "      <td>3312258926</td>\n",
       "      <td>2019-08-15</td>\n",
       "      <td>30.4</td>\n",
       "      <td>B</td>\n",
       "    </tr>\n",
       "    <tr>\n",
       "      <td>1</td>\n",
       "      <td>2804400009</td>\n",
       "      <td>3642806036</td>\n",
       "      <td>2019-08-15</td>\n",
       "      <td>15.2</td>\n",
       "      <td>B</td>\n",
       "    </tr>\n",
       "    <tr>\n",
       "      <td>2</td>\n",
       "      <td>2961555356</td>\n",
       "      <td>4069496402</td>\n",
       "      <td>2019-08-15</td>\n",
       "      <td>10.2</td>\n",
       "      <td>A</td>\n",
       "    </tr>\n",
       "    <tr>\n",
       "      <td>3</td>\n",
       "      <td>3797467345</td>\n",
       "      <td>1196621759</td>\n",
       "      <td>2019-08-15</td>\n",
       "      <td>155.1</td>\n",
       "      <td>B</td>\n",
       "    </tr>\n",
       "    <tr>\n",
       "      <td>4</td>\n",
       "      <td>2282983706</td>\n",
       "      <td>2322279887</td>\n",
       "      <td>2019-08-15</td>\n",
       "      <td>40.5</td>\n",
       "      <td>B</td>\n",
       "    </tr>\n",
       "  </tbody>\n",
       "</table>\n",
       "</div>"
      ],
      "text/plain": [
       "   transactionId   visitorId       date  revenue group\n",
       "0     3667963787  3312258926 2019-08-15     30.4     B\n",
       "1     2804400009  3642806036 2019-08-15     15.2     B\n",
       "2     2961555356  4069496402 2019-08-15     10.2     A\n",
       "3     3797467345  1196621759 2019-08-15    155.1     B\n",
       "4     2282983706  2322279887 2019-08-15     40.5     B"
      ]
     },
     "execution_count": 14,
     "metadata": {},
     "output_type": "execute_result"
    }
   ],
   "source": [
    "# Converting datetime object data type\n",
    "orders['date'] = orders['date'].map(lambda x: dt.datetime.strptime(x, '%Y-%m-%d'))\n",
    "\n",
    "orders.head()"
   ]
  },
  {
   "cell_type": "code",
   "execution_count": 15,
   "id": "considered-facial",
   "metadata": {},
   "outputs": [
    {
     "name": "stdout",
     "output_type": "stream",
     "text": [
      "<class 'pandas.core.frame.DataFrame'>\n",
      "RangeIndex: 1197 entries, 0 to 1196\n",
      "Data columns (total 5 columns):\n",
      "transactionId    1197 non-null int64\n",
      "visitorId        1197 non-null int64\n",
      "date             1197 non-null datetime64[ns]\n",
      "revenue          1197 non-null float64\n",
      "group            1197 non-null object\n",
      "dtypes: datetime64[ns](1), float64(1), int64(2), object(1)\n",
      "memory usage: 114.7 KB\n"
     ]
    }
   ],
   "source": [
    "orders.info(memory_usage='deep')"
   ]
  },
  {
   "cell_type": "code",
   "execution_count": 16,
   "id": "pressing-glucose",
   "metadata": {},
   "outputs": [
    {
     "data": {
      "text/html": [
       "<div>\n",
       "<style scoped>\n",
       "    .dataframe tbody tr th:only-of-type {\n",
       "        vertical-align: middle;\n",
       "    }\n",
       "\n",
       "    .dataframe tbody tr th {\n",
       "        vertical-align: top;\n",
       "    }\n",
       "\n",
       "    .dataframe thead th {\n",
       "        text-align: right;\n",
       "    }\n",
       "</style>\n",
       "<table border=\"1\" class=\"dataframe\">\n",
       "  <thead>\n",
       "    <tr style=\"text-align: right;\">\n",
       "      <th></th>\n",
       "      <th>transactionId</th>\n",
       "      <th>visitorId</th>\n",
       "      <th>date</th>\n",
       "      <th>revenue</th>\n",
       "      <th>group</th>\n",
       "    </tr>\n",
       "  </thead>\n",
       "  <tbody>\n",
       "    <tr>\n",
       "      <td>count</td>\n",
       "      <td>1.197000e+03</td>\n",
       "      <td>1.197000e+03</td>\n",
       "      <td>1197</td>\n",
       "      <td>1197.000000</td>\n",
       "      <td>1197</td>\n",
       "    </tr>\n",
       "    <tr>\n",
       "      <td>unique</td>\n",
       "      <td>NaN</td>\n",
       "      <td>NaN</td>\n",
       "      <td>31</td>\n",
       "      <td>NaN</td>\n",
       "      <td>2</td>\n",
       "    </tr>\n",
       "    <tr>\n",
       "      <td>top</td>\n",
       "      <td>NaN</td>\n",
       "      <td>NaN</td>\n",
       "      <td>2019-08-05 00:00:00</td>\n",
       "      <td>NaN</td>\n",
       "      <td>B</td>\n",
       "    </tr>\n",
       "    <tr>\n",
       "      <td>freq</td>\n",
       "      <td>NaN</td>\n",
       "      <td>NaN</td>\n",
       "      <td>48</td>\n",
       "      <td>NaN</td>\n",
       "      <td>640</td>\n",
       "    </tr>\n",
       "    <tr>\n",
       "      <td>first</td>\n",
       "      <td>NaN</td>\n",
       "      <td>NaN</td>\n",
       "      <td>2019-08-01 00:00:00</td>\n",
       "      <td>NaN</td>\n",
       "      <td>NaN</td>\n",
       "    </tr>\n",
       "    <tr>\n",
       "      <td>last</td>\n",
       "      <td>NaN</td>\n",
       "      <td>NaN</td>\n",
       "      <td>2019-08-31 00:00:00</td>\n",
       "      <td>NaN</td>\n",
       "      <td>NaN</td>\n",
       "    </tr>\n",
       "    <tr>\n",
       "      <td>mean</td>\n",
       "      <td>2.155621e+09</td>\n",
       "      <td>2.165960e+09</td>\n",
       "      <td>NaN</td>\n",
       "      <td>131.491646</td>\n",
       "      <td>NaN</td>\n",
       "    </tr>\n",
       "    <tr>\n",
       "      <td>std</td>\n",
       "      <td>1.229085e+09</td>\n",
       "      <td>1.236014e+09</td>\n",
       "      <td>NaN</td>\n",
       "      <td>603.004729</td>\n",
       "      <td>NaN</td>\n",
       "    </tr>\n",
       "    <tr>\n",
       "      <td>min</td>\n",
       "      <td>1.062393e+06</td>\n",
       "      <td>5.114589e+06</td>\n",
       "      <td>NaN</td>\n",
       "      <td>5.000000</td>\n",
       "      <td>NaN</td>\n",
       "    </tr>\n",
       "    <tr>\n",
       "      <td>25%</td>\n",
       "      <td>1.166776e+09</td>\n",
       "      <td>1.111826e+09</td>\n",
       "      <td>NaN</td>\n",
       "      <td>20.800000</td>\n",
       "      <td>NaN</td>\n",
       "    </tr>\n",
       "    <tr>\n",
       "      <td>50%</td>\n",
       "      <td>2.145194e+09</td>\n",
       "      <td>2.217985e+09</td>\n",
       "      <td>NaN</td>\n",
       "      <td>50.200000</td>\n",
       "      <td>NaN</td>\n",
       "    </tr>\n",
       "    <tr>\n",
       "      <td>75%</td>\n",
       "      <td>3.237740e+09</td>\n",
       "      <td>3.177606e+09</td>\n",
       "      <td>NaN</td>\n",
       "      <td>130.400000</td>\n",
       "      <td>NaN</td>\n",
       "    </tr>\n",
       "    <tr>\n",
       "      <td>max</td>\n",
       "      <td>4.293856e+09</td>\n",
       "      <td>4.283872e+09</td>\n",
       "      <td>NaN</td>\n",
       "      <td>19920.400000</td>\n",
       "      <td>NaN</td>\n",
       "    </tr>\n",
       "  </tbody>\n",
       "</table>\n",
       "</div>"
      ],
      "text/plain": [
       "        transactionId     visitorId                 date       revenue group\n",
       "count    1.197000e+03  1.197000e+03                 1197   1197.000000  1197\n",
       "unique            NaN           NaN                   31           NaN     2\n",
       "top               NaN           NaN  2019-08-05 00:00:00           NaN     B\n",
       "freq              NaN           NaN                   48           NaN   640\n",
       "first             NaN           NaN  2019-08-01 00:00:00           NaN   NaN\n",
       "last              NaN           NaN  2019-08-31 00:00:00           NaN   NaN\n",
       "mean     2.155621e+09  2.165960e+09                  NaN    131.491646   NaN\n",
       "std      1.229085e+09  1.236014e+09                  NaN    603.004729   NaN\n",
       "min      1.062393e+06  5.114589e+06                  NaN      5.000000   NaN\n",
       "25%      1.166776e+09  1.111826e+09                  NaN     20.800000   NaN\n",
       "50%      2.145194e+09  2.217985e+09                  NaN     50.200000   NaN\n",
       "75%      3.237740e+09  3.177606e+09                  NaN    130.400000   NaN\n",
       "max      4.293856e+09  4.283872e+09                  NaN  19920.400000   NaN"
      ]
     },
     "execution_count": 16,
     "metadata": {},
     "output_type": "execute_result"
    }
   ],
   "source": [
    "orders.describe(include='all')"
   ]
  },
  {
   "cell_type": "markdown",
   "id": "regulation-auckland",
   "metadata": {},
   "source": [
    "The `orders` data set consist of 1197 rows and having four columns, `transactionId`, `visitorId`, `date`, `revenue`, `group`. The data spans for the entire month of August 2019. It is interesting to see the statistical summary of the `revenue` column. The data has a wide span, from 5 to 19920. The median (50.2) is also on the left side of the mean (131.49). These are indications of right-skewed distribution, which can also visually seen on the histogram below."
   ]
  },
  {
   "cell_type": "code",
   "execution_count": 17,
   "id": "living-withdrawal",
   "metadata": {},
   "outputs": [
    {
     "data": {
      "image/png": "[encoded data removed]",
      "text/plain": [
       "<Figure size 720x432 with 1 Axes>"
      ]
     },
     "metadata": {
      "needs_background": "light"
     },
     "output_type": "display_data"
    }
   ],
   "source": [
    "plt.figure(figsize=(10,6))\n",
    "orders['revenue'].hist(bins=100)\n",
    "plt.title('Histogram of `revenues` Column',\n",
    "          loc='left', fontsize=18, fontname='arial', fontweight='bold')\n",
    "plt.ylabel('Frequency')\n",
    "plt.xlabel('Revenue')\n",
    "plt.show()"
   ]
  },
  {
   "cell_type": "code",
   "execution_count": 18,
   "id": "tracked-sweden",
   "metadata": {},
   "outputs": [
    {
     "name": "stdout",
     "output_type": "stream",
     "text": [
      "The number of missing values are:\n",
      "transactionId    0.0\n",
      "visitorId        0.0\n",
      "date             0.0\n",
      "revenue          0.0\n",
      "group            0.0\n",
      "dtype: float64\n",
      "\n",
      "The number of duplicates are:\n",
      "transactionId    0.0\n",
      "visitorId        0.0\n",
      "date             0.0\n",
      "revenue          0.0\n",
      "group            0.0\n",
      "dtype: float64\n"
     ]
    }
   ],
   "source": [
    "print('The number of missing values are:\\n{}'.format(orders[orders.isna()].sum()))\n",
    "print()\n",
    "print('The number of duplicates are:\\n{}'.format(orders[orders.duplicated()].sum()))"
   ]
  },
  {
   "cell_type": "markdown",
   "id": "primary-taste",
   "metadata": {},
   "source": [
    "**Processing `visits` dataset**"
   ]
  },
  {
   "cell_type": "code",
   "execution_count": 19,
   "id": "historical-plastic",
   "metadata": {},
   "outputs": [
    {
     "name": "stdout",
     "output_type": "stream",
     "text": [
      "<class 'pandas.core.frame.DataFrame'>\n",
      "RangeIndex: 62 entries, 0 to 61\n",
      "Data columns (total 3 columns):\n",
      "date      62 non-null object\n",
      "group     62 non-null object\n",
      "visits    62 non-null int64\n",
      "dtypes: int64(1), object(2)\n",
      "memory usage: 8.7 KB\n"
     ]
    }
   ],
   "source": [
    "visits.info(memory_usage='deep')"
   ]
  },
  {
   "cell_type": "code",
   "execution_count": 20,
   "id": "micro-coordinate",
   "metadata": {},
   "outputs": [
    {
     "data": {
      "text/html": [
       "<div>\n",
       "<style scoped>\n",
       "    .dataframe tbody tr th:only-of-type {\n",
       "        vertical-align: middle;\n",
       "    }\n",
       "\n",
       "    .dataframe tbody tr th {\n",
       "        vertical-align: top;\n",
       "    }\n",
       "\n",
       "    .dataframe thead th {\n",
       "        text-align: right;\n",
       "    }\n",
       "</style>\n",
       "<table border=\"1\" class=\"dataframe\">\n",
       "  <thead>\n",
       "    <tr style=\"text-align: right;\">\n",
       "      <th></th>\n",
       "      <th>date</th>\n",
       "      <th>group</th>\n",
       "      <th>visits</th>\n",
       "    </tr>\n",
       "  </thead>\n",
       "  <tbody>\n",
       "    <tr>\n",
       "      <td>0</td>\n",
       "      <td>2019-08-01</td>\n",
       "      <td>A</td>\n",
       "      <td>719</td>\n",
       "    </tr>\n",
       "    <tr>\n",
       "      <td>1</td>\n",
       "      <td>2019-08-02</td>\n",
       "      <td>A</td>\n",
       "      <td>619</td>\n",
       "    </tr>\n",
       "    <tr>\n",
       "      <td>2</td>\n",
       "      <td>2019-08-03</td>\n",
       "      <td>A</td>\n",
       "      <td>507</td>\n",
       "    </tr>\n",
       "    <tr>\n",
       "      <td>3</td>\n",
       "      <td>2019-08-04</td>\n",
       "      <td>A</td>\n",
       "      <td>717</td>\n",
       "    </tr>\n",
       "    <tr>\n",
       "      <td>4</td>\n",
       "      <td>2019-08-05</td>\n",
       "      <td>A</td>\n",
       "      <td>756</td>\n",
       "    </tr>\n",
       "  </tbody>\n",
       "</table>\n",
       "</div>"
      ],
      "text/plain": [
       "        date group  visits\n",
       "0 2019-08-01     A     719\n",
       "1 2019-08-02     A     619\n",
       "2 2019-08-03     A     507\n",
       "3 2019-08-04     A     717\n",
       "4 2019-08-05     A     756"
      ]
     },
     "execution_count": 20,
     "metadata": {},
     "output_type": "execute_result"
    }
   ],
   "source": [
    "# Converting datetime object data type\n",
    "visits['date'] = visits['date'].map(lambda x: dt.datetime.strptime(x, '%Y-%m-%d'))\n",
    "\n",
    "# Converting `visits` columns into `int16` data type\n",
    "visits['visits'] = visits['visits'].astype('int16')\n",
    "visits.head()"
   ]
  },
  {
   "cell_type": "code",
   "execution_count": 21,
   "id": "desirable-penguin",
   "metadata": {},
   "outputs": [
    {
     "name": "stdout",
     "output_type": "stream",
     "text": [
      "<class 'pandas.core.frame.DataFrame'>\n",
      "RangeIndex: 62 entries, 0 to 61\n",
      "Data columns (total 3 columns):\n",
      "date      62 non-null datetime64[ns]\n",
      "group     62 non-null object\n",
      "visits    62 non-null int16\n",
      "dtypes: datetime64[ns](1), int16(1), object(1)\n",
      "memory usage: 4.7 KB\n"
     ]
    }
   ],
   "source": [
    "visits.info(memory_usage='deep')"
   ]
  },
  {
   "cell_type": "code",
   "execution_count": 22,
   "id": "falling-alarm",
   "metadata": {},
   "outputs": [
    {
     "data": {
      "text/html": [
       "<div>\n",
       "<style scoped>\n",
       "    .dataframe tbody tr th:only-of-type {\n",
       "        vertical-align: middle;\n",
       "    }\n",
       "\n",
       "    .dataframe tbody tr th {\n",
       "        vertical-align: top;\n",
       "    }\n",
       "\n",
       "    .dataframe thead th {\n",
       "        text-align: right;\n",
       "    }\n",
       "</style>\n",
       "<table border=\"1\" class=\"dataframe\">\n",
       "  <thead>\n",
       "    <tr style=\"text-align: right;\">\n",
       "      <th></th>\n",
       "      <th>date</th>\n",
       "      <th>group</th>\n",
       "      <th>visits</th>\n",
       "    </tr>\n",
       "  </thead>\n",
       "  <tbody>\n",
       "    <tr>\n",
       "      <td>count</td>\n",
       "      <td>62</td>\n",
       "      <td>62</td>\n",
       "      <td>62.000000</td>\n",
       "    </tr>\n",
       "    <tr>\n",
       "      <td>unique</td>\n",
       "      <td>31</td>\n",
       "      <td>2</td>\n",
       "      <td>NaN</td>\n",
       "    </tr>\n",
       "    <tr>\n",
       "      <td>top</td>\n",
       "      <td>2019-08-02 00:00:00</td>\n",
       "      <td>A</td>\n",
       "      <td>NaN</td>\n",
       "    </tr>\n",
       "    <tr>\n",
       "      <td>freq</td>\n",
       "      <td>2</td>\n",
       "      <td>31</td>\n",
       "      <td>NaN</td>\n",
       "    </tr>\n",
       "    <tr>\n",
       "      <td>first</td>\n",
       "      <td>2019-08-01 00:00:00</td>\n",
       "      <td>NaN</td>\n",
       "      <td>NaN</td>\n",
       "    </tr>\n",
       "    <tr>\n",
       "      <td>last</td>\n",
       "      <td>2019-08-31 00:00:00</td>\n",
       "      <td>NaN</td>\n",
       "      <td>NaN</td>\n",
       "    </tr>\n",
       "    <tr>\n",
       "      <td>mean</td>\n",
       "      <td>NaN</td>\n",
       "      <td>NaN</td>\n",
       "      <td>607.290323</td>\n",
       "    </tr>\n",
       "    <tr>\n",
       "      <td>std</td>\n",
       "      <td>NaN</td>\n",
       "      <td>NaN</td>\n",
       "      <td>114.400560</td>\n",
       "    </tr>\n",
       "    <tr>\n",
       "      <td>min</td>\n",
       "      <td>NaN</td>\n",
       "      <td>NaN</td>\n",
       "      <td>361.000000</td>\n",
       "    </tr>\n",
       "    <tr>\n",
       "      <td>25%</td>\n",
       "      <td>NaN</td>\n",
       "      <td>NaN</td>\n",
       "      <td>534.000000</td>\n",
       "    </tr>\n",
       "    <tr>\n",
       "      <td>50%</td>\n",
       "      <td>NaN</td>\n",
       "      <td>NaN</td>\n",
       "      <td>624.500000</td>\n",
       "    </tr>\n",
       "    <tr>\n",
       "      <td>75%</td>\n",
       "      <td>NaN</td>\n",
       "      <td>NaN</td>\n",
       "      <td>710.500000</td>\n",
       "    </tr>\n",
       "    <tr>\n",
       "      <td>max</td>\n",
       "      <td>NaN</td>\n",
       "      <td>NaN</td>\n",
       "      <td>770.000000</td>\n",
       "    </tr>\n",
       "  </tbody>\n",
       "</table>\n",
       "</div>"
      ],
      "text/plain": [
       "                       date group      visits\n",
       "count                    62    62   62.000000\n",
       "unique                   31     2         NaN\n",
       "top     2019-08-02 00:00:00     A         NaN\n",
       "freq                      2    31         NaN\n",
       "first   2019-08-01 00:00:00   NaN         NaN\n",
       "last    2019-08-31 00:00:00   NaN         NaN\n",
       "mean                    NaN   NaN  607.290323\n",
       "std                     NaN   NaN  114.400560\n",
       "min                     NaN   NaN  361.000000\n",
       "25%                     NaN   NaN  534.000000\n",
       "50%                     NaN   NaN  624.500000\n",
       "75%                     NaN   NaN  710.500000\n",
       "max                     NaN   NaN  770.000000"
      ]
     },
     "execution_count": 22,
     "metadata": {},
     "output_type": "execute_result"
    }
   ],
   "source": [
    "visits.describe(include='all')"
   ]
  },
  {
   "cell_type": "markdown",
   "id": "about-machine",
   "metadata": {},
   "source": [
    "The data has 62 rows with three columnns `date`, `group`, and `visits`. The test perfomed in a span of one month from 1-31 August 2019. The visits columns has a minimum value of 361 and maximum value 0f 770. The median (624) is realtively close to the mean (607). We can see the distribution from the histrogram below. "
   ]
  },
  {
   "cell_type": "code",
   "execution_count": 23,
   "id": "continued-intermediate",
   "metadata": {},
   "outputs": [
    {
     "data": {
      "image/png": "[encoded data removed]",
      "text/plain": [
       "<Figure size 720x432 with 1 Axes>"
      ]
     },
     "metadata": {
      "needs_background": "light"
     },
     "output_type": "display_data"
    }
   ],
   "source": [
    "plt.figure(figsize=(10,6))\n",
    "visits['visits'].hist()\n",
    "plt.title('Histogram of `visits` Column',\n",
    "          loc='left', fontsize=18, fontname='arial', fontweight='bold')\n",
    "plt.ylabel('Frequency')\n",
    "plt.xlabel('Visits')\n",
    "plt.show()"
   ]
  },
  {
   "cell_type": "code",
   "execution_count": 24,
   "id": "pleased-password",
   "metadata": {},
   "outputs": [
    {
     "name": "stdout",
     "output_type": "stream",
     "text": [
      "The number of missing values are:\n",
      "date      0.0\n",
      "group     0.0\n",
      "visits    0.0\n",
      "dtype: float64\n",
      "\n",
      "The number of duplicates are:\n",
      "date      0.0\n",
      "group     0.0\n",
      "visits    0.0\n",
      "dtype: float64\n"
     ]
    }
   ],
   "source": [
    "# Checking for missing values\n",
    "print('The number of missing values are:\\n{}'.format(visits[visits.isna()].sum()))\n",
    "print()\n",
    "print('The number of duplicates are:\\n{}'.format(visits[visits.duplicated()].sum()))"
   ]
  },
  {
   "cell_type": "markdown",
   "id": "concrete-volume",
   "metadata": {},
   "source": [
    "## Conclusion<a class=\"anchor\" id=\"conclusion_2\"></a>\n",
    "This section checked if there are missing values and duplicates in the `orders` and `visits` dataset. We converted the `date` columns data types into the format we needed for our analysis. We have also checked how samples in `revenues` and `visits` are right-skewed."
   ]
  },
  {
   "cell_type": "markdown",
   "id": "restricted-enlargement",
   "metadata": {},
   "source": [
    "## Step 3: Data Analysis<a class=\"anchor\" id=\"step_3\"></a>"
   ]
  },
  {
   "cell_type": "markdown",
   "id": "reasonable-toner",
   "metadata": {},
   "source": [
    "### Part 1. Prioritizing Hypotheses<a class=\"anchor\" id=\"step_3_1\"></a>"
   ]
  },
  {
   "cell_type": "markdown",
   "id": "massive-reason",
   "metadata": {},
   "source": [
    "We are given nine hypotheses that may help to boost revenue. Using the ICE and RICE methods we are going to determine which hypothesis that needs to be prioritized."
   ]
  },
  {
   "cell_type": "code",
   "execution_count": 25,
   "id": "joined-wildlife",
   "metadata": {},
   "outputs": [
    {
     "data": {
      "text/html": [
       "<div>\n",
       "<style scoped>\n",
       "    .dataframe tbody tr th:only-of-type {\n",
       "        vertical-align: middle;\n",
       "    }\n",
       "\n",
       "    .dataframe tbody tr th {\n",
       "        vertical-align: top;\n",
       "    }\n",
       "\n",
       "    .dataframe thead th {\n",
       "        text-align: right;\n",
       "    }\n",
       "</style>\n",
       "<table border=\"1\" class=\"dataframe\">\n",
       "  <thead>\n",
       "    <tr style=\"text-align: right;\">\n",
       "      <th></th>\n",
       "      <th>hypothesis</th>\n",
       "      <th>reach</th>\n",
       "      <th>impact</th>\n",
       "      <th>confidence</th>\n",
       "      <th>effort</th>\n",
       "    </tr>\n",
       "  </thead>\n",
       "  <tbody>\n",
       "    <tr>\n",
       "      <td>0</td>\n",
       "      <td>Add two new channels for attracting traffic. This will bring 30% more users</td>\n",
       "      <td>3</td>\n",
       "      <td>10</td>\n",
       "      <td>8</td>\n",
       "      <td>6</td>\n",
       "    </tr>\n",
       "    <tr>\n",
       "      <td>1</td>\n",
       "      <td>Launch your own delivery service. This will shorten delivery time</td>\n",
       "      <td>2</td>\n",
       "      <td>5</td>\n",
       "      <td>4</td>\n",
       "      <td>10</td>\n",
       "    </tr>\n",
       "    <tr>\n",
       "      <td>2</td>\n",
       "      <td>Add product recommendation blocks to the store's site. This will increase conversion and average purchase size</td>\n",
       "      <td>8</td>\n",
       "      <td>3</td>\n",
       "      <td>7</td>\n",
       "      <td>3</td>\n",
       "    </tr>\n",
       "    <tr>\n",
       "      <td>3</td>\n",
       "      <td>Change the category structure. This will increase conversion since users will find the products they want more quickly</td>\n",
       "      <td>8</td>\n",
       "      <td>3</td>\n",
       "      <td>3</td>\n",
       "      <td>8</td>\n",
       "    </tr>\n",
       "    <tr>\n",
       "      <td>4</td>\n",
       "      <td>Change the background color on the main page. This will increase user engagement</td>\n",
       "      <td>3</td>\n",
       "      <td>1</td>\n",
       "      <td>1</td>\n",
       "      <td>1</td>\n",
       "    </tr>\n",
       "  </tbody>\n",
       "</table>\n",
       "</div>"
      ],
      "text/plain": [
       "                                                                                                               hypothesis  \\\n",
       "0                                             Add two new channels for attracting traffic. This will bring 30% more users   \n",
       "1                                                       Launch your own delivery service. This will shorten delivery time   \n",
       "2          Add product recommendation blocks to the store's site. This will increase conversion and average purchase size   \n",
       "3  Change the category structure. This will increase conversion since users will find the products they want more quickly   \n",
       "4                                        Change the background color on the main page. This will increase user engagement   \n",
       "\n",
       "   reach  impact  confidence  effort  \n",
       "0      3      10           8       6  \n",
       "1      2       5           4      10  \n",
       "2      8       3           7       3  \n",
       "3      8       3           3       8  \n",
       "4      3       1           1       1  "
      ]
     },
     "execution_count": 25,
     "metadata": {},
     "output_type": "execute_result"
    }
   ],
   "source": [
    "hypotheses.head()"
   ]
  },
  {
   "cell_type": "code",
   "execution_count": 77,
   "id": "smoking-address",
   "metadata": {},
   "outputs": [
    {
     "data": {
      "text/html": [
       "<div>\n",
       "<style scoped>\n",
       "    .dataframe tbody tr th:only-of-type {\n",
       "        vertical-align: middle;\n",
       "    }\n",
       "\n",
       "    .dataframe tbody tr th {\n",
       "        vertical-align: top;\n",
       "    }\n",
       "\n",
       "    .dataframe thead th {\n",
       "        text-align: right;\n",
       "    }\n",
       "</style>\n",
       "<table border=\"1\" class=\"dataframe\">\n",
       "  <thead>\n",
       "    <tr style=\"text-align: right;\">\n",
       "      <th></th>\n",
       "      <th>level_0</th>\n",
       "      <th>index</th>\n",
       "      <th>hypothesis</th>\n",
       "      <th>reach</th>\n",
       "      <th>impact</th>\n",
       "      <th>confidence</th>\n",
       "      <th>effort</th>\n",
       "      <th>ICE</th>\n",
       "      <th>RICE</th>\n",
       "      <th>ice_rank</th>\n",
       "      <th>rice_rank</th>\n",
       "    </tr>\n",
       "  </thead>\n",
       "  <tbody>\n",
       "    <tr>\n",
       "      <td>8</td>\n",
       "      <td>8</td>\n",
       "      <td>8</td>\n",
       "      <td>Launch a promotion that gives users discounts on their birthdays</td>\n",
       "      <td>1</td>\n",
       "      <td>9</td>\n",
       "      <td>9</td>\n",
       "      <td>5</td>\n",
       "      <td>16.200000</td>\n",
       "      <td>16.2</td>\n",
       "      <td>0</td>\n",
       "      <td>4</td>\n",
       "    </tr>\n",
       "    <tr>\n",
       "      <td>0</td>\n",
       "      <td>0</td>\n",
       "      <td>0</td>\n",
       "      <td>Add two new channels for attracting traffic. This will bring 30% more users</td>\n",
       "      <td>3</td>\n",
       "      <td>10</td>\n",
       "      <td>8</td>\n",
       "      <td>6</td>\n",
       "      <td>13.333333</td>\n",
       "      <td>40.0</td>\n",
       "      <td>1</td>\n",
       "      <td>3</td>\n",
       "    </tr>\n",
       "    <tr>\n",
       "      <td>7</td>\n",
       "      <td>7</td>\n",
       "      <td>7</td>\n",
       "      <td>Add a subscription form to all the main pages. This will help you compile a mailing list</td>\n",
       "      <td>10</td>\n",
       "      <td>7</td>\n",
       "      <td>8</td>\n",
       "      <td>5</td>\n",
       "      <td>11.200000</td>\n",
       "      <td>112.0</td>\n",
       "      <td>2</td>\n",
       "      <td>0</td>\n",
       "    </tr>\n",
       "    <tr>\n",
       "      <td>6</td>\n",
       "      <td>6</td>\n",
       "      <td>6</td>\n",
       "      <td>Show banners with current offers and sales on the main page. This will boost conversion</td>\n",
       "      <td>5</td>\n",
       "      <td>3</td>\n",
       "      <td>8</td>\n",
       "      <td>3</td>\n",
       "      <td>8.000000</td>\n",
       "      <td>40.0</td>\n",
       "      <td>3</td>\n",
       "      <td>2</td>\n",
       "    </tr>\n",
       "    <tr>\n",
       "      <td>2</td>\n",
       "      <td>2</td>\n",
       "      <td>2</td>\n",
       "      <td>Add product recommendation blocks to the store's site. This will increase conversion and average purchase size</td>\n",
       "      <td>8</td>\n",
       "      <td>3</td>\n",
       "      <td>7</td>\n",
       "      <td>3</td>\n",
       "      <td>7.000000</td>\n",
       "      <td>56.0</td>\n",
       "      <td>4</td>\n",
       "      <td>1</td>\n",
       "    </tr>\n",
       "    <tr>\n",
       "      <td>1</td>\n",
       "      <td>1</td>\n",
       "      <td>1</td>\n",
       "      <td>Launch your own delivery service. This will shorten delivery time</td>\n",
       "      <td>2</td>\n",
       "      <td>5</td>\n",
       "      <td>4</td>\n",
       "      <td>10</td>\n",
       "      <td>2.000000</td>\n",
       "      <td>4.0</td>\n",
       "      <td>5</td>\n",
       "      <td>7</td>\n",
       "    </tr>\n",
       "    <tr>\n",
       "      <td>5</td>\n",
       "      <td>5</td>\n",
       "      <td>5</td>\n",
       "      <td>Add a customer review page. This will increase the number of orders</td>\n",
       "      <td>3</td>\n",
       "      <td>2</td>\n",
       "      <td>2</td>\n",
       "      <td>3</td>\n",
       "      <td>1.333333</td>\n",
       "      <td>4.0</td>\n",
       "      <td>6</td>\n",
       "      <td>6</td>\n",
       "    </tr>\n",
       "    <tr>\n",
       "      <td>3</td>\n",
       "      <td>3</td>\n",
       "      <td>3</td>\n",
       "      <td>Change the category structure. This will increase conversion since users will find the products they want more quickly</td>\n",
       "      <td>8</td>\n",
       "      <td>3</td>\n",
       "      <td>3</td>\n",
       "      <td>8</td>\n",
       "      <td>1.125000</td>\n",
       "      <td>9.0</td>\n",
       "      <td>7</td>\n",
       "      <td>5</td>\n",
       "    </tr>\n",
       "    <tr>\n",
       "      <td>4</td>\n",
       "      <td>4</td>\n",
       "      <td>4</td>\n",
       "      <td>Change the background color on the main page. This will increase user engagement</td>\n",
       "      <td>3</td>\n",
       "      <td>1</td>\n",
       "      <td>1</td>\n",
       "      <td>1</td>\n",
       "      <td>1.000000</td>\n",
       "      <td>3.0</td>\n",
       "      <td>8</td>\n",
       "      <td>8</td>\n",
       "    </tr>\n",
       "  </tbody>\n",
       "</table>\n",
       "</div>"
      ],
      "text/plain": [
       "   level_0  index  \\\n",
       "8        8      8   \n",
       "0        0      0   \n",
       "7        7      7   \n",
       "6        6      6   \n",
       "2        2      2   \n",
       "1        1      1   \n",
       "5        5      5   \n",
       "3        3      3   \n",
       "4        4      4   \n",
       "\n",
       "                                                                                                               hypothesis  \\\n",
       "8                                                        Launch a promotion that gives users discounts on their birthdays   \n",
       "0                                             Add two new channels for attracting traffic. This will bring 30% more users   \n",
       "7                                Add a subscription form to all the main pages. This will help you compile a mailing list   \n",
       "6                                 Show banners with current offers and sales on the main page. This will boost conversion   \n",
       "2          Add product recommendation blocks to the store's site. This will increase conversion and average purchase size   \n",
       "1                                                       Launch your own delivery service. This will shorten delivery time   \n",
       "5                                                     Add a customer review page. This will increase the number of orders   \n",
       "3  Change the category structure. This will increase conversion since users will find the products they want more quickly   \n",
       "4                                        Change the background color on the main page. This will increase user engagement   \n",
       "\n",
       "   reach  impact  confidence  effort        ICE   RICE  ice_rank  rice_rank  \n",
       "8      1       9           9       5  16.200000   16.2         0          4  \n",
       "0      3      10           8       6  13.333333   40.0         1          3  \n",
       "7     10       7           8       5  11.200000  112.0         2          0  \n",
       "6      5       3           8       3   8.000000   40.0         3          2  \n",
       "2      8       3           7       3   7.000000   56.0         4          1  \n",
       "1      2       5           4      10   2.000000    4.0         5          7  \n",
       "5      3       2           2       3   1.333333    4.0         6          6  \n",
       "3      8       3           3       8   1.125000    9.0         7          5  \n",
       "4      3       1           1       1   1.000000    3.0         8          8  "
      ]
     },
     "execution_count": 77,
     "metadata": {},
     "output_type": "execute_result"
    }
   ],
   "source": [
    "# Calculating the ICE scores and sorting the values\n",
    "hypotheses['ICE'] = (hypotheses['impact'] * hypotheses['confidence'])/hypotheses['effort']\n",
    "\n",
    "hypotheses.sort_values(by='ICE', ascending=False)"
   ]
  },
  {
   "cell_type": "code",
   "execution_count": 78,
   "id": "incorrect-proceeding",
   "metadata": {},
   "outputs": [
    {
     "data": {
      "text/html": [
       "<div>\n",
       "<style scoped>\n",
       "    .dataframe tbody tr th:only-of-type {\n",
       "        vertical-align: middle;\n",
       "    }\n",
       "\n",
       "    .dataframe tbody tr th {\n",
       "        vertical-align: top;\n",
       "    }\n",
       "\n",
       "    .dataframe thead th {\n",
       "        text-align: right;\n",
       "    }\n",
       "</style>\n",
       "<table border=\"1\" class=\"dataframe\">\n",
       "  <thead>\n",
       "    <tr style=\"text-align: right;\">\n",
       "      <th></th>\n",
       "      <th>level_0</th>\n",
       "      <th>index</th>\n",
       "      <th>hypothesis</th>\n",
       "      <th>reach</th>\n",
       "      <th>impact</th>\n",
       "      <th>confidence</th>\n",
       "      <th>effort</th>\n",
       "      <th>ICE</th>\n",
       "      <th>RICE</th>\n",
       "      <th>ice_rank</th>\n",
       "      <th>rice_rank</th>\n",
       "    </tr>\n",
       "  </thead>\n",
       "  <tbody>\n",
       "    <tr>\n",
       "      <td>7</td>\n",
       "      <td>7</td>\n",
       "      <td>7</td>\n",
       "      <td>Add a subscription form to all the main pages. This will help you compile a mailing list</td>\n",
       "      <td>10</td>\n",
       "      <td>7</td>\n",
       "      <td>8</td>\n",
       "      <td>5</td>\n",
       "      <td>11.200000</td>\n",
       "      <td>112.0</td>\n",
       "      <td>2</td>\n",
       "      <td>0</td>\n",
       "    </tr>\n",
       "    <tr>\n",
       "      <td>2</td>\n",
       "      <td>2</td>\n",
       "      <td>2</td>\n",
       "      <td>Add product recommendation blocks to the store's site. This will increase conversion and average purchase size</td>\n",
       "      <td>8</td>\n",
       "      <td>3</td>\n",
       "      <td>7</td>\n",
       "      <td>3</td>\n",
       "      <td>7.000000</td>\n",
       "      <td>56.0</td>\n",
       "      <td>4</td>\n",
       "      <td>1</td>\n",
       "    </tr>\n",
       "    <tr>\n",
       "      <td>0</td>\n",
       "      <td>0</td>\n",
       "      <td>0</td>\n",
       "      <td>Add two new channels for attracting traffic. This will bring 30% more users</td>\n",
       "      <td>3</td>\n",
       "      <td>10</td>\n",
       "      <td>8</td>\n",
       "      <td>6</td>\n",
       "      <td>13.333333</td>\n",
       "      <td>40.0</td>\n",
       "      <td>1</td>\n",
       "      <td>3</td>\n",
       "    </tr>\n",
       "    <tr>\n",
       "      <td>6</td>\n",
       "      <td>6</td>\n",
       "      <td>6</td>\n",
       "      <td>Show banners with current offers and sales on the main page. This will boost conversion</td>\n",
       "      <td>5</td>\n",
       "      <td>3</td>\n",
       "      <td>8</td>\n",
       "      <td>3</td>\n",
       "      <td>8.000000</td>\n",
       "      <td>40.0</td>\n",
       "      <td>3</td>\n",
       "      <td>2</td>\n",
       "    </tr>\n",
       "    <tr>\n",
       "      <td>8</td>\n",
       "      <td>8</td>\n",
       "      <td>8</td>\n",
       "      <td>Launch a promotion that gives users discounts on their birthdays</td>\n",
       "      <td>1</td>\n",
       "      <td>9</td>\n",
       "      <td>9</td>\n",
       "      <td>5</td>\n",
       "      <td>16.200000</td>\n",
       "      <td>16.2</td>\n",
       "      <td>0</td>\n",
       "      <td>4</td>\n",
       "    </tr>\n",
       "    <tr>\n",
       "      <td>3</td>\n",
       "      <td>3</td>\n",
       "      <td>3</td>\n",
       "      <td>Change the category structure. This will increase conversion since users will find the products they want more quickly</td>\n",
       "      <td>8</td>\n",
       "      <td>3</td>\n",
       "      <td>3</td>\n",
       "      <td>8</td>\n",
       "      <td>1.125000</td>\n",
       "      <td>9.0</td>\n",
       "      <td>7</td>\n",
       "      <td>5</td>\n",
       "    </tr>\n",
       "    <tr>\n",
       "      <td>1</td>\n",
       "      <td>1</td>\n",
       "      <td>1</td>\n",
       "      <td>Launch your own delivery service. This will shorten delivery time</td>\n",
       "      <td>2</td>\n",
       "      <td>5</td>\n",
       "      <td>4</td>\n",
       "      <td>10</td>\n",
       "      <td>2.000000</td>\n",
       "      <td>4.0</td>\n",
       "      <td>5</td>\n",
       "      <td>7</td>\n",
       "    </tr>\n",
       "    <tr>\n",
       "      <td>5</td>\n",
       "      <td>5</td>\n",
       "      <td>5</td>\n",
       "      <td>Add a customer review page. This will increase the number of orders</td>\n",
       "      <td>3</td>\n",
       "      <td>2</td>\n",
       "      <td>2</td>\n",
       "      <td>3</td>\n",
       "      <td>1.333333</td>\n",
       "      <td>4.0</td>\n",
       "      <td>6</td>\n",
       "      <td>6</td>\n",
       "    </tr>\n",
       "    <tr>\n",
       "      <td>4</td>\n",
       "      <td>4</td>\n",
       "      <td>4</td>\n",
       "      <td>Change the background color on the main page. This will increase user engagement</td>\n",
       "      <td>3</td>\n",
       "      <td>1</td>\n",
       "      <td>1</td>\n",
       "      <td>1</td>\n",
       "      <td>1.000000</td>\n",
       "      <td>3.0</td>\n",
       "      <td>8</td>\n",
       "      <td>8</td>\n",
       "    </tr>\n",
       "  </tbody>\n",
       "</table>\n",
       "</div>"
      ],
      "text/plain": [
       "   level_0  index  \\\n",
       "7        7      7   \n",
       "2        2      2   \n",
       "0        0      0   \n",
       "6        6      6   \n",
       "8        8      8   \n",
       "3        3      3   \n",
       "1        1      1   \n",
       "5        5      5   \n",
       "4        4      4   \n",
       "\n",
       "                                                                                                               hypothesis  \\\n",
       "7                                Add a subscription form to all the main pages. This will help you compile a mailing list   \n",
       "2          Add product recommendation blocks to the store's site. This will increase conversion and average purchase size   \n",
       "0                                             Add two new channels for attracting traffic. This will bring 30% more users   \n",
       "6                                 Show banners with current offers and sales on the main page. This will boost conversion   \n",
       "8                                                        Launch a promotion that gives users discounts on their birthdays   \n",
       "3  Change the category structure. This will increase conversion since users will find the products they want more quickly   \n",
       "1                                                       Launch your own delivery service. This will shorten delivery time   \n",
       "5                                                     Add a customer review page. This will increase the number of orders   \n",
       "4                                        Change the background color on the main page. This will increase user engagement   \n",
       "\n",
       "   reach  impact  confidence  effort        ICE   RICE  ice_rank  rice_rank  \n",
       "7     10       7           8       5  11.200000  112.0         2          0  \n",
       "2      8       3           7       3   7.000000   56.0         4          1  \n",
       "0      3      10           8       6  13.333333   40.0         1          3  \n",
       "6      5       3           8       3   8.000000   40.0         3          2  \n",
       "8      1       9           9       5  16.200000   16.2         0          4  \n",
       "3      8       3           3       8   1.125000    9.0         7          5  \n",
       "1      2       5           4      10   2.000000    4.0         5          7  \n",
       "5      3       2           2       3   1.333333    4.0         6          6  \n",
       "4      3       1           1       1   1.000000    3.0         8          8  "
      ]
     },
     "execution_count": 78,
     "metadata": {},
     "output_type": "execute_result"
    }
   ],
   "source": [
    "# Calculating the RICE score and sorting the values\n",
    "hypotheses['RICE'] = (hypotheses['reach'] * hypotheses['impact'] * hypotheses['confidence'])/hypotheses['effort']\n",
    "\n",
    "hypotheses.sort_values(by='RICE', ascending=False)"
   ]
  },
  {
   "cell_type": "markdown",
   "id": "collect-observation",
   "metadata": {},
   "source": [
    "_'Launching promotion ...'_ gets the first place using the ICE measurement since we consider this strategy will have an immediate impact on customers; anyone will be pleased to get a discount (Score: 9). We also have high confidence that this will successfully bring revenue, perhaps based on previous experience or a separate study. The effort is moderate compared to others. In total, the hypothesis got the top score of 16.2. However, if we consider the reach parameter in the RICE method, this hypothesis drops into fifth place.  Not many users have a birthday on any given day, so the Reach score is the lowest. \n",
    "\n",
    "How we define the Reach parameter will affect how a hypothesis behaves under the ICE  and RICE method. A hypothesis with a moderate impact can bring more effect if it can reach a broader audience. This is the case of the hypothesis _'Add a subscription form to all the main pages. This will help you compile a mailing list'_ which gets 3rd place under the ICE method but moved up as the top priority under the RICE method. By placing it on every page, we ensure higher visibility of the subscription form to the customer. As a result, we can set the Reach parameter to 10, which gave this hypothesis the most significant score.\n",
    "\n",
    "Another interesting example is the second place hypothesis under the ICE. Adding two new channels gives us the highest impact score of 10 since more traffic means more visitors to the site. However, this strategy only targets new potential customers. Customers who already subscribed to our service will most likely use the same channel they already familiar with. Hence we assign 3 as the Reach parameter and send this hypothesis to the third place.\n",
    "\n",
    "As a summary, the Reach parameter gives us an instrument to fine-tune our decision-making process."
   ]
  },
  {
   "cell_type": "code",
   "execution_count": 29,
   "id": "threaded-edmonton",
   "metadata": {},
   "outputs": [
    {
     "data": {
      "image/png": "[encoded data removed]",
      "text/plain": [
       "<Figure size 864x576 with 1 Axes>"
      ]
     },
     "metadata": {
      "needs_background": "light"
     },
     "output_type": "display_data"
    }
   ],
   "source": [
    "plt.figure(figsize=(12, 8))\n",
    "sns.scatterplot(data=hypotheses, x='ICE', y='RICE', hue='hypothesis', s=200)\n",
    "plt.legend(bbox_to_anchor=(1.05, 1), loc='upper left')\n",
    "\n",
    "plt.title('ICE/RICE Scatterplot',\n",
    "          loc='left', fontsize=28, fontname='arial', fontweight='bold')\n",
    "plt.ylabel('ICE', fontsize=18)\n",
    "plt.xlabel('RICE', fontsize=18)\n",
    "plt.show()"
   ]
  },
  {
   "cell_type": "markdown",
   "id": "empty-preliminary",
   "metadata": {},
   "source": [
    "The scatter plot helps us to identify the rank of each hypothesis. The more to the right a hypothesis is, the higher its priority in the ICE method. Likewise, the higher a hypothesis, the higher its rank in the RICE method. We want to find a hypothesis that is located as close to the top right corner as possible."
   ]
  },
  {
   "cell_type": "code",
   "execution_count": 30,
   "id": "written-record",
   "metadata": {},
   "outputs": [
    {
     "data": {
      "text/html": [
       "<div>\n",
       "<style scoped>\n",
       "    .dataframe tbody tr th:only-of-type {\n",
       "        vertical-align: middle;\n",
       "    }\n",
       "\n",
       "    .dataframe tbody tr th {\n",
       "        vertical-align: top;\n",
       "    }\n",
       "\n",
       "    .dataframe thead th {\n",
       "        text-align: right;\n",
       "    }\n",
       "</style>\n",
       "<table border=\"1\" class=\"dataframe\">\n",
       "  <thead>\n",
       "    <tr style=\"text-align: right;\">\n",
       "      <th></th>\n",
       "      <th>level_0</th>\n",
       "      <th>index</th>\n",
       "      <th>hypothesis</th>\n",
       "      <th>reach</th>\n",
       "      <th>impact</th>\n",
       "      <th>confidence</th>\n",
       "      <th>effort</th>\n",
       "      <th>ICE</th>\n",
       "      <th>RICE</th>\n",
       "      <th>ice_rank</th>\n",
       "      <th>rice_rank</th>\n",
       "    </tr>\n",
       "  </thead>\n",
       "  <tbody>\n",
       "    <tr>\n",
       "      <td>0</td>\n",
       "      <td>0</td>\n",
       "      <td>0</td>\n",
       "      <td>Add two new channels for attracting traffic. This will bring 30% more users</td>\n",
       "      <td>3</td>\n",
       "      <td>10</td>\n",
       "      <td>8</td>\n",
       "      <td>6</td>\n",
       "      <td>13.333333</td>\n",
       "      <td>40.0</td>\n",
       "      <td>1</td>\n",
       "      <td>3</td>\n",
       "    </tr>\n",
       "    <tr>\n",
       "      <td>1</td>\n",
       "      <td>1</td>\n",
       "      <td>1</td>\n",
       "      <td>Launch your own delivery service. This will shorten delivery time</td>\n",
       "      <td>2</td>\n",
       "      <td>5</td>\n",
       "      <td>4</td>\n",
       "      <td>10</td>\n",
       "      <td>2.000000</td>\n",
       "      <td>4.0</td>\n",
       "      <td>5</td>\n",
       "      <td>7</td>\n",
       "    </tr>\n",
       "    <tr>\n",
       "      <td>2</td>\n",
       "      <td>2</td>\n",
       "      <td>2</td>\n",
       "      <td>Add product recommendation blocks to the store's site. This will increase conversion and average purchase size</td>\n",
       "      <td>8</td>\n",
       "      <td>3</td>\n",
       "      <td>7</td>\n",
       "      <td>3</td>\n",
       "      <td>7.000000</td>\n",
       "      <td>56.0</td>\n",
       "      <td>4</td>\n",
       "      <td>1</td>\n",
       "    </tr>\n",
       "    <tr>\n",
       "      <td>3</td>\n",
       "      <td>3</td>\n",
       "      <td>3</td>\n",
       "      <td>Change the category structure. This will increase conversion since users will find the products they want more quickly</td>\n",
       "      <td>8</td>\n",
       "      <td>3</td>\n",
       "      <td>3</td>\n",
       "      <td>8</td>\n",
       "      <td>1.125000</td>\n",
       "      <td>9.0</td>\n",
       "      <td>7</td>\n",
       "      <td>5</td>\n",
       "    </tr>\n",
       "    <tr>\n",
       "      <td>4</td>\n",
       "      <td>4</td>\n",
       "      <td>4</td>\n",
       "      <td>Change the background color on the main page. This will increase user engagement</td>\n",
       "      <td>3</td>\n",
       "      <td>1</td>\n",
       "      <td>1</td>\n",
       "      <td>1</td>\n",
       "      <td>1.000000</td>\n",
       "      <td>3.0</td>\n",
       "      <td>8</td>\n",
       "      <td>8</td>\n",
       "    </tr>\n",
       "  </tbody>\n",
       "</table>\n",
       "</div>"
      ],
      "text/plain": [
       "   level_0  index  \\\n",
       "0        0      0   \n",
       "1        1      1   \n",
       "2        2      2   \n",
       "3        3      3   \n",
       "4        4      4   \n",
       "\n",
       "                                                                                                               hypothesis  \\\n",
       "0                                             Add two new channels for attracting traffic. This will bring 30% more users   \n",
       "1                                                       Launch your own delivery service. This will shorten delivery time   \n",
       "2          Add product recommendation blocks to the store's site. This will increase conversion and average purchase size   \n",
       "3  Change the category structure. This will increase conversion since users will find the products they want more quickly   \n",
       "4                                        Change the background color on the main page. This will increase user engagement   \n",
       "\n",
       "   reach  impact  confidence  effort        ICE  RICE  ice_rank  rice_rank  \n",
       "0      3      10           8       6  13.333333  40.0         1          3  \n",
       "1      2       5           4      10   2.000000   4.0         5          7  \n",
       "2      8       3           7       3   7.000000  56.0         4          1  \n",
       "3      8       3           3       8   1.125000   9.0         7          5  \n",
       "4      3       1           1       1   1.000000   3.0         8          8  "
      ]
     },
     "execution_count": 30,
     "metadata": {},
     "output_type": "execute_result"
    }
   ],
   "source": [
    "# Finding the rank of hypotheses based on ICE and RICE\n",
    "ice_sorted = hypotheses['ICE'].sort_values(ascending=False).reset_index()\n",
    "ice_ranked = ice_sorted.reset_index()[['level_0', 'index']]\n",
    "ice_ranked.columns = ['ice_rank', 'index']\n",
    "\n",
    "rice_sorted = hypotheses['RICE'].sort_values(ascending=False).reset_index()\n",
    "rice_ranked = rice_sorted .reset_index()[['level_0', 'index']]\n",
    "rice_ranked.columns = ['rice_rank', 'index']\n",
    "\n",
    "hypotheses = pd.merge(hypotheses.reset_index(), ice_ranked, right_on='index', left_on='index')\n",
    "hypotheses = pd.merge(hypotheses.reset_index(), rice_ranked, right_on='index', left_on='index')\n",
    "\n",
    "hypotheses.head()"
   ]
  },
  {
   "cell_type": "code",
   "execution_count": 31,
   "id": "sustained-reset",
   "metadata": {},
   "outputs": [
    {
     "data": {
      "text/html": [
       "<div>\n",
       "<style scoped>\n",
       "    .dataframe tbody tr th:only-of-type {\n",
       "        vertical-align: middle;\n",
       "    }\n",
       "\n",
       "    .dataframe tbody tr th {\n",
       "        vertical-align: top;\n",
       "    }\n",
       "\n",
       "    .dataframe thead th {\n",
       "        text-align: right;\n",
       "    }\n",
       "</style>\n",
       "<table border=\"1\" class=\"dataframe\">\n",
       "  <thead>\n",
       "    <tr style=\"text-align: right;\">\n",
       "      <th></th>\n",
       "      <th>hypothesis</th>\n",
       "      <th>method</th>\n",
       "      <th>rank</th>\n",
       "    </tr>\n",
       "  </thead>\n",
       "  <tbody>\n",
       "    <tr>\n",
       "      <td>0</td>\n",
       "      <td>0</td>\n",
       "      <td>ICE</td>\n",
       "      <td>1</td>\n",
       "    </tr>\n",
       "    <tr>\n",
       "      <td>1</td>\n",
       "      <td>0</td>\n",
       "      <td>RICE</td>\n",
       "      <td>3</td>\n",
       "    </tr>\n",
       "    <tr>\n",
       "      <td>2</td>\n",
       "      <td>1</td>\n",
       "      <td>ICE</td>\n",
       "      <td>5</td>\n",
       "    </tr>\n",
       "    <tr>\n",
       "      <td>3</td>\n",
       "      <td>1</td>\n",
       "      <td>RICE</td>\n",
       "      <td>7</td>\n",
       "    </tr>\n",
       "    <tr>\n",
       "      <td>4</td>\n",
       "      <td>2</td>\n",
       "      <td>ICE</td>\n",
       "      <td>4</td>\n",
       "    </tr>\n",
       "  </tbody>\n",
       "</table>\n",
       "</div>"
      ],
      "text/plain": [
       "   hypothesis method  rank\n",
       "0           0    ICE     1\n",
       "1           0   RICE     3\n",
       "2           1    ICE     5\n",
       "3           1   RICE     7\n",
       "4           2    ICE     4"
      ]
     },
     "execution_count": 31,
     "metadata": {},
     "output_type": "execute_result"
    }
   ],
   "source": [
    "# Selecting required columns\n",
    "hyp = hypotheses[['index', 'ice_rank', 'rice_rank']]\n",
    "hyp.columns = ['index', 'ICE', 'RICE']\n",
    "\n",
    "# Setting index then stacking the remaining columns\n",
    "hyp = hyp.set_index('index')\n",
    "hyp_stacked = hyp.stack()\n",
    "\n",
    "# Turning the series into a dataframe\n",
    "hyp_df = pd.DataFrame(hyp_stacked)\n",
    "\n",
    "# Restting index then renaming columns\n",
    "hyp_df = hyp_df.reset_index()\n",
    "hyp_df.columns = ['hypothesis', 'method', 'rank']\n",
    "\n",
    "hyp_df.head()"
   ]
  },
  {
   "cell_type": "code",
   "execution_count": 32,
   "id": "historical-manor",
   "metadata": {},
   "outputs": [
    {
     "data": {
      "image/png": "[encoded data removed]",
      "text/plain": [
       "<Figure size 720x576 with 1 Axes>"
      ]
     },
     "metadata": {
      "needs_background": "light"
     },
     "output_type": "display_data"
    }
   ],
   "source": [
    "# Creating the slope plot\n",
    "fig, ax = plt.subplots(1, figsize=(10,8))\n",
    "for i in range(9):\n",
    "    temp = hyp_df[hyp_df['hypothesis'] == i]\n",
    "    plt.plot(temp['method'], \n",
    "             temp['rank'], \n",
    "             marker='s', \n",
    "             markersize=10, \n",
    "             label=hypotheses['hypothesis'][i])\n",
    "      \n",
    "plt.gca().invert_yaxis()    \n",
    "plt.legend(bbox_to_anchor=(1.05, 1), loc='upper left')\n",
    "plt.ylabel('Rank', fontsize=18)\n",
    "plt.title('Hypotheses Rank Between Two Methods',\n",
    "          loc='left', fontsize=28, fontname='arial', fontweight='bold')\n",
    "plt.xticks(fontsize=18,)\n",
    "plt.show()\n",
    "\n"
   ]
  },
  {
   "cell_type": "markdown",
   "id": "unlimited-current",
   "metadata": {},
   "source": [
    "The above plot shows how a hypothesis may be given different priorities depending on the method we used to measure them. The top priority on the ICE method became the 5th place on the RICE method. Likewise, the 2nd priority of ICE turned out to be the top on RICE."
   ]
  },
  {
   "cell_type": "markdown",
   "id": "sealed-penalty",
   "metadata": {},
   "source": [
    "### Part 2. A/B Test Analysis<a class=\"anchor\" id=\"step_3_2\"></a>"
   ]
  },
  {
   "cell_type": "markdown",
   "id": "welsh-assignment",
   "metadata": {},
   "source": [
    "We are given several tasks which also lays out the steps that need to be taken to conduct an A/B Testing. The tasks are as follows:\n"
   ]
  },
  {
   "cell_type": "markdown",
   "id": "alpine-brother",
   "metadata": {},
   "source": [
    "**1. Graph cumulative revenue by group. Make conclusions and conjectures.**"
   ]
  },
  {
   "cell_type": "code",
   "execution_count": 33,
   "id": "official-guarantee",
   "metadata": {},
   "outputs": [
    {
     "name": "stdout",
     "output_type": "stream",
     "text": [
      "The number of users that are in both groups: 41\n"
     ]
    }
   ],
   "source": [
    "# Finding the number of users that enteres two test groups simultaneously\n",
    "print('The number of users that are in both groups: {}'\n",
    "      .format((orders.groupby(['visitorId', 'date']).count()['group'] > 1).sum()))"
   ]
  },
  {
   "cell_type": "code",
   "execution_count": 34,
   "id": "selective-title",
   "metadata": {},
   "outputs": [
    {
     "data": {
      "text/plain": [
       "56     232979603\n",
       "61     237748145\n",
       "131    457167155\n",
       "141    477780734\n",
       "168    611059232\n",
       "Name: visitorId, dtype: int64"
      ]
     },
     "execution_count": 34,
     "metadata": {},
     "output_type": "execute_result"
    }
   ],
   "source": [
    "# Finding the users\n",
    "usersInBothGroups = (orders\n",
    "                    .groupby(['visitorId', 'date'])\n",
    "                    .count().reset_index()\n",
    "                    .query('group > 1')['visitorId']\n",
    "                    )\n",
    "usersInBothGroups.head()"
   ]
  },
  {
   "cell_type": "code",
   "execution_count": 35,
   "id": "quantitative-cooperative",
   "metadata": {},
   "outputs": [
    {
     "data": {
      "text/html": [
       "<div>\n",
       "<style scoped>\n",
       "    .dataframe tbody tr th:only-of-type {\n",
       "        vertical-align: middle;\n",
       "    }\n",
       "\n",
       "    .dataframe tbody tr th {\n",
       "        vertical-align: top;\n",
       "    }\n",
       "\n",
       "    .dataframe thead th {\n",
       "        text-align: right;\n",
       "    }\n",
       "</style>\n",
       "<table border=\"1\" class=\"dataframe\">\n",
       "  <thead>\n",
       "    <tr style=\"text-align: right;\">\n",
       "      <th></th>\n",
       "      <th>date</th>\n",
       "      <th>group</th>\n",
       "    </tr>\n",
       "  </thead>\n",
       "  <tbody>\n",
       "    <tr>\n",
       "      <td>0</td>\n",
       "      <td>2019-08-15</td>\n",
       "      <td>B</td>\n",
       "    </tr>\n",
       "    <tr>\n",
       "      <td>2</td>\n",
       "      <td>2019-08-15</td>\n",
       "      <td>A</td>\n",
       "    </tr>\n",
       "    <tr>\n",
       "      <td>45</td>\n",
       "      <td>2019-08-16</td>\n",
       "      <td>A</td>\n",
       "    </tr>\n",
       "    <tr>\n",
       "      <td>47</td>\n",
       "      <td>2019-08-16</td>\n",
       "      <td>B</td>\n",
       "    </tr>\n",
       "    <tr>\n",
       "      <td>55</td>\n",
       "      <td>2019-08-01</td>\n",
       "      <td>A</td>\n",
       "    </tr>\n",
       "  </tbody>\n",
       "</table>\n",
       "</div>"
      ],
      "text/plain": [
       "         date group\n",
       "0  2019-08-15     B\n",
       "2  2019-08-15     A\n",
       "45 2019-08-16     A\n",
       "47 2019-08-16     B\n",
       "55 2019-08-01     A"
      ]
     },
     "execution_count": 35,
     "metadata": {},
     "output_type": "execute_result"
    }
   ],
   "source": [
    "# Finding unique order dates for each group\n",
    "datesGroups = orders[['date', 'group']].drop_duplicates()\n",
    "datesGroups.head()"
   ]
  },
  {
   "cell_type": "markdown",
   "id": "controversial-float",
   "metadata": {},
   "source": [
    "Creating an aggregate table that shows:\n",
    "- the number of distinct orders for the test groups up to the specified date (inclusive)\n",
    "- the number of distinct users in the test groups that put at least one order up to the specified date (inclusive)\n",
    "- total revenue from orders in the test groups up to the specifued date (inclusive)"
   ]
  },
  {
   "cell_type": "code",
   "execution_count": 36,
   "id": "rolled-china",
   "metadata": {},
   "outputs": [
    {
     "data": {
      "text/html": [
       "<div>\n",
       "<style scoped>\n",
       "    .dataframe tbody tr th:only-of-type {\n",
       "        vertical-align: middle;\n",
       "    }\n",
       "\n",
       "    .dataframe tbody tr th {\n",
       "        vertical-align: top;\n",
       "    }\n",
       "\n",
       "    .dataframe thead th {\n",
       "        text-align: right;\n",
       "    }\n",
       "</style>\n",
       "<table border=\"1\" class=\"dataframe\">\n",
       "  <thead>\n",
       "    <tr style=\"text-align: right;\">\n",
       "      <th></th>\n",
       "      <th>transactionId</th>\n",
       "      <th>visitorId</th>\n",
       "      <th>date</th>\n",
       "      <th>revenue</th>\n",
       "      <th>group</th>\n",
       "    </tr>\n",
       "  </thead>\n",
       "  <tbody>\n",
       "    <tr>\n",
       "      <td>0</td>\n",
       "      <td>3667963787</td>\n",
       "      <td>3312258926</td>\n",
       "      <td>2019-08-15</td>\n",
       "      <td>30.4</td>\n",
       "      <td>B</td>\n",
       "    </tr>\n",
       "    <tr>\n",
       "      <td>1</td>\n",
       "      <td>2804400009</td>\n",
       "      <td>3642806036</td>\n",
       "      <td>2019-08-15</td>\n",
       "      <td>15.2</td>\n",
       "      <td>B</td>\n",
       "    </tr>\n",
       "    <tr>\n",
       "      <td>2</td>\n",
       "      <td>2961555356</td>\n",
       "      <td>4069496402</td>\n",
       "      <td>2019-08-15</td>\n",
       "      <td>10.2</td>\n",
       "      <td>A</td>\n",
       "    </tr>\n",
       "    <tr>\n",
       "      <td>3</td>\n",
       "      <td>3797467345</td>\n",
       "      <td>1196621759</td>\n",
       "      <td>2019-08-15</td>\n",
       "      <td>155.1</td>\n",
       "      <td>B</td>\n",
       "    </tr>\n",
       "    <tr>\n",
       "      <td>4</td>\n",
       "      <td>2282983706</td>\n",
       "      <td>2322279887</td>\n",
       "      <td>2019-08-15</td>\n",
       "      <td>40.5</td>\n",
       "      <td>B</td>\n",
       "    </tr>\n",
       "  </tbody>\n",
       "</table>\n",
       "</div>"
      ],
      "text/plain": [
       "   transactionId   visitorId       date  revenue group\n",
       "0     3667963787  3312258926 2019-08-15     30.4     B\n",
       "1     2804400009  3642806036 2019-08-15     15.2     B\n",
       "2     2961555356  4069496402 2019-08-15     10.2     A\n",
       "3     3797467345  1196621759 2019-08-15    155.1     B\n",
       "4     2282983706  2322279887 2019-08-15     40.5     B"
      ]
     },
     "execution_count": 36,
     "metadata": {},
     "output_type": "execute_result"
    }
   ],
   "source": [
    "orders.head()"
   ]
  },
  {
   "cell_type": "code",
   "execution_count": 37,
   "id": "caring-grounds",
   "metadata": {
    "scrolled": true
   },
   "outputs": [
    {
     "data": {
      "text/html": [
       "<div>\n",
       "<style scoped>\n",
       "    .dataframe tbody tr th:only-of-type {\n",
       "        vertical-align: middle;\n",
       "    }\n",
       "\n",
       "    .dataframe tbody tr th {\n",
       "        vertical-align: top;\n",
       "    }\n",
       "\n",
       "    .dataframe thead th {\n",
       "        text-align: right;\n",
       "    }\n",
       "</style>\n",
       "<table border=\"1\" class=\"dataframe\">\n",
       "  <thead>\n",
       "    <tr style=\"text-align: right;\">\n",
       "      <th></th>\n",
       "      <th>date</th>\n",
       "      <th>group</th>\n",
       "      <th>transactionId</th>\n",
       "      <th>visitorId</th>\n",
       "      <th>revenue</th>\n",
       "    </tr>\n",
       "  </thead>\n",
       "  <tbody>\n",
       "    <tr>\n",
       "      <td>55</td>\n",
       "      <td>2019-08-01</td>\n",
       "      <td>A</td>\n",
       "      <td>24</td>\n",
       "      <td>20</td>\n",
       "      <td>2356.8</td>\n",
       "    </tr>\n",
       "    <tr>\n",
       "      <td>66</td>\n",
       "      <td>2019-08-01</td>\n",
       "      <td>B</td>\n",
       "      <td>21</td>\n",
       "      <td>20</td>\n",
       "      <td>1620.0</td>\n",
       "    </tr>\n",
       "    <tr>\n",
       "      <td>175</td>\n",
       "      <td>2019-08-02</td>\n",
       "      <td>A</td>\n",
       "      <td>44</td>\n",
       "      <td>38</td>\n",
       "      <td>3860.3</td>\n",
       "    </tr>\n",
       "    <tr>\n",
       "      <td>173</td>\n",
       "      <td>2019-08-02</td>\n",
       "      <td>B</td>\n",
       "      <td>45</td>\n",
       "      <td>43</td>\n",
       "      <td>4243.8</td>\n",
       "    </tr>\n",
       "    <tr>\n",
       "      <td>291</td>\n",
       "      <td>2019-08-03</td>\n",
       "      <td>A</td>\n",
       "      <td>68</td>\n",
       "      <td>62</td>\n",
       "      <td>5675.5</td>\n",
       "    </tr>\n",
       "  </tbody>\n",
       "</table>\n",
       "</div>"
      ],
      "text/plain": [
       "          date group  transactionId  visitorId  revenue\n",
       "55  2019-08-01     A             24         20   2356.8\n",
       "66  2019-08-01     B             21         20   1620.0\n",
       "175 2019-08-02     A             44         38   3860.3\n",
       "173 2019-08-02     B             45         43   4243.8\n",
       "291 2019-08-03     A             68         62   5675.5"
      ]
     },
     "execution_count": 37,
     "metadata": {},
     "output_type": "execute_result"
    }
   ],
   "source": [
    "# Creating an aggregate table that shows \n",
    "ordersAggregated = (datesGroups\n",
    "                    .apply(lambda x: orders[np.logical_and(orders['date'] <= x['date'],\n",
    "                                                           orders['group'] == x['group'])]\n",
    "                          .agg({'date':'max',\n",
    "                                'group':'max',\n",
    "                                'transactionId': pd.Series.nunique,\n",
    "                                'visitorId': pd.Series.nunique,\n",
    "                                'revenue':'sum'}), axis=1)\n",
    "                    .sort_values(by=['date', 'group'])                   \n",
    "                   )\n",
    "ordersAggregated.head()"
   ]
  },
  {
   "cell_type": "markdown",
   "id": "national-increase",
   "metadata": {},
   "source": [
    "Creating an aggregate table to show:\n",
    "- the date\n",
    "- the A/B group\n",
    "- the number of distinct visitorsd in the test group up to the specified date (inclusive)"
   ]
  },
  {
   "cell_type": "code",
   "execution_count": 38,
   "id": "returning-auditor",
   "metadata": {},
   "outputs": [
    {
     "data": {
      "text/html": [
       "<div>\n",
       "<style scoped>\n",
       "    .dataframe tbody tr th:only-of-type {\n",
       "        vertical-align: middle;\n",
       "    }\n",
       "\n",
       "    .dataframe tbody tr th {\n",
       "        vertical-align: top;\n",
       "    }\n",
       "\n",
       "    .dataframe thead th {\n",
       "        text-align: right;\n",
       "    }\n",
       "</style>\n",
       "<table border=\"1\" class=\"dataframe\">\n",
       "  <thead>\n",
       "    <tr style=\"text-align: right;\">\n",
       "      <th></th>\n",
       "      <th>date</th>\n",
       "      <th>group</th>\n",
       "      <th>visits</th>\n",
       "    </tr>\n",
       "  </thead>\n",
       "  <tbody>\n",
       "    <tr>\n",
       "      <td>0</td>\n",
       "      <td>2019-08-01</td>\n",
       "      <td>A</td>\n",
       "      <td>719</td>\n",
       "    </tr>\n",
       "    <tr>\n",
       "      <td>1</td>\n",
       "      <td>2019-08-02</td>\n",
       "      <td>A</td>\n",
       "      <td>619</td>\n",
       "    </tr>\n",
       "    <tr>\n",
       "      <td>2</td>\n",
       "      <td>2019-08-03</td>\n",
       "      <td>A</td>\n",
       "      <td>507</td>\n",
       "    </tr>\n",
       "    <tr>\n",
       "      <td>3</td>\n",
       "      <td>2019-08-04</td>\n",
       "      <td>A</td>\n",
       "      <td>717</td>\n",
       "    </tr>\n",
       "    <tr>\n",
       "      <td>4</td>\n",
       "      <td>2019-08-05</td>\n",
       "      <td>A</td>\n",
       "      <td>756</td>\n",
       "    </tr>\n",
       "  </tbody>\n",
       "</table>\n",
       "</div>"
      ],
      "text/plain": [
       "        date group  visits\n",
       "0 2019-08-01     A     719\n",
       "1 2019-08-02     A     619\n",
       "2 2019-08-03     A     507\n",
       "3 2019-08-04     A     717\n",
       "4 2019-08-05     A     756"
      ]
     },
     "execution_count": 38,
     "metadata": {},
     "output_type": "execute_result"
    }
   ],
   "source": [
    "visits.head()"
   ]
  },
  {
   "cell_type": "code",
   "execution_count": 39,
   "id": "satisfactory-firewall",
   "metadata": {},
   "outputs": [
    {
     "data": {
      "text/html": [
       "<div>\n",
       "<style scoped>\n",
       "    .dataframe tbody tr th:only-of-type {\n",
       "        vertical-align: middle;\n",
       "    }\n",
       "\n",
       "    .dataframe tbody tr th {\n",
       "        vertical-align: top;\n",
       "    }\n",
       "\n",
       "    .dataframe thead th {\n",
       "        text-align: right;\n",
       "    }\n",
       "</style>\n",
       "<table border=\"1\" class=\"dataframe\">\n",
       "  <thead>\n",
       "    <tr style=\"text-align: right;\">\n",
       "      <th></th>\n",
       "      <th>date</th>\n",
       "      <th>group</th>\n",
       "      <th>visits</th>\n",
       "    </tr>\n",
       "  </thead>\n",
       "  <tbody>\n",
       "    <tr>\n",
       "      <td>55</td>\n",
       "      <td>2019-08-01</td>\n",
       "      <td>A</td>\n",
       "      <td>719</td>\n",
       "    </tr>\n",
       "    <tr>\n",
       "      <td>66</td>\n",
       "      <td>2019-08-01</td>\n",
       "      <td>B</td>\n",
       "      <td>713</td>\n",
       "    </tr>\n",
       "    <tr>\n",
       "      <td>175</td>\n",
       "      <td>2019-08-02</td>\n",
       "      <td>A</td>\n",
       "      <td>1338</td>\n",
       "    </tr>\n",
       "    <tr>\n",
       "      <td>173</td>\n",
       "      <td>2019-08-02</td>\n",
       "      <td>B</td>\n",
       "      <td>1294</td>\n",
       "    </tr>\n",
       "    <tr>\n",
       "      <td>291</td>\n",
       "      <td>2019-08-03</td>\n",
       "      <td>A</td>\n",
       "      <td>1845</td>\n",
       "    </tr>\n",
       "  </tbody>\n",
       "</table>\n",
       "</div>"
      ],
      "text/plain": [
       "          date group  visits\n",
       "55  2019-08-01     A     719\n",
       "66  2019-08-01     B     713\n",
       "175 2019-08-02     A    1338\n",
       "173 2019-08-02     B    1294\n",
       "291 2019-08-03     A    1845"
      ]
     },
     "execution_count": 39,
     "metadata": {},
     "output_type": "execute_result"
    }
   ],
   "source": [
    "visitsAggregated = (datesGroups\n",
    "                      .apply(lambda x: visits[np.logical_and(visits['date'] <= x['date'],\n",
    "                                                             visits['group'] == x['group'])]\n",
    "                           .agg({'date':'max',\n",
    "                                 'group':'max',\n",
    "                                 'visits':'sum'}), axis=1)\n",
    "                      .sort_values(by=['date', 'group'])\n",
    "                     )\n",
    "visitsAggregated.head()"
   ]
  },
  {
   "cell_type": "markdown",
   "id": "molecular-conference",
   "metadata": {},
   "source": [
    "Merging the aggregate dataframe by `date` dan `group`,"
   ]
  },
  {
   "cell_type": "code",
   "execution_count": 40,
   "id": "experimental-singapore",
   "metadata": {},
   "outputs": [
    {
     "data": {
      "text/html": [
       "<div>\n",
       "<style scoped>\n",
       "    .dataframe tbody tr th:only-of-type {\n",
       "        vertical-align: middle;\n",
       "    }\n",
       "\n",
       "    .dataframe tbody tr th {\n",
       "        vertical-align: top;\n",
       "    }\n",
       "\n",
       "    .dataframe thead th {\n",
       "        text-align: right;\n",
       "    }\n",
       "</style>\n",
       "<table border=\"1\" class=\"dataframe\">\n",
       "  <thead>\n",
       "    <tr style=\"text-align: right;\">\n",
       "      <th></th>\n",
       "      <th>date</th>\n",
       "      <th>group</th>\n",
       "      <th>orders</th>\n",
       "      <th>buyers</th>\n",
       "      <th>revenue</th>\n",
       "      <th>visitors</th>\n",
       "    </tr>\n",
       "  </thead>\n",
       "  <tbody>\n",
       "    <tr>\n",
       "      <td>0</td>\n",
       "      <td>2019-08-01</td>\n",
       "      <td>A</td>\n",
       "      <td>24</td>\n",
       "      <td>20</td>\n",
       "      <td>2356.8</td>\n",
       "      <td>719</td>\n",
       "    </tr>\n",
       "    <tr>\n",
       "      <td>1</td>\n",
       "      <td>2019-08-01</td>\n",
       "      <td>B</td>\n",
       "      <td>21</td>\n",
       "      <td>20</td>\n",
       "      <td>1620.0</td>\n",
       "      <td>713</td>\n",
       "    </tr>\n",
       "    <tr>\n",
       "      <td>2</td>\n",
       "      <td>2019-08-02</td>\n",
       "      <td>A</td>\n",
       "      <td>44</td>\n",
       "      <td>38</td>\n",
       "      <td>3860.3</td>\n",
       "      <td>1338</td>\n",
       "    </tr>\n",
       "    <tr>\n",
       "      <td>3</td>\n",
       "      <td>2019-08-02</td>\n",
       "      <td>B</td>\n",
       "      <td>45</td>\n",
       "      <td>43</td>\n",
       "      <td>4243.8</td>\n",
       "      <td>1294</td>\n",
       "    </tr>\n",
       "    <tr>\n",
       "      <td>4</td>\n",
       "      <td>2019-08-03</td>\n",
       "      <td>A</td>\n",
       "      <td>68</td>\n",
       "      <td>62</td>\n",
       "      <td>5675.5</td>\n",
       "      <td>1845</td>\n",
       "    </tr>\n",
       "  </tbody>\n",
       "</table>\n",
       "</div>"
      ],
      "text/plain": [
       "        date group  orders  buyers  revenue  visitors\n",
       "0 2019-08-01     A      24      20   2356.8       719\n",
       "1 2019-08-01     B      21      20   1620.0       713\n",
       "2 2019-08-02     A      44      38   3860.3      1338\n",
       "3 2019-08-02     B      45      43   4243.8      1294\n",
       "4 2019-08-03     A      68      62   5675.5      1845"
      ]
     },
     "execution_count": 40,
     "metadata": {},
     "output_type": "execute_result"
    }
   ],
   "source": [
    "cumulativeData = ordersAggregated.merge(visitsAggregated, left_on=['date', 'group'], right_on=['date', 'group'])\n",
    "cumulativeData.columns = ['date', 'group', 'orders', 'buyers', 'revenue', 'visitors']\n",
    "cumulativeData.head()"
   ]
  },
  {
   "cell_type": "markdown",
   "id": "solved-movement",
   "metadata": {},
   "source": [
    "Separating the cumulative table into group `A` and group `B`,"
   ]
  },
  {
   "cell_type": "code",
   "execution_count": 41,
   "id": "taken-toronto",
   "metadata": {},
   "outputs": [
    {
     "data": {
      "text/html": [
       "<div>\n",
       "<style scoped>\n",
       "    .dataframe tbody tr th:only-of-type {\n",
       "        vertical-align: middle;\n",
       "    }\n",
       "\n",
       "    .dataframe tbody tr th {\n",
       "        vertical-align: top;\n",
       "    }\n",
       "\n",
       "    .dataframe thead th {\n",
       "        text-align: right;\n",
       "    }\n",
       "</style>\n",
       "<table border=\"1\" class=\"dataframe\">\n",
       "  <thead>\n",
       "    <tr style=\"text-align: right;\">\n",
       "      <th></th>\n",
       "      <th>date</th>\n",
       "      <th>revenue</th>\n",
       "      <th>orders</th>\n",
       "    </tr>\n",
       "  </thead>\n",
       "  <tbody>\n",
       "    <tr>\n",
       "      <td>0</td>\n",
       "      <td>2019-08-01</td>\n",
       "      <td>2356.8</td>\n",
       "      <td>24</td>\n",
       "    </tr>\n",
       "    <tr>\n",
       "      <td>2</td>\n",
       "      <td>2019-08-02</td>\n",
       "      <td>3860.3</td>\n",
       "      <td>44</td>\n",
       "    </tr>\n",
       "    <tr>\n",
       "      <td>4</td>\n",
       "      <td>2019-08-03</td>\n",
       "      <td>5675.5</td>\n",
       "      <td>68</td>\n",
       "    </tr>\n",
       "    <tr>\n",
       "      <td>6</td>\n",
       "      <td>2019-08-04</td>\n",
       "      <td>6822.1</td>\n",
       "      <td>84</td>\n",
       "    </tr>\n",
       "    <tr>\n",
       "      <td>8</td>\n",
       "      <td>2019-08-05</td>\n",
       "      <td>8810.2</td>\n",
       "      <td>109</td>\n",
       "    </tr>\n",
       "  </tbody>\n",
       "</table>\n",
       "</div>"
      ],
      "text/plain": [
       "        date  revenue  orders\n",
       "0 2019-08-01   2356.8      24\n",
       "2 2019-08-02   3860.3      44\n",
       "4 2019-08-03   5675.5      68\n",
       "6 2019-08-04   6822.1      84\n",
       "8 2019-08-05   8810.2     109"
      ]
     },
     "execution_count": 41,
     "metadata": {},
     "output_type": "execute_result"
    }
   ],
   "source": [
    "# Separating table into group A\n",
    "cumulativeRevenueA = cumulativeData[cumulativeData['group'] == 'A'][['date', 'revenue', 'orders']]\n",
    "cumulativeRevenueA.head()"
   ]
  },
  {
   "cell_type": "code",
   "execution_count": 42,
   "id": "threatened-companion",
   "metadata": {},
   "outputs": [
    {
     "data": {
      "text/html": [
       "<div>\n",
       "<style scoped>\n",
       "    .dataframe tbody tr th:only-of-type {\n",
       "        vertical-align: middle;\n",
       "    }\n",
       "\n",
       "    .dataframe tbody tr th {\n",
       "        vertical-align: top;\n",
       "    }\n",
       "\n",
       "    .dataframe thead th {\n",
       "        text-align: right;\n",
       "    }\n",
       "</style>\n",
       "<table border=\"1\" class=\"dataframe\">\n",
       "  <thead>\n",
       "    <tr style=\"text-align: right;\">\n",
       "      <th></th>\n",
       "      <th>date</th>\n",
       "      <th>revenue</th>\n",
       "      <th>orders</th>\n",
       "    </tr>\n",
       "  </thead>\n",
       "  <tbody>\n",
       "    <tr>\n",
       "      <td>1</td>\n",
       "      <td>2019-08-01</td>\n",
       "      <td>1620.0</td>\n",
       "      <td>21</td>\n",
       "    </tr>\n",
       "    <tr>\n",
       "      <td>3</td>\n",
       "      <td>2019-08-02</td>\n",
       "      <td>4243.8</td>\n",
       "      <td>45</td>\n",
       "    </tr>\n",
       "    <tr>\n",
       "      <td>5</td>\n",
       "      <td>2019-08-03</td>\n",
       "      <td>6050.6</td>\n",
       "      <td>61</td>\n",
       "    </tr>\n",
       "    <tr>\n",
       "      <td>7</td>\n",
       "      <td>2019-08-04</td>\n",
       "      <td>7767.9</td>\n",
       "      <td>78</td>\n",
       "    </tr>\n",
       "    <tr>\n",
       "      <td>9</td>\n",
       "      <td>2019-08-05</td>\n",
       "      <td>9262.9</td>\n",
       "      <td>101</td>\n",
       "    </tr>\n",
       "  </tbody>\n",
       "</table>\n",
       "</div>"
      ],
      "text/plain": [
       "        date  revenue  orders\n",
       "1 2019-08-01   1620.0      21\n",
       "3 2019-08-02   4243.8      45\n",
       "5 2019-08-03   6050.6      61\n",
       "7 2019-08-04   7767.9      78\n",
       "9 2019-08-05   9262.9     101"
      ]
     },
     "execution_count": 42,
     "metadata": {},
     "output_type": "execute_result"
    }
   ],
   "source": [
    "# Separating table into group B\n",
    "cumulativeRevenueB = cumulativeData[cumulativeData['group'] == 'B'][['date', 'revenue', 'orders']]\n",
    "cumulativeRevenueB.head()"
   ]
  },
  {
   "cell_type": "code",
   "execution_count": 43,
   "id": "earlier-leather",
   "metadata": {},
   "outputs": [
    {
     "name": "stderr",
     "output_type": "stream",
     "text": [
      "/Users/wpersadha/opt/anaconda3/envs/practicum/lib/python3.7/site-packages/pandas/plotting/_matplotlib/converter.py:103: FutureWarning: Using an implicitly registered datetime converter for a matplotlib plotting method. The converter was registered by pandas on import. Future versions of pandas will require you to explicitly register matplotlib converters.\n",
      "\n",
      "To register the converters:\n",
      "\t>>> from pandas.plotting import register_matplotlib_converters\n",
      "\t>>> register_matplotlib_converters()\n",
      "  warnings.warn(msg, FutureWarning)\n"
     ]
    },
    {
     "data": {
      "image/png": "[encoded data removed]",
      "text/plain": [
       "<Figure size 720x288 with 1 Axes>"
      ]
     },
     "metadata": {
      "needs_background": "light"
     },
     "output_type": "display_data"
    }
   ],
   "source": [
    "plt.figure(figsize=(10,4))\n",
    "plt.plot(cumulativeRevenueA['date'], cumulativeRevenueA['revenue'], label='A')\n",
    "plt.plot(cumulativeRevenueB['date'], cumulativeRevenueB['revenue'], label='B')\n",
    "plt.legend()\n",
    "\n",
    "plt.title('Cumulative Revenues', loc='left', fontsize=18, fontname='arial', fontweight='bold')\n",
    "plt.xlabel('Date')\n",
    "plt.ylabel('Revenues')\n",
    "plt.show()\n"
   ]
  },
  {
   "cell_type": "markdown",
   "id": "liberal-oakland",
   "metadata": {},
   "source": [
    "The two groups' revenues were the same size initially,  though, starting from August 5, 2019, Group B's got slightly larger. The line seemed to be somewhat flattened around mid of August, but the abrupt change around August 17 made Group B's revenue significantly larger. We will evaluate later whether outliers caused this sudden surge."
   ]
  },
  {
   "cell_type": "markdown",
   "id": "commercial-history",
   "metadata": {},
   "source": [
    "**2. Graph cumulative average order size by group. Make conclusions and conjectures.**"
   ]
  },
  {
   "cell_type": "code",
   "execution_count": 44,
   "id": "noble-swaziland",
   "metadata": {},
   "outputs": [
    {
     "data": {
      "image/png": "[encoded data removed]",
      "text/plain": [
       "<Figure size 720x288 with 1 Axes>"
      ]
     },
     "metadata": {
      "needs_background": "light"
     },
     "output_type": "display_data"
    }
   ],
   "source": [
    "# Plot cumulative graphs (by day) for average purchase size. \n",
    "plt.figure(figsize=(10,4))\n",
    "plt.plot(cumulativeRevenueA['date'], \n",
    "         cumulativeRevenueA['revenue']/cumulativeRevenueA['orders'], \n",
    "         label='A')\n",
    "\n",
    "plt.plot(cumulativeRevenueB['date'], \n",
    "         cumulativeRevenueB['revenue']/cumulativeRevenueB['orders'], \n",
    "         label='B')\n",
    "plt.legend()\n",
    "\n",
    "plt.title('Cumulative Order Sizes', loc='left', fontsize=18, fontname='arial', fontweight='bold')\n",
    "plt.xlabel('Date')\n",
    "plt.ylabel('Order Size')\n",
    "plt.show()\n"
   ]
  },
  {
   "cell_type": "markdown",
   "id": "electoral-toyota",
   "metadata": {},
   "source": [
    "In general, Grup B's average order size was larger than Group A's. However, in the end, Group A's seemed going to getting higher than B's had the sudden increase in B did not take place. Similar to in the revenue chart, this abrupt change might be caused by outliers. "
   ]
  },
  {
   "cell_type": "markdown",
   "id": "saving-meditation",
   "metadata": {},
   "source": [
    "**3. Graph the relative difference in cumulative average order size for group B compared with group A. Make conclusions and conjectures.**"
   ]
  },
  {
   "cell_type": "markdown",
   "id": "developed-litigation",
   "metadata": {},
   "source": [
    "We can determine the relative difference by comparing the cumulative order size between the two groups.\n",
    "\n",
    "First, we need to merge the two tables,"
   ]
  },
  {
   "cell_type": "code",
   "execution_count": 45,
   "id": "necessary-brisbane",
   "metadata": {},
   "outputs": [],
   "source": [
    "# Merging tables\n",
    "mergedCumulativeRevenue = cumulativeRevenueA.merge(cumulativeRevenueB, \n",
    "                                                   left_on='date', \n",
    "                                                   right_on='date',\n",
    "                                                   suffixes=['A', 'B'])"
   ]
  },
  {
   "cell_type": "code",
   "execution_count": 46,
   "id": "periodic-bachelor",
   "metadata": {},
   "outputs": [
    {
     "data": {
      "image/png": "[encoded data removed]",
      "text/plain": [
       "<Figure size 720x288 with 1 Axes>"
      ]
     },
     "metadata": {
      "needs_background": "light"
     },
     "output_type": "display_data"
    }
   ],
   "source": [
    "# Calculating the relative differences\n",
    "averageOrderA = mergedCumulativeRevenue['revenueA']/mergedCumulativeRevenue['ordersA']\n",
    "averageOrderB = mergedCumulativeRevenue['revenueB']/mergedCumulativeRevenue['ordersB']\n",
    "\n",
    "plt.figure(figsize=(10,4))\n",
    "plt.plot(mergedCumulativeRevenue['date'], \n",
    "         averageOrderB/\n",
    "        (averageOrderA)-1)\n",
    "\n",
    "plt.axhline(y=0, color='black', linestyle='--')\n",
    "\n",
    "plt.title('Relative Difference in Cumulative Average Order Sizes',\n",
    "          loc='left', fontsize=18, fontname='arial', fontweight='bold')\n",
    "plt.xlabel('Date')\n",
    "plt.ylabel('Ratio of Realtive Difference')\n",
    "plt.show()\n"
   ]
  },
  {
   "cell_type": "markdown",
   "id": "greatest-isaac",
   "metadata": {},
   "source": [
    "The average order size of Group B fluctuates over A for the given period. Group B's was significantly larger initially, and if it were not because of the sudden shift, Group B's average order size would have been lower than A's. As we have mentioned above, the presence of outliers could lead us to a false conclusion."
   ]
  },
  {
   "cell_type": "markdown",
   "id": "acknowledged-thermal",
   "metadata": {},
   "source": [
    "**4. Calculate each group's conversion rate as the ratio of orders to the number of visits for each day. Plot the daily conversion rates of the two groups and describe the difference. Draw conclusions and make conjectures.**"
   ]
  },
  {
   "cell_type": "code",
   "execution_count": 47,
   "id": "competent-hydrogen",
   "metadata": {
    "scrolled": true
   },
   "outputs": [
    {
     "data": {
      "image/png": "[encoded data removed]",
      "text/plain": [
       "<Figure size 720x288 with 1 Axes>"
      ]
     },
     "metadata": {
      "needs_background": "light"
     },
     "output_type": "display_data"
    }
   ],
   "source": [
    "# Calculating the conversion rates\n",
    "cumulativeData['conversion'] = cumulativeData['orders']/cumulativeData['visitors']\n",
    "\n",
    "# Splitting the data into groups\n",
    "cumulativeDataA = cumulativeData[cumulativeData['group']=='A']\n",
    "cumulativeDataB = cumulativeData[cumulativeData['group']=='B']\n",
    "\n",
    "# Plotting the graphs\n",
    "plt.figure(figsize=(10,4))\n",
    "plt.plot(cumulativeDataA['date'], cumulativeDataA['conversion'], label='A')\n",
    "plt.plot(cumulativeDataB['date'], cumulativeDataB['conversion'], label='B')\n",
    "\n",
    "plt.legend()\n",
    "\n",
    "plt.title('Conversion Rate', loc='left', fontsize=18, fontname='arial', fontweight='bold')\n",
    "plt.xlabel('Date')\n",
    "plt.ylabel('Conversion Rate')\n",
    "plt.show()\n",
    "\n"
   ]
  },
  {
   "cell_type": "markdown",
   "id": "false-helen",
   "metadata": {},
   "source": [
    "In general, users in Group B have a higher conversion rate than A. The fluctuations at the start of the month were caused by users who put a high number of orders."
   ]
  },
  {
   "cell_type": "code",
   "execution_count": 48,
   "id": "specified-duplicate",
   "metadata": {},
   "outputs": [
    {
     "data": {
      "image/png": "[encoded data removed]",
      "text/plain": [
       "<Figure size 720x288 with 1 Axes>"
      ]
     },
     "metadata": {
      "needs_background": "light"
     },
     "output_type": "display_data"
    }
   ],
   "source": [
    "# Calculating the relative difference between conversion rates\n",
    "mergedCumulativeConversions = (cumulativeDataA[['date','conversion']]\n",
    "                               .merge(cumulativeDataB[['date','conversion']], \n",
    "                                      left_on='date', \n",
    "                                      right_on='date', \n",
    "                                      how='left', \n",
    "                                      suffixes=['A', 'B']))\n",
    "\n",
    "plt.figure(figsize=(10,4))\n",
    "plt.plot(mergedCumulativeConversions['date'], \n",
    "         mergedCumulativeConversions['conversionB']/mergedCumulativeConversions['conversionA']-1, \n",
    "         label=\"Relative gain in conversion in group B as opposed to group A\")\n",
    "\n",
    "plt.axhline(y=0, color='black', linestyle='--')\n",
    "plt.axhline(y=0.1, color='grey', linestyle='--')\n",
    "\n",
    "plt.title('Relative Difference in Conversion Rate', loc='left', fontsize=18, fontname='arial', fontweight='bold')\n",
    "plt.xlabel('Date')\n",
    "plt.ylabel('Conversion Rate')\n",
    "plt.show()\n"
   ]
  },
  {
   "cell_type": "markdown",
   "id": "stopped-internship",
   "metadata": {},
   "source": [
    "The plot above shows that group B's conversion rate is at least 10% higher than A's. "
   ]
  },
  {
   "cell_type": "markdown",
   "id": "coral-porter",
   "metadata": {},
   "source": [
    "**5. Plot a scatter chart of the number of orders per user. Make conclusions and conjectures.**"
   ]
  },
  {
   "cell_type": "markdown",
   "id": "naughty-advance",
   "metadata": {},
   "source": [
    "We will evaluate how many orders a  typical customer made and visually see any anomaly present. "
   ]
  },
  {
   "cell_type": "code",
   "execution_count": 49,
   "id": "adaptive-stability",
   "metadata": {},
   "outputs": [
    {
     "name": "stdout",
     "output_type": "stream",
     "text": [
      "          userId  orders group\n",
      "1023  4256040402      11     B\n",
      "591   2458001652      11     B\n",
      "569   2378935119       9     B\n",
      "487   2038680547       8     B\n",
      "44     199603092       5     B\n",
      "744   3062433592       5     B\n",
      "55     237748145       5     B\n",
      "917   3803269165       5     B\n",
      "299   1230306981       5     B\n",
      "897   3717692402       5     B\n"
     ]
    }
   ],
   "source": [
    "# Creating a small table that groups unique orders by userId \n",
    "ordersByUsers = (orders\n",
    "                .drop(['revenue', 'date'], axis=1)\n",
    "                .groupby('visitorId', as_index=False)\n",
    "                .agg({'transactionId': pd.Series.nunique,\n",
    "                      'group': max})\n",
    "               )\n",
    "\n",
    "# Showing ten users with the highest order\n",
    "ordersByUsers.columns = ['userId', 'orders', 'group']\n",
    "print(ordersByUsers\n",
    "      .sort_values(by='orders', ascending=False)\n",
    "      .head(10)\n",
    "     )"
   ]
  },
  {
   "cell_type": "code",
   "execution_count": 50,
   "id": "impressed-contribution",
   "metadata": {},
   "outputs": [
    {
     "data": {
      "image/png": "[encoded data removed]",
      "text/plain": [
       "<Figure size 720x288 with 1 Axes>"
      ]
     },
     "metadata": {
      "needs_background": "light"
     },
     "output_type": "display_data"
    }
   ],
   "source": [
    "plt.figure(figsize=(10,4))\n",
    "plt.hist(ordersByUsers['orders'], bins=20)\n",
    "\n",
    "plt.title('Distribution of Orders Per User', loc='left', fontsize=18, fontname='arial', fontweight='bold')\n",
    "plt.xlabel('Number of Orders')\n",
    "plt.ylabel('Frequency')\n",
    "plt.show()\n"
   ]
  },
  {
   "cell_type": "markdown",
   "id": "italic-macintosh",
   "metadata": {},
   "source": [
    "As shown above, most users (91% of them) made only one order, six of them placed two orders, and the rest (3%) had made more than three orders."
   ]
  },
  {
   "cell_type": "code",
   "execution_count": 51,
   "id": "acoustic-coordinate",
   "metadata": {},
   "outputs": [
    {
     "data": {
      "text/plain": [
       "1     90.882638\n",
       "2      6.207565\n",
       "3      1.648885\n",
       "5      0.581959\n",
       "4      0.290980\n",
       "11     0.193986\n",
       "9      0.096993\n",
       "8      0.096993\n",
       "Name: orders, dtype: float64"
      ]
     },
     "execution_count": 51,
     "metadata": {},
     "output_type": "execute_result"
    }
   ],
   "source": [
    "# The proportion of number of orders per users in the data\n",
    "ordersByUsers['orders'].value_counts()*100/len(ordersByUsers['orders'])"
   ]
  },
  {
   "cell_type": "code",
   "execution_count": 53,
   "id": "instrumental-terror",
   "metadata": {},
   "outputs": [
    {
     "data": {
      "image/png": "[encoded data removed]",
      "text/plain": [
       "<Figure size 720x432 with 1 Axes>"
      ]
     },
     "metadata": {
      "needs_background": "light"
     },
     "output_type": "display_data"
    }
   ],
   "source": [
    "# Plot a histogram using the scatter() method\n",
    "x_values = pd.Series(range(0,len(ordersByUsers)))\n",
    "\n",
    "plt.figure(figsize=(10,6))\n",
    "sns.scatterplot(data=ordersByUsers, x=x_values, y = 'orders', hue='group', s=50)\n",
    "plt.title('Orders Made By Each User', loc='left', fontsize=18, fontname='arial', fontweight='bold')\n",
    "plt.xlabel('Users B')\n",
    "plt.ylabel('Number of Orders')\n",
    "plt.show()"
   ]
  },
  {
   "cell_type": "markdown",
   "id": "instant-economy",
   "metadata": {},
   "source": [
    "in the scatterplot above that most users only had one order. However few users made two, three, four, even eleven orders. We can claim these users' order size as outliers since their numbers are significantly smaller than the rest of the group population. We will determine the maximum number of orders a user can make before considering them as an outlier in the next point."
   ]
  },
  {
   "cell_type": "markdown",
   "id": "wrapped-breakdown",
   "metadata": {},
   "source": [
    "**6. Calculate the 95th and 99th percentiles for the number of orders per user. Define the point at which a data point becomes an anomaly.**"
   ]
  },
  {
   "cell_type": "code",
   "execution_count": 54,
   "id": "described-circulation",
   "metadata": {},
   "outputs": [
    {
     "name": "stdout",
     "output_type": "stream",
     "text": [
      "[1. 2. 4.]\n"
     ]
    }
   ],
   "source": [
    "# Calculate the 90th, 95th, and 99th sample percentiles \n",
    "print(np.percentile(ordersByUsers['orders'], [90, 95, 99])) "
   ]
  },
  {
   "cell_type": "markdown",
   "id": "fixed-renewal",
   "metadata": {},
   "source": [
    "Ninety percent of the users only put in one order, and ninety-five percent made no more than two. If we use the 5% confidence test in our hypothesis testing stage, we can set the outlier threshold at three. All users that have three or more orders are considered outliers."
   ]
  },
  {
   "cell_type": "markdown",
   "id": "restricted-gauge",
   "metadata": {},
   "source": [
    "**7. Plot a scatter chart of order prices. Make conclusions and conjectures.**"
   ]
  },
  {
   "cell_type": "code",
   "execution_count": 55,
   "id": "spanish-detection",
   "metadata": {},
   "outputs": [
    {
     "data": {
      "image/png": "[encoded data removed]",
      "text/plain": [
       "<Figure size 720x432 with 1 Axes>"
      ]
     },
     "metadata": {
      "needs_background": "light"
     },
     "output_type": "display_data"
    }
   ],
   "source": [
    "x_values = pd.Series(range(0,len(orders['revenue'])))\n",
    "\n",
    "plt.figure(figsize=(10,6))\n",
    "plt.scatter(x_values, orders['revenue'])\n",
    "\n",
    "plt.title('Revenues Made By Each User', loc='left', fontsize=18, fontname='arial', fontweight='bold')\n",
    "plt.xlabel('Users Based On Their Index Position')\n",
    "plt.ylabel('Revenues')\n",
    "plt.show()"
   ]
  },
  {
   "cell_type": "markdown",
   "id": "accepted-third",
   "metadata": {},
   "source": [
    "In the same fashion, we can visually examine how the size of revenues each user made, and as we can see, there are two clear outliers shown."
   ]
  },
  {
   "cell_type": "markdown",
   "id": "enclosed-convertible",
   "metadata": {},
   "source": [
    "**8. Calculate the 95th and 99th percentiles of order prices. Define the point at which a data point becomes an anomaly.**"
   ]
  },
  {
   "cell_type": "code",
   "execution_count": 56,
   "id": "assumed-justice",
   "metadata": {},
   "outputs": [
    {
     "name": "stdout",
     "output_type": "stream",
     "text": [
      "[282.48  435.54  900.904]\n"
     ]
    }
   ],
   "source": [
    "# Calculate the 90th, 95th, and 99th sample percentiles \n",
    "print(np.percentile(orders['revenue'], [90, 95, 99])) "
   ]
  },
  {
   "cell_type": "markdown",
   "id": "educated-synthesis",
   "metadata": {},
   "source": [
    "Ninety percent made at least 282.48 of revenues, while ninety-five of them made 435.54 or less, and ninety-nine percent made 900 or less. We will set the outlier threshold for the revenues to 450 and above."
   ]
  },
  {
   "cell_type": "markdown",
   "id": "promising-revelation",
   "metadata": {},
   "source": [
    "**9. Find the statistical significance of the difference in conversion between the groups using the raw data. Make conclusions and conjectures.**"
   ]
  },
  {
   "cell_type": "code",
   "execution_count": 57,
   "id": "nasty-shirt",
   "metadata": {
    "scrolled": true
   },
   "outputs": [],
   "source": [
    "# Calculating statistical significance of user's conversion\n",
    "ordersByUsersA = (orders[orders['group']=='A']\n",
    "                  .groupby('visitorId', as_index=False).agg({'transactionId' : pd.Series.nunique}))\n",
    "ordersByUsersA.columns = ['userId', 'orders']\n",
    "\n",
    "ordersByUsersB = (orders[orders['group']=='B']\n",
    "                  .groupby('visitorId', as_index=False).agg({'transactionId' : pd.Series.nunique}))\n",
    "ordersByUsersB.columns = ['userId', 'orders']\n",
    "\n",
    "sampleA = (pd.concat([ordersByUsersA['orders'],\n",
    "                      pd.Series(0, index=np.arange(visits[visits['group']=='A']['visits'].sum() - \n",
    "                                                   len(ordersByUsersA['orders'])), name='orders')],axis=0))\n",
    "\n",
    "sampleB = (pd.concat([ordersByUsersB['orders'],\n",
    "                      pd.Series(0, index=np.arange(visits[visits['group']=='B']['visits'].sum() - \n",
    "                                                   len(ordersByUsersB['orders'])), name='orders')],axis=0))\n",
    "\n"
   ]
  },
  {
   "cell_type": "markdown",
   "id": "moderate-greek",
   "metadata": {},
   "source": [
    "Before performing the hypothesis test, we need to check sampleA and sampleB distributions to determine which statistical test to use."
   ]
  },
  {
   "cell_type": "code",
   "execution_count": 58,
   "id": "innovative-cartoon",
   "metadata": {},
   "outputs": [
    {
     "data": {
      "image/png": "[encoded data removed]",
      "text/plain": [
       "<Figure size 720x288 with 1 Axes>"
      ]
     },
     "metadata": {
      "needs_background": "light"
     },
     "output_type": "display_data"
    }
   ],
   "source": [
    "# Evaluating the sample distribution\n",
    "plt.figure(figsize=(10,4))\n",
    "sampleA.hist(bins=20, alpha=1, range=(0,1000), label='Group B')\n",
    "sampleB.hist(bins=20, alpha=0.5, range=(0,1000), label='Group A')\n",
    "plt.legend()\n",
    "\n",
    "plt.title('Histograms of Conversion of The Two Groups', \n",
    "          loc='left', fontsize=18, fontname='arial', fontweight='bold')\n",
    "plt.xlabel('Conversion')\n",
    "plt.ylabel('Frequency')\n",
    "plt.show()"
   ]
  },
  {
   "cell_type": "markdown",
   "id": "statewide-mortality",
   "metadata": {},
   "source": [
    "The histogram shows that both samples are right-skewed with roughly 97% at `0` values. For this reason, we choose the Mann-Whitney U Rank Test since the test does not assume any distribution, unlike the traditional Student's T-test, where it requires normally distributed samples."
   ]
  },
  {
   "cell_type": "code",
   "execution_count": 59,
   "id": "faced-desert",
   "metadata": {},
   "outputs": [
    {
     "data": {
      "text/plain": [
       "0    0.973153\n",
       "1    0.025246\n",
       "2    0.000907\n",
       "3    0.000374\n",
       "4    0.000160\n",
       "5    0.000107\n",
       "7    0.000053\n",
       "Name: orders, dtype: float64"
      ]
     },
     "execution_count": 59,
     "metadata": {},
     "output_type": "execute_result"
    }
   ],
   "source": [
    "# Distribution of sample A\n",
    "sampleA.value_counts()/len(sampleA)"
   ]
  },
  {
   "cell_type": "code",
   "execution_count": 60,
   "id": "under-discovery",
   "metadata": {},
   "outputs": [
    {
     "data": {
      "text/plain": [
       "0    0.969021\n",
       "1    0.029182\n",
       "2    0.001216\n",
       "3    0.000264\n",
       "4    0.000211\n",
       "6    0.000053\n",
       "5    0.000053\n",
       "Name: orders, dtype: float64"
      ]
     },
     "execution_count": 60,
     "metadata": {},
     "output_type": "execute_result"
    }
   ],
   "source": [
    "# Distribution of sample B\n",
    "sampleB.value_counts()/len(sampleB)"
   ]
  },
  {
   "cell_type": "code",
   "execution_count": 61,
   "id": "federal-flight",
   "metadata": {},
   "outputs": [
    {
     "name": "stdout",
     "output_type": "stream",
     "text": [
      "P-value: 0.00840\n",
      "The relative difference: 0.138\n"
     ]
    }
   ],
   "source": [
    "print(\"P-value: {0:.5f}\".format(stats.mannwhitneyu(sampleA, sampleB)[1]))\n",
    "\n",
    "print(\"The relative difference: {0:.3f}\".format(sampleB.mean()/sampleA.mean()-1))"
   ]
  },
  {
   "cell_type": "markdown",
   "id": "recreational-gazette",
   "metadata": {},
   "source": [
    "For the hypothesis testing, we set the confidence level, $\\alpha = 0.05$ and express the following assumptions:\n",
    "\n",
    "- Null hypothesis, $H_0$: There are no differences between the average mean of conversion between Group A and B using the raw data ($\\mu_A = \\mu_B$)\n",
    "- Alternate hypothesis, $H_A$: The average mean of Group A's conversion is different than the average mean of Group B's conversion ($\\mu_A \\neq \\mu_B$)\n",
    "\n",
    "The p-value is smaller than $\\alpha$ hence we can say that we have enough evidence to reject the null hypothesis, $H_0$ and claim that the average mean of conversion between the two groups are different. \n",
    "\n",
    "Group B's relative conversion is 13% higher than Group A's. However, this result is still based on the raw data. We will see if outliers brought any effects. "
   ]
  },
  {
   "cell_type": "code",
   "execution_count": 62,
   "id": "nervous-thursday",
   "metadata": {},
   "outputs": [
    {
     "data": {
      "image/png": "[encoded data removed]",
      "text/plain": [
       "<Figure size 720x288 with 1 Axes>"
      ]
     },
     "metadata": {
      "needs_background": "light"
     },
     "output_type": "display_data"
    }
   ],
   "source": [
    "# Recall the previous relative difference plot\n",
    "plt.figure(figsize=(10,4))\n",
    "plt.plot(mergedCumulativeConversions['date'], \n",
    "         mergedCumulativeConversions['conversionB']/mergedCumulativeConversions['conversionA']-1, \n",
    "         label=\"Relative gain in conversion in group B as opposed to group A\")\n",
    "\n",
    "plt.axhline(y=0, color='black', linestyle='--')\n",
    "plt.axhline(y=0.13, color='grey', linestyle='--')\n",
    "\n",
    "plt.title('Relative Difference in Conversion Rate', loc='left', fontsize=18, fontname='arial', fontweight='bold')\n",
    "plt.xlabel('Date')\n",
    "plt.ylabel('Conversion Rate')\n",
    "plt.show()\n"
   ]
  },
  {
   "cell_type": "markdown",
   "id": "vital-marijuana",
   "metadata": {},
   "source": [
    "We recall the relative difference plot made earlier, which shows that Group B's conversion rate is 13% higher than that of A's."
   ]
  },
  {
   "cell_type": "markdown",
   "id": "preliminary-delivery",
   "metadata": {},
   "source": [
    "**10. Find the statistical significance of the difference in average order size between the groups using the raw data. Make conclusions and conjectures.**"
   ]
  },
  {
   "cell_type": "markdown",
   "id": "external-collectible",
   "metadata": {},
   "source": [
    "As discussed earlier, the distribution of revenues is right-skewed. Furthermore, we can split the revenue data into their group and compare the distributions shown on the histogram below. Both distributions are right-skewed."
   ]
  },
  {
   "cell_type": "code",
   "execution_count": 63,
   "id": "sonic-attack",
   "metadata": {},
   "outputs": [
    {
     "data": {
      "image/png": "[encoded data removed]",
      "text/plain": [
       "<Figure size 720x288 with 1 Axes>"
      ]
     },
     "metadata": {
      "needs_background": "light"
     },
     "output_type": "display_data"
    }
   ],
   "source": [
    "# Evaluating the sample distribution\n",
    "plt.figure(figsize=(10,4))\n",
    "orders[orders['group']=='B']['revenue'].hist(bins=25, alpha=1, range=(0,2500), label='Group B')\n",
    "orders[orders['group']=='A']['revenue'].hist(bins=25, alpha=0.5, range=(0,2500), label='Group A')\n",
    "plt.legend()\n",
    "\n",
    "plt.title('Histograms of Revenues of The Two Groups', loc='left', fontsize=18, fontname='arial', fontweight='bold')\n",
    "plt.xlabel('Revenue')\n",
    "plt.ylabel('Frequency')\n",
    "plt.show()"
   ]
  },
  {
   "cell_type": "markdown",
   "id": "direct-portuguese",
   "metadata": {},
   "source": [
    "For that reason, we will check the statistical significance of the average order size using the  Mann-Whitney Rank Test."
   ]
  },
  {
   "cell_type": "code",
   "execution_count": 64,
   "id": "figured-productivity",
   "metadata": {},
   "outputs": [
    {
     "name": "stdout",
     "output_type": "stream",
     "text": [
      "P-value: 0.346\n",
      "The relative difference: 0.252\n"
     ]
    }
   ],
   "source": [
    "#  the statistical significance of the difference in average order size between the groups.\n",
    "\n",
    "print('P-value: {0:.3f}'\n",
    "      .format(stats.mannwhitneyu(orders[orders['group']=='A']['revenue'], \n",
    "                                 orders[orders['group']=='B']['revenue'])[1]))\n",
    "print('The relative difference: {0:.3f}'\n",
    "      .format(orders[orders['group']=='B']['revenue'].mean()/orders[orders['group']=='A']['revenue'].mean()-1))"
   ]
  },
  {
   "cell_type": "markdown",
   "id": "brazilian-script",
   "metadata": {},
   "source": [
    "Similarly, for this hypothesis testing, we set the confidence level, $\\alpha = 0.05$ and express the following assumptions:\n",
    "\n",
    "- Null hypothesis, $H_0$: There are no differences between the average mean of order size between Group A and B using the raw data ($\\mu_A = \\mu_B$)\n",
    "- Alternate hypothesis, $H_0$: The average mean of Group A's order size is different than the average mean of Group B's conversion ($\\mu_A \\neq \\mu_B$)\n",
    "\n",
    "The p-value is greater than $\\alpha$ hence we say that there is not enough evidence to reject the null hypothesis, $H_0$, the average mean of order size between the two groups is the same. \n",
    "\n",
    "The relative difference between the two groups is 25%. We have to pay attention to this result as 25%  is a significant difference, and saying that the average means between the two groups are the same is somewhat questionable. We need to reevaluate the hypothesis using a clean dataset by removing the outliers."
   ]
  },
  {
   "cell_type": "code",
   "execution_count": 65,
   "id": "first-oxygen",
   "metadata": {},
   "outputs": [
    {
     "data": {
      "image/png": "[encoded data removed]",
      "text/plain": [
       "<Figure size 720x288 with 1 Axes>"
      ]
     },
     "metadata": {
      "needs_background": "light"
     },
     "output_type": "display_data"
    }
   ],
   "source": [
    "# Calculating the relative differences\n",
    "plt.figure(figsize=(10,4))\n",
    "plt.plot(mergedCumulativeRevenue['date'], \n",
    "         averageOrderB/\n",
    "        (averageOrderA)-1)\n",
    "\n",
    "plt.axhline(y=0, color='black', linestyle='--')\n",
    "plt.axhline(y=0.25, color='grey', linestyle='--')\n",
    "\n",
    "plt.title('Relative Difference in Cumulative Average Order Sizes',\n",
    "          loc='left', fontsize=18, fontname='arial', fontweight='bold')\n",
    "plt.xlabel('Date')\n",
    "plt.ylabel('Ratio of Realtive Difference')\n",
    "plt.show()"
   ]
  },
  {
   "cell_type": "markdown",
   "id": "false-tourist",
   "metadata": {},
   "source": [
    "Recall the relative difference in cumulative average order size plot made earlier, which shows that Group B's order is approximately 25% higher than A."
   ]
  },
  {
   "cell_type": "markdown",
   "id": "israeli-pastor",
   "metadata": {},
   "source": [
    "**11. Find the statistical significance of the difference in conversion between the groups using the filtered data. Make conclusions and conjectures.**"
   ]
  },
  {
   "cell_type": "markdown",
   "id": "controversial-torture",
   "metadata": {},
   "source": [
    "Now we will see how outliers affect our previous analysis by removing them from the dataset. First, we need to take out the users who made unusually many orders and expensive orders."
   ]
  },
  {
   "cell_type": "code",
   "execution_count": 66,
   "id": "global-harrison",
   "metadata": {},
   "outputs": [],
   "source": [
    "# Finding users with unusually high and expensive orders\n",
    "usersWithManyOrders = pd.concat([ordersByUsersA[ordersByUsersA['orders'] >= 3]['userId'], \n",
    "                                 ordersByUsersB[ordersByUsersB['orders'] >= 3]['userId']], axis = 0)\n",
    "\n",
    "usersWithExpensiveOrders = orders[orders['revenue'] > 450]['visitorId']\n",
    "\n",
    "abnormalUsers = (pd.concat([usersWithManyOrders, usersWithExpensiveOrders], axis = 0)\n",
    "                 .drop_duplicates().sort_values())"
   ]
  },
  {
   "cell_type": "code",
   "execution_count": 67,
   "id": "median-palmer",
   "metadata": {},
   "outputs": [
    {
     "name": "stdout",
     "output_type": "stream",
     "text": [
      "P-value: 0.00662\n",
      "The relative difference: 0.172\n"
     ]
    }
   ],
   "source": [
    "# Remove the anomalous visitors and calculate the statistical significance of the difference in conversion\n",
    "sampleAFiltered = pd.concat([ordersByUsersA[np.logical_not(ordersByUsersA['userId']\n",
    "                                                           .isin(abnormalUsers))]['orders'],\n",
    "                             pd.Series(0, index=np.arange(visits[visits['group']=='A']['visits'].sum() \n",
    "                                                          - len(ordersByUsersA['orders'])),name='orders')],axis=0)\n",
    "\n",
    "sampleBFiltered = pd.concat([ordersByUsersB[np.logical_not(ordersByUsersB['userId']\n",
    "                                                           .isin(abnormalUsers))]['orders'],\n",
    "                             pd.Series(0, index=np.arange(visits[visits['group']=='B']['visits'].sum() \n",
    "                                                          - len(ordersByUsersB['orders'])),name='orders')],axis=0)\n",
    "\n",
    "print(\"P-value: {0:.5f}\".format(stats.mannwhitneyu(sampleAFiltered, sampleBFiltered)[1]))\n",
    "\n",
    "print(\"The relative difference: {0:.3f}\".format(sampleBFiltered.mean()/sampleAFiltered.mean()-1)) \n"
   ]
  },
  {
   "cell_type": "code",
   "execution_count": 68,
   "id": "private-setting",
   "metadata": {},
   "outputs": [
    {
     "data": {
      "text/plain": [
       "0    18233\n",
       "1      443\n",
       "2       16\n",
       "Name: orders, dtype: int64"
      ]
     },
     "execution_count": 68,
     "metadata": {},
     "output_type": "execute_result"
    }
   ],
   "source": [
    "sampleAFiltered.value_counts()"
   ]
  },
  {
   "cell_type": "code",
   "execution_count": 69,
   "id": "alpine-roberts",
   "metadata": {},
   "outputs": [
    {
     "data": {
      "text/plain": [
       "0    18330\n",
       "1      520\n",
       "2       21\n",
       "Name: orders, dtype: int64"
      ]
     },
     "execution_count": 69,
     "metadata": {},
     "output_type": "execute_result"
    }
   ],
   "source": [
    "sampleBFiltered.value_counts()"
   ]
  },
  {
   "cell_type": "markdown",
   "id": "configured-penny",
   "metadata": {},
   "source": [
    "Using the same setup as that of the raw data, we set the confidence level, $\\alpha = 0.05$ and express the following assumptions:\n",
    "\n",
    "- Null hypothesis, $H_0$: There are no differences between the average mean of conversion between Group A and B using the raw data ($\\mu_A = \\mu_B$)\n",
    "- Alternate hypothesis, $H_A$: The average mean of Group A's conversion is different than the average mean of Group B's conversion ($\\mu_A \\neq \\mu_B$)\n",
    "\n",
    "The p-value is still smaller than $\\alpha$ despite having a slightly higher value than p-values obtained using the raw data. Therefore we reject the null hypothesis $H_0$since there no enough evidence. The average mean of conversion between the two groups is different. \n",
    "\n",
    "By taking out the outliers, we get a higher relative difference of 0.172 from the previous of 0.138."
   ]
  },
  {
   "cell_type": "markdown",
   "id": "educated-internship",
   "metadata": {},
   "source": [
    "We can recreate the plots but this time a filtered version by removing the outliers from the datasets,"
   ]
  },
  {
   "cell_type": "code",
   "execution_count": 70,
   "id": "pressing-mainland",
   "metadata": {},
   "outputs": [
    {
     "data": {
      "image/png": "[encoded data removed]",
      "text/plain": [
       "<Figure size 720x288 with 1 Axes>"
      ]
     },
     "metadata": {
      "needs_background": "light"
     },
     "output_type": "display_data"
    }
   ],
   "source": [
    "# Creating a cleaned dataset by removing the outliers\n",
    "filteredOrders = orders[np.logical_not(orders['visitorId'].isin(abnormalUsers))]\n",
    "\n",
    "# Finding the unique dates for each groups/users\n",
    "filteredDatesGroup = filteredOrders[['date', 'group']].drop_duplicates()\n",
    "\n",
    "# Creating the aggregate orders table\n",
    "filteredOrdersAggregated = (filteredDatesGroup\n",
    "                    .apply(lambda x: filteredOrders[np.logical_and(filteredOrders['date'] <= x['date'],\n",
    "                                                           filteredOrders['group'] == x['group'])]\n",
    "                          .agg({'date':'max',\n",
    "                                'group':'max',\n",
    "                                'transactionId': pd.Series.nunique,\n",
    "                                'visitorId': pd.Series.nunique,\n",
    "                                'revenue':'sum'}), axis=1)\n",
    "                    .sort_values(by=['date', 'group'])                   \n",
    "                   )\n",
    "\n",
    "# Creating the aggregate visits table\n",
    "filteredVisitsAggregated = (filteredDatesGroup\n",
    "                      .apply(lambda x: visits[np.logical_and(visits['date'] <= x['date'],\n",
    "                                                             visits['group'] == x['group'])]\n",
    "                           .agg({'date':'max',\n",
    "                                 'group':'max',\n",
    "                                 'visits':'sum'}), axis=1)\n",
    "                      .sort_values(by=['date', 'group'])\n",
    "                     )\n",
    "\n",
    "# Creating a cumulative data\n",
    "filteredCumulativeData = filteredOrdersAggregated.merge(filteredVisitsAggregated, \n",
    "                                                        left_on=['date', 'group'], \n",
    "                                                        right_on=['date', 'group'])\n",
    "filteredCumulativeData.columns = ['date', 'group', 'orders', 'buyers', 'revenue', 'visitors']\n",
    "\n",
    "\n",
    "\n",
    "filteredCumulativeRevenueA = filteredCumulativeData[filteredCumulativeData['group'] == 'A'][['date', \n",
    "                                                                                             'revenue', \n",
    "                                                                                             'orders']]\n",
    "filteredCumulativeRevenueB = filteredCumulativeData[filteredCumulativeData['group'] == 'B'][['date', \n",
    "                                                                                             'revenue', \n",
    "                                                                                             'orders']]\n",
    "\n",
    "\n",
    "# Calculating the new conversion rate\n",
    "filteredCumulativeData['conversion'] = filteredCumulativeData['orders']/filteredCumulativeData['visitors']\n",
    "\n",
    "# Splitting the data into groups\n",
    "filteredCumulativeDataA = filteredCumulativeData[filteredCumulativeData['group']=='A']\n",
    "filteredCumulativeDataB = filteredCumulativeData[filteredCumulativeData['group']=='B']\n",
    "\n",
    "# Merging the splitted table\n",
    "mergedFilteredCumulativeConversions = (filteredCumulativeDataA[['date','conversion']]\n",
    "                               .merge(filteredCumulativeDataB[['date','conversion']], \n",
    "                                      left_on='date', \n",
    "                                      right_on='date', \n",
    "                                      how='left', \n",
    "                                      suffixes=['A', 'B']))\n",
    "\n",
    "plt.figure(figsize=(10,4))\n",
    "plt.plot(mergedFilteredCumulativeConversions['date'], \n",
    "         mergedFilteredCumulativeConversions['conversionB']/mergedFilteredCumulativeConversions['conversionA']-1, \n",
    "         label=\"Relative gain in conversion in group B as opposed to group A\")\n",
    "\n",
    "plt.axhline(y=0, color='black', linestyle='--')\n",
    "plt.axhline(y=0.17, color='grey', linestyle='--')\n",
    "plt.title('Relative Difference in Conversion Rate On The Filtered Data', \n",
    "          loc='left', fontsize=18, fontname='arial', fontweight='bold')\n",
    "plt.xlabel('Date')\n",
    "plt.ylabel('Conversion Rate')\n",
    "plt.show()"
   ]
  },
  {
   "cell_type": "markdown",
   "id": "domestic-exhibit",
   "metadata": {},
   "source": [
    "We can see the relative difference in conversion rates performed on the filtered data will yield a result that Group B's conversion rate is 17% higher than A's."
   ]
  },
  {
   "cell_type": "markdown",
   "id": "selective-geneva",
   "metadata": {},
   "source": [
    "**12. Find the statistical significance of the difference in average order size between the groups using the filtered data. Make conclusions and conjectures.**"
   ]
  },
  {
   "cell_type": "code",
   "execution_count": 71,
   "id": "bored-copper",
   "metadata": {},
   "outputs": [
    {
     "name": "stdout",
     "output_type": "stream",
     "text": [
      "P-value: 0.388\n",
      "Relative difference: -0.021\n"
     ]
    }
   ],
   "source": [
    "# Remove the anomalies and calculate the statistical significance for the difference in average order size.\n",
    "print('P-value: {0:.3f}'.format(stats.mannwhitneyu(\n",
    "    orders[np.logical_and(\n",
    "        orders['group']=='A',\n",
    "        np.logical_not(orders['visitorId'].isin(abnormalUsers)))]['revenue'],\n",
    "    orders[np.logical_and(\n",
    "        orders['group']=='B',\n",
    "        np.logical_not(orders['visitorId'].isin(abnormalUsers)))]['revenue'])[1]))\n",
    "\n",
    "print('Relative difference: {0:.3f}'.format(\n",
    "    orders[np.logical_and(orders['group']=='B',\n",
    "                          np.logical_not(orders['visitorId']\n",
    "                                         .isin(abnormalUsers)))]['revenue'].mean()/\n",
    "    orders[np.logical_and(orders['group']=='A',\n",
    "                           np.logical_not(orders['visitorId']\n",
    "                                          .isin(abnormalUsers)))]['revenue'].mean() - 1))"
   ]
  },
  {
   "cell_type": "markdown",
   "id": "recognized-profile",
   "metadata": {},
   "source": [
    "Similarly, for the filtered data of order size, we set the confidence level, $\\alpha = 0.05$ and express the following assumptions:\n",
    "\n",
    "- Null hypothesis, $H_0$: There are no differences between the average mean of order size between Group A and B using the raw data ($\\mu_A = \\mu_B$)\n",
    "- Alternate hypothesis, $H_A$: The average mean of Group A's order size is different than the average mean of Group B's conversion ($\\mu_A \\neq \\mu_B$)\n",
    "\n",
    "The p-value is still greater than $\\alpha$ hence we say that there is not enough evidence to reject the null hypothesis, $H_0$, the average mean of order size between the two groups is the same. \n",
    "\n",
    "The relative difference, on the other hand, drops drastically from 25% to -0.02%. In other words, now Group B's average mean of orders size is just slightly below that of Group A and agrees more to the outcome of the p-value. "
   ]
  },
  {
   "cell_type": "code",
   "execution_count": 72,
   "id": "wound-acceptance",
   "metadata": {},
   "outputs": [
    {
     "data": {
      "image/png": "[encoded data removed]",
      "text/plain": [
       "<Figure size 720x288 with 1 Axes>"
      ]
     },
     "metadata": {
      "needs_background": "light"
     },
     "output_type": "display_data"
    }
   ],
   "source": [
    "# Combining teo tables\n",
    "mergedFilteredCumulativeRevenue = filteredCumulativeRevenueA.merge(filteredCumulativeRevenueB, \n",
    "                                                   left_on='date', \n",
    "                                                   right_on='date',\n",
    "                                                   suffixes=['A', 'B'])\n",
    "\n",
    "# Separating into two groups\n",
    "filteredAverageOrderA = mergedFilteredCumulativeRevenue['revenueA']/mergedFilteredCumulativeRevenue['ordersA']\n",
    "filteredAverageOrderB = mergedFilteredCumulativeRevenue['revenueB']/mergedFilteredCumulativeRevenue['ordersB']\n",
    "\n",
    "# Plotting the graph\n",
    "plt.figure(figsize=(10,4))\n",
    "plt.plot(mergedFilteredCumulativeRevenue['date'], \n",
    "         filteredAverageOrderB/\n",
    "         filteredAverageOrderA-1)\n",
    "\n",
    "plt.axhline(y=0, color='black', linestyle='--')\n",
    "plt.axhline(y=-0.021, color='grey', linestyle='--')\n",
    "\n",
    "plt.title('Relative Difference in Cumulative Average Order Sizes\\nOn The Filtered Data',\n",
    "          loc='left', fontsize=18, fontname='arial', fontweight='bold')\n",
    "plt.xlabel('Date')\n",
    "plt.ylabel('Ratio of Realtive Difference')\n",
    "plt.show()"
   ]
  },
  {
   "cell_type": "markdown",
   "id": "fitted-messenger",
   "metadata": {},
   "source": [
    "Plotting the cumulative average order size will give use the chart above. We can see that even though it is now closer to zero, the line is still fluctuating. We cannot come up with any firm conclusion just yet. This is different from the Relative Distance of The Cumulative Revenue plot, where the ratio is always above zero in such a way, we can quickly draw a conclusion."
   ]
  },
  {
   "cell_type": "markdown",
   "id": "solar-emphasis",
   "metadata": {},
   "source": [
    "**13.  Make a decision based on the test results.**\n",
    "\n",
    "The possible decisions are: \n",
    "1. Stop the test, consider one of the groups the leader. \n",
    "2. Stop the test, conclude that there is no difference between the groups. \n",
    "3. Continue the test."
   ]
  },
  {
   "cell_type": "markdown",
   "id": "according-disease",
   "metadata": {},
   "source": [
    "Based on the conversion rate, we have seen that Group B has a better rate than A, and we have confirmed that statically, the average mean of the conversion between the two groups is different. We can also see from the Cumulative Conversion Rate Table below that the cumulative conversion of both groups has stabilized."
   ]
  },
  {
   "cell_type": "code",
   "execution_count": 73,
   "id": "seasonal-mounting",
   "metadata": {},
   "outputs": [
    {
     "data": {
      "image/png": "[encoded data removed]",
      "text/plain": [
       "<Figure size 720x288 with 1 Axes>"
      ]
     },
     "metadata": {
      "needs_background": "light"
     },
     "output_type": "display_data"
    }
   ],
   "source": [
    "# Plotting the Cumulative Conversion Rate \n",
    "filteredCumulativeData['conversion'] = filteredCumulativeData['orders']/filteredCumulativeData['visitors']\n",
    "\n",
    "# Splitting the data into groups\n",
    "filteredCumulativeDataA = filteredCumulativeData[filteredCumulativeData['group']=='A']\n",
    "filteredCumulativeDataB = filteredCumulativeData[filteredCumulativeData['group']=='B']\n",
    "\n",
    "# Plotting the graphs\n",
    "plt.figure(figsize=(10,4))\n",
    "plt.plot(filteredCumulativeDataA['date'], filteredCumulativeDataA['conversion'], label='A')\n",
    "plt.plot(filteredCumulativeDataB['date'], filteredCumulativeDataB['conversion'], label='B')\n",
    "plt.legend()\n",
    "\n",
    "plt.title('Cumulative Conversion Rate of The Filtered Data',\n",
    "          loc='left', fontsize=18, fontname='arial', fontweight='bold')\n",
    "plt.xlabel('Date')\n",
    "plt.ylabel('Conversion Rate')\n",
    "plt.show()"
   ]
  },
  {
   "cell_type": "markdown",
   "id": "surrounded-auckland",
   "metadata": {},
   "source": [
    "On the other hand, we have statistically believed that both groups have the same average order size. Removing the outliers also led to a more accurate answer where the difference between the two groups is only 01.2%, where B is on the lower side. However, as we have evaluated above, the ratio of the relative difference between both groups is still fluctuating. We can also back this statement up by looking at the sizes of the cumulative orders of both groups (as shown below) that lines of both Group A and B are still increasing despite in small magnitude,"
   ]
  },
  {
   "cell_type": "code",
   "execution_count": 74,
   "id": "typical-anniversary",
   "metadata": {},
   "outputs": [
    {
     "data": {
      "image/png": "[encoded data removed]",
      "text/plain": [
       "<Figure size 720x288 with 1 Axes>"
      ]
     },
     "metadata": {
      "needs_background": "light"
     },
     "output_type": "display_data"
    }
   ],
   "source": [
    "# Plot cumulative graphs (by day) for average order size. \n",
    "plt.figure(figsize=(10,4))\n",
    "plt.plot(filteredCumulativeRevenueA['date'], \n",
    "         filteredCumulativeRevenueA['revenue']/filteredCumulativeRevenueA['orders'], \n",
    "         label='A')\n",
    "\n",
    "plt.plot(filteredCumulativeRevenueB['date'], \n",
    "         filteredCumulativeRevenueB['revenue']/filteredCumulativeRevenueB['orders'], \n",
    "         label='B')\n",
    "plt.legend()\n",
    "\n",
    "plt.title('Cumulative Order Sizes Rate of The Filtered Data',\n",
    "          loc='left', fontsize=18, fontname='arial', fontweight='bold')\n",
    "plt.xlabel('Date')\n",
    "plt.ylabel('Order Size')\n",
    "plt.show()"
   ]
  },
  {
   "cell_type": "markdown",
   "id": "enabling-beauty",
   "metadata": {},
   "source": [
    "**For that reason, we recommend continuing the test for at least another month to see how the cumulative order size plot behaves.**"
   ]
  },
  {
   "cell_type": "markdown",
   "id": "economic-stable",
   "metadata": {},
   "source": [
    "Additionally, it is also interesting to see the revenue of both groups after taking out outliers are increasing in a more linear form."
   ]
  },
  {
   "cell_type": "code",
   "execution_count": 75,
   "id": "modern-highway",
   "metadata": {},
   "outputs": [
    {
     "data": {
      "image/png": "[encoded data removed]",
      "text/plain": [
       "<Figure size 720x288 with 1 Axes>"
      ]
     },
     "metadata": {
      "needs_background": "light"
     },
     "output_type": "display_data"
    }
   ],
   "source": [
    "plt.figure(figsize=(10,4))\n",
    "plt.plot(filteredCumulativeRevenueA['date'], filteredCumulativeRevenueA['revenue'], label='A')\n",
    "plt.plot(filteredCumulativeRevenueB['date'], filteredCumulativeRevenueB['revenue'], label='B')\n",
    "plt.legend()\n",
    "\n",
    "plt.title('Revenues of The Filtered Data',\n",
    "          loc='left', fontsize=18, fontname='arial', fontweight='bold')\n",
    "plt.xlabel('Date')\n",
    "plt.ylabel('Revenues')\n",
    "plt.show()"
   ]
  },
  {
   "cell_type": "markdown",
   "id": "moderate-grounds",
   "metadata": {},
   "source": [
    "### Conclusion<a class=\"anchor\" id=\"step_3_3\"></a>\n",
    "\n",
    "\n",
    "- In this section, we have implemented the ICE and RICE methods to choose between several hypotheses and prioritize. We saw how a hypothesis under the ICE method could be given a different priority on the RICE method. Therefore it is crucial to clearly and consistently define how to measure each method's (ICE and RICE) parameter.\n",
    "- We have seen how outliers could affect our analysis; therefore, a careful examination of how our data is distributed is essential\n",
    "To answer which hypothesis to select, we would recommend executing the first three top hypotheses from the RICE method since the method has one more parameter that allows us to give more detail to our analysis.\n",
    "- We have statistically proved that Group B has a better conversion rate compared to Group A. At the end of the month, the relative conversion rate of Group B was 17%.\n",
    "- On the contrary, the average order size between Group B and A is the same.\n",
    "- However, the values of average order size are still fluctuating. It is recommended to continue the experiment for at least another 30 days to see if the chart will eventually stabilize. "
   ]
  }
 ],
 "metadata": {
  "kernelspec": {
   "display_name": "Python 3",
   "language": "python",
   "name": "python3"
  },
  "language_info": {
   "codemirror_mode": {
    "name": "ipython",
    "version": 3
   },
   "file_extension": ".py",
   "mimetype": "text/x-python",
   "name": "python",
   "nbconvert_exporter": "python",
   "pygments_lexer": "ipython3",
   "version": "3.7.9"
  },
  "toc": {
   "base_numbering": 1,
   "nav_menu": {},
   "number_sections": true,
   "sideBar": true,
   "skip_h1_title": true,
   "title_cell": "Table of Contents",
   "title_sidebar": "Contents",
   "toc_cell": false,
   "toc_position": {},
   "toc_section_display": true,
   "toc_window_display": false
  }
 },
 "nbformat": 4,
 "nbformat_minor": 5
}
